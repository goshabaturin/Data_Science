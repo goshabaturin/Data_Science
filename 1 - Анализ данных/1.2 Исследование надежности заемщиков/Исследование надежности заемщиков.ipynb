{
 "cells": [
  {
   "cell_type": "markdown",
   "metadata": {},
   "source": [
    "<font color=green> Привет еще раз. Спасибо, что доделал работу. Мои комментарии к исправленным замечаниям будут выделены зеленым цветом. Если же потребуется доработка некоторых пунктов проекта, то я отмечу это <font color=red>красным цветом. \n",
    "    \n",
    "---"
   ]
  },
  {
   "cell_type": "markdown",
   "metadata": {},
   "source": [
    "<font color=magenta> Хорошо, такая обработка пропусков принимается. Она неидеальна, в качестве тренировки лучше было бы их восстановить, а не заполнять маркерными значениями. Однако такой способ также имеет право на существование. Работа выполнена полностью. Успехов в дальнейших проектах :)\n",
    "    \n",
    "---"
   ]
  },
  {
   "cell_type": "markdown",
   "metadata": {},
   "source": [
    "<div style=\"border:solid  green  2px; padding: 20px\"> <h1 style=\"color: green\">Комментарий наставника</h1>\n",
    "\n",
    "Привет! Спасибо, что прислал задание:) Поздравляю с первым сданным проектом. Мои комментарии обозначены пометкой **Комментарий наставника**. Далее в файле ты сможешь найти их в похожих ячейках (если рамки комментария зелёные - всё сделано правильно; оранжевые - есть замечания, но не критично; красные - нужно переделать). Не удаляй эти комментарии и постарайся учесть их в ходе выполнения данного проекта. "
   ]
  },
  {
   "cell_type": "markdown",
   "metadata": {},
   "source": [
    "## Исследование надёжности заёмщиков\n",
    "\n",
    "Заказчик — кредитный отдел банка. Нужно разобраться, влияет ли семейное положение и количество детей клиента на факт погашения кредита в срок. Входные данные от банка — статистика о платёжеспособности клиентов.\n",
    "\n",
    "Результаты исследования будут учтены при построении модели **кредитного скоринга** — специальной системы, которая оценивает способность потенциального заёмщика вернуть кредит банку.\n",
    "\n",
    "**Описание данных**\n",
    "- children — количество детей в семье\n",
    "- days_employed — общий трудовой стаж в днях\n",
    "- dob_years — возраст клиента в годах\n",
    "- education — уровень образования клиента\n",
    "- education_id — идентификатор уровня образования\n",
    "- family_status — семейное положение\n",
    "- family_status_id — идентификатор семейного положения\n",
    "- gender — пол клиента\n",
    "- income_type — тип занятости\n",
    "- debt — имел ли задолженность по возврату кредитов\n",
    "- total_income — ежемесячный доход\n",
    "- purpose — цель получения кредита\n",
    "\n",
    "\n",
    "**Основные вопросы**\n",
    "- Есть ли зависимость между наличием детей и возвратом кредита в срок?\n",
    "- Есть ли зависимость между семейным положением и возвратом кредита в срок?\n",
    "- Есть ли зависимость между уровнем дохода и возвратом кредита в срок?\n",
    "- Как разные цели кредита влияют на его возврат в срок?"
   ]
  },
  {
   "cell_type": "markdown",
   "metadata": {},
   "source": [
    "<div style=\"border:solid  orange  2px; padding: 20px\"> <h1 style=\"color: orange\">Комментарий наставника</h1>\n",
    "\n",
    "Правильно, что есть краткое вступление в работу, описание того, что надо делать. В работе необходимо приводить краткий план того, что надо сделать(если этот план имеется), а также информацию о входных данных: какие столбцы есть в таблице, их названия и какую информацию они несут (см. пример). Также название работы лучше отображать в отдельной ячейке и делать крупный шрифт (заголовок). Так работа выглядит презентабельно.\n",
    "\n",
    "Пример:\n",
    "---\n",
    "Описание данных: \n",
    "- children — количество детей в семье\n",
    "- days_employed — общий трудовой стаж в днях\n",
    "- dob_years — возраст клиента в годах\n",
    "- education — уровень образования клиента\n",
    "- education_id — идентификатор уровня образования\n",
    "- ...\n",
    "     "
   ]
  },
  {
   "cell_type": "markdown",
   "metadata": {},
   "source": [
    "### Шаг 1. Откройте файл с данными и изучите общую информацию. "
   ]
  },
  {
   "cell_type": "code",
   "execution_count": 2,
   "metadata": {},
   "outputs": [
    {
     "data": {
      "text/html": [
       "<div>\n",
       "<style scoped>\n",
       "    .dataframe tbody tr th:only-of-type {\n",
       "        vertical-align: middle;\n",
       "    }\n",
       "\n",
       "    .dataframe tbody tr th {\n",
       "        vertical-align: top;\n",
       "    }\n",
       "\n",
       "    .dataframe thead th {\n",
       "        text-align: right;\n",
       "    }\n",
       "</style>\n",
       "<table border=\"1\" class=\"dataframe\">\n",
       "  <thead>\n",
       "    <tr style=\"text-align: right;\">\n",
       "      <th></th>\n",
       "      <th>children</th>\n",
       "      <th>days_employed</th>\n",
       "      <th>dob_years</th>\n",
       "      <th>education</th>\n",
       "      <th>education_id</th>\n",
       "      <th>family_status</th>\n",
       "      <th>family_status_id</th>\n",
       "      <th>gender</th>\n",
       "      <th>income_type</th>\n",
       "      <th>debt</th>\n",
       "      <th>total_income</th>\n",
       "      <th>purpose</th>\n",
       "    </tr>\n",
       "  </thead>\n",
       "  <tbody>\n",
       "    <tr>\n",
       "      <td>0</td>\n",
       "      <td>1</td>\n",
       "      <td>-8437.673028</td>\n",
       "      <td>42</td>\n",
       "      <td>высшее</td>\n",
       "      <td>0</td>\n",
       "      <td>женат / замужем</td>\n",
       "      <td>0</td>\n",
       "      <td>F</td>\n",
       "      <td>сотрудник</td>\n",
       "      <td>0</td>\n",
       "      <td>253875.639453</td>\n",
       "      <td>покупка жилья</td>\n",
       "    </tr>\n",
       "    <tr>\n",
       "      <td>1</td>\n",
       "      <td>1</td>\n",
       "      <td>-4024.803754</td>\n",
       "      <td>36</td>\n",
       "      <td>среднее</td>\n",
       "      <td>1</td>\n",
       "      <td>женат / замужем</td>\n",
       "      <td>0</td>\n",
       "      <td>F</td>\n",
       "      <td>сотрудник</td>\n",
       "      <td>0</td>\n",
       "      <td>112080.014102</td>\n",
       "      <td>приобретение автомобиля</td>\n",
       "    </tr>\n",
       "    <tr>\n",
       "      <td>2</td>\n",
       "      <td>0</td>\n",
       "      <td>-5623.422610</td>\n",
       "      <td>33</td>\n",
       "      <td>Среднее</td>\n",
       "      <td>1</td>\n",
       "      <td>женат / замужем</td>\n",
       "      <td>0</td>\n",
       "      <td>M</td>\n",
       "      <td>сотрудник</td>\n",
       "      <td>0</td>\n",
       "      <td>145885.952297</td>\n",
       "      <td>покупка жилья</td>\n",
       "    </tr>\n",
       "    <tr>\n",
       "      <td>3</td>\n",
       "      <td>3</td>\n",
       "      <td>-4124.747207</td>\n",
       "      <td>32</td>\n",
       "      <td>среднее</td>\n",
       "      <td>1</td>\n",
       "      <td>женат / замужем</td>\n",
       "      <td>0</td>\n",
       "      <td>M</td>\n",
       "      <td>сотрудник</td>\n",
       "      <td>0</td>\n",
       "      <td>267628.550329</td>\n",
       "      <td>дополнительное образование</td>\n",
       "    </tr>\n",
       "    <tr>\n",
       "      <td>4</td>\n",
       "      <td>0</td>\n",
       "      <td>340266.072047</td>\n",
       "      <td>53</td>\n",
       "      <td>среднее</td>\n",
       "      <td>1</td>\n",
       "      <td>гражданский брак</td>\n",
       "      <td>1</td>\n",
       "      <td>F</td>\n",
       "      <td>пенсионер</td>\n",
       "      <td>0</td>\n",
       "      <td>158616.077870</td>\n",
       "      <td>сыграть свадьбу</td>\n",
       "    </tr>\n",
       "    <tr>\n",
       "      <td>5</td>\n",
       "      <td>0</td>\n",
       "      <td>-926.185831</td>\n",
       "      <td>27</td>\n",
       "      <td>высшее</td>\n",
       "      <td>0</td>\n",
       "      <td>гражданский брак</td>\n",
       "      <td>1</td>\n",
       "      <td>M</td>\n",
       "      <td>компаньон</td>\n",
       "      <td>0</td>\n",
       "      <td>255763.565419</td>\n",
       "      <td>покупка жилья</td>\n",
       "    </tr>\n",
       "    <tr>\n",
       "      <td>6</td>\n",
       "      <td>0</td>\n",
       "      <td>-2879.202052</td>\n",
       "      <td>43</td>\n",
       "      <td>высшее</td>\n",
       "      <td>0</td>\n",
       "      <td>женат / замужем</td>\n",
       "      <td>0</td>\n",
       "      <td>F</td>\n",
       "      <td>компаньон</td>\n",
       "      <td>0</td>\n",
       "      <td>240525.971920</td>\n",
       "      <td>операции с жильем</td>\n",
       "    </tr>\n",
       "    <tr>\n",
       "      <td>7</td>\n",
       "      <td>0</td>\n",
       "      <td>-152.779569</td>\n",
       "      <td>50</td>\n",
       "      <td>СРЕДНЕЕ</td>\n",
       "      <td>1</td>\n",
       "      <td>женат / замужем</td>\n",
       "      <td>0</td>\n",
       "      <td>M</td>\n",
       "      <td>сотрудник</td>\n",
       "      <td>0</td>\n",
       "      <td>135823.934197</td>\n",
       "      <td>образование</td>\n",
       "    </tr>\n",
       "    <tr>\n",
       "      <td>8</td>\n",
       "      <td>2</td>\n",
       "      <td>-6929.865299</td>\n",
       "      <td>35</td>\n",
       "      <td>ВЫСШЕЕ</td>\n",
       "      <td>0</td>\n",
       "      <td>гражданский брак</td>\n",
       "      <td>1</td>\n",
       "      <td>F</td>\n",
       "      <td>сотрудник</td>\n",
       "      <td>0</td>\n",
       "      <td>95856.832424</td>\n",
       "      <td>на проведение свадьбы</td>\n",
       "    </tr>\n",
       "    <tr>\n",
       "      <td>9</td>\n",
       "      <td>0</td>\n",
       "      <td>-2188.756445</td>\n",
       "      <td>41</td>\n",
       "      <td>среднее</td>\n",
       "      <td>1</td>\n",
       "      <td>женат / замужем</td>\n",
       "      <td>0</td>\n",
       "      <td>M</td>\n",
       "      <td>сотрудник</td>\n",
       "      <td>0</td>\n",
       "      <td>144425.938277</td>\n",
       "      <td>покупка жилья для семьи</td>\n",
       "    </tr>\n",
       "  </tbody>\n",
       "</table>\n",
       "</div>"
      ],
      "text/plain": [
       "   children  days_employed  dob_years education  education_id  \\\n",
       "0         1   -8437.673028         42    высшее             0   \n",
       "1         1   -4024.803754         36   среднее             1   \n",
       "2         0   -5623.422610         33   Среднее             1   \n",
       "3         3   -4124.747207         32   среднее             1   \n",
       "4         0  340266.072047         53   среднее             1   \n",
       "5         0    -926.185831         27    высшее             0   \n",
       "6         0   -2879.202052         43    высшее             0   \n",
       "7         0    -152.779569         50   СРЕДНЕЕ             1   \n",
       "8         2   -6929.865299         35    ВЫСШЕЕ             0   \n",
       "9         0   -2188.756445         41   среднее             1   \n",
       "\n",
       "      family_status  family_status_id gender income_type  debt   total_income  \\\n",
       "0   женат / замужем                 0      F   сотрудник     0  253875.639453   \n",
       "1   женат / замужем                 0      F   сотрудник     0  112080.014102   \n",
       "2   женат / замужем                 0      M   сотрудник     0  145885.952297   \n",
       "3   женат / замужем                 0      M   сотрудник     0  267628.550329   \n",
       "4  гражданский брак                 1      F   пенсионер     0  158616.077870   \n",
       "5  гражданский брак                 1      M   компаньон     0  255763.565419   \n",
       "6   женат / замужем                 0      F   компаньон     0  240525.971920   \n",
       "7   женат / замужем                 0      M   сотрудник     0  135823.934197   \n",
       "8  гражданский брак                 1      F   сотрудник     0   95856.832424   \n",
       "9   женат / замужем                 0      M   сотрудник     0  144425.938277   \n",
       "\n",
       "                      purpose  \n",
       "0               покупка жилья  \n",
       "1     приобретение автомобиля  \n",
       "2               покупка жилья  \n",
       "3  дополнительное образование  \n",
       "4             сыграть свадьбу  \n",
       "5               покупка жилья  \n",
       "6           операции с жильем  \n",
       "7                 образование  \n",
       "8       на проведение свадьбы  \n",
       "9     покупка жилья для семьи  "
      ]
     },
     "execution_count": 2,
     "metadata": {},
     "output_type": "execute_result"
    }
   ],
   "source": [
    "import pandas as pd\n",
    "data = pd.read_csv('/datasets/data.csv')\n",
    "\n",
    "# проверяем чтение таблицы\n",
    "data.head(10)"
   ]
  },
  {
   "cell_type": "code",
   "execution_count": 3,
   "metadata": {},
   "outputs": [
    {
     "name": "stdout",
     "output_type": "stream",
     "text": [
      "<class 'pandas.core.frame.DataFrame'>\n",
      "RangeIndex: 21525 entries, 0 to 21524\n",
      "Data columns (total 12 columns):\n",
      "children            21525 non-null int64\n",
      "days_employed       19351 non-null float64\n",
      "dob_years           21525 non-null int64\n",
      "education           21525 non-null object\n",
      "education_id        21525 non-null int64\n",
      "family_status       21525 non-null object\n",
      "family_status_id    21525 non-null int64\n",
      "gender              21525 non-null object\n",
      "income_type         21525 non-null object\n",
      "debt                21525 non-null int64\n",
      "total_income        19351 non-null float64\n",
      "purpose             21525 non-null object\n",
      "dtypes: float64(2), int64(5), object(5)\n",
      "memory usage: 2.0+ MB\n"
     ]
    }
   ],
   "source": [
    "#посмотрим информацию о таблице\n",
    "data.info()"
   ]
  },
  {
   "cell_type": "code",
   "execution_count": 4,
   "metadata": {},
   "outputs": [
    {
     "data": {
      "text/plain": [
       "Index(['children', 'days_employed', 'dob_years', 'education', 'education_id',\n",
       "       'family_status', 'family_status_id', 'gender', 'income_type', 'debt',\n",
       "       'total_income', 'purpose'],\n",
       "      dtype='object')"
      ]
     },
     "execution_count": 4,
     "metadata": {},
     "output_type": "execute_result"
    }
   ],
   "source": [
    "# проверим адекватность названий колонок, посмотрим нет ли там лишних пробелов\n",
    "data.columns"
   ]
  },
  {
   "cell_type": "code",
   "execution_count": 5,
   "metadata": {},
   "outputs": [
    {
     "data": {
      "text/plain": [
       "54"
      ]
     },
     "execution_count": 5,
     "metadata": {},
     "output_type": "execute_result"
    }
   ],
   "source": [
    "# узнаем сколько у нас дубликатов в таблице\n",
    "data.duplicated().sum()"
   ]
  },
  {
   "cell_type": "code",
   "execution_count": 6,
   "metadata": {},
   "outputs": [
    {
     "data": {
      "text/plain": [
       "array([ 1,  0,  3,  2, -1,  4, 20,  5])"
      ]
     },
     "execution_count": 6,
     "metadata": {},
     "output_type": "execute_result"
    }
   ],
   "source": [
    "# посмотрим сколько вообще может быть детей у людей, нет ли в данных каких-либо артефактов \n",
    "data['children'].unique()"
   ]
  },
  {
   "cell_type": "code",
   "execution_count": 7,
   "metadata": {},
   "outputs": [],
   "source": [
    "# посмотрим на стаж, нет ли в данных каких-либо артефактов \n",
    "#data['days_employed'].unique()"
   ]
  },
  {
   "cell_type": "code",
   "execution_count": 8,
   "metadata": {},
   "outputs": [],
   "source": [
    "# при вызове метода info() видели, что количество значений отличается от размера таблицы, проверим\n",
    "#data[data['days_employed'].isna()]"
   ]
  },
  {
   "cell_type": "code",
   "execution_count": 9,
   "metadata": {},
   "outputs": [],
   "source": [
    "# посмотрим на возраст, нет ли в данных каких-либо артефактов \n",
    "#data['dob_years'].unique()"
   ]
  },
  {
   "cell_type": "code",
   "execution_count": 10,
   "metadata": {},
   "outputs": [],
   "source": [
    "# посмотрим на образование, нет ли в данных каких-либо артефактов \n",
    "#data['education'].unique()"
   ]
  },
  {
   "cell_type": "code",
   "execution_count": 11,
   "metadata": {},
   "outputs": [],
   "source": [
    "# посмотрим на идентификаторы образования, совпадает ли их количество с количеством уровней образования в 'education' \n",
    "#data['education_id'].unique()"
   ]
  },
  {
   "cell_type": "code",
   "execution_count": 12,
   "metadata": {},
   "outputs": [],
   "source": [
    "# а уникальны ли id для каждого из уровней образования? Нет ли ситуации, когда одному уровню приписывается несколько разных id?\n",
    "#data.groupby('education')['education_id'].unique()"
   ]
  },
  {
   "cell_type": "code",
   "execution_count": 13,
   "metadata": {},
   "outputs": [
    {
     "data": {
      "text/plain": [
       "array(['женат / замужем', 'гражданский брак', 'вдовец / вдова',\n",
       "       'в разводе', 'Не женат / не замужем'], dtype=object)"
      ]
     },
     "execution_count": 13,
     "metadata": {},
     "output_type": "execute_result"
    }
   ],
   "source": [
    "# посмотрим на семейный статус, нет ли в данных каких-либо артефактов \n",
    "data['family_status'].unique()"
   ]
  },
  {
   "cell_type": "code",
   "execution_count": 14,
   "metadata": {},
   "outputs": [
    {
     "data": {
      "text/plain": [
       "array([0, 1, 2, 3, 4])"
      ]
     },
     "execution_count": 14,
     "metadata": {},
     "output_type": "execute_result"
    }
   ],
   "source": [
    "# посмотрим на идентификаторы семейного статуса, совпадает ли их количество с количеством уровней образования в 'famaly_status' \n",
    "data['family_status_id'].unique()"
   ]
  },
  {
   "cell_type": "code",
   "execution_count": 15,
   "metadata": {},
   "outputs": [
    {
     "data": {
      "text/plain": [
       "family_status\n",
       "Не женат / не замужем    [4]\n",
       "в разводе                [3]\n",
       "вдовец / вдова           [2]\n",
       "гражданский брак         [1]\n",
       "женат / замужем          [0]\n",
       "Name: family_status_id, dtype: object"
      ]
     },
     "execution_count": 15,
     "metadata": {},
     "output_type": "execute_result"
    }
   ],
   "source": [
    "# а уникальны ли id для каждого из статусов? Нет ли ситуации, когда одному статусу приписывается несколько разных id?\n",
    "data.groupby(\"family_status\")[\"family_status_id\"].unique()"
   ]
  },
  {
   "cell_type": "code",
   "execution_count": 16,
   "metadata": {},
   "outputs": [],
   "source": [
    "# посмотрим на пол, нет ли в данных каких-либо артефактов \n",
    "#data['gender'].unique()"
   ]
  },
  {
   "cell_type": "code",
   "execution_count": 17,
   "metadata": {},
   "outputs": [],
   "source": [
    "# посмотрим, сколько данных у нас с неверно заполненным полом и как выглядит строка\n",
    "#data[data['gender']=='XNA']"
   ]
  },
  {
   "cell_type": "code",
   "execution_count": 18,
   "metadata": {},
   "outputs": [],
   "source": [
    "# посмотрим на данные о занятости, нет ли в данных каких-либо артефактов \n",
    "#data['income_type'].unique()"
   ]
  },
  {
   "cell_type": "code",
   "execution_count": 19,
   "metadata": {},
   "outputs": [],
   "source": [
    "# в данных о занятости есть странные записи \"компаньон\". Много ли их? Спойлер: около 20% от всех\n",
    "#data[data['income_type'] =='компаньон']['income_type'].count()"
   ]
  },
  {
   "cell_type": "code",
   "execution_count": 20,
   "metadata": {},
   "outputs": [
    {
     "data": {
      "text/plain": [
       "array([0, 1])"
      ]
     },
     "execution_count": 20,
     "metadata": {},
     "output_type": "execute_result"
    }
   ],
   "source": [
    "data['debt'].unique()"
   ]
  },
  {
   "cell_type": "code",
   "execution_count": 21,
   "metadata": {},
   "outputs": [
    {
     "name": "stdout",
     "output_type": "stream",
     "text": [
      "артефакт \"nan\"\n",
      "всего в данных присутствует 1 различных видов артефактов \n",
      "всего в данных присутствует 0 отрицательных доходов \n"
     ]
    }
   ],
   "source": [
    "# посмотрим на уровень дохода\n",
    "#data['total_income'].unique()\n",
    "\n",
    "# поскольку уровней дохода слишком много, то не будем анализировать глазами и доверимся машине\n",
    "# напишем цикл, который проверяет есть ли в данных какие-либо артефакты и выводит их, затем выведем общее количество типов артефактов \n",
    "error = 0\n",
    "negative_number =0\n",
    "for income in data['total_income'].unique():\n",
    "    if income-income != 0:\n",
    "        error +=1\n",
    "        print('артефакт \"{}\"'.format(income))\n",
    "    if income <0:\n",
    "        print('отрицательный доход \"{}\"'.format(income))\n",
    "        negative_number +=1\n",
    "        \n",
    "print ('всего в данных присутствует {} различных видов артефактов '.format(error))   \n",
    "print ('всего в данных присутствует {} отрицательных доходов '.format(negative_number))   \n",
    "\n",
    "\n"
   ]
  },
  {
   "cell_type": "code",
   "execution_count": 22,
   "metadata": {},
   "outputs": [
    {
     "data": {
      "text/html": [
       "<div>\n",
       "<style scoped>\n",
       "    .dataframe tbody tr th:only-of-type {\n",
       "        vertical-align: middle;\n",
       "    }\n",
       "\n",
       "    .dataframe tbody tr th {\n",
       "        vertical-align: top;\n",
       "    }\n",
       "\n",
       "    .dataframe thead th {\n",
       "        text-align: right;\n",
       "    }\n",
       "</style>\n",
       "<table border=\"1\" class=\"dataframe\">\n",
       "  <thead>\n",
       "    <tr style=\"text-align: right;\">\n",
       "      <th></th>\n",
       "      <th>children</th>\n",
       "      <th>days_employed</th>\n",
       "      <th>dob_years</th>\n",
       "      <th>education</th>\n",
       "      <th>education_id</th>\n",
       "      <th>family_status</th>\n",
       "      <th>family_status_id</th>\n",
       "      <th>gender</th>\n",
       "      <th>income_type</th>\n",
       "      <th>debt</th>\n",
       "      <th>total_income</th>\n",
       "      <th>purpose</th>\n",
       "    </tr>\n",
       "  </thead>\n",
       "  <tbody>\n",
       "    <tr>\n",
       "      <td>12</td>\n",
       "      <td>0</td>\n",
       "      <td>NaN</td>\n",
       "      <td>65</td>\n",
       "      <td>среднее</td>\n",
       "      <td>1</td>\n",
       "      <td>гражданский брак</td>\n",
       "      <td>1</td>\n",
       "      <td>M</td>\n",
       "      <td>пенсионер</td>\n",
       "      <td>0</td>\n",
       "      <td>NaN</td>\n",
       "      <td>сыграть свадьбу</td>\n",
       "    </tr>\n",
       "    <tr>\n",
       "      <td>26</td>\n",
       "      <td>0</td>\n",
       "      <td>NaN</td>\n",
       "      <td>41</td>\n",
       "      <td>среднее</td>\n",
       "      <td>1</td>\n",
       "      <td>женат / замужем</td>\n",
       "      <td>0</td>\n",
       "      <td>M</td>\n",
       "      <td>госслужащий</td>\n",
       "      <td>0</td>\n",
       "      <td>NaN</td>\n",
       "      <td>образование</td>\n",
       "    </tr>\n",
       "    <tr>\n",
       "      <td>29</td>\n",
       "      <td>0</td>\n",
       "      <td>NaN</td>\n",
       "      <td>63</td>\n",
       "      <td>среднее</td>\n",
       "      <td>1</td>\n",
       "      <td>Не женат / не замужем</td>\n",
       "      <td>4</td>\n",
       "      <td>F</td>\n",
       "      <td>пенсионер</td>\n",
       "      <td>0</td>\n",
       "      <td>NaN</td>\n",
       "      <td>строительство жилой недвижимости</td>\n",
       "    </tr>\n",
       "    <tr>\n",
       "      <td>41</td>\n",
       "      <td>0</td>\n",
       "      <td>NaN</td>\n",
       "      <td>50</td>\n",
       "      <td>среднее</td>\n",
       "      <td>1</td>\n",
       "      <td>женат / замужем</td>\n",
       "      <td>0</td>\n",
       "      <td>F</td>\n",
       "      <td>госслужащий</td>\n",
       "      <td>0</td>\n",
       "      <td>NaN</td>\n",
       "      <td>сделка с подержанным автомобилем</td>\n",
       "    </tr>\n",
       "    <tr>\n",
       "      <td>55</td>\n",
       "      <td>0</td>\n",
       "      <td>NaN</td>\n",
       "      <td>54</td>\n",
       "      <td>среднее</td>\n",
       "      <td>1</td>\n",
       "      <td>гражданский брак</td>\n",
       "      <td>1</td>\n",
       "      <td>F</td>\n",
       "      <td>пенсионер</td>\n",
       "      <td>1</td>\n",
       "      <td>NaN</td>\n",
       "      <td>сыграть свадьбу</td>\n",
       "    </tr>\n",
       "    <tr>\n",
       "      <td>...</td>\n",
       "      <td>...</td>\n",
       "      <td>...</td>\n",
       "      <td>...</td>\n",
       "      <td>...</td>\n",
       "      <td>...</td>\n",
       "      <td>...</td>\n",
       "      <td>...</td>\n",
       "      <td>...</td>\n",
       "      <td>...</td>\n",
       "      <td>...</td>\n",
       "      <td>...</td>\n",
       "      <td>...</td>\n",
       "    </tr>\n",
       "    <tr>\n",
       "      <td>21489</td>\n",
       "      <td>2</td>\n",
       "      <td>NaN</td>\n",
       "      <td>47</td>\n",
       "      <td>Среднее</td>\n",
       "      <td>1</td>\n",
       "      <td>женат / замужем</td>\n",
       "      <td>0</td>\n",
       "      <td>M</td>\n",
       "      <td>компаньон</td>\n",
       "      <td>0</td>\n",
       "      <td>NaN</td>\n",
       "      <td>сделка с автомобилем</td>\n",
       "    </tr>\n",
       "    <tr>\n",
       "      <td>21495</td>\n",
       "      <td>1</td>\n",
       "      <td>NaN</td>\n",
       "      <td>50</td>\n",
       "      <td>среднее</td>\n",
       "      <td>1</td>\n",
       "      <td>гражданский брак</td>\n",
       "      <td>1</td>\n",
       "      <td>F</td>\n",
       "      <td>сотрудник</td>\n",
       "      <td>0</td>\n",
       "      <td>NaN</td>\n",
       "      <td>свадьба</td>\n",
       "    </tr>\n",
       "    <tr>\n",
       "      <td>21497</td>\n",
       "      <td>0</td>\n",
       "      <td>NaN</td>\n",
       "      <td>48</td>\n",
       "      <td>ВЫСШЕЕ</td>\n",
       "      <td>0</td>\n",
       "      <td>женат / замужем</td>\n",
       "      <td>0</td>\n",
       "      <td>F</td>\n",
       "      <td>компаньон</td>\n",
       "      <td>0</td>\n",
       "      <td>NaN</td>\n",
       "      <td>строительство недвижимости</td>\n",
       "    </tr>\n",
       "    <tr>\n",
       "      <td>21502</td>\n",
       "      <td>1</td>\n",
       "      <td>NaN</td>\n",
       "      <td>42</td>\n",
       "      <td>среднее</td>\n",
       "      <td>1</td>\n",
       "      <td>женат / замужем</td>\n",
       "      <td>0</td>\n",
       "      <td>F</td>\n",
       "      <td>сотрудник</td>\n",
       "      <td>0</td>\n",
       "      <td>NaN</td>\n",
       "      <td>строительство жилой недвижимости</td>\n",
       "    </tr>\n",
       "    <tr>\n",
       "      <td>21510</td>\n",
       "      <td>2</td>\n",
       "      <td>NaN</td>\n",
       "      <td>28</td>\n",
       "      <td>среднее</td>\n",
       "      <td>1</td>\n",
       "      <td>женат / замужем</td>\n",
       "      <td>0</td>\n",
       "      <td>F</td>\n",
       "      <td>сотрудник</td>\n",
       "      <td>0</td>\n",
       "      <td>NaN</td>\n",
       "      <td>приобретение автомобиля</td>\n",
       "    </tr>\n",
       "  </tbody>\n",
       "</table>\n",
       "<p>2174 rows × 12 columns</p>\n",
       "</div>"
      ],
      "text/plain": [
       "       children  days_employed  dob_years education  education_id  \\\n",
       "12            0            NaN         65   среднее             1   \n",
       "26            0            NaN         41   среднее             1   \n",
       "29            0            NaN         63   среднее             1   \n",
       "41            0            NaN         50   среднее             1   \n",
       "55            0            NaN         54   среднее             1   \n",
       "...         ...            ...        ...       ...           ...   \n",
       "21489         2            NaN         47   Среднее             1   \n",
       "21495         1            NaN         50   среднее             1   \n",
       "21497         0            NaN         48    ВЫСШЕЕ             0   \n",
       "21502         1            NaN         42   среднее             1   \n",
       "21510         2            NaN         28   среднее             1   \n",
       "\n",
       "               family_status  family_status_id gender  income_type  debt  \\\n",
       "12          гражданский брак                 1      M    пенсионер     0   \n",
       "26           женат / замужем                 0      M  госслужащий     0   \n",
       "29     Не женат / не замужем                 4      F    пенсионер     0   \n",
       "41           женат / замужем                 0      F  госслужащий     0   \n",
       "55          гражданский брак                 1      F    пенсионер     1   \n",
       "...                      ...               ...    ...          ...   ...   \n",
       "21489        женат / замужем                 0      M    компаньон     0   \n",
       "21495       гражданский брак                 1      F    сотрудник     0   \n",
       "21497        женат / замужем                 0      F    компаньон     0   \n",
       "21502        женат / замужем                 0      F    сотрудник     0   \n",
       "21510        женат / замужем                 0      F    сотрудник     0   \n",
       "\n",
       "       total_income                           purpose  \n",
       "12              NaN                   сыграть свадьбу  \n",
       "26              NaN                       образование  \n",
       "29              NaN  строительство жилой недвижимости  \n",
       "41              NaN  сделка с подержанным автомобилем  \n",
       "55              NaN                   сыграть свадьбу  \n",
       "...             ...                               ...  \n",
       "21489           NaN              сделка с автомобилем  \n",
       "21495           NaN                           свадьба  \n",
       "21497           NaN        строительство недвижимости  \n",
       "21502           NaN  строительство жилой недвижимости  \n",
       "21510           NaN           приобретение автомобиля  \n",
       "\n",
       "[2174 rows x 12 columns]"
      ]
     },
     "execution_count": 22,
     "metadata": {},
     "output_type": "execute_result"
    }
   ],
   "source": [
    "# только что определили, что в данных есть пропуски, проверим, так ли это\n",
    "data[data['total_income'].isna()]"
   ]
  },
  {
   "cell_type": "code",
   "execution_count": 23,
   "metadata": {},
   "outputs": [
    {
     "data": {
      "text/plain": [
       "array(['покупка жилья', 'приобретение автомобиля',\n",
       "       'дополнительное образование', 'сыграть свадьбу',\n",
       "       'операции с жильем', 'образование', 'на проведение свадьбы',\n",
       "       'покупка жилья для семьи', 'покупка недвижимости',\n",
       "       'покупка коммерческой недвижимости', 'покупка жилой недвижимости',\n",
       "       'строительство собственной недвижимости', 'недвижимость',\n",
       "       'строительство недвижимости', 'на покупку подержанного автомобиля',\n",
       "       'на покупку своего автомобиля',\n",
       "       'операции с коммерческой недвижимостью',\n",
       "       'строительство жилой недвижимости', 'жилье',\n",
       "       'операции со своей недвижимостью', 'автомобили',\n",
       "       'заняться образованием', 'сделка с подержанным автомобилем',\n",
       "       'получение образования', 'автомобиль', 'свадьба',\n",
       "       'получение дополнительного образования', 'покупка своего жилья',\n",
       "       'операции с недвижимостью', 'получение высшего образования',\n",
       "       'свой автомобиль', 'сделка с автомобилем',\n",
       "       'профильное образование', 'высшее образование',\n",
       "       'покупка жилья для сдачи', 'на покупку автомобиля', 'ремонт жилью',\n",
       "       'заняться высшим образованием'], dtype=object)"
      ]
     },
     "execution_count": 23,
     "metadata": {},
     "output_type": "execute_result"
    }
   ],
   "source": [
    "# посмотрим на цели кредита, нет ли там одинаковых целей записанных по разному\n",
    "data['purpose'].unique()"
   ]
  },
  {
   "cell_type": "markdown",
   "metadata": {},
   "source": [
    "<div style=\"border:solid  orange  2px; padding: 20px\"> <h1 style=\"color: orange\">Комментарий наставника</h1>\n",
    "\n",
    "Лучше разбить код на большее число ячеек и вывести результат работы тех строк кода выше, которые имеют ценность для проекта. "
   ]
  },
  {
   "cell_type": "markdown",
   "metadata": {},
   "source": [
    "### Вывод"
   ]
  },
  {
   "cell_type": "markdown",
   "metadata": {},
   "source": [
    "С названием колонок все нормально, они записаны в едином формате, на английском языке, строчными буквами и однозначно указывают какие значения в них хранятся.\n",
    "Однако данные, которые хранятся в таблицы не пригодны для анализа \"в лоб\", как минимум есть:\n",
    "   - дубликаты\n",
    "   - странные значения в столбце 'children', например отрицательные (минус еденица) или очень большие (двадцать)\n",
    "   - различное написание обозначающее один и тот же уровень образования в столбце \"education\"\n",
    "   - отрицательные значения в столбце 'days_employed'(количество дней трудового стажа)\n",
    "   - пропущенные данные в столбце 'days_employed'\n",
    "   - строка с неопознанным полом заемщика (№ 10701, с полом 'XNA')\n",
    "   - 'debt' показывает имел ли заемщик задолженноть по возврату кредита, а посему может быть типом 'bool', а не 'int64' \n",
    "   - 'total_income' содержит пропущенные данные\n",
    "   - 'purpose' содержит разное написание одинаковых целей, например \"сыграть свадьбу\" и \" на проведение свадьбы\"\n",
    "    \n",
    "\n",
    "Количество семейных статусов ('famaly_status') и количество id статусов ('famaly_status_id') совпадает, что хорошо, но необходимо проверить, чтобы не было путанницы, когда одному статусу присвоен id другого статуса. Аналогичная ситуация с уровнями образованияя ('education_status') и их id ('education_status_id').\n",
    "К типу занятости ('income_type') на данном этапе тоже нет вопросов "
   ]
  },
  {
   "cell_type": "markdown",
   "metadata": {},
   "source": [
    "<div style=\"border:solid  orange  2px; padding: 20px\"> <h1 style=\"color: orange\">Комментарий наставника</h1>\n",
    "\n",
    "У меня имеется несколько комментариев по данному шагу:\n",
    "- желательно выводить около 10 строчек таблицы. Меньше не рекомендуется, можно не увидеть структуру данных;\n",
    "- считывание данных и импорт необходимых библиотек лучше проводить в разных ячейках;\n",
    "- следует давать переменным осознанные имена. Таблица про клиентов - название надо бы выбрать соответствующее;\n",
    "- Подумай также о возможных причинах появления пропусков, а также о том, являются ли они случайными или нет.\n",
    "\n",
    "Первый взгляд на таблицу выполнен."
   ]
  },
  {
   "cell_type": "markdown",
   "metadata": {},
   "source": [
    "### Шаг 2. Предобработка данных"
   ]
  },
  {
   "cell_type": "markdown",
   "metadata": {},
   "source": [
    "### Обработка пропусков"
   ]
  },
  {
   "cell_type": "code",
   "execution_count": 24,
   "metadata": {},
   "outputs": [
    {
     "data": {
      "text/plain": [
       "children               0\n",
       "days_employed       2174\n",
       "dob_years              0\n",
       "education              0\n",
       "education_id           0\n",
       "family_status          0\n",
       "family_status_id       0\n",
       "gender                 0\n",
       "income_type            0\n",
       "debt                   0\n",
       "total_income        2174\n",
       "purpose                0\n",
       "dtype: int64"
      ]
     },
     "execution_count": 24,
     "metadata": {},
     "output_type": "execute_result"
    }
   ],
   "source": [
    "# проверяем в каких столбцах есть пропуски данных, возможно что-то пропустили на предыдущем этапе\n",
    "data.isna().sum()"
   ]
  },
  {
   "cell_type": "code",
   "execution_count": 25,
   "metadata": {},
   "outputs": [],
   "source": [
    "# тут какая-то ошибка\n",
    "# посмотрим у какой группы людей по типу дохода не указан ежемесячный доход\n",
    "#data[data['total_income'].isna()].pivot_table(index=['income_type'], \n",
    "#                                    columns='family_status', values='total_income', \n",
    " #                                   aggfunc='sum')\n",
    "\n"
   ]
  },
  {
   "cell_type": "code",
   "execution_count": 26,
   "metadata": {},
   "outputs": [],
   "source": [
    "# тут какая-то ошибка\n",
    "# посмотрим у какой группы людей по типу дохода нет трудового стажа. Не предприниматели ли это часом?\n",
    "#data[data['days_employed'].isna()].pivot_table(index=['income_type'], \n",
    "#                                    columns='family_status', values='total_income', \n",
    "#                                    aggfunc='sum')"
   ]
  },
  {
   "cell_type": "code",
   "execution_count": 27,
   "metadata": {},
   "outputs": [
    {
     "data": {
      "text/plain": [
       "сотрудник          1105\n",
       "компаньон           508\n",
       "пенсионер           413\n",
       "госслужащий         147\n",
       "предприниматель       1\n",
       "Name: income_type, dtype: int64"
      ]
     },
     "execution_count": 27,
     "metadata": {},
     "output_type": "execute_result"
    }
   ],
   "source": [
    "# вот тут нет ошибки\n",
    "data.query(\"total_income.isna()\").income_type.value_counts()"
   ]
  },
  {
   "cell_type": "code",
   "execution_count": 28,
   "metadata": {},
   "outputs": [
    {
     "data": {
      "text/plain": [
       "сотрудник          1105\n",
       "компаньон           508\n",
       "пенсионер           413\n",
       "госслужащий         147\n",
       "предприниматель       1\n",
       "Name: income_type, dtype: int64"
      ]
     },
     "execution_count": 28,
     "metadata": {},
     "output_type": "execute_result"
    }
   ],
   "source": [
    "# и вот тут нет ошибки\n",
    "data.query(\"days_employed.isna()\").income_type.value_counts()"
   ]
  },
  {
   "cell_type": "code",
   "execution_count": 29,
   "metadata": {},
   "outputs": [
    {
     "data": {
      "text/plain": [
       "2174"
      ]
     },
     "execution_count": 29,
     "metadata": {},
     "output_type": "execute_result"
    }
   ],
   "source": [
    "1105 + 508 + 413 + 147 + 1"
   ]
  },
  {
   "cell_type": "markdown",
   "metadata": {},
   "source": [
    "<font color=red> Пропуски не только у предпринимателей. Даже можно сказать, что у предпринимателей их нет. Заполни пропуски, исходя из типа дохода. Таких типов у нас 4.\n",
    "    \n",
    "---"
   ]
  },
  {
   "cell_type": "code",
   "execution_count": 30,
   "metadata": {},
   "outputs": [
    {
     "data": {
      "text/html": [
       "<div>\n",
       "<style scoped>\n",
       "    .dataframe tbody tr th:only-of-type {\n",
       "        vertical-align: middle;\n",
       "    }\n",
       "\n",
       "    .dataframe tbody tr th {\n",
       "        vertical-align: top;\n",
       "    }\n",
       "\n",
       "    .dataframe thead th {\n",
       "        text-align: right;\n",
       "    }\n",
       "</style>\n",
       "<table border=\"1\" class=\"dataframe\">\n",
       "  <thead>\n",
       "    <tr style=\"text-align: right;\">\n",
       "      <th></th>\n",
       "      <th>children</th>\n",
       "      <th>days_employed</th>\n",
       "      <th>dob_years</th>\n",
       "      <th>education</th>\n",
       "      <th>education_id</th>\n",
       "      <th>family_status</th>\n",
       "      <th>family_status_id</th>\n",
       "      <th>gender</th>\n",
       "      <th>income_type</th>\n",
       "      <th>debt</th>\n",
       "      <th>total_income</th>\n",
       "      <th>purpose</th>\n",
       "    </tr>\n",
       "  </thead>\n",
       "  <tbody>\n",
       "    <tr>\n",
       "      <td>0</td>\n",
       "      <td>1</td>\n",
       "      <td>-8437.673028</td>\n",
       "      <td>42</td>\n",
       "      <td>высшее</td>\n",
       "      <td>0</td>\n",
       "      <td>женат / замужем</td>\n",
       "      <td>0</td>\n",
       "      <td>F</td>\n",
       "      <td>сотрудник</td>\n",
       "      <td>0</td>\n",
       "      <td>253875.639453</td>\n",
       "      <td>покупка жилья</td>\n",
       "    </tr>\n",
       "    <tr>\n",
       "      <td>1</td>\n",
       "      <td>1</td>\n",
       "      <td>-4024.803754</td>\n",
       "      <td>36</td>\n",
       "      <td>среднее</td>\n",
       "      <td>1</td>\n",
       "      <td>женат / замужем</td>\n",
       "      <td>0</td>\n",
       "      <td>F</td>\n",
       "      <td>сотрудник</td>\n",
       "      <td>0</td>\n",
       "      <td>112080.014102</td>\n",
       "      <td>приобретение автомобиля</td>\n",
       "    </tr>\n",
       "    <tr>\n",
       "      <td>2</td>\n",
       "      <td>0</td>\n",
       "      <td>-5623.422610</td>\n",
       "      <td>33</td>\n",
       "      <td>Среднее</td>\n",
       "      <td>1</td>\n",
       "      <td>женат / замужем</td>\n",
       "      <td>0</td>\n",
       "      <td>M</td>\n",
       "      <td>сотрудник</td>\n",
       "      <td>0</td>\n",
       "      <td>145885.952297</td>\n",
       "      <td>покупка жилья</td>\n",
       "    </tr>\n",
       "    <tr>\n",
       "      <td>3</td>\n",
       "      <td>3</td>\n",
       "      <td>-4124.747207</td>\n",
       "      <td>32</td>\n",
       "      <td>среднее</td>\n",
       "      <td>1</td>\n",
       "      <td>женат / замужем</td>\n",
       "      <td>0</td>\n",
       "      <td>M</td>\n",
       "      <td>сотрудник</td>\n",
       "      <td>0</td>\n",
       "      <td>267628.550329</td>\n",
       "      <td>дополнительное образование</td>\n",
       "    </tr>\n",
       "    <tr>\n",
       "      <td>4</td>\n",
       "      <td>0</td>\n",
       "      <td>340266.072047</td>\n",
       "      <td>53</td>\n",
       "      <td>среднее</td>\n",
       "      <td>1</td>\n",
       "      <td>гражданский брак</td>\n",
       "      <td>1</td>\n",
       "      <td>F</td>\n",
       "      <td>пенсионер</td>\n",
       "      <td>0</td>\n",
       "      <td>158616.077870</td>\n",
       "      <td>сыграть свадьбу</td>\n",
       "    </tr>\n",
       "    <tr>\n",
       "      <td>5</td>\n",
       "      <td>0</td>\n",
       "      <td>-926.185831</td>\n",
       "      <td>27</td>\n",
       "      <td>высшее</td>\n",
       "      <td>0</td>\n",
       "      <td>гражданский брак</td>\n",
       "      <td>1</td>\n",
       "      <td>M</td>\n",
       "      <td>компаньон</td>\n",
       "      <td>0</td>\n",
       "      <td>255763.565419</td>\n",
       "      <td>покупка жилья</td>\n",
       "    </tr>\n",
       "    <tr>\n",
       "      <td>6</td>\n",
       "      <td>0</td>\n",
       "      <td>-2879.202052</td>\n",
       "      <td>43</td>\n",
       "      <td>высшее</td>\n",
       "      <td>0</td>\n",
       "      <td>женат / замужем</td>\n",
       "      <td>0</td>\n",
       "      <td>F</td>\n",
       "      <td>компаньон</td>\n",
       "      <td>0</td>\n",
       "      <td>240525.971920</td>\n",
       "      <td>операции с жильем</td>\n",
       "    </tr>\n",
       "    <tr>\n",
       "      <td>7</td>\n",
       "      <td>0</td>\n",
       "      <td>-152.779569</td>\n",
       "      <td>50</td>\n",
       "      <td>СРЕДНЕЕ</td>\n",
       "      <td>1</td>\n",
       "      <td>женат / замужем</td>\n",
       "      <td>0</td>\n",
       "      <td>M</td>\n",
       "      <td>сотрудник</td>\n",
       "      <td>0</td>\n",
       "      <td>135823.934197</td>\n",
       "      <td>образование</td>\n",
       "    </tr>\n",
       "    <tr>\n",
       "      <td>8</td>\n",
       "      <td>2</td>\n",
       "      <td>-6929.865299</td>\n",
       "      <td>35</td>\n",
       "      <td>ВЫСШЕЕ</td>\n",
       "      <td>0</td>\n",
       "      <td>гражданский брак</td>\n",
       "      <td>1</td>\n",
       "      <td>F</td>\n",
       "      <td>сотрудник</td>\n",
       "      <td>0</td>\n",
       "      <td>95856.832424</td>\n",
       "      <td>на проведение свадьбы</td>\n",
       "    </tr>\n",
       "    <tr>\n",
       "      <td>9</td>\n",
       "      <td>0</td>\n",
       "      <td>-2188.756445</td>\n",
       "      <td>41</td>\n",
       "      <td>среднее</td>\n",
       "      <td>1</td>\n",
       "      <td>женат / замужем</td>\n",
       "      <td>0</td>\n",
       "      <td>M</td>\n",
       "      <td>сотрудник</td>\n",
       "      <td>0</td>\n",
       "      <td>144425.938277</td>\n",
       "      <td>покупка жилья для семьи</td>\n",
       "    </tr>\n",
       "  </tbody>\n",
       "</table>\n",
       "</div>"
      ],
      "text/plain": [
       "   children  days_employed  dob_years education  education_id  \\\n",
       "0         1   -8437.673028         42    высшее             0   \n",
       "1         1   -4024.803754         36   среднее             1   \n",
       "2         0   -5623.422610         33   Среднее             1   \n",
       "3         3   -4124.747207         32   среднее             1   \n",
       "4         0  340266.072047         53   среднее             1   \n",
       "5         0    -926.185831         27    высшее             0   \n",
       "6         0   -2879.202052         43    высшее             0   \n",
       "7         0    -152.779569         50   СРЕДНЕЕ             1   \n",
       "8         2   -6929.865299         35    ВЫСШЕЕ             0   \n",
       "9         0   -2188.756445         41   среднее             1   \n",
       "\n",
       "      family_status  family_status_id gender income_type  debt   total_income  \\\n",
       "0   женат / замужем                 0      F   сотрудник     0  253875.639453   \n",
       "1   женат / замужем                 0      F   сотрудник     0  112080.014102   \n",
       "2   женат / замужем                 0      M   сотрудник     0  145885.952297   \n",
       "3   женат / замужем                 0      M   сотрудник     0  267628.550329   \n",
       "4  гражданский брак                 1      F   пенсионер     0  158616.077870   \n",
       "5  гражданский брак                 1      M   компаньон     0  255763.565419   \n",
       "6   женат / замужем                 0      F   компаньон     0  240525.971920   \n",
       "7   женат / замужем                 0      M   сотрудник     0  135823.934197   \n",
       "8  гражданский брак                 1      F   сотрудник     0   95856.832424   \n",
       "9   женат / замужем                 0      M   сотрудник     0  144425.938277   \n",
       "\n",
       "                      purpose  \n",
       "0               покупка жилья  \n",
       "1     приобретение автомобиля  \n",
       "2               покупка жилья  \n",
       "3  дополнительное образование  \n",
       "4             сыграть свадьбу  \n",
       "5               покупка жилья  \n",
       "6           операции с жильем  \n",
       "7                 образование  \n",
       "8       на проведение свадьбы  \n",
       "9     покупка жилья для семьи  "
      ]
     },
     "execution_count": 30,
     "metadata": {},
     "output_type": "execute_result"
    }
   ],
   "source": [
    "data.head(10)"
   ]
  },
  {
   "cell_type": "code",
   "execution_count": 31,
   "metadata": {},
   "outputs": [
    {
     "data": {
      "text/plain": [
       "children            0\n",
       "days_employed       0\n",
       "dob_years           0\n",
       "education           0\n",
       "education_id        0\n",
       "family_status       0\n",
       "family_status_id    0\n",
       "gender              0\n",
       "income_type         0\n",
       "debt                0\n",
       "total_income        0\n",
       "purpose             0\n",
       "dtype: int64"
      ]
     },
     "execution_count": 31,
     "metadata": {},
     "output_type": "execute_result"
    }
   ],
   "source": [
    "# полный ход рассуждения описан после общего вывода. Если коротко то:\n",
    "# поскольку данные стоят денег и строк с пропусками у нас аж 10% от всего датасета, то удалять их не будем, \n",
    "# а чтоб не сломать распределение, заполним их отрицательными значениями, например -1 и при дальнейших расчетах не будем их учитывать\n",
    "# в рамках проекта нас не интересует стаж заемщиков, поэтому исключать будем те строки, в которых 'total_income' меньше нуля\n",
    "\n",
    "data = data.fillna(-1)\n",
    "\n",
    "# Соответственно поправил выводы в ответе на вопрос \"Есть ли зависимость между уровнем дохода и возвратом кредита в срок?\"\n",
    "# потому как, до этого было зануление, пропусков, что приводило к назначению из группы \"низкий доход\", а статистика собиралась\n",
    "# как раз по названию группы. Теперь же нам нужно исключить из анализа строки с отрицательным доходом, что изменит статистику \n",
    "# а значит и выводы необходимо скорректировать\n",
    "\n",
    "\n",
    "# и проверим результат\n",
    "\n",
    "data.isna().sum()"
   ]
  },
  {
   "cell_type": "code",
   "execution_count": 32,
   "metadata": {},
   "outputs": [
    {
     "data": {
      "text/plain": [
       "47"
      ]
     },
     "execution_count": 32,
     "metadata": {},
     "output_type": "execute_result"
    }
   ],
   "source": [
    "# сколько строк где кол-во детей отрицательное?\n",
    "data[data['children']<0]['children'].count()"
   ]
  },
  {
   "cell_type": "code",
   "execution_count": 33,
   "metadata": {},
   "outputs": [
    {
     "data": {
      "text/plain": [
       "21478"
      ]
     },
     "execution_count": 33,
     "metadata": {},
     "output_type": "execute_result"
    }
   ],
   "source": [
    "# а где не отрицательное?\n",
    "data[data['children']>=0]['children'].count()"
   ]
  },
  {
   "cell_type": "code",
   "execution_count": 34,
   "metadata": {},
   "outputs": [
    {
     "data": {
      "text/plain": [
       "7329"
      ]
     },
     "execution_count": 34,
     "metadata": {},
     "output_type": "execute_result"
    }
   ],
   "source": [
    "# а где положительное?\n",
    "data[data['children']>0]['children'].count()"
   ]
  },
  {
   "cell_type": "code",
   "execution_count": 35,
   "metadata": {},
   "outputs": [
    {
     "name": "stdout",
     "output_type": "stream",
     "text": [
      "<class 'pandas.core.frame.DataFrame'>\n",
      "Int64Index: 21478 entries, 0 to 21524\n",
      "Data columns (total 12 columns):\n",
      "children            21478 non-null int64\n",
      "days_employed       21478 non-null float64\n",
      "dob_years           21478 non-null int64\n",
      "education           21478 non-null object\n",
      "education_id        21478 non-null int64\n",
      "family_status       21478 non-null object\n",
      "family_status_id    21478 non-null int64\n",
      "gender              21478 non-null object\n",
      "income_type         21478 non-null object\n",
      "debt                21478 non-null int64\n",
      "total_income        21478 non-null float64\n",
      "purpose             21478 non-null object\n",
      "dtypes: float64(2), int64(5), object(5)\n",
      "memory usage: 2.1+ MB\n"
     ]
    }
   ],
   "source": [
    "# понятно, значит строк с отрицательным кол-вом детей мало, можно их удалить\n",
    "# но удалять их муторно, поэтому просто перезапишем в наш DataFrame лишь те строки, которые нам нужны\n",
    "data = data[data['children']>=0]\n",
    "data.info()"
   ]
  },
  {
   "cell_type": "markdown",
   "metadata": {},
   "source": [
    "### Вывод"
   ]
  },
  {
   "cell_type": "markdown",
   "metadata": {},
   "source": [
    "Строки без данных в столбцах 'days_employed' и 'total income' заполнили минус еденицами. Столбец 'days_employed' не трогали, потому что в рамках проекта он нам не пригодится, а в столбце 'total income', при последующих расчетах статистик по доходам, нужно брать лишь те строки где 'total income' не отрицательный.\n",
    "\n",
    "Так же нам следует пообщаться с администраторами БД на предмет проверки скриптов выгрузки. Тем более что, в выгрузке присутствуют отрицательные знаниче в столбце 'children', которые могут быть результатом, опять же, неправильной обработки данных при выгрузке. Поскольку процент таких значений мал, как по отношению ко всей выборке, так и по отношению к выборке с детьми, то можно просто удалить эти строки, вместо того, чтобы разбираться, был ли \"минус\" перед цифрой \"тире\" при записи в базу или же это просто ошибка оператора при вводе. \n"
   ]
  },
  {
   "cell_type": "markdown",
   "metadata": {},
   "source": [
    "<div style=\"border:solid  red  2px; padding: 20px\"> <h1 style=\"color: red\">Комментарий наставника</h1>\n",
    "    \n",
    "Удалять 10% данных - не очень то хорошо. Попробуй обработать данные строки. Лучше использовать заполнение пропусков в соответствии с типом дохода. Тогда пенсионеры будут получать также, как и другие пенсионеры и т.д. То же самое касается и столбца с доходами. Подумай, как лучше обработать пропуски."
   ]
  },
  {
   "cell_type": "markdown",
   "metadata": {},
   "source": [
    "### Замена типа данных"
   ]
  },
  {
   "cell_type": "code",
   "execution_count": 36,
   "metadata": {},
   "outputs": [
    {
     "name": "stdout",
     "output_type": "stream",
     "text": [
      "<class 'pandas.core.frame.DataFrame'>\n",
      "Int64Index: 21478 entries, 0 to 21524\n",
      "Data columns (total 12 columns):\n",
      "children            21478 non-null int64\n",
      "days_employed       21478 non-null float64\n",
      "dob_years           21478 non-null int64\n",
      "education           21478 non-null object\n",
      "education_id        21478 non-null int64\n",
      "family_status       21478 non-null object\n",
      "family_status_id    21478 non-null int64\n",
      "gender              21478 non-null object\n",
      "income_type         21478 non-null object\n",
      "debt                21478 non-null bool\n",
      "total_income        21478 non-null float64\n",
      "purpose             21478 non-null object\n",
      "dtypes: bool(1), float64(2), int64(4), object(5)\n",
      "memory usage: 2.0+ MB\n"
     ]
    }
   ],
   "source": [
    "# изменим тип 'debt' с 'int64' на 'bool'\n",
    "data['debt'] = data['debt'].astype('bool')\n",
    "\n",
    "# и проверим\n",
    "data.info()"
   ]
  },
  {
   "cell_type": "code",
   "execution_count": 37,
   "metadata": {},
   "outputs": [
    {
     "data": {
      "text/html": [
       "<div>\n",
       "<style scoped>\n",
       "    .dataframe tbody tr th:only-of-type {\n",
       "        vertical-align: middle;\n",
       "    }\n",
       "\n",
       "    .dataframe tbody tr th {\n",
       "        vertical-align: top;\n",
       "    }\n",
       "\n",
       "    .dataframe thead th {\n",
       "        text-align: right;\n",
       "    }\n",
       "</style>\n",
       "<table border=\"1\" class=\"dataframe\">\n",
       "  <thead>\n",
       "    <tr style=\"text-align: right;\">\n",
       "      <th></th>\n",
       "      <th>children</th>\n",
       "      <th>days_employed</th>\n",
       "      <th>dob_years</th>\n",
       "      <th>education</th>\n",
       "      <th>education_id</th>\n",
       "      <th>family_status</th>\n",
       "      <th>family_status_id</th>\n",
       "      <th>gender</th>\n",
       "      <th>income_type</th>\n",
       "      <th>debt</th>\n",
       "      <th>total_income</th>\n",
       "      <th>purpose</th>\n",
       "    </tr>\n",
       "  </thead>\n",
       "  <tbody>\n",
       "    <tr>\n",
       "      <td>21515</td>\n",
       "      <td>1</td>\n",
       "      <td>-467.685130</td>\n",
       "      <td>28</td>\n",
       "      <td>среднее</td>\n",
       "      <td>1</td>\n",
       "      <td>женат / замужем</td>\n",
       "      <td>0</td>\n",
       "      <td>F</td>\n",
       "      <td>сотрудник</td>\n",
       "      <td>True</td>\n",
       "      <td>109486.327999</td>\n",
       "      <td>заняться образованием</td>\n",
       "    </tr>\n",
       "    <tr>\n",
       "      <td>21516</td>\n",
       "      <td>0</td>\n",
       "      <td>-914.391429</td>\n",
       "      <td>42</td>\n",
       "      <td>высшее</td>\n",
       "      <td>0</td>\n",
       "      <td>женат / замужем</td>\n",
       "      <td>0</td>\n",
       "      <td>F</td>\n",
       "      <td>компаньон</td>\n",
       "      <td>False</td>\n",
       "      <td>322807.776603</td>\n",
       "      <td>покупка своего жилья</td>\n",
       "    </tr>\n",
       "    <tr>\n",
       "      <td>21517</td>\n",
       "      <td>0</td>\n",
       "      <td>-404.679034</td>\n",
       "      <td>42</td>\n",
       "      <td>высшее</td>\n",
       "      <td>0</td>\n",
       "      <td>гражданский брак</td>\n",
       "      <td>1</td>\n",
       "      <td>F</td>\n",
       "      <td>компаньон</td>\n",
       "      <td>False</td>\n",
       "      <td>178059.553491</td>\n",
       "      <td>на покупку своего автомобиля</td>\n",
       "    </tr>\n",
       "    <tr>\n",
       "      <td>21518</td>\n",
       "      <td>0</td>\n",
       "      <td>373995.710838</td>\n",
       "      <td>59</td>\n",
       "      <td>СРЕДНЕЕ</td>\n",
       "      <td>1</td>\n",
       "      <td>женат / замужем</td>\n",
       "      <td>0</td>\n",
       "      <td>F</td>\n",
       "      <td>пенсионер</td>\n",
       "      <td>False</td>\n",
       "      <td>153864.650328</td>\n",
       "      <td>сделка с автомобилем</td>\n",
       "    </tr>\n",
       "    <tr>\n",
       "      <td>21519</td>\n",
       "      <td>1</td>\n",
       "      <td>-2351.431934</td>\n",
       "      <td>37</td>\n",
       "      <td>ученая степень</td>\n",
       "      <td>4</td>\n",
       "      <td>в разводе</td>\n",
       "      <td>3</td>\n",
       "      <td>M</td>\n",
       "      <td>сотрудник</td>\n",
       "      <td>False</td>\n",
       "      <td>115949.039788</td>\n",
       "      <td>покупка коммерческой недвижимости</td>\n",
       "    </tr>\n",
       "    <tr>\n",
       "      <td>21520</td>\n",
       "      <td>1</td>\n",
       "      <td>-4529.316663</td>\n",
       "      <td>43</td>\n",
       "      <td>среднее</td>\n",
       "      <td>1</td>\n",
       "      <td>гражданский брак</td>\n",
       "      <td>1</td>\n",
       "      <td>F</td>\n",
       "      <td>компаньон</td>\n",
       "      <td>False</td>\n",
       "      <td>224791.862382</td>\n",
       "      <td>операции с жильем</td>\n",
       "    </tr>\n",
       "    <tr>\n",
       "      <td>21521</td>\n",
       "      <td>0</td>\n",
       "      <td>343937.404131</td>\n",
       "      <td>67</td>\n",
       "      <td>среднее</td>\n",
       "      <td>1</td>\n",
       "      <td>женат / замужем</td>\n",
       "      <td>0</td>\n",
       "      <td>F</td>\n",
       "      <td>пенсионер</td>\n",
       "      <td>False</td>\n",
       "      <td>155999.806512</td>\n",
       "      <td>сделка с автомобилем</td>\n",
       "    </tr>\n",
       "    <tr>\n",
       "      <td>21522</td>\n",
       "      <td>1</td>\n",
       "      <td>-2113.346888</td>\n",
       "      <td>38</td>\n",
       "      <td>среднее</td>\n",
       "      <td>1</td>\n",
       "      <td>гражданский брак</td>\n",
       "      <td>1</td>\n",
       "      <td>M</td>\n",
       "      <td>сотрудник</td>\n",
       "      <td>True</td>\n",
       "      <td>89672.561153</td>\n",
       "      <td>недвижимость</td>\n",
       "    </tr>\n",
       "    <tr>\n",
       "      <td>21523</td>\n",
       "      <td>3</td>\n",
       "      <td>-3112.481705</td>\n",
       "      <td>38</td>\n",
       "      <td>среднее</td>\n",
       "      <td>1</td>\n",
       "      <td>женат / замужем</td>\n",
       "      <td>0</td>\n",
       "      <td>M</td>\n",
       "      <td>сотрудник</td>\n",
       "      <td>True</td>\n",
       "      <td>244093.050500</td>\n",
       "      <td>на покупку своего автомобиля</td>\n",
       "    </tr>\n",
       "    <tr>\n",
       "      <td>21524</td>\n",
       "      <td>2</td>\n",
       "      <td>-1984.507589</td>\n",
       "      <td>40</td>\n",
       "      <td>среднее</td>\n",
       "      <td>1</td>\n",
       "      <td>женат / замужем</td>\n",
       "      <td>0</td>\n",
       "      <td>F</td>\n",
       "      <td>сотрудник</td>\n",
       "      <td>False</td>\n",
       "      <td>82047.418899</td>\n",
       "      <td>на покупку автомобиля</td>\n",
       "    </tr>\n",
       "  </tbody>\n",
       "</table>\n",
       "</div>"
      ],
      "text/plain": [
       "       children  days_employed  dob_years       education  education_id  \\\n",
       "21515         1    -467.685130         28         среднее             1   \n",
       "21516         0    -914.391429         42          высшее             0   \n",
       "21517         0    -404.679034         42          высшее             0   \n",
       "21518         0  373995.710838         59         СРЕДНЕЕ             1   \n",
       "21519         1   -2351.431934         37  ученая степень             4   \n",
       "21520         1   -4529.316663         43         среднее             1   \n",
       "21521         0  343937.404131         67         среднее             1   \n",
       "21522         1   -2113.346888         38         среднее             1   \n",
       "21523         3   -3112.481705         38         среднее             1   \n",
       "21524         2   -1984.507589         40         среднее             1   \n",
       "\n",
       "          family_status  family_status_id gender income_type   debt  \\\n",
       "21515   женат / замужем                 0      F   сотрудник   True   \n",
       "21516   женат / замужем                 0      F   компаньон  False   \n",
       "21517  гражданский брак                 1      F   компаньон  False   \n",
       "21518   женат / замужем                 0      F   пенсионер  False   \n",
       "21519         в разводе                 3      M   сотрудник  False   \n",
       "21520  гражданский брак                 1      F   компаньон  False   \n",
       "21521   женат / замужем                 0      F   пенсионер  False   \n",
       "21522  гражданский брак                 1      M   сотрудник   True   \n",
       "21523   женат / замужем                 0      M   сотрудник   True   \n",
       "21524   женат / замужем                 0      F   сотрудник  False   \n",
       "\n",
       "        total_income                            purpose  \n",
       "21515  109486.327999              заняться образованием  \n",
       "21516  322807.776603               покупка своего жилья  \n",
       "21517  178059.553491       на покупку своего автомобиля  \n",
       "21518  153864.650328               сделка с автомобилем  \n",
       "21519  115949.039788  покупка коммерческой недвижимости  \n",
       "21520  224791.862382                  операции с жильем  \n",
       "21521  155999.806512               сделка с автомобилем  \n",
       "21522   89672.561153                       недвижимость  \n",
       "21523  244093.050500       на покупку своего автомобиля  \n",
       "21524   82047.418899              на покупку автомобиля  "
      ]
     },
     "execution_count": 37,
     "metadata": {},
     "output_type": "execute_result"
    }
   ],
   "source": [
    "# заодно и посмотрим как выглядит таблица \n",
    "data.tail(10)"
   ]
  },
  {
   "cell_type": "markdown",
   "metadata": {},
   "source": [
    "### Вывод"
   ]
  },
  {
   "cell_type": "markdown",
   "metadata": {},
   "source": [
    "Теперь стало понятней, была ли задолженность по возврату кредитов или нет."
   ]
  },
  {
   "cell_type": "markdown",
   "metadata": {},
   "source": [
    "<div style=\"border:solid  green  2px; padding: 20px\"> <h1 style=\"color: green\">Комментарий наставника</h1>\n",
    "\n",
    "Замена произведена верно. Здорово, что метод изменения типа данных освоен. Также хорошо бы освоить метод to_numeric() для будущих работ. "
   ]
  },
  {
   "cell_type": "markdown",
   "metadata": {},
   "source": [
    "### Обработка дубликатов"
   ]
  },
  {
   "cell_type": "code",
   "execution_count": 38,
   "metadata": {},
   "outputs": [
    {
     "name": "stdout",
     "output_type": "stream",
     "text": [
      "Все хорошо, дублированных строк не осталось\n"
     ]
    }
   ],
   "source": [
    "# для начала удалим все явные дубли строк, которые у нас есть. Как мы выяснили у нас таких 54 строки\n",
    "data = data.drop_duplicates().reset_index(drop= True)\n",
    "\n",
    "#ну и проверим \n",
    "if data.duplicated().sum() == 0:\n",
    "    print('Все хорошо, дублированных строк не осталось')\n",
    "else:\n",
    "    print('Шеф, все пропало, все еще есть дублированные строки')\n",
    "   "
   ]
  },
  {
   "cell_type": "code",
   "execution_count": 39,
   "metadata": {},
   "outputs": [
    {
     "data": {
      "text/plain": [
       "array(['высшее', 'среднее', 'Среднее', 'СРЕДНЕЕ', 'ВЫСШЕЕ',\n",
       "       'неоконченное высшее', 'начальное', 'Высшее',\n",
       "       'НЕОКОНЧЕННОЕ ВЫСШЕЕ', 'Неоконченное высшее', 'НАЧАЛЬНОЕ',\n",
       "       'Начальное', 'Ученая степень', 'УЧЕНАЯ СТЕПЕНЬ', 'ученая степень'],\n",
       "      dtype=object)"
      ]
     },
     "execution_count": 39,
     "metadata": {},
     "output_type": "execute_result"
    }
   ],
   "source": [
    "# как мы выяснили ранее, в столбце 'education' встречается различное написание одних и тех же уровней. Вспомним их\n",
    "data['education'].unique()"
   ]
  },
  {
   "cell_type": "code",
   "execution_count": 40,
   "metadata": {},
   "outputs": [
    {
     "data": {
      "text/plain": [
       "array(['высшее', 'среднее', 'неоконченное высшее', 'начальное',\n",
       "       'ученая степень'], dtype=object)"
      ]
     },
     "execution_count": 40,
     "metadata": {},
     "output_type": "execute_result"
    }
   ],
   "source": [
    "# приведем их все к строчной форме написания\n",
    "data['education'] = data['education'].str.lower()\n",
    "\n",
    "# проверим теперь\n",
    "data['education'].unique()"
   ]
  },
  {
   "cell_type": "code",
   "execution_count": 41,
   "metadata": {},
   "outputs": [
    {
     "data": {
      "text/plain": [
       "education_id\n",
       "0                 [высшее]\n",
       "1                [среднее]\n",
       "2    [неоконченное высшее]\n",
       "3              [начальное]\n",
       "4         [ученая степень]\n",
       "Name: education, dtype: object"
      ]
     },
     "execution_count": 41,
     "metadata": {},
     "output_type": "execute_result"
    }
   ],
   "source": [
    "#  и сразу проверим, не сбились ли id уровня образования и не столо ли одному уровню приписываться несколько разных id\n",
    "data.groupby('education_id')['education'].unique()"
   ]
  },
  {
   "cell_type": "markdown",
   "metadata": {},
   "source": [
    "### Вывод"
   ]
  },
  {
   "cell_type": "markdown",
   "metadata": {},
   "source": [
    "Уровни образования теперь приведены к единому виду"
   ]
  },
  {
   "cell_type": "markdown",
   "metadata": {},
   "source": [
    "<div style=\"border:solid  green  2px; padding: 20px\"> <h1 style=\"color: green\">Комментарий наставника</h1>\n",
    "\n",
    "Дубликаты вызывают смещение финальных результатов, поэтому их и надо удалять. Конечно, в данных нет уникального идентификатора, однако надо уметь удалять дубликаты. После заполнения пропусков проверь наличие дубликатов еще раз."
   ]
  },
  {
   "cell_type": "markdown",
   "metadata": {},
   "source": [
    "### Лемматизация"
   ]
  },
  {
   "cell_type": "code",
   "execution_count": 42,
   "metadata": {},
   "outputs": [
    {
     "data": {
      "text/plain": [
       "array(['покупка жилья', 'приобретение автомобиля',\n",
       "       'дополнительное образование', 'сыграть свадьбу',\n",
       "       'операции с жильем', 'образование', 'на проведение свадьбы',\n",
       "       'покупка жилья для семьи', 'покупка недвижимости',\n",
       "       'покупка коммерческой недвижимости', 'покупка жилой недвижимости',\n",
       "       'строительство собственной недвижимости', 'недвижимость',\n",
       "       'строительство недвижимости', 'на покупку подержанного автомобиля',\n",
       "       'на покупку своего автомобиля',\n",
       "       'операции с коммерческой недвижимостью',\n",
       "       'строительство жилой недвижимости', 'жилье',\n",
       "       'операции со своей недвижимостью', 'автомобили',\n",
       "       'заняться образованием', 'сделка с подержанным автомобилем',\n",
       "       'получение образования', 'автомобиль', 'свадьба',\n",
       "       'получение дополнительного образования', 'покупка своего жилья',\n",
       "       'операции с недвижимостью', 'получение высшего образования',\n",
       "       'свой автомобиль', 'сделка с автомобилем',\n",
       "       'профильное образование', 'высшее образование',\n",
       "       'покупка жилья для сдачи', 'на покупку автомобиля', 'ремонт жилью',\n",
       "       'заняться высшим образованием'], dtype=object)"
      ]
     },
     "execution_count": 42,
     "metadata": {},
     "output_type": "execute_result"
    }
   ],
   "source": [
    "# в столбце 'purpose' просто необходимо выделить леммы и провести лемматизацию, потому как в нем одинаковые цели записанны по разному\n",
    "# вспомним как именно\n",
    "data['purpose'].unique()"
   ]
  },
  {
   "cell_type": "code",
   "execution_count": 43,
   "metadata": {},
   "outputs": [
    {
     "data": {
      "text/plain": [
       "Counter({' ': 97,\n",
       "         'покупка': 10,\n",
       "         'жилье': 7,\n",
       "         'приобретение': 1,\n",
       "         'автомобиль': 9,\n",
       "         'дополнительный': 2,\n",
       "         'образование': 9,\n",
       "         'сыграть': 1,\n",
       "         'свадьба': 3,\n",
       "         'операция': 4,\n",
       "         'с': 5,\n",
       "         'на': 4,\n",
       "         'проведение': 1,\n",
       "         'для': 2,\n",
       "         'семья': 1,\n",
       "         'недвижимость': 10,\n",
       "         'коммерческий': 2,\n",
       "         'жилой': 2,\n",
       "         'строительство': 3,\n",
       "         'собственный': 1,\n",
       "         'подержать': 2,\n",
       "         'свой': 4,\n",
       "         'со': 1,\n",
       "         'заниматься': 2,\n",
       "         'сделка': 2,\n",
       "         'получение': 3,\n",
       "         'высокий': 3,\n",
       "         'профильный': 1,\n",
       "         'сдача': 1,\n",
       "         'ремонт': 1,\n",
       "         '\\n': 1})"
      ]
     },
     "execution_count": 43,
     "metadata": {},
     "output_type": "execute_result"
    }
   ],
   "source": [
    "# соберем все уникальные цели в единый текст\n",
    "text = ''\n",
    "for purpose in data['purpose'].unique():\n",
    "    text = text+\" \"+purpose\n",
    "\n",
    "\n",
    "# лемматизируем текст\n",
    "from pymystem3 import Mystem\n",
    "m = Mystem()\n",
    "\n",
    "lemmas = m.lemmatize(text)\n",
    "\n",
    "#посмотрим уникальные леммы и посчитаем их количество\n",
    "from collections import Counter\n",
    "Counter(lemmas)"
   ]
  },
  {
   "cell_type": "markdown",
   "metadata": {},
   "source": [
    "### Вывод"
   ]
  },
  {
   "cell_type": "markdown",
   "metadata": {},
   "source": [
    "Поскольку лемматизация призвана упростить процесс категоризации, то для наглядности, помимо самих лемм покажу какие цели кредита в какие категории я собираюсь определить.\n",
    "\n",
    "    - лемма 'автомобиль'\n",
    "      цели кредита: \n",
    "            -'приобретение автомобиля'\n",
    "            -'на покупку подержанного автомобиля'\n",
    "            -'на покупку своего автомобиля'\n",
    "            -'автомобили' \n",
    "            -'сделка с подержанным автомобилем'\n",
    "            -'автомобиль'\n",
    "            -'свой автомобиль'\n",
    "            -'сделка с автомобилем'\n",
    "            -'на покупку автомобиля' \n",
    "      категория: автомобиль\n",
    "     \n",
    "    \n",
    "    - лемма 'образование'\n",
    "      цели кредита: \n",
    "            -'дополнительное образование' \n",
    "            -'образование' \n",
    "            -'заняться образованием' \n",
    "            -'получение образования' \n",
    "            -'профильное образование'\n",
    "            -'заняться высшим образованием' \n",
    "            -'высшее образование'\n",
    "            -'получение дополнительного образования'\n",
    "            -'получение высшего образования'\n",
    "      категория: образование      \n",
    "            \n",
    "    \n",
    "    - лемма 'свадьба'\n",
    "      цели кредита: \n",
    "            -'сыграть свадьбу' \n",
    "            -'на проведение свадьбы' \n",
    "            -'свадьба'   \n",
    "      категория: свадьба\n",
    "\n",
    "\n",
    "    - леммы 'недвижимость' и 'жилье'\n",
    "      цели кредита:\n",
    "            \n",
    "            -'покупка недвижимости'\n",
    "            -'строительство собственной недвижимости'\n",
    "            -'недвижимость'\n",
    "            -'строительство недвижимости'\n",
    "            -'операции со своей недвижимостью'\n",
    "            -'операции с недвижимостью'\n",
    "            -'строительство жилой недвижимости'\n",
    "            \n",
    "            -'покупка жилья для семьи'\n",
    "            -'жилье'\n",
    "            -'покупка своего жилья'\n",
    "            -'ремонт жилью'\n",
    "            -'покупка жилья'\n",
    "            -'операции с жильем'\n",
    "            -'покупка жилой недвижимости'\n",
    "            \n",
    "            -'покупка коммерческой недвижимости'\n",
    "            -'операции с коммерческой недвижимостью'\n",
    "            -'покупка жилья для сдачи'\n",
    "       категория: недвижимость\n",
    "       \n",
    "       \n",
    "Очевидно, что цели \"покупка коммерческой недвижомсти\" или \"покупка жилья для сдачи\" связанны с ведением бизнеса и их не следует кластеризовать в одной категории с целью \"покупка своего жилья\", хотябы потому, что риски у бизнеса и домохозяйства разные.\n",
    "\n",
    "Но что же тогда делать?! Сразу приходит на ум разделение будующей категории \"недвижимость\" на 3 категории: \n",
    "    -\"недвижимость домохозяйств\"\n",
    "    -\"недвижимость бизнеса\"\n",
    "    -\"недвижимость неопределенного субъекта хозяйственной деятельности\"\n",
    "где последняя категория существует для тех целей, которые однозначно нельзя включить в первую или вторую категорию(например мы не можем сказать кто и для чего берет кредит с целью 'покупка недвижимости' или 'строительство жилой недвижимости', потому как это в равной степени может быть как бизнес, так и домохозяйство). \n",
    "Однако, эта самая последняя категория может достаточно сильно заваливать результаты, в силу того факта, что цели достаточно расплывчаты (например \"покупка недвижимости\": непонятно какую именно недвижимость собираются купить - коммерческую или жилую) и нуждаются в уточнениях (например на основе данных об объектах, который находится в залоге у банка, пока кредит не погашен), после которых, скорее всего, попадут либо в первую, либо во вторую категорию. \n",
    "\n",
    "В силу всего вышесказанного, в рамках учебного проекта, не будем разделять категорию \"недвижимость\" на 3 составляющие и оставим ее как описали ранее.\n",
    "            \n",
    "          \n",
    "            \n",
    "            \n",
    "            "
   ]
  },
  {
   "cell_type": "markdown",
   "metadata": {},
   "source": [
    "<div style=\"border:solid  green  2px; padding: 20px\"> <h1 style=\"color: green\">Комментарий наставника</h1>\n",
    "\n",
    "Все верно, метод lemmatize() использован правильно. Выбор лемм объяснен подробно, молодец. "
   ]
  },
  {
   "cell_type": "markdown",
   "metadata": {},
   "source": [
    "### Категоризация данных"
   ]
  },
  {
   "cell_type": "code",
   "execution_count": 44,
   "metadata": {},
   "outputs": [],
   "source": [
    "# определившись с лемматизацией пришла пора разбить цели кредитов на категории. Для этого напишем функцию, \n",
    "# которая лемматизирует каждый purpise и затем на основе лемм присваивает категорию\n",
    "\n",
    "def group_by_purpose(purpose):\n",
    "    \n",
    "    # в функции нет цикла, потому что функция вызывается через метод .apply(),\n",
    "    # который сам по себе, для каждой строки датасета в цикле вызывает аргумент, т.е. эту самую функицю\n",
    "    \n",
    "    lemma = m.lemmatize(purpose) # тут происходит лемматизация отдельно взятого purpose\n",
    "    \n",
    "    # а далее мы проверяем, есть ли в леммах отдельно взятого purpose интересующая нас категория\n",
    "    \n",
    "    if 'автомобиль' in lemma: \n",
    "        return 'автомобиль'\n",
    "        \n",
    "    if 'образование' in lemma:\n",
    "        return 'образование'\n",
    "        \n",
    "    if 'свадьба' in lemma:\n",
    "        return 'свадьба'\n",
    "\n",
    "    if 'недвижимость' in lemma or 'жилье' in lemma:\n",
    "        return 'недвижимость'\n",
    "        \n",
    "# создадим новый столбец, в котором будет храниться группа целей обращения\n",
    "data['purpose_group'] = data['purpose'].apply(group_by_purpose) \n"
   ]
  },
  {
   "cell_type": "code",
   "execution_count": 45,
   "metadata": {},
   "outputs": [],
   "source": [
    "# поскольку группировки будем делать не только по цели, но и по наличию детей, то сразу напишим функцию, \n",
    "# которая проеряет все ли хорошо проставилось\n",
    "def was_the_grouping_successful(column_name):\n",
    "    if data[column_name].isna().sum() >0:\n",
    "        print('\\nчто-то пошло не так')\n",
    "    else:\n",
    "        print('\\nвсе хорош, всем проставилась своя группа в столбец', column_name)"
   ]
  },
  {
   "cell_type": "code",
   "execution_count": 46,
   "metadata": {},
   "outputs": [
    {
     "name": "stdout",
     "output_type": "stream",
     "text": [
      "\n",
      "все хорош, всем проставилась своя группа в столбец purpose_group\n"
     ]
    }
   ],
   "source": [
    "# посмотрим есть ли в столбце purpose_group незаполненные данные       \n",
    "was_the_grouping_successful('purpose_group') "
   ]
  },
  {
   "cell_type": "code",
   "execution_count": 47,
   "metadata": {},
   "outputs": [
    {
     "name": "stdout",
     "output_type": "stream",
     "text": [
      "\n",
      "все хорош, всем проставилась своя группа в столбец children_group\n"
     ]
    }
   ],
   "source": [
    "# количество детей это конечно хорошо, но хочется иметь возможность сразу видеть есть ли дети или нет, поэтому\n",
    "# напишем функцию, которая возврает ответ на этот вопрос и сохраним ответы в каждой строке датасета в колонке \"children_group\"\n",
    "\n",
    "def group_by_children(children):\n",
    "    \n",
    "    if children !=0:\n",
    "        return 'есть дети'\n",
    "    else:\n",
    "        return 'нет детей'\n",
    "\n",
    "# создадим новый столбец, в котором будет храниться ответ на вопрос, есть ли дети    \n",
    "data['children_group']= data['children'].apply(group_by_children)\n",
    "\n",
    "\n",
    "# посмотрим есть ли в столбце children_group незаполненные данные\n",
    "was_the_grouping_successful('children_group')"
   ]
  },
  {
   "cell_type": "code",
   "execution_count": 48,
   "metadata": {},
   "outputs": [
    {
     "name": "stdout",
     "output_type": "stream",
     "text": [
      "\n",
      "все хорош, всем проставилась своя группа в столбец total_income\n"
     ]
    }
   ],
   "source": [
    "#так же нас интересует доход, который тоже хочется категоризировать. \n",
    "# найдем две границы категорий: верхнюю и нижнию, третей границей будет выступать медиана\n",
    "low_border = data['total_income'].median() - data['total_income'].std()\n",
    "high_border = data['total_income'].median() + data['total_income'].std()\n",
    "\n",
    "\n",
    "def group_by_total_income (total_income):\n",
    "    if total_income <= low_border:\n",
    "        return 'низкий доход'\n",
    "    \n",
    "    if (total_income > low_border) and (total_income <= data['total_income'].median()):\n",
    "        return 'средний доход'\n",
    "    \n",
    "    if (total_income > data['total_income'].median()) and (total_income <= high_border):\n",
    "        return 'доход выше среднего'\n",
    "    \n",
    "    if total_income > high_border:\n",
    "        return 'высокий доход'\n",
    "    \n",
    "# создадим новый столбец, в котором будет храниться категория совокупного дохода каждого клиента   \n",
    "data['total_income_group'] = data['total_income'].apply(group_by_total_income)   \n",
    "\n",
    "# посмотрим есть ли в столбце total_income незаполненные данные\n",
    "was_the_grouping_successful('total_income')"
   ]
  },
  {
   "cell_type": "markdown",
   "metadata": {},
   "source": [
    "<div style=\"border:solid  orange  2px; padding: 20px\"> <h1 style=\"color: orange\">Комментарий наставника</h1>\n",
    "\n",
    "Категоризовать данные по числу детей необязательно. Разбиение есть уже в исходных данных. Все-таки разница в возврате кредита у семей с одним ребенком или тремя детьми будет.\n"
   ]
  },
  {
   "cell_type": "markdown",
   "metadata": {},
   "source": [
    "### Вывод"
   ]
  },
  {
   "cell_type": "markdown",
   "metadata": {},
   "source": [
    "Теперь у нас есть возможность группировать не только по целям кредитов, но и по категории цели, что позволит считать одинаковые цели, которые написаны по разному - как действительно одинаковые."
   ]
  },
  {
   "cell_type": "code",
   "execution_count": 49,
   "metadata": {},
   "outputs": [
    {
     "data": {
      "text/plain": [
       "средний доход          8585\n",
       "доход выше среднего    7777\n",
       "высокий доход          2935\n",
       "низкий доход           2127\n",
       "Name: total_income_group, dtype: int64"
      ]
     },
     "execution_count": 49,
     "metadata": {},
     "output_type": "execute_result"
    }
   ],
   "source": [
    "# поскольку мы заменили NaN в total_income на отрицательные значения, \n",
    "# а не удалили их, то берем только те строки, где total_income не отрицательный\n",
    "data['total_income_group'].value_counts()"
   ]
  },
  {
   "cell_type": "markdown",
   "metadata": {},
   "source": [
    "<div style=\"border:solid  orange  2px; padding: 20px\"> <h1 style=\"color: orange\">Комментарий наставника</h1>\n",
    "\n",
    "Исходя из чего выбран именно такой способ категоризации столбца с доходами? Группа с низким доходом содержит слишком малое число клиентов для построения по ней надежных выводов. Стоит ее объединить с группой выше. Также выбор границ групп стоит обосновать подробнее. "
   ]
  },
  {
   "cell_type": "markdown",
   "metadata": {},
   "source": [
    "<font color=green> Такое разбиение уже лучше.  \n",
    "    \n",
    "---"
   ]
  },
  {
   "cell_type": "markdown",
   "metadata": {},
   "source": [
    "### Шаг 3. Ответьте на вопросы"
   ]
  },
  {
   "cell_type": "markdown",
   "metadata": {},
   "source": [
    "- Есть ли зависимость между наличием детей и возвратом кредита в срок?"
   ]
  },
  {
   "cell_type": "code",
   "execution_count": 50,
   "metadata": {},
   "outputs": [
    {
     "name": "stdout",
     "output_type": "stream",
     "text": [
      "Среди тех, кто не имеет задолженности:\n",
      "children_group\n",
      "есть дети     6640\n",
      "нет детей    13044\n",
      "Name: children_group, dtype: int64\n",
      "\n",
      "Среди тех, кто имеет задолженности:\n",
      "children_group\n",
      "есть дети     677\n",
      "нет детей    1063\n",
      "Name: children_group, dtype: int64\n",
      "\n",
      "Доля должников от всех клиентов в зависимости от наличия детей:\n",
      "children_group\n",
      "есть дети    0.092524\n",
      "нет детей    0.075353\n",
      "Name: children_group, dtype: float64\n"
     ]
    }
   ],
   "source": [
    "\n",
    "\n",
    "children_group_without_debt = data[data['debt'] == False].groupby('children_group')['children_group'].count()\n",
    "children_group_with_debt = data[data['debt'] == True].groupby('children_group')['children_group'].count()\n",
    "\n",
    "\n",
    "print ('Среди тех, кто не имеет задолженности:')\n",
    "print(children_group_without_debt, end='\\n')\n",
    "\n",
    "print ('\\nСреди тех, кто имеет задолженности:')\n",
    "print(children_group_with_debt, end='\\n')\n",
    "\n",
    "print ('\\nДоля должников от всех клиентов в зависимости от наличия детей:')\n",
    "print(children_group_with_debt/(children_group_without_debt+children_group_with_debt), end='\\n')\n"
   ]
  },
  {
   "cell_type": "markdown",
   "metadata": {},
   "source": [
    "### Вывод"
   ]
  },
  {
   "cell_type": "markdown",
   "metadata": {},
   "source": [
    "Зависимости между наличием детей и возвратом кредита в срок - есть. Наличие детей почти на 2% уменьшает шансы на возврат кредита в срок  по сравнению с бездетными заемщиками."
   ]
  },
  {
   "cell_type": "markdown",
   "metadata": {},
   "source": [
    "<div style=\"border:solid  red  2px; padding: 20px\"> <h1 style=\"color: red\">Комментарий наставника</h1>\n",
    "\n",
    "А если групп будет 50? Для каждой руками все не расписать. Используй методы группировки для получения результатов. "
   ]
  },
  {
   "cell_type": "markdown",
   "metadata": {},
   "source": [
    "- Есть ли зависимость между семейным положением и возвратом кредита в срок?"
   ]
  },
  {
   "cell_type": "code",
   "execution_count": 51,
   "metadata": {},
   "outputs": [
    {
     "name": "stdout",
     "output_type": "stream",
     "text": [
      "Среди тех, кто не имеет задолженности:\n",
      "family_status\n",
      "Не женат / не замужем     2531\n",
      "в разводе                 1106\n",
      "вдовец / вдова             892\n",
      "гражданский брак          3770\n",
      "женат / замужем          11385\n",
      "Name: family_status_id, dtype: int64\n",
      "\n",
      "Среди тех, кто имеет задолженности:\n",
      "family_status\n",
      "Не женат / не замужем    274\n",
      "в разводе                 85\n",
      "вдовец / вдова            63\n",
      "гражданский брак         388\n",
      "женат / замужем          930\n",
      "Name: family_status_id, dtype: int64\n",
      "\n",
      "Доля должников от всех клиентов в зависимости от семейного положения:\n",
      "family_status\n",
      "Не женат / не замужем    0.097683\n",
      "в разводе                0.071369\n",
      "вдовец / вдова           0.065969\n",
      "гражданский брак         0.093314\n",
      "женат / замужем          0.075518\n",
      "Name: family_status_id, dtype: float64\n"
     ]
    }
   ],
   "source": [
    "# вспомним id семейных статусов\n",
    "data.groupby('family_status')['family_status_id'].unique().sort_values(ascending=True)\n",
    "\n",
    "family_status_without_debt = data[data['debt'] == False].groupby('family_status')['family_status_id'].count()\n",
    "family_status_with_debt = data[data['debt'] == True].groupby('family_status')['family_status_id'].count()\n",
    "\n",
    "\n",
    "print ('Среди тех, кто не имеет задолженности:')\n",
    "print(family_status_without_debt, end='\\n')\n",
    "\n",
    "print ('\\nСреди тех, кто имеет задолженности:')\n",
    "print(family_status_with_debt, end='\\n')\n",
    "\n",
    "print ('\\nДоля должников от всех клиентов в зависимости от семейного положения:')\n",
    "print(family_status_with_debt / (family_status_without_debt + family_status_with_debt) )"
   ]
  },
  {
   "cell_type": "markdown",
   "metadata": {},
   "source": [
    "### Вывод"
   ]
  },
  {
   "cell_type": "markdown",
   "metadata": {},
   "source": [
    "Процент клиентов, которые имели задолженности действительно разниться в зависимости от семейного положения. Однако тут можно попытаться капать глубже и посмотреть, возможно это лишь вершина айсберга, а правда скрывается где-то во взаимосвязях возраста и семейного статуса."
   ]
  },
  {
   "cell_type": "markdown",
   "metadata": {},
   "source": [
    "<div style=\"border:solid  green  2px; padding: 20px\"> <h1 style=\"color: green\">Комментарий наставника</h1>\n",
    "\n",
    "Да, так уже лучше. Вывод не противоречит полученному результату. "
   ]
  },
  {
   "cell_type": "markdown",
   "metadata": {},
   "source": [
    "\n",
    "- Есть ли зависимость между уровнем дохода и возвратом кредита в срок?"
   ]
  },
  {
   "cell_type": "code",
   "execution_count": 52,
   "metadata": {},
   "outputs": [
    {
     "data": {
      "text/html": [
       "<div>\n",
       "<style scoped>\n",
       "    .dataframe tbody tr th:only-of-type {\n",
       "        vertical-align: middle;\n",
       "    }\n",
       "\n",
       "    .dataframe tbody tr th {\n",
       "        vertical-align: top;\n",
       "    }\n",
       "\n",
       "    .dataframe thead th {\n",
       "        text-align: right;\n",
       "    }\n",
       "</style>\n",
       "<table border=\"1\" class=\"dataframe\">\n",
       "  <thead>\n",
       "    <tr style=\"text-align: right;\">\n",
       "      <th>debt</th>\n",
       "      <th>False</th>\n",
       "      <th>True</th>\n",
       "      <th>% должников от всех</th>\n",
       "    </tr>\n",
       "    <tr>\n",
       "      <th>total_income_group</th>\n",
       "      <th></th>\n",
       "      <th></th>\n",
       "      <th></th>\n",
       "    </tr>\n",
       "  </thead>\n",
       "  <tbody>\n",
       "    <tr>\n",
       "      <td>высокий доход</td>\n",
       "      <td>2734</td>\n",
       "      <td>201</td>\n",
       "      <td>6.85%</td>\n",
       "    </tr>\n",
       "    <tr>\n",
       "      <td>доход выше среднего</td>\n",
       "      <td>7112</td>\n",
       "      <td>665</td>\n",
       "      <td>8.55%</td>\n",
       "    </tr>\n",
       "    <tr>\n",
       "      <td>низкий доход</td>\n",
       "      <td>9</td>\n",
       "      <td>1</td>\n",
       "      <td>10.00%</td>\n",
       "    </tr>\n",
       "    <tr>\n",
       "      <td>средний доход</td>\n",
       "      <td>7882</td>\n",
       "      <td>703</td>\n",
       "      <td>8.19%</td>\n",
       "    </tr>\n",
       "  </tbody>\n",
       "</table>\n",
       "</div>"
      ],
      "text/plain": [
       "debt                 False  True % должников от всех\n",
       "total_income_group                                  \n",
       "высокий доход         2734   201               6.85%\n",
       "доход выше среднего   7112   665               8.55%\n",
       "низкий доход             9     1              10.00%\n",
       "средний доход         7882   703               8.19%"
      ]
     },
     "execution_count": 52,
     "metadata": {},
     "output_type": "execute_result"
    }
   ],
   "source": [
    "# поскольку мы заменили NaN в total_income на отрицательные значения, \n",
    "# а не удалили их, то берем только те строки, где total_income не отрицательный\n",
    "\n",
    "pivot_total_income_group_debt = data.pivot_table(index=[data[data['total_income']>=0]['total_income_group']], \n",
    "                                                 columns = 'debt', values = 'total_income', aggfunc = 'count' )\n",
    "\n",
    "# Доля должников от всех клиентов в зависимости от уровня дохода\n",
    "\n",
    "pivot_total_income_group_debt['% должников от всех'] = pivot_total_income_group_debt[True]/(\n",
    "                                                    (pivot_total_income_group_debt[True]+\n",
    "                                                      pivot_total_income_group_debt[False] ))\n",
    "\n",
    "# напишим функцию, которая приводит значения к процентам\n",
    "\n",
    "def to_per_cent(value):\n",
    "    return '{: .2%}'.format(value)\n",
    "\n",
    "\n",
    "# форматируем столбец в проценты\n",
    "pivot_total_income_group_debt['% должников от всех']= pivot_total_income_group_debt['% должников от всех'].apply(to_per_cent)\n",
    "\n",
    "pivot_total_income_group_debt\n"
   ]
  },
  {
   "cell_type": "code",
   "execution_count": 53,
   "metadata": {},
   "outputs": [
    {
     "data": {
      "text/plain": [
       "0.08190808609656777"
      ]
     },
     "execution_count": 53,
     "metadata": {},
     "output_type": "execute_result"
    }
   ],
   "source": [
    "# вроде бы клиенты с высоким доходом возвращают без просрочек чаще, но вот клиентов с низким доходом безнадежно мало, выборка\n",
    "# по ним не репрезентативна, поэтому объеденим их с группой клиентов со средним доходом и высчитаем процент должников от всех клиентов\n",
    "# в зависимости от уровня дохода\n",
    "\n",
    "(pivot_total_income_group_debt[True]['низкий доход']+pivot_total_income_group_debt[True]['средний доход'])/(\n",
    "(pivot_total_income_group_debt[True]['низкий доход']+pivot_total_income_group_debt[True]['средний доход'])+\n",
    "(pivot_total_income_group_debt[False]['низкий доход']+pivot_total_income_group_debt[False]['средний доход'])\n",
    ")\n",
    "\n"
   ]
  },
  {
   "cell_type": "markdown",
   "metadata": {},
   "source": [
    "### Вывод"
   ]
  },
  {
   "cell_type": "markdown",
   "metadata": {},
   "source": [
    "Между уровнем дохода и возвратом кредита в срок есть зависимость. Причем чаще в срок возвращают люди с высоким, либо со средним уровнем дохода, в то время как клиенты с уровнем дохода выше среднего, без просрочек возвращают реже."
   ]
  },
  {
   "cell_type": "markdown",
   "metadata": {},
   "source": [
    "<div style=\"border:solid  orange  2px; padding: 20px\"> <h1 style=\"color: orange\">Комментарий наставника</h1>\n",
    "\n",
    "Стоит объединить три таблицы в одну главную. Это можно сделать с помощью метода agg(), который стоит применить после метода группировки. \n"
   ]
  },
  {
   "cell_type": "markdown",
   "metadata": {},
   "source": [
    "- Как разные цели кредита влияют на его возврат в срок?"
   ]
  },
  {
   "cell_type": "code",
   "execution_count": 56,
   "metadata": {},
   "outputs": [
    {
     "name": "stdout",
     "output_type": "stream",
     "text": [
      "debt           False  True % должников от всех\n",
      "purpose_group                                 \n",
      "автомобиль      3895   402               9.36%\n",
      "недвижимость   10008   782               7.25%\n",
      "образование     3634   370               9.24%\n",
      "свадьба         2147   186               7.97%\n",
      "Вероятность возврата кредита без просрочки лучшей группой клиентов: 97.67%\n",
      "Вероятность возврата кредита без просрочки худшей группой клиентов: 78.82%\n"
     ]
    }
   ],
   "source": [
    "# посчитаем количество должников по кредитам и тех, кто закрыл кредиты без просрочек по группам целей\n",
    "\n",
    "pivot_debt_and_purpose_group = data.pivot_table(index = ['purpose_group'], columns = 'debt', \n",
    "                                                values = 'purpose', aggfunc = 'count')\n",
    "\n",
    "\n",
    "\n",
    "# посчитаем провент должников от всех входящих в группу целей\n",
    "pivot_debt_and_purpose_group['% должников от всех'] = pivot_debt_and_purpose_group[True] / (\n",
    "    pivot_debt_and_purpose_group[True]+pivot_debt_and_purpose_group[False])\n",
    "\n",
    "\n",
    "\n",
    "# форматируем столбец в проценты\n",
    "\n",
    "pivot_debt_and_purpose_group['% должников от всех'] = pivot_debt_and_purpose_group['% должников от всех'].apply(to_per_cent)\n",
    "\n",
    "print(pivot_debt_and_purpose_group)\n",
    "\n",
    "\n",
    "# посмотрим идельного заемщика. Спойлер: 1 просрочка на 43 клиентов.\n",
    "\n",
    "ideal_client_probability_of_return_without_debt=1 - data[(data['debt']==True)&\n",
    "    (data['family_status'] == 'вдовец / вдова') & \n",
    "     (data['children_group'] == 'нет детей') & \n",
    "     ((data['total_income_group'] == 'высокий доход'))&\n",
    "     (data['purpose_group'] == 'недвижимость')]['debt'].count() / (\n",
    "\n",
    "    data[(data['family_status'] == 'вдовец / вдова') & \n",
    "     (data['children_group'] == 'нет детей') & \n",
    "     ((data['total_income_group'] == 'высокий доход'))&\n",
    "     (data['purpose_group'] == 'недвижимость')]['debt'].count()\n",
    ")\n",
    "\n",
    "#посмотрим худшего заемщика. Спойлер: 18 просрочек на 85 клиентов. \n",
    "worse_client_probability_of_return_without_debt = 1 - (data[(data['debt']==True)&\n",
    "    (data['family_status'] == 'Не женат / не замужем') & \n",
    "     (data['children_group'] == 'есть дети') & \n",
    "     ((data['total_income_group'] == 'доход выше среднего')|(data['total_income_group'] == 'средний доход '))&\n",
    "     ((data['purpose_group'] == 'образование')|(data['purpose_group'] == 'автомобиль'))\n",
    "   ]['debt'].count())/(data[\n",
    "    (data['family_status'] == 'Не женат / не замужем') & \n",
    "     (data['children_group'] == 'есть дети') & \n",
    "     ((data['total_income_group'] == 'доход выше среднего')|(data['total_income_group'] == 'средний доход '))&\n",
    "     ((data['purpose_group'] == 'образование')|(data['purpose_group'] == 'автомобиль'))\n",
    "   ]['debt'].count()\n",
    "\n",
    ")\n",
    "\n",
    "\n",
    "\n",
    "print('Вероятность возврата кредита без просрочки лучшей группой клиентов:{: .2%}'.format(ideal_client_probability_of_return_without_debt))\n",
    "print('Вероятность возврата кредита без просрочки худшей группой клиентов:{: .2%}'.format(worse_client_probability_of_return_without_debt))\n",
    "     "
   ]
  },
  {
   "cell_type": "markdown",
   "metadata": {},
   "source": [
    "### Вывод"
   ]
  },
  {
   "cell_type": "markdown",
   "metadata": {},
   "source": [
    "При кредите на автомобиль или образование количество возвратов без просрочек ниже, чем при кредитах на недвижимость или свадьбу."
   ]
  },
  {
   "cell_type": "markdown",
   "metadata": {},
   "source": [
    "<div style=\"border:solid  red  2px; padding: 20px\"> <h1 style=\"color: red\">Комментарий наставника</h1>\n",
    "\n",
    "На данном шаге рекомендуется использовать метод сводных таблиц (pivot_table()). Однако он является аналогом метода groupby(). Изучи метод сводных таблиц и примени его хотя бы в одном пункте анализа.\n",
    "\n",
    "Выводы верные по всем пунктам. \n",
    "    \n",
    "    \n",
    "    \n",
    "**применил в пункет  где отвечаю на вопрос \"Как разные цели кредита влияют на его возврат в срок\"**"
   ]
  },
  {
   "cell_type": "markdown",
   "metadata": {},
   "source": [
    "<font color=green> Хорошо, что метод освоен. Он пригодится в дальнейших проектах. \n",
    "    \n",
    "---"
   ]
  },
  {
   "cell_type": "markdown",
   "metadata": {},
   "source": [
    "### Шаг 4. Общий вывод"
   ]
  },
  {
   "cell_type": "markdown",
   "metadata": {},
   "source": [
    "Если наше желание - выдавать кредиты так, чтоб их закрывали без просрочек, то нам следует сконцентрироваться на вдовах и вдовцах, неимеющих детей, с высоким уровнем дохода, которые берут кредит на недвижимость. И тогда с вероятностью 97.67% кредит будет возвращен без просрочек. А вот всячески избегать нам следует не женатых или не замужних клиентов с детьми и средним уровнем дохода, которые берут авто или оброзовательный кредит, иначе с вероятностью 21.18% просрочек не избежать. "
   ]
  },
  {
   "cell_type": "markdown",
   "metadata": {},
   "source": [
    "<div style=\"border:solid  green  2px; padding: 20px\"> <h1 style=\"color: green\">Комментарий наставника</h1>\n",
    "\n",
    "Выводы описаны грамотно. Приведены ответы на главные вопросы проекта. В выводах можно приводить полученные ранее значения, верно. Также можно расписать все, что было сделано в ходе проведения работы. \n"
   ]
  },
  {
   "cell_type": "markdown",
   "metadata": {},
   "source": [
    "<font color=red> Исправь обработку пропусков. Они содержатся не только у предпринимателей. Жду твою работу :)\n",
    "    \n",
    "---"
   ]
  },
  {
   "cell_type": "markdown",
   "metadata": {},
   "source": [
    "<font color=blue> Исправил обработку пропусков. Все пропуски забил -1 (предварительно проверив, что в доходе нет отрицательных чисел, в той же функции в которой я ищу артефакты в столбце total_income) потому что:\n",
    "- данные стоят денег и удалять их не есть хорошая идея, total_income нужен для ответа на 1 вопрос, для ответа на остальные же вопросы хотелось бы иметь как можно больше данных\n",
    "- зануление данных, использование среднего значения или медианы может испортить исходное распределение и \"плохо влияет на качество работы ML- алгоритмов\" \n",
    "    \n",
    "Поскольку в прошлой итерации я заполнял данные нулями, а сейчас -1, то при ответе на вопрос о взаимосвязи дохода и просрочки тоже внес изменения и при подсчете статистики брал только те строки, где total_income не отрицательный.\n",
    "    \n",
    "---"
   ]
  },
  {
   "cell_type": "markdown",
   "metadata": {},
   "source": [
    "<div style=\"border:solid  orange  2px; padding: 20px\"> <h1 style=\"color: orange\">Комментарий наставника</h1>\n",
    "\n",
    "- В начале работы следует описывать данные, с которыми работаешь;\n",
    "- Используй альтернативный способ обработки пропусков;\n",
    "- Изучи метод сводных таблиц и примени его в анализе.\n",
    "\n",
    "Ты проделал большую работу, молодец! Исправь отмеченные тут замечания, и получится очень достойная работа :)"
   ]
  },
  {
   "cell_type": "markdown",
   "metadata": {},
   "source": [
    "### Чек-лист готовности проекта\n",
    "\n",
    "Поставьте 'x' в выполненных пунктах. Далее нажмите Shift+Enter."
   ]
  },
  {
   "cell_type": "markdown",
   "metadata": {},
   "source": [
    "- [x]  открыт файл;\n",
    "- [x]  файл изучен;\n",
    "- [x]  определены пропущенные значения;\n",
    "- [x]  заполнены пропущенные значения;\n",
    "- [x]  есть пояснение, какие пропущенные значения обнаружены;\n",
    "- [x]  описаны возможные причины появления пропусков в данных;\n",
    "- [x]  объяснено, по какому принципу заполнены пропуски;\n",
    "- [x]  заменен вещественный тип данных на целочисленный;\n",
    "- [x]  есть пояснение, какой метод используется для изменения типа данных и почему;\n",
    "- [x]  удалены дубликаты;\n",
    "- [x]  есть пояснение, какой метод используется для поиска и удаления дубликатов;\n",
    "- [x]  описаны возможные причины появления дубликатов в данных;\n",
    "- [x]  выделены леммы в значениях столбца с целями получения кредита;\n",
    "- [x]  описан процесс лемматизации;\n",
    "- [x]  данные категоризированы;\n",
    "- [x]  есть объяснение принципа категоризации данных;\n",
    "- [x]  есть ответ на вопрос: \"Есть ли зависимость между наличием детей и возвратом кредита в срок?\";\n",
    "- [x]  есть ответ на вопрос: \"Есть ли зависимость между семейным положением и возвратом кредита в срок?\";\n",
    "- [x]  есть ответ на вопрос: \"Есть ли зависимость между уровнем дохода и возвратом кредита в срок?\";\n",
    "- [x]  есть ответ на вопрос: \"Как разные цели кредита влияют на его возврат в срок?\";\n",
    "- [x]  в каждом этапе есть выводы;\n",
    "- [x]  есть общий вывод."
   ]
  }
 ],
 "metadata": {
  "celltoolbar": "Raw Cell Format",
  "kernelspec": {
   "display_name": "Python 3",
   "language": "python",
   "name": "python3"
  },
  "language_info": {
   "codemirror_mode": {
    "name": "ipython",
    "version": 3
   },
   "file_extension": ".py",
   "mimetype": "text/x-python",
   "name": "python",
   "nbconvert_exporter": "python",
   "pygments_lexer": "ipython3",
   "version": "3.7.6"
  }
 },
 "nbformat": 4,
 "nbformat_minor": 2
}
