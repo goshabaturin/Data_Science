{
 "cells": [
  {
   "cell_type": "markdown",
   "metadata": {},
   "source": [
    "Просто ради интереса, попробую различные методы кластеризации на тех данных, что использовал для нейронной сети, которая решает задачу классификации"
   ]
  },
  {
   "cell_type": "code",
   "execution_count": 11,
   "metadata": {},
   "outputs": [],
   "source": [
    "# ну конечно подключим pandas\n",
    "import pandas as pd\n",
    "\n",
    "# display() для удобства\n",
    "from IPython.display import display\n",
    "\n",
    "# есть категориальные данные - нужно будет кодировать\n",
    "from sklearn.preprocessing import OrdinalEncoder\n",
    "\n",
    "from sklearn.cluster import KMeans\n",
    "\n",
    "# что забыли? Правильно, метод для разделения выборки на тренировочную и валидационную\n",
    "from sklearn.model_selection import train_test_split\n",
    "\n",
    "# ну и на всякий случай для перемешивания при up/down-сэмплинге\n",
    "from sklearn.utils import shuffle\n",
    "\n",
    "\n",
    "import matplotlib.pyplot as plt\n",
    "import random"
   ]
  },
  {
   "cell_type": "code",
   "execution_count": 4,
   "metadata": {},
   "outputs": [],
   "source": [
    "df = pd.read_csv('../drug classification/drug200.csv')"
   ]
  },
  {
   "cell_type": "code",
   "execution_count": 5,
   "metadata": {},
   "outputs": [
    {
     "data": {
      "text/html": [
       "<div>\n",
       "<style scoped>\n",
       "    .dataframe tbody tr th:only-of-type {\n",
       "        vertical-align: middle;\n",
       "    }\n",
       "\n",
       "    .dataframe tbody tr th {\n",
       "        vertical-align: top;\n",
       "    }\n",
       "\n",
       "    .dataframe thead th {\n",
       "        text-align: right;\n",
       "    }\n",
       "</style>\n",
       "<table border=\"1\" class=\"dataframe\">\n",
       "  <thead>\n",
       "    <tr style=\"text-align: right;\">\n",
       "      <th></th>\n",
       "      <th>Age</th>\n",
       "      <th>Sex</th>\n",
       "      <th>BP</th>\n",
       "      <th>Cholesterol</th>\n",
       "      <th>Na_to_K</th>\n",
       "      <th>Drug</th>\n",
       "    </tr>\n",
       "  </thead>\n",
       "  <tbody>\n",
       "    <tr>\n",
       "      <th>0</th>\n",
       "      <td>23</td>\n",
       "      <td>F</td>\n",
       "      <td>HIGH</td>\n",
       "      <td>HIGH</td>\n",
       "      <td>25.355</td>\n",
       "      <td>DrugY</td>\n",
       "    </tr>\n",
       "    <tr>\n",
       "      <th>1</th>\n",
       "      <td>47</td>\n",
       "      <td>M</td>\n",
       "      <td>LOW</td>\n",
       "      <td>HIGH</td>\n",
       "      <td>13.093</td>\n",
       "      <td>drugC</td>\n",
       "    </tr>\n",
       "    <tr>\n",
       "      <th>2</th>\n",
       "      <td>47</td>\n",
       "      <td>M</td>\n",
       "      <td>LOW</td>\n",
       "      <td>HIGH</td>\n",
       "      <td>10.114</td>\n",
       "      <td>drugC</td>\n",
       "    </tr>\n",
       "    <tr>\n",
       "      <th>3</th>\n",
       "      <td>28</td>\n",
       "      <td>F</td>\n",
       "      <td>NORMAL</td>\n",
       "      <td>HIGH</td>\n",
       "      <td>7.798</td>\n",
       "      <td>drugX</td>\n",
       "    </tr>\n",
       "    <tr>\n",
       "      <th>4</th>\n",
       "      <td>61</td>\n",
       "      <td>F</td>\n",
       "      <td>LOW</td>\n",
       "      <td>HIGH</td>\n",
       "      <td>18.043</td>\n",
       "      <td>DrugY</td>\n",
       "    </tr>\n",
       "  </tbody>\n",
       "</table>\n",
       "</div>"
      ],
      "text/plain": [
       "   Age Sex      BP Cholesterol  Na_to_K   Drug\n",
       "0   23   F    HIGH        HIGH   25.355  DrugY\n",
       "1   47   M     LOW        HIGH   13.093  drugC\n",
       "2   47   M     LOW        HIGH   10.114  drugC\n",
       "3   28   F  NORMAL        HIGH    7.798  drugX\n",
       "4   61   F     LOW        HIGH   18.043  DrugY"
      ]
     },
     "execution_count": 5,
     "metadata": {},
     "output_type": "execute_result"
    }
   ],
   "source": [
    "df.head()"
   ]
  },
  {
   "cell_type": "markdown",
   "metadata": {},
   "source": [
    "Уже точно известно (см. откуда я беру данные), что с данными все нормально (за исключением того, что присутствует явный дисбаланс классов), поэтому проверять их снова не будем.\n",
    "Поскольку у нас есть текстовые данные и данные уже классифицированы, то нам нужно убрать столбец классификации и закодировать текстовые данные методом OHE."
   ]
  },
  {
   "cell_type": "code",
   "execution_count": 26,
   "metadata": {},
   "outputs": [
    {
     "data": {
      "text/html": [
       "<div>\n",
       "<style scoped>\n",
       "    .dataframe tbody tr th:only-of-type {\n",
       "        vertical-align: middle;\n",
       "    }\n",
       "\n",
       "    .dataframe tbody tr th {\n",
       "        vertical-align: top;\n",
       "    }\n",
       "\n",
       "    .dataframe thead th {\n",
       "        text-align: right;\n",
       "    }\n",
       "</style>\n",
       "<table border=\"1\" class=\"dataframe\">\n",
       "  <thead>\n",
       "    <tr style=\"text-align: right;\">\n",
       "      <th></th>\n",
       "      <th>Age</th>\n",
       "      <th>Sex</th>\n",
       "      <th>BP</th>\n",
       "      <th>Cholesterol</th>\n",
       "      <th>Na_to_K</th>\n",
       "    </tr>\n",
       "  </thead>\n",
       "  <tbody>\n",
       "    <tr>\n",
       "      <th>0</th>\n",
       "      <td>23</td>\n",
       "      <td>0.0</td>\n",
       "      <td>0.0</td>\n",
       "      <td>0.0</td>\n",
       "      <td>25.355</td>\n",
       "    </tr>\n",
       "    <tr>\n",
       "      <th>1</th>\n",
       "      <td>47</td>\n",
       "      <td>1.0</td>\n",
       "      <td>1.0</td>\n",
       "      <td>0.0</td>\n",
       "      <td>13.093</td>\n",
       "    </tr>\n",
       "    <tr>\n",
       "      <th>2</th>\n",
       "      <td>47</td>\n",
       "      <td>1.0</td>\n",
       "      <td>1.0</td>\n",
       "      <td>0.0</td>\n",
       "      <td>10.114</td>\n",
       "    </tr>\n",
       "    <tr>\n",
       "      <th>3</th>\n",
       "      <td>28</td>\n",
       "      <td>0.0</td>\n",
       "      <td>2.0</td>\n",
       "      <td>0.0</td>\n",
       "      <td>7.798</td>\n",
       "    </tr>\n",
       "    <tr>\n",
       "      <th>4</th>\n",
       "      <td>61</td>\n",
       "      <td>0.0</td>\n",
       "      <td>1.0</td>\n",
       "      <td>0.0</td>\n",
       "      <td>18.043</td>\n",
       "    </tr>\n",
       "  </tbody>\n",
       "</table>\n",
       "</div>"
      ],
      "text/plain": [
       "   Age  Sex   BP  Cholesterol  Na_to_K\n",
       "0   23  0.0  0.0          0.0   25.355\n",
       "1   47  1.0  1.0          0.0   13.093\n",
       "2   47  1.0  1.0          0.0   10.114\n",
       "3   28  0.0  2.0          0.0    7.798\n",
       "4   61  0.0  1.0          0.0   18.043"
      ]
     },
     "metadata": {},
     "output_type": "display_data"
    },
    {
     "data": {
      "text/plain": [
       "195    3.0\n",
       "196    3.0\n",
       "197    4.0\n",
       "198    4.0\n",
       "199    4.0\n",
       "Name: Drug, dtype: float64"
      ]
     },
     "metadata": {},
     "output_type": "display_data"
    }
   ],
   "source": [
    "columns_for_encoding = []\n",
    "for i in range(0,df.shape[1]):\n",
    "    if (df[df.columns[i]].dtype == 'object'):\n",
    "        columns_for_encoding.append(df.columns[i])\n",
    "        \n",
    "encoder = OrdinalEncoder()\n",
    "\n",
    "df_OHE = df.copy()\n",
    "\n",
    "df_OHE[columns_for_encoding] = pd.DataFrame(encoder.fit_transform(df[columns_for_encoding]), columns=columns_for_encoding)\n",
    "\n",
    "\n",
    "\n",
    "\n",
    "features = df_OHE.drop('Drug', axis=1)\n",
    "target = df_OHE['Drug']\n",
    "\n",
    "display(features.head())\n",
    "display(target.tail())"
   ]
  },
  {
   "cell_type": "markdown",
   "metadata": {},
   "source": [
    "Отлично. Данные готовы. Попробуем разные методы кластеризации."
   ]
  },
  {
   "cell_type": "markdown",
   "metadata": {},
   "source": [
    "### Метод KNN"
   ]
  },
  {
   "cell_type": "markdown",
   "metadata": {},
   "source": [
    "Разобъем данные на тестовые и валидационные и попробуем."
   ]
  },
  {
   "cell_type": "code",
   "execution_count": 54,
   "metadata": {},
   "outputs": [],
   "source": [
    "features_train, features_valid, target_train, target_valid = train_test_split(features, target, test_size=0.2, random_state=12345)\n",
    "\n",
    "model = KMeans(n_clusters=5)\n",
    "\n",
    "model.fit(features_train)\n",
    "\n",
    "predicted_label = model.predict(features_valid)\n",
    "\n"
   ]
  },
  {
   "cell_type": "markdown",
   "metadata": {},
   "source": [
    "Ну и посмотрим на результаты. Поскольку будем перебирать разные варианты кластеризации, то напишем сразу функцию."
   ]
  },
  {
   "cell_type": "code",
   "execution_count": 90,
   "metadata": {},
   "outputs": [
    {
     "data": {
      "image/png": "[encoded data removed]",
      "text/plain": [
       "<Figure size 432x288 with 2 Axes>"
      ]
     },
     "metadata": {
      "needs_background": "light"
     },
     "output_type": "display_data"
    },
    {
     "data": {
      "image/png": "[encoded data removed]",
      "text/plain": [
       "<Figure size 1332x756 with 1 Axes>"
      ]
     },
     "metadata": {
      "needs_background": "light"
     },
     "output_type": "display_data"
    }
   ],
   "source": [
    "\n",
    "def plotting(x1,x2,y1,y2):\n",
    "    fig, (ax1, ax2) = plt.subplots(1, 2, sharey=True)\n",
    "\n",
    "    color1 = 'blue'\n",
    "    area = 160  \n",
    "    ax1.scatter(x1, y1, s=area, c=color1, alpha=0.5)\n",
    "    ax1.set_title('Предсказание')\n",
    "    ax1.set_xlabel('порядковый номер в векторе')\n",
    "    ax1.set_ylabel('предсказанный кластер')\n",
    "\n",
    "    color2 = 'black'\n",
    "    ax2.scatter(x2, y2, s=area, c=color2, alpha=0.5)\n",
    "    ax2.set_title('Факт')\n",
    "    ax2.set_xlabel('порядковый номер в векторе')\n",
    "    ax2.set_ylabel('фактический кластер')\n",
    "\n",
    "\n",
    "    plt.show()\n",
    "\n",
    "\n",
    "    fig = plt.figure()\n",
    "    fig.set_size_inches(18.5, 10.5)\n",
    "    ax3 = fig.add_subplot(111)\n",
    "    ax3.scatter(x1, y1, s=area, c=color1, marker=\"s\", label='Предсказание', alpha=0.5)\n",
    "    ax3.scatter(x2,y2, s=area, c=color2, marker=\"o\", label='Факт', alpha=0.5)\n",
    "    ax1.set_title('Предсказание')\n",
    "    ax3.set_xlabel('порядковый номер в векторе')\n",
    "    ax3.set_ylabel('кластер')\n",
    "    plt.legend(loc='best');\n",
    "    plt.show()\n",
    "\n",
    "\n",
    "\n",
    "plotting(\n",
    "        x1 = range(0, len(predicted_label),1),\n",
    "        y1 = predicted_label,\n",
    "        x2 = range(0, len(target_valid),1),\n",
    "        y2 = target_valid\n",
    "    )"
   ]
  },
  {
   "cell_type": "markdown",
   "metadata": {},
   "source": [
    "Не то чтобы очень хорошо справился. Зато быстро."
   ]
  },
  {
   "cell_type": "markdown",
   "metadata": {},
   "source": [
    "### Иерархическая кластеризация"
   ]
  },
  {
   "cell_type": "code",
   "execution_count": 137,
   "metadata": {},
   "outputs": [
    {
     "data": {
      "image/png": "[encoded data removed]",
      "text/plain": [
       "<Figure size 2160x720 with 1 Axes>"
      ]
     },
     "metadata": {
      "needs_background": "light"
     },
     "output_type": "display_data"
    },
    {
     "data": {
      "text/plain": [
       "<Figure size 1440x1440 with 0 Axes>"
      ]
     },
     "metadata": {},
     "output_type": "display_data"
    }
   ],
   "source": [
    "from scipy.cluster.hierarchy import linkage, dendrogram\n",
    "\n",
    "\n",
    "varieties = range(0, len(predicted_label),1)\n",
    "\n",
    "# Извлекаем измерения как массив NumPy\n",
    "samples = features_valid.values\n",
    "\n",
    "# Реализация иерархической кластеризации при помощи функции linkage\n",
    "# method=’single’  - KNN\n",
    "# method=’complete’ - Алгоритм Voor Hees\n",
    "# method='ward' - Метод минимальной дисперсии Уорда\n",
    "# method='centroid' - Unweighted Pair Group Method with Centroid average\n",
    "# method='average' - Агломерационной иерархическая кластеризация UPGMA\n",
    "# method='weighted'- Агломерационная иерархическая кластеризация Сокала и Михенеру\n",
    "# method='median' - WPGMC \n",
    "\n",
    "mergings = linkage(samples, method='median' )\n",
    "\n",
    "# Строим дендрограмму, указав параметры удобные для отображения\n",
    "dendrogram(mergings,\n",
    "           labels=varieties,\n",
    "           leaf_rotation=90,\n",
    "           leaf_font_size=20,\n",
    "           )\n",
    "\n",
    "plt.xlabel('Порядковый номер в векторе', fontsize=30)\n",
    "\n",
    "plt.figure(figsize=(20,20))\n",
    "plt.show()"
   ]
  },
  {
   "cell_type": "markdown",
   "metadata": {},
   "source": [
    "Нуууу... по крайней мере мы получили 5 кластеров. Нужно как-то вытащить числовые данные и сопоставитьь с фактом."
   ]
  },
  {
   "cell_type": "code",
   "execution_count": null,
   "metadata": {},
   "outputs": [],
   "source": []
  }
 ],
 "metadata": {
  "kernelspec": {
   "display_name": "Python 3",
   "language": "python",
   "name": "python3"
  }
 },
 "nbformat": 4,
 "nbformat_minor": 4
}
