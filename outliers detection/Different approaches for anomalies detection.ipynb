{
 "cells": [
  {
   "cell_type": "markdown",
   "metadata": {},
   "source": [
    "# Детекция выбросов и аномалий"
   ]
  },
  {
   "cell_type": "code",
   "execution_count": 1,
   "metadata": {
    "ExecuteTime": {
     "end_time": "2021-06-15T07:06:33.290352Z",
     "start_time": "2021-06-15T07:06:31.742559Z"
    }
   },
   "outputs": [],
   "source": [
    "import pandas as pd\n",
    "from scipy import stats, interpolate\n",
    "import numpy as np\n",
    "\n",
    "from sklearn.ensemble import IsolationForest\n",
    "from sklearn.preprocessing import StandardScaler\n",
    "import eif as iso\n",
    "\n",
    "import matplotlib.pyplot as plt\n",
    "import plotly.express as px\n",
    "\n",
    "import ipywidgets as widgets\n",
    "from ipywidgets import interact, interact_manual\n"
   ]
  },
  {
   "cell_type": "markdown",
   "metadata": {},
   "source": [
    "# Детекция выбросов и аномалий для Series"
   ]
  },
  {
   "cell_type": "markdown",
   "metadata": {},
   "source": [
    "Допустим, нам необходимо оценить среднее время протекание какого-то процесса. У нас есть время (в секундах) по каждому экземпляру этого процесса за рассматриваемый период (допустим за месяц)."
   ]
  },
  {
   "cell_type": "code",
   "execution_count": 2,
   "metadata": {
    "ExecuteTime": {
     "end_time": "2021-06-15T07:06:41.445739Z",
     "start_time": "2021-06-15T07:06:33.291274Z"
    }
   },
   "outputs": [
    {
     "name": "stderr",
     "output_type": "stream",
     "text": [
      "C:\\Users\\Baturin.GG\\Anaconda3\\lib\\site-packages\\numpy\\lib\\arraysetops.py:580: FutureWarning: elementwise comparison failed; returning scalar instead, but in the future will perform elementwise comparison\n",
      "  mask |= (ar1 == a)\n"
     ]
    },
    {
     "data": {
      "text/html": [
       "<div>\n",
       "<style scoped>\n",
       "    .dataframe tbody tr th:only-of-type {\n",
       "        vertical-align: middle;\n",
       "    }\n",
       "\n",
       "    .dataframe tbody tr th {\n",
       "        vertical-align: top;\n",
       "    }\n",
       "\n",
       "    .dataframe thead th {\n",
       "        text-align: right;\n",
       "    }\n",
       "</style>\n",
       "<table border=\"1\" class=\"dataframe\">\n",
       "  <thead>\n",
       "    <tr style=\"text-align: right;\">\n",
       "      <th></th>\n",
       "      <th>дата начала скана</th>\n",
       "      <th>продолжительность</th>\n",
       "    </tr>\n",
       "  </thead>\n",
       "  <tbody>\n",
       "    <tr>\n",
       "      <th>0</th>\n",
       "      <td>2021-05-31 17:20:09</td>\n",
       "      <td>1</td>\n",
       "    </tr>\n",
       "    <tr>\n",
       "      <th>1</th>\n",
       "      <td>2021-05-31 17:20:09</td>\n",
       "      <td>18</td>\n",
       "    </tr>\n",
       "    <tr>\n",
       "      <th>2</th>\n",
       "      <td>2021-05-29 11:25:12</td>\n",
       "      <td>1</td>\n",
       "    </tr>\n",
       "    <tr>\n",
       "      <th>3</th>\n",
       "      <td>2021-05-29 11:25:12</td>\n",
       "      <td>4</td>\n",
       "    </tr>\n",
       "    <tr>\n",
       "      <th>4</th>\n",
       "      <td>2021-05-29 18:47:23</td>\n",
       "      <td>1</td>\n",
       "    </tr>\n",
       "  </tbody>\n",
       "</table>\n",
       "</div>"
      ],
      "text/plain": [
       "     дата начала скана  продолжительность\n",
       "0  2021-05-31 17:20:09                  1\n",
       "1  2021-05-31 17:20:09                 18\n",
       "2  2021-05-29 11:25:12                  1\n",
       "3  2021-05-29 11:25:12                  4\n",
       "4  2021-05-29 18:47:23                  1"
      ]
     },
     "execution_count": 2,
     "metadata": {},
     "output_type": "execute_result"
    }
   ],
   "source": [
    "data = pd.read_csv('сканы.csv', index_col=[0])\n",
    "data.head()"
   ]
  },
  {
   "cell_type": "markdown",
   "metadata": {},
   "source": [
    "Мы точно знаем, что в данных нет пропусков, что все данные имеют нормальный тип, поэтому не будем тратить время на предобработку. \n",
    "\n",
    "Сразу заведем табличку, в которую будем вписывать результаты:"
   ]
  },
  {
   "cell_type": "code",
   "execution_count": 3,
   "metadata": {
    "ExecuteTime": {
     "end_time": "2021-06-15T07:06:41.603351Z",
     "start_time": "2021-06-15T07:06:41.446709Z"
    }
   },
   "outputs": [
    {
     "data": {
      "text/html": [
       "<div>\n",
       "<style scoped>\n",
       "    .dataframe tbody tr th:only-of-type {\n",
       "        vertical-align: middle;\n",
       "    }\n",
       "\n",
       "    .dataframe tbody tr th {\n",
       "        vertical-align: top;\n",
       "    }\n",
       "\n",
       "    .dataframe thead th {\n",
       "        text-align: right;\n",
       "    }\n",
       "</style>\n",
       "<table border=\"1\" class=\"dataframe\">\n",
       "  <thead>\n",
       "    <tr style=\"text-align: right;\">\n",
       "      <th></th>\n",
       "      <th>способ</th>\n",
       "      <th>средняя продолжительность</th>\n",
       "      <th>медиана продолжительности</th>\n",
       "      <th>использовано данных</th>\n",
       "    </tr>\n",
       "  </thead>\n",
       "  <tbody>\n",
       "    <tr>\n",
       "      <th>0</th>\n",
       "      <td>исходные данные</td>\n",
       "      <td>5.753645</td>\n",
       "      <td>2.0</td>\n",
       "      <td>100.00%</td>\n",
       "    </tr>\n",
       "  </tbody>\n",
       "</table>\n",
       "</div>"
      ],
      "text/plain": [
       "            способ  средняя продолжительность  медиана продолжительности  \\\n",
       "0  исходные данные                   5.753645                        2.0   \n",
       "\n",
       "  использовано данных  \n",
       "0             100.00%  "
      ]
     },
     "execution_count": 3,
     "metadata": {},
     "output_type": "execute_result"
    }
   ],
   "source": [
    "results_series = pd.DataFrame(columns=['способ','средняя продолжительность','медиана продолжительности','использовано данных'])\n",
    "\n",
    "\n",
    "\n",
    "\n",
    "results_series = results_series.append(\n",
    "                    {\n",
    "                    'способ':'исходные данные',\n",
    "                    'средняя продолжительность' : data['продолжительность'].mean(),\n",
    "                    'медиана продолжительности' : data['продолжительность'].median(),\n",
    "                     'использовано данных':\"{:,.2f}%\".format(data.shape[0]/data.shape[0]*100)\n",
    "                    \n",
    "                    } , \n",
    "                    ignore_index=True)\n",
    "\n",
    "results_series"
   ]
  },
  {
   "cell_type": "markdown",
   "metadata": {
    "ExecuteTime": {
     "end_time": "2021-06-15T01:56:23.961992Z",
     "start_time": "2021-06-15T01:56:23.958002Z"
    }
   },
   "source": [
    "## Интерквартильный интервал\n",
    "\n",
    "Простой и действенный метод. Заключается в том, что мы находим длинну второго квартиля и откладываем по полтора этого расстояния вниз от верхней границы первого квартиля и вверх от верхней границы третьего квартиля. Все что не входит в полученный отрезок - выбросы.\n"
   ]
  },
  {
   "cell_type": "code",
   "execution_count": 4,
   "metadata": {
    "ExecuteTime": {
     "end_time": "2021-06-15T07:06:45.174738Z",
     "start_time": "2021-06-15T07:06:41.604319Z"
    }
   },
   "outputs": [
    {
     "data": {
      "text/html": [
       "<div>\n",
       "<style scoped>\n",
       "    .dataframe tbody tr th:only-of-type {\n",
       "        vertical-align: middle;\n",
       "    }\n",
       "\n",
       "    .dataframe tbody tr th {\n",
       "        vertical-align: top;\n",
       "    }\n",
       "\n",
       "    .dataframe thead th {\n",
       "        text-align: right;\n",
       "    }\n",
       "</style>\n",
       "<table border=\"1\" class=\"dataframe\">\n",
       "  <thead>\n",
       "    <tr style=\"text-align: right;\">\n",
       "      <th></th>\n",
       "      <th>способ</th>\n",
       "      <th>средняя продолжительность</th>\n",
       "      <th>медиана продолжительности</th>\n",
       "      <th>использовано данных</th>\n",
       "    </tr>\n",
       "  </thead>\n",
       "  <tbody>\n",
       "    <tr>\n",
       "      <th>0</th>\n",
       "      <td>исходные данные</td>\n",
       "      <td>5.753645</td>\n",
       "      <td>2.0</td>\n",
       "      <td>100.00%</td>\n",
       "    </tr>\n",
       "    <tr>\n",
       "      <th>1</th>\n",
       "      <td>интерквартильный интервал</td>\n",
       "      <td>2.346308</td>\n",
       "      <td>2.0</td>\n",
       "      <td>90.79%</td>\n",
       "    </tr>\n",
       "  </tbody>\n",
       "</table>\n",
       "</div>"
      ],
      "text/plain": [
       "                      способ  средняя продолжительность  \\\n",
       "0            исходные данные                   5.753645   \n",
       "1  интерквартильный интервал                   2.346308   \n",
       "\n",
       "   медиана продолжительности использовано данных  \n",
       "0                        2.0             100.00%  \n",
       "1                        2.0              90.79%  "
      ]
     },
     "execution_count": 4,
     "metadata": {},
     "output_type": "execute_result"
    }
   ],
   "source": [
    "iqr = (data.describe().T['75%'].values[0] - data.describe().T['25%'].values[0])\n",
    "\n",
    "low = data.describe().T['25%'].values[0] - 1.5*iqr\n",
    "high = data.describe().T['75%'].values[0]+1.5*iqr\n",
    "\n",
    "\n",
    "results_series = results_series.append(\n",
    "                    {\n",
    "                    'способ':'интерквартильный интервал',\n",
    "                    'средняя продолжительность' : data[(data['продолжительность']<=high) & (data['продолжительность']>=low)]['продолжительность'].mean(),\n",
    "                    'медиана продолжительности' : data[(data['продолжительность']<=high) & (data['продолжительность']>=low)]['продолжительность'].median(),\n",
    "                     'использовано данных':\"{:,.2f}%\".format(data[(data['продолжительность']<=high) & (data['продолжительность']>=low)]['продолжительность'].shape[0]/data.shape[0]*100)\n",
    "                    \n",
    "                    } , \n",
    "                    ignore_index=True)\n",
    "\n",
    "results_series"
   ]
  },
  {
   "cell_type": "markdown",
   "metadata": {},
   "source": [
    "## Z-оценка\n",
    "или стандартизированная оценка -  мера относительного разброса наблюдаемого или измеренного значения, которая показывает, сколько стандартных отклонений составляет его разброс относительного среднего значения. Это безразмерный статистический показатель, используемый для сравнения значений разной размерности или шкалой измерений.\n",
    "\n",
    "Поиск выбросов этим методом заключается в нахождении распределения данных, где среднее значение равно 0, а стандартное отклонение равно 1. Все точки, которые слишком далеки от нуля - выбросы. В большенстве случаев в качестве порогового значения используются значения в -3 и 3, а все значения, для которых z-оценка не попадает в этот интервал - размечаются как выбросы."
   ]
  },
  {
   "cell_type": "code",
   "execution_count": 5,
   "metadata": {
    "ExecuteTime": {
     "end_time": "2021-06-15T07:06:48.181802Z",
     "start_time": "2021-06-15T07:06:45.175707Z"
    }
   },
   "outputs": [
    {
     "data": {
      "text/html": [
       "<div>\n",
       "<style scoped>\n",
       "    .dataframe tbody tr th:only-of-type {\n",
       "        vertical-align: middle;\n",
       "    }\n",
       "\n",
       "    .dataframe tbody tr th {\n",
       "        vertical-align: top;\n",
       "    }\n",
       "\n",
       "    .dataframe thead th {\n",
       "        text-align: right;\n",
       "    }\n",
       "</style>\n",
       "<table border=\"1\" class=\"dataframe\">\n",
       "  <thead>\n",
       "    <tr style=\"text-align: right;\">\n",
       "      <th></th>\n",
       "      <th>способ</th>\n",
       "      <th>средняя продолжительность</th>\n",
       "      <th>медиана продолжительности</th>\n",
       "      <th>использовано данных</th>\n",
       "    </tr>\n",
       "  </thead>\n",
       "  <tbody>\n",
       "    <tr>\n",
       "      <th>0</th>\n",
       "      <td>исходные данные</td>\n",
       "      <td>5.753645</td>\n",
       "      <td>2.0</td>\n",
       "      <td>100.00%</td>\n",
       "    </tr>\n",
       "    <tr>\n",
       "      <th>1</th>\n",
       "      <td>интерквартильный интервал</td>\n",
       "      <td>2.346308</td>\n",
       "      <td>2.0</td>\n",
       "      <td>90.79%</td>\n",
       "    </tr>\n",
       "    <tr>\n",
       "      <th>2</th>\n",
       "      <td>z-оценка</td>\n",
       "      <td>3.601621</td>\n",
       "      <td>2.0</td>\n",
       "      <td>99.92%</td>\n",
       "    </tr>\n",
       "  </tbody>\n",
       "</table>\n",
       "</div>"
      ],
      "text/plain": [
       "                      способ  средняя продолжительность  \\\n",
       "0            исходные данные                   5.753645   \n",
       "1  интерквартильный интервал                   2.346308   \n",
       "2                   z-оценка                   3.601621   \n",
       "\n",
       "   медиана продолжительности использовано данных  \n",
       "0                        2.0             100.00%  \n",
       "1                        2.0              90.79%  \n",
       "2                        2.0              99.92%  "
      ]
     },
     "execution_count": 5,
     "metadata": {},
     "output_type": "execute_result"
    }
   ],
   "source": [
    "z = np.abs(stats.zscore(data['продолжительность']))\n",
    "data['z-score'] = z\n",
    "\n",
    "results_series = results_series.append(\n",
    "                    {\n",
    "                    'способ':'z-оценка',\n",
    "                    'средняя продолжительность' : data.query('-3<`z-score`<3')['продолжительность'].mean(),\n",
    "                    'медиана продолжительности' : data.query('-3<`z-score`<3')['продолжительность'].median(),\n",
    "                     'использовано данных':\"{:,.2f}%\".format(data.query('-3<`z-score`<3')['продолжительность'].shape[0]/data.shape[0]*100)\n",
    "                    \n",
    "                    } , \n",
    "                    ignore_index=True)\n",
    "\n",
    "results_series"
   ]
  },
  {
   "cell_type": "markdown",
   "metadata": {},
   "source": [
    "## Авторски метод\n",
    "\n",
    "Предлагаемая идея не нова и является вариацией метода локтя. Мы считаем количество экземпляров операций, которые производятся за определенный интервал времени (например от 0 до 10 секунд, от 0 до 20 секунд, от 0 до 30 секунд и тд), наносим эти точки на график \"Интервал времени / Количество операций\", и смотрим, где у нас кривая перестает активно расти и уходит в боковик, т.е. интервал растет, а вот количество перестает сильно меняться. Найдя точку, начиная с которой график уходит в боковик - найдем ту самую верхнюю границу времени, до которой можно считать, что время на 1 экземпляр операции находится в пределах нормы."
   ]
  },
  {
   "cell_type": "code",
   "execution_count": 6,
   "metadata": {
    "ExecuteTime": {
     "end_time": "2021-06-15T07:07:17.099938Z",
     "start_time": "2021-06-15T07:06:48.182772Z"
    }
   },
   "outputs": [
    {
     "data": {
      "text/html": [
       "<div>\n",
       "<style scoped>\n",
       "    .dataframe tbody tr th:only-of-type {\n",
       "        vertical-align: middle;\n",
       "    }\n",
       "\n",
       "    .dataframe tbody tr th {\n",
       "        vertical-align: top;\n",
       "    }\n",
       "\n",
       "    .dataframe thead th {\n",
       "        text-align: right;\n",
       "    }\n",
       "</style>\n",
       "<table border=\"1\" class=\"dataframe\">\n",
       "  <thead>\n",
       "    <tr style=\"text-align: right;\">\n",
       "      <th></th>\n",
       "      <th>от 0 до 0 сек.</th>\n",
       "      <th>от 0 до 10 сек.</th>\n",
       "      <th>от 0 до 20 сек.</th>\n",
       "      <th>от 0 до 30 сек.</th>\n",
       "      <th>от 0 до 40 сек.</th>\n",
       "      <th>от 0 до 50 сек.</th>\n",
       "      <th>от 0 до 60 сек.</th>\n",
       "      <th>от 0 до 90 сек.</th>\n",
       "      <th>от 0 до 120 сек.</th>\n",
       "      <th>от 0 до 150 сек.</th>\n",
       "      <th>от 0 до 180 сек.</th>\n",
       "      <th>от 0 до 210 сек.</th>\n",
       "      <th>от 0 до 240 сек.</th>\n",
       "      <th>от 0 до 270 сек.</th>\n",
       "      <th>от 0 до 300 сек.</th>\n",
       "      <th>от 0 до 360 сек.</th>\n",
       "      <th>от 0 до 420 сек.</th>\n",
       "      <th>от 0 до 480 сек.</th>\n",
       "      <th>от 0 до 540 сек.</th>\n",
       "      <th>от 0 до 600 сек.</th>\n",
       "    </tr>\n",
       "  </thead>\n",
       "  <tbody>\n",
       "    <tr>\n",
       "      <th>кол-во</th>\n",
       "      <td>64</td>\n",
       "      <td>13872920</td>\n",
       "      <td>14264566</td>\n",
       "      <td>14357939</td>\n",
       "      <td>14395484</td>\n",
       "      <td>14414128</td>\n",
       "      <td>14424248</td>\n",
       "      <td>14435377</td>\n",
       "      <td>14441319</td>\n",
       "      <td>14445050</td>\n",
       "      <td>14447842</td>\n",
       "      <td>14449900</td>\n",
       "      <td>14451382</td>\n",
       "      <td>14452637</td>\n",
       "      <td>14453711</td>\n",
       "      <td>14455374</td>\n",
       "      <td>14456658</td>\n",
       "      <td>14457662</td>\n",
       "      <td>14458503</td>\n",
       "      <td>14459156</td>\n",
       "    </tr>\n",
       "  </tbody>\n",
       "</table>\n",
       "</div>"
      ],
      "text/plain": [
       "        от 0 до 0 сек.  от 0 до 10 сек.  от 0 до 20 сек.  от 0 до 30 сек.  \\\n",
       "кол-во              64         13872920         14264566         14357939   \n",
       "\n",
       "        от 0 до 40 сек.  от 0 до 50 сек.  от 0 до 60 сек.  от 0 до 90 сек.  \\\n",
       "кол-во         14395484         14414128         14424248         14435377   \n",
       "\n",
       "        от 0 до 120 сек.  от 0 до 150 сек.  от 0 до 180 сек.  \\\n",
       "кол-во          14441319          14445050          14447842   \n",
       "\n",
       "        от 0 до 210 сек.  от 0 до 240 сек.  от 0 до 270 сек.  \\\n",
       "кол-во          14449900          14451382          14452637   \n",
       "\n",
       "        от 0 до 300 сек.  от 0 до 360 сек.  от 0 до 420 сек.  \\\n",
       "кол-во          14453711          14455374          14456658   \n",
       "\n",
       "        от 0 до 480 сек.  от 0 до 540 сек.  от 0 до 600 сек.  \n",
       "кол-во          14457662          14458503          14459156  "
      ]
     },
     "metadata": {},
     "output_type": "display_data"
    },
    {
     "data": {
      "image/png": "[encoded data removed]",
      "text/plain": [
       "<Figure size 1080x720 with 1 Axes>"
      ]
     },
     "metadata": {
      "needs_background": "light"
     },
     "output_type": "display_data"
    }
   ],
   "source": [
    "\n",
    "\n",
    "# напишем функцию, которая считает количество\n",
    "def quantity(temp_df, col, param):\n",
    "    # проверим, что датафрейм не пуст, если пуст - будем возвращать 0\n",
    "    if temp_df[(temp_df[col]<=param)&(temp_df[col]>=0)].shape[0]>0:\n",
    "        value = temp_df[(temp_df[col]<=param)&(temp_df[col]>=0)][col].count()\n",
    "    else: \n",
    "        value = 0\n",
    "    return value\n",
    "\n",
    "\n",
    "# напишем функцию которая перебирает все границы и считает для них количество\n",
    "def quantity_per_bound(temp_df, column, list_of_bounds):    \n",
    "    temp_arr=[]\n",
    "    names=[] \n",
    "    col = column\n",
    "    for el in list_of_bounds:\n",
    "        temp_arr.append(quantity(temp_df, col, el))\n",
    "        names.append(\"от 0 до \"+str(el)+\" сек.\")\n",
    "   \n",
    "    plotting_df = pd.DataFrame([temp_arr], columns=names).rename({0:'кол-во'}, axis='index')\n",
    "    display (plotting_df)\n",
    "    \n",
    "    x = list_of_bounds\n",
    "    y = plotting_df.iloc[0,0:].values\n",
    "    \n",
    "    plt.figure(figsize=(15,10))\n",
    "    plt.plot(x, y,'-bx')\n",
    "    plt.ylabel('кол-во')\n",
    "    plt.xticks(list_of_bounds)\n",
    "    plt.grid(True)\n",
    "    plt.show()\n",
    "    return plotting_df\n",
    "\n",
    "params = [0, 10,20, 30, 40, 50, 60, 90, 120, 150, 180, 210, 240, 270, 300, 360, 420, 480, 540,600]\n",
    "column = 'продолжительность'\n",
    "t = quantity_per_bound(data, column, params)"
   ]
  },
  {
   "cell_type": "markdown",
   "metadata": {},
   "source": [
    "Поскольку у нас кусочно-линейная функция, то можем использовать сплайн-интерполяцию, чтобы определить точку поворота графика. В этой точке 2 производная будет самой высокой и будет менять знак, а раз функция у нас возрастающая, то знак она будет менять с минуса на плюс. Однако, поскольку нас интересует последняя точка поворота, то, мы будем брать индекс последнего положительного элемента в списке вторых производных (в этом случае 2 производная может быть не максимальной)."
   ]
  },
  {
   "cell_type": "code",
   "execution_count": 7,
   "metadata": {
    "ExecuteTime": {
     "end_time": "2021-06-15T07:07:17.105892Z",
     "start_time": "2021-06-15T07:07:17.100906Z"
    }
   },
   "outputs": [
    {
     "name": "stdout",
     "output_type": "stream",
     "text": [
      "следует брать интервал от 0 до 40 секунд\n"
     ]
    }
   ],
   "source": [
    "\n",
    "\n",
    "# верхние границы наших интервалов.\n",
    "# интервалы выглядят так: от 0 до 0, от 0 до 10, от 0 до 20 и тд.\n",
    "x = params\n",
    "\n",
    "# количество сканов в интервале\n",
    "# в интервале от 0 до 0 - 64 скана, от 0 до 10 - 13 872 920  и тд.\n",
    "y = t.values[0]\n",
    "\n",
    "# найдем значение 2 производной в точках\n",
    "\n",
    "dev_2 = interpolate.splev(x, interpolate.splrep(x, y, k=2, s=0), der=2)\n",
    "\n",
    "# найдем индексы положительных элементов 2 производной\n",
    "index = [i for i, x in enumerate(dev_2) if x > 0]\n",
    "\n",
    "# посмотрим, при каком значении х осуществяется последний поворот\n",
    "print(f'следует брать интервал от 0 до {x[index[-1]]} секунд')\n"
   ]
  },
  {
   "cell_type": "code",
   "execution_count": 8,
   "metadata": {
    "ExecuteTime": {
     "end_time": "2021-06-15T07:07:19.776655Z",
     "start_time": "2021-06-15T07:07:17.107887Z"
    }
   },
   "outputs": [
    {
     "data": {
      "text/html": [
       "<div>\n",
       "<style scoped>\n",
       "    .dataframe tbody tr th:only-of-type {\n",
       "        vertical-align: middle;\n",
       "    }\n",
       "\n",
       "    .dataframe tbody tr th {\n",
       "        vertical-align: top;\n",
       "    }\n",
       "\n",
       "    .dataframe thead th {\n",
       "        text-align: right;\n",
       "    }\n",
       "</style>\n",
       "<table border=\"1\" class=\"dataframe\">\n",
       "  <thead>\n",
       "    <tr style=\"text-align: right;\">\n",
       "      <th></th>\n",
       "      <th>способ</th>\n",
       "      <th>средняя продолжительность</th>\n",
       "      <th>медиана продолжительности</th>\n",
       "      <th>использовано данных</th>\n",
       "    </tr>\n",
       "  </thead>\n",
       "  <tbody>\n",
       "    <tr>\n",
       "      <th>0</th>\n",
       "      <td>исходные данные</td>\n",
       "      <td>5.753645</td>\n",
       "      <td>2.0</td>\n",
       "      <td>100.00%</td>\n",
       "    </tr>\n",
       "    <tr>\n",
       "      <th>1</th>\n",
       "      <td>интерквартильный интервал</td>\n",
       "      <td>2.346308</td>\n",
       "      <td>2.0</td>\n",
       "      <td>90.79%</td>\n",
       "    </tr>\n",
       "    <tr>\n",
       "      <th>2</th>\n",
       "      <td>z-оценка</td>\n",
       "      <td>3.601621</td>\n",
       "      <td>2.0</td>\n",
       "      <td>99.92%</td>\n",
       "    </tr>\n",
       "    <tr>\n",
       "      <th>3</th>\n",
       "      <td>авторский метод</td>\n",
       "      <td>3.178898</td>\n",
       "      <td>2.0</td>\n",
       "      <td>99.48%</td>\n",
       "    </tr>\n",
       "  </tbody>\n",
       "</table>\n",
       "</div>"
      ],
      "text/plain": [
       "                      способ  средняя продолжительность  \\\n",
       "0            исходные данные                   5.753645   \n",
       "1  интерквартильный интервал                   2.346308   \n",
       "2                   z-оценка                   3.601621   \n",
       "3            авторский метод                   3.178898   \n",
       "\n",
       "   медиана продолжительности использовано данных  \n",
       "0                        2.0             100.00%  \n",
       "1                        2.0              90.79%  \n",
       "2                        2.0              99.92%  \n",
       "3                        2.0              99.48%  "
      ]
     },
     "execution_count": 8,
     "metadata": {},
     "output_type": "execute_result"
    }
   ],
   "source": [
    "upper_bound = x[index[-1]]\n",
    "\n",
    "results_series = results_series.append(\n",
    "                    {\n",
    "                    'способ':'авторский метод',\n",
    "                    'средняя продолжительность' : data.query('`продолжительность`<@upper_bound')['продолжительность'].mean(),\n",
    "                    'медиана продолжительности' : data.query('`продолжительность`<@upper_bound')['продолжительность'].median(),\n",
    "                     'использовано данных':\"{:,.2f}%\".format(data.query('`продолжительность`<@upper_bound').shape[0]/data.shape[0]*100)\n",
    "                    \n",
    "                    } , \n",
    "                    ignore_index=True)\n",
    "\n",
    "results_series"
   ]
  },
  {
   "cell_type": "markdown",
   "metadata": {
    "ExecuteTime": {
     "end_time": "2021-06-15T03:47:11.125407Z",
     "start_time": "2021-06-15T03:47:11.121414Z"
    }
   },
   "source": [
    "# Детекция выбросов и аномалий для DataFrame"
   ]
  },
  {
   "cell_type": "markdown",
   "metadata": {},
   "source": [
    "А что если у нас не Series, а Dataframe? Как нам тогда проводить чистку?"
   ]
  },
  {
   "cell_type": "code",
   "execution_count": 9,
   "metadata": {
    "ExecuteTime": {
     "end_time": "2021-06-15T07:07:19.796601Z",
     "start_time": "2021-06-15T07:07:19.777652Z"
    }
   },
   "outputs": [
    {
     "data": {
      "text/html": [
       "<div>\n",
       "<style scoped>\n",
       "    .dataframe tbody tr th:only-of-type {\n",
       "        vertical-align: middle;\n",
       "    }\n",
       "\n",
       "    .dataframe tbody tr th {\n",
       "        vertical-align: top;\n",
       "    }\n",
       "\n",
       "    .dataframe thead th {\n",
       "        text-align: right;\n",
       "    }\n",
       "</style>\n",
       "<table border=\"1\" class=\"dataframe\">\n",
       "  <thead>\n",
       "    <tr style=\"text-align: right;\">\n",
       "      <th></th>\n",
       "      <th>кол-во</th>\n",
       "      <th>время</th>\n",
       "    </tr>\n",
       "  </thead>\n",
       "  <tbody>\n",
       "    <tr>\n",
       "      <th>0</th>\n",
       "      <td>265</td>\n",
       "      <td>1070.397906</td>\n",
       "    </tr>\n",
       "    <tr>\n",
       "      <th>1</th>\n",
       "      <td>793</td>\n",
       "      <td>265.955460</td>\n",
       "    </tr>\n",
       "    <tr>\n",
       "      <th>2</th>\n",
       "      <td>204</td>\n",
       "      <td>699.758065</td>\n",
       "    </tr>\n",
       "    <tr>\n",
       "      <th>3</th>\n",
       "      <td>413</td>\n",
       "      <td>856.794212</td>\n",
       "    </tr>\n",
       "    <tr>\n",
       "      <th>4</th>\n",
       "      <td>803</td>\n",
       "      <td>514.085756</td>\n",
       "    </tr>\n",
       "  </tbody>\n",
       "</table>\n",
       "</div>"
      ],
      "text/plain": [
       "   кол-во        время\n",
       "0     265  1070.397906\n",
       "1     793   265.955460\n",
       "2     204   699.758065\n",
       "3     413   856.794212\n",
       "4     803   514.085756"
      ]
     },
     "execution_count": 9,
     "metadata": {},
     "output_type": "execute_result"
    }
   ],
   "source": [
    "data = pd.read_csv('data.csv', delimiter=';')\n",
    "data.head()"
   ]
  },
  {
   "cell_type": "markdown",
   "metadata": {},
   "source": [
    "Создадим сразу датафрейм и будем записывать туда результаты"
   ]
  },
  {
   "cell_type": "code",
   "execution_count": 10,
   "metadata": {
    "ExecuteTime": {
     "end_time": "2021-06-15T07:07:19.812558Z",
     "start_time": "2021-06-15T07:07:19.797599Z"
    }
   },
   "outputs": [
    {
     "data": {
      "text/html": [
       "<div>\n",
       "<style scoped>\n",
       "    .dataframe tbody tr th:only-of-type {\n",
       "        vertical-align: middle;\n",
       "    }\n",
       "\n",
       "    .dataframe tbody tr th {\n",
       "        vertical-align: top;\n",
       "    }\n",
       "\n",
       "    .dataframe thead th {\n",
       "        text-align: right;\n",
       "    }\n",
       "</style>\n",
       "<table border=\"1\" class=\"dataframe\">\n",
       "  <thead>\n",
       "    <tr style=\"text-align: right;\">\n",
       "      <th></th>\n",
       "      <th>способ</th>\n",
       "      <th>ср.время</th>\n",
       "      <th>медиана ср. времени</th>\n",
       "      <th>ср.количество</th>\n",
       "      <th>медиана кол-во</th>\n",
       "      <th>использовано данных</th>\n",
       "    </tr>\n",
       "  </thead>\n",
       "  <tbody>\n",
       "    <tr>\n",
       "      <th>0</th>\n",
       "      <td>исходные данные</td>\n",
       "      <td>689.513728</td>\n",
       "      <td>642.700881</td>\n",
       "      <td>641.743538</td>\n",
       "      <td>418.0</td>\n",
       "      <td>100.00%</td>\n",
       "    </tr>\n",
       "  </tbody>\n",
       "</table>\n",
       "</div>"
      ],
      "text/plain": [
       "            способ    ср.время  медиана ср. времени  ср.количество  \\\n",
       "0  исходные данные  689.513728           642.700881     641.743538   \n",
       "\n",
       "   медиана кол-во использовано данных  \n",
       "0           418.0             100.00%  "
      ]
     },
     "execution_count": 10,
     "metadata": {},
     "output_type": "execute_result"
    }
   ],
   "source": [
    "results_dataframe = pd.DataFrame(columns=['способ','ср.время','медиана ср. времени', 'ср.количество','медиана кол-во','использовано данных'])\n",
    "\n",
    "results_dataframe = results_dataframe.append(\n",
    "                    {\n",
    "                    'способ':'исходные данные',\n",
    "                    'ср.время' : data['время'].mean(),\n",
    "                    'медиана ср. времени' : data['время'].median(),\n",
    "                     'ср.количество':data['кол-во'].mean(),\n",
    "                     'медиана кол-во':data['кол-во'].median(),\n",
    "                     'использовано данных':\"{:,.2f}%\".format(data.shape[0]/data.shape[0]*100)\n",
    "                    \n",
    "                    } , \n",
    "                    ignore_index=True)\n",
    "results_dataframe"
   ]
  },
  {
   "cell_type": "markdown",
   "metadata": {
    "ExecuteTime": {
     "end_time": "2021-06-15T03:58:03.087280Z",
     "start_time": "2021-06-15T03:58:03.084288Z"
    }
   },
   "source": [
    "## Изолирующий лес"
   ]
  },
  {
   "cell_type": "markdown",
   "metadata": {},
   "source": [
    "Этот алгоритм изолирует аномалии за счет того, что случайным образом выбирает объект из заданного набора объектов, а затем случайным образом выбирает значение разделения между максимальным и минимальным значениями выбранного объекта. Это случайное разбиение объектов приводит к созданию меньших путей в деревьях для аномальных значений данных и отличает их от нормального набора данных. Затем, каждое дерево в лесе передает информацию о каждой точке, считает ли оно эту точку выбросом или нет. На основе простого прямого голосования изолирующий лес принимает решение, является ли точка выбросом или нет.  Про алгоритм изолирующего дерева, изолирующего леса и расширенного изолирующего леса доступно объясняют вот тут:https://www.youtube.com/watch?v=cRzeotaFDwk\n",
    "\n",
    "\n",
    "Разметим наш датафрейм на аномалии и нет. -1 будет говорить, что точка размечена как аномалия, 1- что не аномалия."
   ]
  },
  {
   "cell_type": "code",
   "execution_count": 11,
   "metadata": {
    "ExecuteTime": {
     "end_time": "2021-06-15T07:07:20.177580Z",
     "start_time": "2021-06-15T07:07:19.813556Z"
    }
   },
   "outputs": [
    {
     "data": {
      "text/html": [
       "<div>\n",
       "<style scoped>\n",
       "    .dataframe tbody tr th:only-of-type {\n",
       "        vertical-align: middle;\n",
       "    }\n",
       "\n",
       "    .dataframe tbody tr th {\n",
       "        vertical-align: top;\n",
       "    }\n",
       "\n",
       "    .dataframe thead th {\n",
       "        text-align: right;\n",
       "    }\n",
       "</style>\n",
       "<table border=\"1\" class=\"dataframe\">\n",
       "  <thead>\n",
       "    <tr style=\"text-align: right;\">\n",
       "      <th></th>\n",
       "      <th>кол-во</th>\n",
       "      <th>время</th>\n",
       "      <th>метка</th>\n",
       "    </tr>\n",
       "  </thead>\n",
       "  <tbody>\n",
       "    <tr>\n",
       "      <th>0</th>\n",
       "      <td>265</td>\n",
       "      <td>1070.397906</td>\n",
       "      <td>1</td>\n",
       "    </tr>\n",
       "    <tr>\n",
       "      <th>1</th>\n",
       "      <td>793</td>\n",
       "      <td>265.955460</td>\n",
       "      <td>1</td>\n",
       "    </tr>\n",
       "    <tr>\n",
       "      <th>2</th>\n",
       "      <td>204</td>\n",
       "      <td>699.758065</td>\n",
       "      <td>1</td>\n",
       "    </tr>\n",
       "    <tr>\n",
       "      <th>3</th>\n",
       "      <td>413</td>\n",
       "      <td>856.794212</td>\n",
       "      <td>1</td>\n",
       "    </tr>\n",
       "    <tr>\n",
       "      <th>4</th>\n",
       "      <td>803</td>\n",
       "      <td>514.085756</td>\n",
       "      <td>1</td>\n",
       "    </tr>\n",
       "    <tr>\n",
       "      <th>...</th>\n",
       "      <td>...</td>\n",
       "      <td>...</td>\n",
       "      <td>...</td>\n",
       "    </tr>\n",
       "    <tr>\n",
       "      <th>1968</th>\n",
       "      <td>449</td>\n",
       "      <td>439.526462</td>\n",
       "      <td>1</td>\n",
       "    </tr>\n",
       "    <tr>\n",
       "      <th>1969</th>\n",
       "      <td>598</td>\n",
       "      <td>343.372137</td>\n",
       "      <td>1</td>\n",
       "    </tr>\n",
       "    <tr>\n",
       "      <th>1970</th>\n",
       "      <td>175</td>\n",
       "      <td>1061.473214</td>\n",
       "      <td>1</td>\n",
       "    </tr>\n",
       "    <tr>\n",
       "      <th>1971</th>\n",
       "      <td>153</td>\n",
       "      <td>972.866667</td>\n",
       "      <td>1</td>\n",
       "    </tr>\n",
       "    <tr>\n",
       "      <th>1972</th>\n",
       "      <td>891</td>\n",
       "      <td>490.502618</td>\n",
       "      <td>1</td>\n",
       "    </tr>\n",
       "  </tbody>\n",
       "</table>\n",
       "<p>1973 rows × 3 columns</p>\n",
       "</div>"
      ],
      "text/plain": [
       "      кол-во        время  метка\n",
       "0        265  1070.397906      1\n",
       "1        793   265.955460      1\n",
       "2        204   699.758065      1\n",
       "3        413   856.794212      1\n",
       "4        803   514.085756      1\n",
       "...      ...          ...    ...\n",
       "1968     449   439.526462      1\n",
       "1969     598   343.372137      1\n",
       "1970     175  1061.473214      1\n",
       "1971     153   972.866667      1\n",
       "1972     891   490.502618      1\n",
       "\n",
       "[1973 rows x 3 columns]"
      ]
     },
     "execution_count": 11,
     "metadata": {},
     "output_type": "execute_result"
    }
   ],
   "source": [
    "\n",
    "quantity = 'кол-во'\n",
    "time = 'время'\n",
    "\n",
    "isolation_forest_df = data.reset_index().drop(columns='index').copy()\n",
    "\n",
    "# обучим стандартизацию\n",
    "scaler = StandardScaler()\n",
    "scaler.fit(isolation_forest_df)\n",
    "\n",
    "# и стандартизируем эту копию, чтоб дальше работать уже с ней\n",
    "data_scaler = scaler.transform(isolation_forest_df)\n",
    "\n",
    "# разметим на выбросы и не выбросы\n",
    "marks = IsolationForest(max_samples = data_scaler.shape[0], \n",
    "                        contamination = 'auto', \n",
    "                        random_state=12345).fit_predict(data_scaler)\n",
    "\n",
    "\n",
    "# добавим пометку\n",
    "isolation_forest_df = isolation_forest_df.assign(метка = marks)\n",
    "\n",
    "isolation_forest_df"
   ]
  },
  {
   "cell_type": "code",
   "execution_count": 12,
   "metadata": {
    "ExecuteTime": {
     "end_time": "2021-06-15T07:07:20.202514Z",
     "start_time": "2021-06-15T07:07:20.178578Z"
    }
   },
   "outputs": [
    {
     "data": {
      "text/html": [
       "<div>\n",
       "<style scoped>\n",
       "    .dataframe tbody tr th:only-of-type {\n",
       "        vertical-align: middle;\n",
       "    }\n",
       "\n",
       "    .dataframe tbody tr th {\n",
       "        vertical-align: top;\n",
       "    }\n",
       "\n",
       "    .dataframe thead th {\n",
       "        text-align: right;\n",
       "    }\n",
       "</style>\n",
       "<table border=\"1\" class=\"dataframe\">\n",
       "  <thead>\n",
       "    <tr style=\"text-align: right;\">\n",
       "      <th></th>\n",
       "      <th>способ</th>\n",
       "      <th>ср.время</th>\n",
       "      <th>медиана ср. времени</th>\n",
       "      <th>ср.количество</th>\n",
       "      <th>медиана кол-во</th>\n",
       "      <th>использовано данных</th>\n",
       "    </tr>\n",
       "  </thead>\n",
       "  <tbody>\n",
       "    <tr>\n",
       "      <th>0</th>\n",
       "      <td>исходные данные</td>\n",
       "      <td>689.513728</td>\n",
       "      <td>642.700881</td>\n",
       "      <td>641.743538</td>\n",
       "      <td>418.0</td>\n",
       "      <td>100.00%</td>\n",
       "    </tr>\n",
       "    <tr>\n",
       "      <th>1</th>\n",
       "      <td>классический изоляционный лес</td>\n",
       "      <td>664.522707</td>\n",
       "      <td>636.230924</td>\n",
       "      <td>547.816040</td>\n",
       "      <td>399.0</td>\n",
       "      <td>90.37%</td>\n",
       "    </tr>\n",
       "  </tbody>\n",
       "</table>\n",
       "</div>"
      ],
      "text/plain": [
       "                          способ    ср.время  медиана ср. времени  \\\n",
       "0                исходные данные  689.513728           642.700881   \n",
       "1  классический изоляционный лес  664.522707           636.230924   \n",
       "\n",
       "   ср.количество  медиана кол-во использовано данных  \n",
       "0     641.743538           418.0             100.00%  \n",
       "1     547.816040           399.0              90.37%  "
      ]
     },
     "execution_count": 12,
     "metadata": {},
     "output_type": "execute_result"
    }
   ],
   "source": [
    "results_dataframe = results_dataframe.append(\n",
    "                    {\n",
    "                    'способ':'классический изоляционный лес',\n",
    "                    'ср.время' : isolation_forest_df.query('`метка`!=-1')['время'].mean(),\n",
    "                    'медиана ср. времени' : isolation_forest_df.query('`метка`!=-1')['время'].median(),\n",
    "                     'ср.количество':isolation_forest_df.query('`метка`!=-1')['кол-во'].mean(),\n",
    "                     'медиана кол-во':isolation_forest_df.query('`метка`!=-1')['кол-во'].median(),\n",
    "                     'использовано данных':\"{:,.2f}%\".format(isolation_forest_df.query('`метка`!=-1').shape[0]/data.shape[0]*100)\n",
    "                    \n",
    "                    } , \n",
    "                    ignore_index=True)\n",
    "results_dataframe"
   ]
  },
  {
   "cell_type": "markdown",
   "metadata": {},
   "source": [
    "## Расширенный изолирующий лес\n",
    "\n",
    "Данный алгоритм является улучшением изолирующего леса, которое заключается в том, что отсечения в расширенной версии - могут делаться под углом, в то время как в классической - либо строго вертикально, либо строго горизонтально.\n",
    "\n",
    "В sklearn нет метода, который реализовывал бы этот алгоритм, поэтому воспользуемся сторонней библиотекой eif. \n",
    "\n",
    "N.b.: для классической вариации изолирующего леса тоже можно использовать эту библиотеку, только необходимо передать 0 в качестве значения параметра ExtensionLevel"
   ]
  },
  {
   "cell_type": "code",
   "execution_count": 13,
   "metadata": {
    "ExecuteTime": {
     "end_time": "2021-06-15T07:07:37.418575Z",
     "start_time": "2021-06-15T07:07:20.203512Z"
    }
   },
   "outputs": [
    {
     "data": {
      "text/html": [
       "<div>\n",
       "<style scoped>\n",
       "    .dataframe tbody tr th:only-of-type {\n",
       "        vertical-align: middle;\n",
       "    }\n",
       "\n",
       "    .dataframe tbody tr th {\n",
       "        vertical-align: top;\n",
       "    }\n",
       "\n",
       "    .dataframe thead th {\n",
       "        text-align: right;\n",
       "    }\n",
       "</style>\n",
       "<table border=\"1\" class=\"dataframe\">\n",
       "  <thead>\n",
       "    <tr style=\"text-align: right;\">\n",
       "      <th></th>\n",
       "      <th>кол-во</th>\n",
       "      <th>время</th>\n",
       "      <th>метка</th>\n",
       "    </tr>\n",
       "  </thead>\n",
       "  <tbody>\n",
       "    <tr>\n",
       "      <th>0</th>\n",
       "      <td>265</td>\n",
       "      <td>1070.397906</td>\n",
       "      <td>1</td>\n",
       "    </tr>\n",
       "    <tr>\n",
       "      <th>1</th>\n",
       "      <td>793</td>\n",
       "      <td>265.955460</td>\n",
       "      <td>1</td>\n",
       "    </tr>\n",
       "    <tr>\n",
       "      <th>2</th>\n",
       "      <td>204</td>\n",
       "      <td>699.758065</td>\n",
       "      <td>1</td>\n",
       "    </tr>\n",
       "    <tr>\n",
       "      <th>3</th>\n",
       "      <td>413</td>\n",
       "      <td>856.794212</td>\n",
       "      <td>1</td>\n",
       "    </tr>\n",
       "    <tr>\n",
       "      <th>4</th>\n",
       "      <td>803</td>\n",
       "      <td>514.085756</td>\n",
       "      <td>1</td>\n",
       "    </tr>\n",
       "    <tr>\n",
       "      <th>...</th>\n",
       "      <td>...</td>\n",
       "      <td>...</td>\n",
       "      <td>...</td>\n",
       "    </tr>\n",
       "    <tr>\n",
       "      <th>1968</th>\n",
       "      <td>449</td>\n",
       "      <td>439.526462</td>\n",
       "      <td>1</td>\n",
       "    </tr>\n",
       "    <tr>\n",
       "      <th>1969</th>\n",
       "      <td>598</td>\n",
       "      <td>343.372137</td>\n",
       "      <td>1</td>\n",
       "    </tr>\n",
       "    <tr>\n",
       "      <th>1970</th>\n",
       "      <td>175</td>\n",
       "      <td>1061.473214</td>\n",
       "      <td>1</td>\n",
       "    </tr>\n",
       "    <tr>\n",
       "      <th>1971</th>\n",
       "      <td>153</td>\n",
       "      <td>972.866667</td>\n",
       "      <td>1</td>\n",
       "    </tr>\n",
       "    <tr>\n",
       "      <th>1972</th>\n",
       "      <td>891</td>\n",
       "      <td>490.502618</td>\n",
       "      <td>1</td>\n",
       "    </tr>\n",
       "  </tbody>\n",
       "</table>\n",
       "<p>1973 rows × 3 columns</p>\n",
       "</div>"
      ],
      "text/plain": [
       "      кол-во        время  метка\n",
       "0        265  1070.397906      1\n",
       "1        793   265.955460      1\n",
       "2        204   699.758065      1\n",
       "3        413   856.794212      1\n",
       "4        803   514.085756      1\n",
       "...      ...          ...    ...\n",
       "1968     449   439.526462      1\n",
       "1969     598   343.372137      1\n",
       "1970     175  1061.473214      1\n",
       "1971     153   972.866667      1\n",
       "1972     891   490.502618      1\n",
       "\n",
       "[1973 rows x 3 columns]"
      ]
     },
     "execution_count": 13,
     "metadata": {},
     "output_type": "execute_result"
    }
   ],
   "source": [
    "extended_isolation_forest_df = data.reset_index().drop(columns='index').copy()\n",
    "\n",
    "\n",
    "X = data_scaler\n",
    "\n",
    "F1  = iso.iForest(X, ntrees=200, sample_size=len(X), ExtensionLevel=1)\n",
    "\n",
    "# задетектим аномалии по оценке и если оценка больше 0.5 - будем считать аномалией\n",
    "\n",
    "anomality = []\n",
    "for el in F1.compute_paths(X_in = X):\n",
    "    if el >=0.5:\n",
    "        anomality.append(-1)\n",
    "    else:\n",
    "        anomality.append(1)\n",
    "\n",
    "\n",
    "# добавим метку аномальности\n",
    "extended_isolation_forest_df = extended_isolation_forest_df.assign(метка = anomality)\n",
    "\n",
    "extended_isolation_forest_df \n"
   ]
  },
  {
   "cell_type": "code",
   "execution_count": 14,
   "metadata": {
    "ExecuteTime": {
     "end_time": "2021-06-15T07:07:37.445502Z",
     "start_time": "2021-06-15T07:07:37.419572Z"
    }
   },
   "outputs": [
    {
     "data": {
      "text/html": [
       "<div>\n",
       "<style scoped>\n",
       "    .dataframe tbody tr th:only-of-type {\n",
       "        vertical-align: middle;\n",
       "    }\n",
       "\n",
       "    .dataframe tbody tr th {\n",
       "        vertical-align: top;\n",
       "    }\n",
       "\n",
       "    .dataframe thead th {\n",
       "        text-align: right;\n",
       "    }\n",
       "</style>\n",
       "<table border=\"1\" class=\"dataframe\">\n",
       "  <thead>\n",
       "    <tr style=\"text-align: right;\">\n",
       "      <th></th>\n",
       "      <th>способ</th>\n",
       "      <th>ср.время</th>\n",
       "      <th>медиана ср. времени</th>\n",
       "      <th>ср.количество</th>\n",
       "      <th>медиана кол-во</th>\n",
       "      <th>использовано данных</th>\n",
       "    </tr>\n",
       "  </thead>\n",
       "  <tbody>\n",
       "    <tr>\n",
       "      <th>0</th>\n",
       "      <td>исходные данные</td>\n",
       "      <td>689.513728</td>\n",
       "      <td>642.700881</td>\n",
       "      <td>641.743538</td>\n",
       "      <td>418.0</td>\n",
       "      <td>100.00%</td>\n",
       "    </tr>\n",
       "    <tr>\n",
       "      <th>1</th>\n",
       "      <td>классический изоляционный лес</td>\n",
       "      <td>664.522707</td>\n",
       "      <td>636.230924</td>\n",
       "      <td>547.816040</td>\n",
       "      <td>399.0</td>\n",
       "      <td>90.37%</td>\n",
       "    </tr>\n",
       "    <tr>\n",
       "      <th>2</th>\n",
       "      <td>расширенный изоляционный лес</td>\n",
       "      <td>666.801513</td>\n",
       "      <td>636.230924</td>\n",
       "      <td>551.665945</td>\n",
       "      <td>399.0</td>\n",
       "      <td>93.61%</td>\n",
       "    </tr>\n",
       "  </tbody>\n",
       "</table>\n",
       "</div>"
      ],
      "text/plain": [
       "                          способ    ср.время  медиана ср. времени  \\\n",
       "0                исходные данные  689.513728           642.700881   \n",
       "1  классический изоляционный лес  664.522707           636.230924   \n",
       "2   расширенный изоляционный лес  666.801513           636.230924   \n",
       "\n",
       "   ср.количество  медиана кол-во использовано данных  \n",
       "0     641.743538           418.0             100.00%  \n",
       "1     547.816040           399.0              90.37%  \n",
       "2     551.665945           399.0              93.61%  "
      ]
     },
     "execution_count": 14,
     "metadata": {},
     "output_type": "execute_result"
    }
   ],
   "source": [
    "results_dataframe = results_dataframe.append(\n",
    "                    {\n",
    "                    'способ':'расширенный изоляционный лес',\n",
    "                    'ср.время' : extended_isolation_forest_df.query('`метка`!=-1')['время'].mean(),\n",
    "                    'медиана ср. времени' : extended_isolation_forest_df.query('`метка`!=-1')['время'].median(),\n",
    "                     'ср.количество':extended_isolation_forest_df.query('`метка`!=-1')['кол-во'].mean(),\n",
    "                     'медиана кол-во':extended_isolation_forest_df.query('`метка`!=-1')['кол-во'].median(),\n",
    "                     'использовано данных':\"{:,.2f}%\".format(extended_isolation_forest_df.query('`метка`!=-1').shape[0]/data.shape[0]*100)\n",
    "                    \n",
    "                    } , \n",
    "                    ignore_index=True)\n",
    "results_dataframe"
   ]
  },
  {
   "cell_type": "markdown",
   "metadata": {},
   "source": [
    "Сделаем визуальное сравнение"
   ]
  },
  {
   "cell_type": "code",
   "execution_count": 15,
   "metadata": {
    "ExecuteTime": {
     "end_time": "2021-06-15T07:07:38.119857Z",
     "start_time": "2021-06-15T07:07:37.446500Z"
    }
   },
   "outputs": [
    {
     "data": {
      "application/vnd.jupyter.widget-view+json": {
       "model_id": "fc6c3df8a9864e35b598d5b3ffe0f542",
       "version_major": 2,
       "version_minor": 0
      },
      "text/plain": [
       "interactive(children=(Text(value='кол-во', description='x'), Text(value='время', description='y'), Dropdown(de…"
      ]
     },
     "metadata": {},
     "output_type": "display_data"
    }
   ],
   "source": [
    "compare = extended_isolation_forest_df.join( isolation_forest_df['метка'], \n",
    "                                    how='left', \n",
    "                                    lsuffix='_расширенный изолирующий лес',  \n",
    "                                    rsuffix='_классический изолирующий лес')\n",
    "\n",
    "@interact\n",
    "def scatter_plot(x = list(compare.select_dtypes('number').columns)[0], \n",
    "                 y = list(compare.select_dtypes('number').columns)[1],\n",
    "                 z = list(compare.select_dtypes('number').columns)[2:]):\n",
    "    \n",
    "    # сделаем цвета дискретными\n",
    "    fig = px.scatter(compare, \n",
    "                    x = x, \n",
    "                    y = y, \n",
    "                    hover_name = compare.columns[0], \n",
    "                    color = z, \n",
    "                    opacity = 1,\n",
    "                    width = 1000, \n",
    "                    height = 700,\n",
    "                    labels = { # replaces default labels by column name\n",
    "                                \"x\": 'количество',  \n",
    "                                \"y\": 'время'\n",
    "                            }\n",
    "                    ) \n",
    "\n",
    "    fig.update_layout(\n",
    "        xaxis_title = x,\n",
    "        yaxis_title = y)\n",
    "    fig.show()"
   ]
  },
  {
   "cell_type": "markdown",
   "metadata": {
    "ExecuteTime": {
     "end_time": "2021-06-15T07:42:37.019340Z",
     "start_time": "2021-06-15T07:42:37.015376Z"
    }
   },
   "source": [
    "## Авторское дополнение расширенного изолирующего леса"
   ]
  },
  {
   "cell_type": "markdown",
   "metadata": {
    "ExecuteTime": {
     "end_time": "2021-06-15T04:23:38.034479Z",
     "start_time": "2021-06-15T04:23:38.030511Z"
    }
   },
   "source": [
    "Как видим, не что не идеально, даже расширенное изолирующие дерево, благодоря случайности разбиения, может содержать в области \"не аномалий\" точки, которые размечены как аномалия. <img src=\"pic/Безымянный.png\">\n",
    " Исправим это\n"
   ]
  },
  {
   "cell_type": "code",
   "execution_count": 16,
   "metadata": {
    "ExecuteTime": {
     "end_time": "2021-06-15T07:07:38.134809Z",
     "start_time": "2021-06-15T07:07:38.120830Z"
    }
   },
   "outputs": [],
   "source": [
    "# для начала определим область \"НЕ аномалий\"\n",
    "x_1 = extended_isolation_forest_df.query('`метка`==1')[quantity].min()\n",
    "x_2 = extended_isolation_forest_df.query('`метка`==1')[quantity].max()\n",
    "\n",
    "y_1 = extended_isolation_forest_df.query('`метка`==1')[time].min()\n",
    "y_2 = extended_isolation_forest_df.query('`метка`==1')[time].max()\n",
    "\n",
    "\n",
    "# теперь, для всех точек, которые входят в область - поставим метко не аномальности\n",
    "\n",
    "\n",
    "new_extended_isolation_forest_df = extended_isolation_forest_df.copy()\n",
    "new_extended_isolation_forest_df.loc[\n",
    "                                (new_extended_isolation_forest_df['кол-во']>=x_1)& \\\n",
    "                                (new_extended_isolation_forest_df['кол-во']<=x_2)& \\\n",
    "                                (new_extended_isolation_forest_df['время']>=y_1)& \\\n",
    "                                (new_extended_isolation_forest_df['время']<=y_2),\n",
    "                                'метка'] = 1\n"
   ]
  },
  {
   "cell_type": "markdown",
   "metadata": {},
   "source": [
    "И посмотрим результаты"
   ]
  },
  {
   "cell_type": "code",
   "execution_count": 17,
   "metadata": {
    "ExecuteTime": {
     "end_time": "2021-06-15T07:07:38.611509Z",
     "start_time": "2021-06-15T07:07:38.135806Z"
    }
   },
   "outputs": [
    {
     "data": {
      "image/png": "[encoded data removed]",
      "text/plain": [
       "<Figure size 2160x720 with 3 Axes>"
      ]
     },
     "metadata": {
      "needs_background": "light"
     },
     "output_type": "display_data"
    }
   ],
   "source": [
    "colors = ['royalblue', 'maroon', 'forestgreen', 'mediumorchid', 'tan', 'deeppink', 'olive', 'goldenrod', 'lightcyan', 'navy']\n",
    "vectorizer = np.vectorize(lambda x: colors[x % len(colors)])\n",
    "\n",
    "fig, ax = plt.subplots(nrows=1, ncols=3, constrained_layout=False)\n",
    "fig.set_figheight(10)\n",
    "fig.set_figwidth(30)\n",
    "\n",
    "\n",
    "ax[0].scatter(isolation_forest_df.values[:,0], isolation_forest_df.values[:,1],  c=vectorizer(isolation_forest_df['метка'].values))\n",
    "ax[0].set_title('классический изоляционный лес', fontsize=16)\n",
    "ax[0].set_xlabel ('кол-во', fontsize=14)\n",
    "ax[0].set_ylabel ('время', fontsize=14)\n",
    "\n",
    "ax[1].scatter(extended_isolation_forest_df.values[:,0], extended_isolation_forest_df.values[:,1],  c=vectorizer(extended_isolation_forest_df['метка'].values))\n",
    "ax[1].set_title('расширенный изоляционный лес', fontsize=16)\n",
    "ax[1].set_xlabel ('кол-во', fontsize=14)\n",
    "ax[1].set_ylabel ('время', fontsize=14)\n",
    "\n",
    "ax[2].scatter(new_extended_isolation_forest_df.values[:,0], new_extended_isolation_forest_df.values[:,1],  c=vectorizer(new_extended_isolation_forest_df['метка'].values))\n",
    "ax[2].set_title('подправленный расширенный изоляционный лес', fontsize=16)\n",
    "ax[2].set_xlabel ('кол-во', fontsize=14)\n",
    "ax[2].set_ylabel ('время', fontsize=14)\n",
    "\n",
    "plt.show()"
   ]
  },
  {
   "cell_type": "code",
   "execution_count": 18,
   "metadata": {
    "ExecuteTime": {
     "end_time": "2021-06-15T07:07:38.636443Z",
     "start_time": "2021-06-15T07:07:38.612507Z"
    }
   },
   "outputs": [
    {
     "data": {
      "text/html": [
       "<div>\n",
       "<style scoped>\n",
       "    .dataframe tbody tr th:only-of-type {\n",
       "        vertical-align: middle;\n",
       "    }\n",
       "\n",
       "    .dataframe tbody tr th {\n",
       "        vertical-align: top;\n",
       "    }\n",
       "\n",
       "    .dataframe thead th {\n",
       "        text-align: right;\n",
       "    }\n",
       "</style>\n",
       "<table border=\"1\" class=\"dataframe\">\n",
       "  <thead>\n",
       "    <tr style=\"text-align: right;\">\n",
       "      <th></th>\n",
       "      <th>способ</th>\n",
       "      <th>ср.время</th>\n",
       "      <th>медиана ср. времени</th>\n",
       "      <th>ср.количество</th>\n",
       "      <th>медиана кол-во</th>\n",
       "      <th>использовано данных</th>\n",
       "    </tr>\n",
       "  </thead>\n",
       "  <tbody>\n",
       "    <tr>\n",
       "      <th>0</th>\n",
       "      <td>исходные данные</td>\n",
       "      <td>689.513728</td>\n",
       "      <td>642.700881</td>\n",
       "      <td>641.743538</td>\n",
       "      <td>418.0</td>\n",
       "      <td>100.00%</td>\n",
       "    </tr>\n",
       "    <tr>\n",
       "      <th>1</th>\n",
       "      <td>классический изоляционный лес</td>\n",
       "      <td>664.522707</td>\n",
       "      <td>636.230924</td>\n",
       "      <td>547.816040</td>\n",
       "      <td>399.0</td>\n",
       "      <td>90.37%</td>\n",
       "    </tr>\n",
       "    <tr>\n",
       "      <th>2</th>\n",
       "      <td>расширенный изоляционный лес</td>\n",
       "      <td>666.801513</td>\n",
       "      <td>636.230924</td>\n",
       "      <td>551.665945</td>\n",
       "      <td>399.0</td>\n",
       "      <td>93.61%</td>\n",
       "    </tr>\n",
       "    <tr>\n",
       "      <th>3</th>\n",
       "      <td>подправленный изоляционный лес</td>\n",
       "      <td>668.743475</td>\n",
       "      <td>636.916667</td>\n",
       "      <td>576.770163</td>\n",
       "      <td>410.0</td>\n",
       "      <td>96.15%</td>\n",
       "    </tr>\n",
       "  </tbody>\n",
       "</table>\n",
       "</div>"
      ],
      "text/plain": [
       "                           способ    ср.время  медиана ср. времени  \\\n",
       "0                 исходные данные  689.513728           642.700881   \n",
       "1   классический изоляционный лес  664.522707           636.230924   \n",
       "2    расширенный изоляционный лес  666.801513           636.230924   \n",
       "3  подправленный изоляционный лес  668.743475           636.916667   \n",
       "\n",
       "   ср.количество  медиана кол-во использовано данных  \n",
       "0     641.743538           418.0             100.00%  \n",
       "1     547.816040           399.0              90.37%  \n",
       "2     551.665945           399.0              93.61%  \n",
       "3     576.770163           410.0              96.15%  "
      ]
     },
     "execution_count": 18,
     "metadata": {},
     "output_type": "execute_result"
    }
   ],
   "source": [
    "results_dataframe = results_dataframe.append(\n",
    "                    {\n",
    "                    'способ':'подправленный изоляционный лес',\n",
    "                    'ср.время' : new_extended_isolation_forest_df.query('`метка`!=-1')['время'].mean(),\n",
    "                    'медиана ср. времени' : new_extended_isolation_forest_df.query('`метка`!=-1')['время'].median(),\n",
    "                     'ср.количество':new_extended_isolation_forest_df.query('`метка`!=-1')['кол-во'].mean(),\n",
    "                     'медиана кол-во':new_extended_isolation_forest_df.query('`метка`!=-1')['кол-во'].median(),\n",
    "                     'использовано данных':\"{:,.2f}%\".format(new_extended_isolation_forest_df.query('`метка`!=-1').shape[0]/data.shape[0]*100)\n",
    "                    \n",
    "                    } , \n",
    "                    ignore_index=True)\n",
    "results_dataframe"
   ]
  }
 ],
 "metadata": {
  "kernelspec": {
   "display_name": "Python 3",
   "language": "python",
   "name": "python3"
  },
  "language_info": {
   "codemirror_mode": {
    "name": "ipython",
    "version": 3
   },
   "file_extension": ".py",
   "mimetype": "text/x-python",
   "name": "python",
   "nbconvert_exporter": "python",
   "pygments_lexer": "ipython3",
   "version": "3.8.5"
  },
  "varInspector": {
   "cols": {
    "lenName": 16,
    "lenType": 16,
    "lenVar": 40
   },
   "kernels_config": {
    "python": {
     "delete_cmd_postfix": "",
     "delete_cmd_prefix": "del ",
     "library": "var_list.py",
     "varRefreshCmd": "print(var_dic_list())"
    },
    "r": {
     "delete_cmd_postfix": ") ",
     "delete_cmd_prefix": "rm(",
     "library": "var_list.r",
     "varRefreshCmd": "cat(var_dic_list()) "
    }
   },
   "types_to_exclude": [
    "module",
    "function",
    "builtin_function_or_method",
    "instance",
    "_Feature"
   ],
   "window_display": false
  }
 },
 "nbformat": 4,
 "nbformat_minor": 4
}
