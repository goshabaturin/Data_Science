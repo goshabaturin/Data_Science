{
 "cells": [
  {
   "cell_type": "markdown",
   "metadata": {},
   "source": [
    "## 1. Загрузка данных"
   ]
  },
  {
   "cell_type": "markdown",
   "metadata": {},
   "source": [
    "Пока задача не очень понятна и не видели данных, непонятно что пригодится, а что нет, поэтому на всякий случай импортируем все что знаем"
   ]
  },
  {
   "cell_type": "code",
   "execution_count": 1,
   "metadata": {},
   "outputs": [],
   "source": [
    "# подгрузим pandas\n",
    "import pandas as pd\n",
    "\n",
    "# библиотеку для графиков\n",
    "import matplotlib.pyplot as plt\n",
    "\n",
    "# библиотека для работы с математикой\n",
    "import numpy as np\n",
    "\n",
    "# библиотека для работы со статистикой\n",
    "from scipy import stats as st\n",
    "\n",
    "# метод для разделения выборки на тренировочную и валидационную\n",
    "from sklearn.model_selection import train_test_split\n",
    "\n",
    "# метод для проведения кросс-валидации\n",
    "from sklearn.model_selection import cross_val_score\n",
    "\n",
    "# метод для создания собственных метрик и вызова их в качестве метрик sklearn\n",
    "from sklearn.metrics import make_scorer\n",
    "\n",
    "# для перебора параметров в моделях случайного леса\n",
    "from sklearn.model_selection import GridSearchCV\n",
    "\n",
    "#________________________________Классификации____________________________\n",
    "\n",
    "# модель классификации логистической регрессии\n",
    "from sklearn.linear_model import LogisticRegression  \n",
    "\n",
    "# модель классификации дерева решений\n",
    "from sklearn.tree import DecisionTreeClassifier\n",
    "\n",
    "# модель классификации случайного леса\n",
    "from sklearn.ensemble import RandomForestClassifier\n",
    "\n",
    "# метрики моделей классификации\n",
    "from sklearn.metrics import precision_score, recall_score\n",
    "from sklearn.metrics import confusion_matrix\n",
    "from sklearn.metrics import accuracy_score\n",
    "from sklearn.metrics import f1_score\n",
    "from sklearn.metrics import r2_score\n",
    "from sklearn.metrics import roc_auc_score\n",
    "\n",
    "\n",
    "#________________________________Регрессии________________________________\n",
    "\n",
    "# модель линейной регрессии\n",
    "from sklearn.linear_model import LinearRegression\n",
    "\n",
    "# модель регрессии дерева решений\n",
    "from sklearn.tree import DecisionTreeRegressor\n",
    "\n",
    "# модель регрессии случайного леса\n",
    "from sklearn.ensemble import RandomForestRegressor\n",
    "\n",
    "# метрики моделей регрессии\n",
    "from sklearn.metrics import mean_squared_error # mse\n",
    "from sklearn.metrics import mean_absolute_error # mae\n",
    "from sklearn.metrics import  r2_score #r^2\n",
    "\n",
    "#________________________________________________________________________\n",
    "\n",
    "\n",
    "# стандартизация независимых переменных\n",
    "from sklearn.preprocessing import StandardScaler\n",
    "\n",
    "# для перемешивания при up/down-сэмплинге\n",
    "from sklearn.utils import shuffle\n",
    "\n",
    "# для более удобного вывода датафреймов, вместо print()\n",
    "from IPython.display import display\n"
   ]
  },
  {
   "cell_type": "code",
   "execution_count": 81,
   "metadata": {},
   "outputs": [
    {
     "data": {
      "text/html": [
       "<div>\n",
       "<style scoped>\n",
       "    .dataframe tbody tr th:only-of-type {\n",
       "        vertical-align: middle;\n",
       "    }\n",
       "\n",
       "    .dataframe tbody tr th {\n",
       "        vertical-align: top;\n",
       "    }\n",
       "\n",
       "    .dataframe thead th {\n",
       "        text-align: right;\n",
       "    }\n",
       "</style>\n",
       "<table border=\"1\" class=\"dataframe\">\n",
       "  <thead>\n",
       "    <tr style=\"text-align: right;\">\n",
       "      <th></th>\n",
       "      <th>Пол</th>\n",
       "      <th>Возраст</th>\n",
       "      <th>Зарплата</th>\n",
       "      <th>Члены семьи</th>\n",
       "      <th>Страховые выплаты</th>\n",
       "    </tr>\n",
       "  </thead>\n",
       "  <tbody>\n",
       "    <tr>\n",
       "      <td>0</td>\n",
       "      <td>1</td>\n",
       "      <td>41.0</td>\n",
       "      <td>49600.0</td>\n",
       "      <td>1</td>\n",
       "      <td>0</td>\n",
       "    </tr>\n",
       "    <tr>\n",
       "      <td>1</td>\n",
       "      <td>0</td>\n",
       "      <td>46.0</td>\n",
       "      <td>38000.0</td>\n",
       "      <td>1</td>\n",
       "      <td>1</td>\n",
       "    </tr>\n",
       "    <tr>\n",
       "      <td>2</td>\n",
       "      <td>0</td>\n",
       "      <td>29.0</td>\n",
       "      <td>21000.0</td>\n",
       "      <td>0</td>\n",
       "      <td>0</td>\n",
       "    </tr>\n",
       "    <tr>\n",
       "      <td>3</td>\n",
       "      <td>0</td>\n",
       "      <td>21.0</td>\n",
       "      <td>41700.0</td>\n",
       "      <td>2</td>\n",
       "      <td>0</td>\n",
       "    </tr>\n",
       "    <tr>\n",
       "      <td>4</td>\n",
       "      <td>1</td>\n",
       "      <td>28.0</td>\n",
       "      <td>26100.0</td>\n",
       "      <td>0</td>\n",
       "      <td>0</td>\n",
       "    </tr>\n",
       "  </tbody>\n",
       "</table>\n",
       "</div>"
      ],
      "text/plain": [
       "   Пол  Возраст  Зарплата  Члены семьи  Страховые выплаты\n",
       "0    1     41.0   49600.0            1                  0\n",
       "1    0     46.0   38000.0            1                  1\n",
       "2    0     29.0   21000.0            0                  0\n",
       "3    0     21.0   41700.0            2                  0\n",
       "4    1     28.0   26100.0            0                  0"
      ]
     },
     "metadata": {},
     "output_type": "display_data"
    }
   ],
   "source": [
    "data = pd.read_csv('/datasets/insurance.csv')\n",
    "display(data.head())"
   ]
  },
  {
   "cell_type": "markdown",
   "metadata": {},
   "source": [
    "Прежде чем что-либо делать, проверим качество исходных данных. Потому как это будет влиять на результаты модели."
   ]
  },
  {
   "cell_type": "code",
   "execution_count": 82,
   "metadata": {},
   "outputs": [
    {
     "data": {
      "text/plain": [
       "Пол                  0\n",
       "Возраст              0\n",
       "Зарплата             0\n",
       "Члены семьи          0\n",
       "Страховые выплаты    0\n",
       "dtype: int64"
      ]
     },
     "metadata": {},
     "output_type": "display_data"
    },
    {
     "data": {
      "text/plain": [
       "Пол                    int64\n",
       "Возраст              float64\n",
       "Зарплата             float64\n",
       "Члены семьи            int64\n",
       "Страховые выплаты      int64\n",
       "dtype: object"
      ]
     },
     "metadata": {},
     "output_type": "display_data"
    },
    {
     "data": {
      "text/plain": [
       "(5000, 5)"
      ]
     },
     "metadata": {},
     "output_type": "display_data"
    },
    {
     "data": {
      "text/plain": [
       "array([0, 1, 2, 3, 5, 4])"
      ]
     },
     "metadata": {},
     "output_type": "display_data"
    }
   ],
   "source": [
    "display(data.isna().sum())\n",
    "display(data.dtypes)\n",
    "display(data.shape)\n",
    "display(data['Страховые выплаты'].unique())"
   ]
  },
  {
   "cell_type": "markdown",
   "metadata": {},
   "source": [
    "Отлично, данные хороши, без пропусков и нормального типа. Можно работать дальше. \n",
    "\n",
    "Поскольку наша задача \"защитить данные, чтобы при преобразовании качество моделей машинного обучения не ухудшилось\", то нам следует знать, на какой уровень качества ориентироваться, поэтому разобъем данные на features и target и методом кросс-валидации обучим линейную регрессию."
   ]
  },
  {
   "cell_type": "code",
   "execution_count": 83,
   "metadata": {},
   "outputs": [],
   "source": [
    "def train_valid(data):\n",
    "    # опеределим зависимые и независимые переменные для обучающей выборки\n",
    "    features = data.drop('Страховые выплаты', axis=1)\n",
    "    target = data['Страховые выплаты']\n",
    "\n",
    "\n",
    "    features_train, features_valid, target_train, target_valid = train_test_split(features, target, \n",
    "                                                                                  test_size=0.2, random_state=12345)\n",
    "\n",
    "\n",
    "\n",
    "    #display(features_train.shape)\n",
    "    #display(target_train.shape)\n",
    "    #display(features_valid.shape)\n",
    "    #display(target_valid.shape)\n",
    "\n",
    "    # определим все числовие независимые переменные\n",
    "    numeric = features.columns.to_list()\n",
    "\n",
    "\n",
    "    # обучим стандартизации на тренировочных данных\n",
    "    scaler = StandardScaler()\n",
    "    scaler.fit(features_train[numeric])\n",
    "\n",
    "\n",
    "    # стандартизируем выборки\n",
    "    features_train_scaler = features_train.copy() \n",
    "    features_valid_scaler = features_valid.copy()\n",
    "\n",
    "    features_train_scaler[numeric] = scaler.transform(features_train[numeric])\n",
    "    features_valid_scaler[numeric] = scaler.transform(features_valid[numeric])\n",
    "    \n",
    "    return features_train_scaler, features_valid_scaler, target_train, target_valid\n",
    "\n",
    "features_train_scaler, features_valid_scaler, target_train, target_valid = train_valid(data)"
   ]
  },
  {
   "cell_type": "markdown",
   "metadata": {},
   "source": [
    "Отлично, данные разбили. Теперь сделаем функцию для обучения модели линейной регрессии на обучающих данных. Функцию будет возвращать обученную модель и предсказания сделанные на валидационных данных"
   ]
  },
  {
   "cell_type": "code",
   "execution_count": 84,
   "metadata": {},
   "outputs": [
    {
     "name": "stdout",
     "output_type": "stream",
     "text": [
      "r_2 модели:0.412\n",
      "\n"
     ]
    }
   ],
   "source": [
    "def learn_model(features_train_scaler, features_valid_scaler, target_train, target_valid):\n",
    "    model=LinearRegression()\n",
    "    model.fit(features_train, target_train)\n",
    "    predictions_valid = model.predict(features_valid)\n",
    "    mse = mean_squared_error(target_valid, predictions_valid) # величина ошибка, без ее направления\n",
    "    r2 = r2_score(target_valid, predictions_valid) # достоверность соответствия прогноза фактическим значениям\n",
    "    \n",
    "    #print('rmse модели: {:.3f}'.format( mse**0.5))\n",
    "    print('r_2 модели:{:.3f}'.format(r2))\n",
    "    print()\n",
    "    \n",
    "    return r2, predictions_valid\n",
    "\n",
    "r2, predictions = learn_model(features_train_scaler, features_valid_scaler, target_train, target_valid)"
   ]
  },
  {
   "cell_type": "markdown",
   "metadata": {},
   "source": [
    "Отлично. Отправная точка у нас есть."
   ]
  },
  {
   "cell_type": "markdown",
   "metadata": {},
   "source": [
    "## 2. Умножение матриц"
   ]
  },
  {
   "cell_type": "markdown",
   "metadata": {},
   "source": [
    "Ответим на вопрос, изменится ли качество линейной регрессии при умножении признаков на обратимую матрицу."
   ]
  },
  {
   "cell_type": "markdown",
   "metadata": {},
   "source": [
    "Про линейную регрессию нам известно следующее:"
   ]
  },
  {
   "cell_type": "markdown",
   "metadata": {},
   "source": [
    "Обозначения:\n",
    "\n",
    "- $X$ — матрица признаков (нулевой столбец состоит из единиц)\n",
    "\n",
    "- $y$ — вектор целевого признака\n",
    "\n",
    "- $P$ — матрица, на которую умножаются признаки\n",
    "\n",
    "- $w$ — вектор весов линейной регрессии (нулевой элемент равен сдвигу)"
   ]
  },
  {
   "cell_type": "markdown",
   "metadata": {},
   "source": [
    "Предсказания:\n",
    "\n",
    "$$\n",
    "a = Xw\n",
    "$$\n",
    "\n",
    "Задача обучения:\n",
    "\n",
    "$$\n",
    "w = \\arg\\min_w MSE(Xw, y)\n",
    "$$\n",
    "\n",
    "Формула обучения:\n",
    "\n",
    "$$\n",
    "w = (X^T X)^{-1} X^T y\n",
    "$$"
   ]
  },
  {
   "cell_type": "markdown",
   "metadata": {},
   "source": [
    "Нам необходимо доказать или опровергнуть, что:\n",
    "$$\n",
    "a = Xw = X'w', $$ где $$ X'=XP\n",
    "$$\n",
    "то есть \n",
    "$$\n",
    "a = Xw = X'w' = XPw' = a' \n",
    "$$\n"
   ]
  },
  {
   "cell_type": "markdown",
   "metadata": {},
   "source": [
    "Посмотрим на  $ a' = X'w' $  где $X'=XP$ тогда\n",
    "$ a' = X'w' =XPw'=XP([XP]^T[XP])^{-1}[XP]^Ty $  \n",
    "\n",
    "Воспользовавшись свойством (1) $(AB)^T=B^TA^T$\n",
    "\n",
    "Получим: $$ XP(P^TX^TXP)^{-1}P^TX^Ty $$\n",
    "\n",
    "Воспользовавшись свойством (2) $(AB)^{-1}=B^{-1}A^{-1}$ (а им мы можем воспользоваться в силу того факта, что матрица $X^TXP$ квадратна, за счет квадратности матрицы P, иначе матрица P не обратима, и квадратности матрицы $X^TX$)\n",
    "\n",
    "получим: $$ XP(X^TXP)^{-1}(P^T)^{-1}P^TX^Ty  \n",
    "=XP(XP)^{-1}(X^T)^{-1}(P^T)^{-1}P^TX^Ty\n",
    "=XPP^{-1}X^{-1}(X^T)^{-1}(P^T)^{-1}P^TX^Ty $$\n",
    "\n",
    "\n",
    "Снова воспользовавшись свойством (1) придем к записи вида:\n",
    "$XPP^{-1}(X^TX)^{-1}(P^T)^{-1}P^TX^Ty $\n",
    "\n",
    "Тогда, в силу свойства обратной матрицы $AA^{-1}=A^{-1}A=E$ получим\n",
    "$$ XE(X^TX)^{-1}EX^Ty = X(X^TX)^{-1}X^Ty = Xw=a $$"
   ]
  },
  {
   "cell_type": "markdown",
   "metadata": {},
   "source": [
    "**Ответ:** качество линейной регресси при умножении независимых признаков на произвольную обратимую матрицу - не изменится.\n",
    "\n"
   ]
  },
  {
   "cell_type": "markdown",
   "metadata": {},
   "source": [
    "## 3. Алгоритм преобразования"
   ]
  },
  {
   "cell_type": "markdown",
   "metadata": {},
   "source": [
    "**Алгоритм**\n",
    "\n",
    "- 1) Сгенерируем обратимую матрицу-\"ключ\" А размерности n на n, где n-количество независимых признаков.\n",
    "- 2) Найдем и запомним обратную матрицу к матрице-\"ключу\", она нам пригодится для дешифровки\n",
    "- 3) Умножим исходную матрицу независимых признаков на матрицу-\"ключ\""
   ]
  },
  {
   "cell_type": "markdown",
   "metadata": {},
   "source": [
    "**Обоснование**\n",
    "\n",
    "Как мы доказали выше, умножение матрицы признаков на произвольную обратимую (а значит квадратную) матрицу не влияет на качество линейной регрессии. Поскольку необходимым условием для умножения матриц является равенство числа элементов в строке первой матрицы и числа элементов в столбце второй матрицы, то исходя из того факта, что у нас в матрице признаков всего 4 признака (в строке 4 элемента), нам достаточно, чтоб матрица-\"ключ\" имела 4 строки в столбце, а упираясь в факт квадратности, матрица-\"ключ\" будет размерности 4х4.\n",
    "\n",
    "\n",
    "Пусть А матрица-признаков, B матрица-\"ключ\", тогда зашифрованная матрица-признаков вычисляется по формуле $C=AB$, а дешифровка матрицы С происходит путем умножения на обратную матрицу к матрице-ключу $A=CB^{-1}$"
   ]
  },
  {
   "cell_type": "markdown",
   "metadata": {},
   "source": [
    "## 4. Проверка алгоритма"
   ]
  },
  {
   "cell_type": "markdown",
   "metadata": {},
   "source": [
    "Мы уже знаем, что r2 метрика на стандартизированных признаках дает точность 0.412. Зашифруем признаки, стандартизируем их и посмотрим, какую точность получим на зашифрованных данных."
   ]
  },
  {
   "cell_type": "code",
   "execution_count": 88,
   "metadata": {},
   "outputs": [
    {
     "name": "stdout",
     "output_type": "stream",
     "text": [
      "r_2 модели:0.412\n",
      "\n"
     ]
    }
   ],
   "source": [
    "# сгенерируем матрицу-\"ключ\"\n",
    "key_matrix = np.random.rand(features.shape[1],features.shape[1])\n",
    "\n",
    "# запомним обратную матрицу для матрицы-\"ключа\"\n",
    "inv_key_matrix = np.linalg.inv(key_matrix)\n",
    "\n",
    "# зашифруем матрицу-признаков\n",
    "c=np.dot(features.values,key_matrix)\n",
    "\n",
    "\n",
    "# запишим матрицу-признаков в датафрейм\n",
    "data_with_encrypted_features=pd.DataFrame(c).astype('int64')\n",
    "data_with_encrypted_features.columns = features.columns.to_list()\n",
    "\n",
    "#display(data_with_encrypted_features.head())\n",
    "#display(data_with_encrypted_features.shape)\n",
    "\n",
    "# допишем в датафрейм зависимые переменные\n",
    "data_with_encrypted_features['Страховые выплаты']=target.copy()\n",
    "\n",
    "# разобьем на тренировочную и валидационные выборки\n",
    "features_train_encrypted_scaler, features_valid_encrypted_scaler, target_train, target_valid = train_valid(data_with_encrypted_features)\n",
    "\n",
    "# обучим модель и посмотрим на r2\n",
    "r2, predictions = learn_model(features_train_encrypted_scaler, features_valid_encrypted_scaler, \n",
    "                              target_train, target_valid)"
   ]
  },
  {
   "cell_type": "markdown",
   "metadata": {},
   "source": [
    "Таким образом, мы получили ровно туже точность. Для проверки, не случайность ли это, востановим данные из зашифрованных и заново посмотрим на r2"
   ]
  },
  {
   "cell_type": "code",
   "execution_count": 93,
   "metadata": {},
   "outputs": [
    {
     "name": "stdout",
     "output_type": "stream",
     "text": [
      "r_2 модели:0.412\n",
      "\n"
     ]
    }
   ],
   "source": [
    "# запишим дешифрованную матрицу-признаков в датафрейм\n",
    "test = pd.DataFrame(np.round(c.dot(inv_key_matrix))).astype('int64')\n",
    "test.columns = features.columns.to_list()\n",
    "#display(test.head())\n",
    "\n",
    "# допишем в датафрейм зависимые переменные\n",
    "test['Страховые выплаты']=target.copy()\n",
    "\n",
    "# разобьем на тренировочную и валидационные выборки\n",
    "features_train_test_scaler, features_valid_test_scaler, target_train, target_valid = train_valid(test)\n",
    "\n",
    "# обучим модель и посмотрим на r2\n",
    "r2, predictions = learn_model(features_train_test_scaler, features_valid_test_scaler, \n",
    "                              target_train, target_valid)\n",
    "\n"
   ]
  },
  {
   "cell_type": "markdown",
   "metadata": {},
   "source": [
    "Как видим, это не случайность и предложенный алгоритм работает отлично."
   ]
  },
  {
   "cell_type": "markdown",
   "metadata": {},
   "source": [
    "### Вывод\n",
    "\n",
    "В качестве одного из алгоритмов защиты персональных данных, который не влияет на качество предсказаний модели линейной регрессии можно использовать \"Аналитический методы шифрования\", который заключается в умножении матрицы признаков на произвольную обратимую матрицу-\"ключ\" размерности $n x n$ где n- количество признаков. При этом, следует сохранять либо саму матрицу-\"ключ\", либо обратную для нее матрицу, дабы процесс дешифровки проходил не мучительно больно."
   ]
  },
  {
   "cell_type": "code",
   "execution_count": null,
   "metadata": {},
   "outputs": [],
   "source": []
  }
 ],
 "metadata": {
  "kernelspec": {
   "display_name": "Python 3",
   "language": "python",
   "name": "python3"
  },
  "language_info": {
   "codemirror_mode": {
    "name": "ipython",
    "version": 3
   },
   "file_extension": ".py",
   "mimetype": "text/x-python",
   "name": "python",
   "nbconvert_exporter": "python",
   "pygments_lexer": "ipython3",
   "version": "3.7.9"
  }
 },
 "nbformat": 4,
 "nbformat_minor": 2
}
