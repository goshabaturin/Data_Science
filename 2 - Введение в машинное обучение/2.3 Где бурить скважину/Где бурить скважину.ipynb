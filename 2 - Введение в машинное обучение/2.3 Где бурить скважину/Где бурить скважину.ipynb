{
 "cells": [
  {
   "cell_type": "markdown",
   "metadata": {},
   "source": [
    "# Описание проекта"
   ]
  },
  {
   "cell_type": "markdown",
   "metadata": {},
   "source": [
    "Допустим, вы работаете в добывающей компании «ГлавРосГосНефть». Нужно решить, где бурить новую скважину.\n",
    "\n",
    "Вам предоставлены пробы нефти в трёх регионах: в каждом 10 000 месторождений, где измерили качество нефти и объём её запасов. Постройте модель машинного обучения, которая поможет определить регион, где добыча принесёт наибольшую прибыль. Проанализируйте возможную прибыль и риски техникой *Bootstrap.*\n",
    "\n",
    "Шаги для выбора локации:\n",
    "\n",
    "- В избранном регионе ищут месторождения, для каждого определяют значения признаков;\n",
    "- Строят модель и оценивают объём запасов;\n",
    "- Выбирают месторождения с самым высокими оценками значений. Количество месторождений зависит от бюджета компании и стоимости разработки одной скважины;\n",
    "- Прибыль равна суммарной прибыли отобранных месторождений.\n",
    "\n",
    "Условия задачи:\n",
    "\n",
    "- Для обучения модели подходит только линейная регрессия (остальные — недостаточно предсказуемые).\n",
    "- При разведке региона исследуют 500 точек, из которых выбирают 200 лучших для расчёта прибыли.\n",
    "- Бюджет на разработку скважин в регионе — 10 млрд рублей.\n",
    "- Один баррель сырья приносит 450 рублей дохода. Доход с каждой единицы продукта составляет 450 тыс. рублей, поскольку объём указан в тысячах баррелей.\n",
    "- После оценки рисков нужно оставить лишь те регионы, в которых вероятность убытков меньше 2.5%. Среди них выбирают регион с наибольшей средней прибылью.\n",
    "\n",
    "Данные синтетические: детали контрактов и характеристики месторождений не разглашаются."
   ]
  },
  {
   "cell_type": "markdown",
   "metadata": {},
   "source": [
    "# 1. Загрузка и подготовка данных"
   ]
  },
  {
   "cell_type": "code",
   "execution_count": 43,
   "metadata": {},
   "outputs": [],
   "source": [
    "import pandas as pd\n",
    "\n",
    "# деление на обучающие, тестовые, и валидационные выборки\n",
    "from sklearn.model_selection import train_test_split\n",
    "\n",
    "# стандартизация независимых переменных\n",
    "from sklearn.preprocessing import StandardScaler\n",
    "\n",
    "\n",
    "# модель линейной регрессии\n",
    "from sklearn.linear_model import LinearRegression\n",
    "\n",
    "# метрика mse\n",
    "from sklearn.metrics import mean_squared_error"
   ]
  },
  {
   "cell_type": "markdown",
   "metadata": {},
   "source": [
    "Загрузим данные и посмотрим на них"
   ]
  },
  {
   "cell_type": "code",
   "execution_count": 44,
   "metadata": {},
   "outputs": [
    {
     "data": {
      "text/html": [
       "<div>\n",
       "<style scoped>\n",
       "    .dataframe tbody tr th:only-of-type {\n",
       "        vertical-align: middle;\n",
       "    }\n",
       "\n",
       "    .dataframe tbody tr th {\n",
       "        vertical-align: top;\n",
       "    }\n",
       "\n",
       "    .dataframe thead th {\n",
       "        text-align: right;\n",
       "    }\n",
       "</style>\n",
       "<table border=\"1\" class=\"dataframe\">\n",
       "  <thead>\n",
       "    <tr style=\"text-align: right;\">\n",
       "      <th></th>\n",
       "      <th>id</th>\n",
       "      <th>f0</th>\n",
       "      <th>f1</th>\n",
       "      <th>f2</th>\n",
       "      <th>product</th>\n",
       "    </tr>\n",
       "  </thead>\n",
       "  <tbody>\n",
       "    <tr>\n",
       "      <td>0</td>\n",
       "      <td>txEyH</td>\n",
       "      <td>0.705745</td>\n",
       "      <td>-0.497823</td>\n",
       "      <td>1.221170</td>\n",
       "      <td>105.280062</td>\n",
       "    </tr>\n",
       "    <tr>\n",
       "      <td>1</td>\n",
       "      <td>2acmU</td>\n",
       "      <td>1.334711</td>\n",
       "      <td>-0.340164</td>\n",
       "      <td>4.365080</td>\n",
       "      <td>73.037750</td>\n",
       "    </tr>\n",
       "    <tr>\n",
       "      <td>2</td>\n",
       "      <td>409Wp</td>\n",
       "      <td>1.022732</td>\n",
       "      <td>0.151990</td>\n",
       "      <td>1.419926</td>\n",
       "      <td>85.265647</td>\n",
       "    </tr>\n",
       "    <tr>\n",
       "      <td>3</td>\n",
       "      <td>iJLyR</td>\n",
       "      <td>-0.032172</td>\n",
       "      <td>0.139033</td>\n",
       "      <td>2.978566</td>\n",
       "      <td>168.620776</td>\n",
       "    </tr>\n",
       "    <tr>\n",
       "      <td>4</td>\n",
       "      <td>Xdl7t</td>\n",
       "      <td>1.988431</td>\n",
       "      <td>0.155413</td>\n",
       "      <td>4.751769</td>\n",
       "      <td>154.036647</td>\n",
       "    </tr>\n",
       "  </tbody>\n",
       "</table>\n",
       "</div>"
      ],
      "text/plain": [
       "      id        f0        f1        f2     product\n",
       "0  txEyH  0.705745 -0.497823  1.221170  105.280062\n",
       "1  2acmU  1.334711 -0.340164  4.365080   73.037750\n",
       "2  409Wp  1.022732  0.151990  1.419926   85.265647\n",
       "3  iJLyR -0.032172  0.139033  2.978566  168.620776\n",
       "4  Xdl7t  1.988431  0.155413  4.751769  154.036647"
      ]
     },
     "metadata": {},
     "output_type": "display_data"
    },
    {
     "data": {
      "text/html": [
       "<div>\n",
       "<style scoped>\n",
       "    .dataframe tbody tr th:only-of-type {\n",
       "        vertical-align: middle;\n",
       "    }\n",
       "\n",
       "    .dataframe tbody tr th {\n",
       "        vertical-align: top;\n",
       "    }\n",
       "\n",
       "    .dataframe thead th {\n",
       "        text-align: right;\n",
       "    }\n",
       "</style>\n",
       "<table border=\"1\" class=\"dataframe\">\n",
       "  <thead>\n",
       "    <tr style=\"text-align: right;\">\n",
       "      <th></th>\n",
       "      <th>id</th>\n",
       "      <th>f0</th>\n",
       "      <th>f1</th>\n",
       "      <th>f2</th>\n",
       "      <th>product</th>\n",
       "    </tr>\n",
       "  </thead>\n",
       "  <tbody>\n",
       "    <tr>\n",
       "      <td>0</td>\n",
       "      <td>kBEdx</td>\n",
       "      <td>-15.001348</td>\n",
       "      <td>-8.276000</td>\n",
       "      <td>-0.005876</td>\n",
       "      <td>3.179103</td>\n",
       "    </tr>\n",
       "    <tr>\n",
       "      <td>1</td>\n",
       "      <td>62mP7</td>\n",
       "      <td>14.272088</td>\n",
       "      <td>-3.475083</td>\n",
       "      <td>0.999183</td>\n",
       "      <td>26.953261</td>\n",
       "    </tr>\n",
       "    <tr>\n",
       "      <td>2</td>\n",
       "      <td>vyE1P</td>\n",
       "      <td>6.263187</td>\n",
       "      <td>-5.948386</td>\n",
       "      <td>5.001160</td>\n",
       "      <td>134.766305</td>\n",
       "    </tr>\n",
       "    <tr>\n",
       "      <td>3</td>\n",
       "      <td>KcrkZ</td>\n",
       "      <td>-13.081196</td>\n",
       "      <td>-11.506057</td>\n",
       "      <td>4.999415</td>\n",
       "      <td>137.945408</td>\n",
       "    </tr>\n",
       "    <tr>\n",
       "      <td>4</td>\n",
       "      <td>AHL4O</td>\n",
       "      <td>12.702195</td>\n",
       "      <td>-8.147433</td>\n",
       "      <td>5.004363</td>\n",
       "      <td>134.766305</td>\n",
       "    </tr>\n",
       "  </tbody>\n",
       "</table>\n",
       "</div>"
      ],
      "text/plain": [
       "      id         f0         f1        f2     product\n",
       "0  kBEdx -15.001348  -8.276000 -0.005876    3.179103\n",
       "1  62mP7  14.272088  -3.475083  0.999183   26.953261\n",
       "2  vyE1P   6.263187  -5.948386  5.001160  134.766305\n",
       "3  KcrkZ -13.081196 -11.506057  4.999415  137.945408\n",
       "4  AHL4O  12.702195  -8.147433  5.004363  134.766305"
      ]
     },
     "metadata": {},
     "output_type": "display_data"
    },
    {
     "data": {
      "text/html": [
       "<div>\n",
       "<style scoped>\n",
       "    .dataframe tbody tr th:only-of-type {\n",
       "        vertical-align: middle;\n",
       "    }\n",
       "\n",
       "    .dataframe tbody tr th {\n",
       "        vertical-align: top;\n",
       "    }\n",
       "\n",
       "    .dataframe thead th {\n",
       "        text-align: right;\n",
       "    }\n",
       "</style>\n",
       "<table border=\"1\" class=\"dataframe\">\n",
       "  <thead>\n",
       "    <tr style=\"text-align: right;\">\n",
       "      <th></th>\n",
       "      <th>id</th>\n",
       "      <th>f0</th>\n",
       "      <th>f1</th>\n",
       "      <th>f2</th>\n",
       "      <th>product</th>\n",
       "    </tr>\n",
       "  </thead>\n",
       "  <tbody>\n",
       "    <tr>\n",
       "      <td>0</td>\n",
       "      <td>fwXo0</td>\n",
       "      <td>-1.146987</td>\n",
       "      <td>0.963328</td>\n",
       "      <td>-0.828965</td>\n",
       "      <td>27.758673</td>\n",
       "    </tr>\n",
       "    <tr>\n",
       "      <td>1</td>\n",
       "      <td>WJtFt</td>\n",
       "      <td>0.262778</td>\n",
       "      <td>0.269839</td>\n",
       "      <td>-2.530187</td>\n",
       "      <td>56.069697</td>\n",
       "    </tr>\n",
       "    <tr>\n",
       "      <td>2</td>\n",
       "      <td>ovLUW</td>\n",
       "      <td>0.194587</td>\n",
       "      <td>0.289035</td>\n",
       "      <td>-5.586433</td>\n",
       "      <td>62.871910</td>\n",
       "    </tr>\n",
       "    <tr>\n",
       "      <td>3</td>\n",
       "      <td>q6cA6</td>\n",
       "      <td>2.236060</td>\n",
       "      <td>-0.553760</td>\n",
       "      <td>0.930038</td>\n",
       "      <td>114.572842</td>\n",
       "    </tr>\n",
       "    <tr>\n",
       "      <td>4</td>\n",
       "      <td>WPMUX</td>\n",
       "      <td>-0.515993</td>\n",
       "      <td>1.716266</td>\n",
       "      <td>5.899011</td>\n",
       "      <td>149.600746</td>\n",
       "    </tr>\n",
       "  </tbody>\n",
       "</table>\n",
       "</div>"
      ],
      "text/plain": [
       "      id        f0        f1        f2     product\n",
       "0  fwXo0 -1.146987  0.963328 -0.828965   27.758673\n",
       "1  WJtFt  0.262778  0.269839 -2.530187   56.069697\n",
       "2  ovLUW  0.194587  0.289035 -5.586433   62.871910\n",
       "3  q6cA6  2.236060 -0.553760  0.930038  114.572842\n",
       "4  WPMUX -0.515993  1.716266  5.899011  149.600746"
      ]
     },
     "metadata": {},
     "output_type": "display_data"
    }
   ],
   "source": [
    "\n",
    "geo_data_1 = pd.read_csv('https://code.s3.yandex.net/datasets/geo_data_0.csv')\n",
    "display(geo_data_1.head())\n",
    "\n",
    "geo_data_2 = pd.read_csv('https://code.s3.yandex.net/datasets/geo_data_1.csv')\n",
    "display(geo_data_2.head())\n",
    "\n",
    "geo_data_3 = pd.read_csv('https://code.s3.yandex.net/datasets/geo_data_2.csv')\n",
    "display(geo_data_3.head())"
   ]
  },
  {
   "cell_type": "markdown",
   "metadata": {},
   "source": [
    "Отлично, данные загрузились корректно. Но у нас получилось 3 датафрейма. Чтобы выполнить проверку данных за 1 раз, а не повторять действия 3 раза - добавим каждому датафрейму столбец-идентификатор региона и соберем все данные в 1 датасет"
   ]
  },
  {
   "cell_type": "code",
   "execution_count": 45,
   "metadata": {},
   "outputs": [
    {
     "data": {
      "text/html": [
       "<div>\n",
       "<style scoped>\n",
       "    .dataframe tbody tr th:only-of-type {\n",
       "        vertical-align: middle;\n",
       "    }\n",
       "\n",
       "    .dataframe tbody tr th {\n",
       "        vertical-align: top;\n",
       "    }\n",
       "\n",
       "    .dataframe thead th {\n",
       "        text-align: right;\n",
       "    }\n",
       "</style>\n",
       "<table border=\"1\" class=\"dataframe\">\n",
       "  <thead>\n",
       "    <tr style=\"text-align: right;\">\n",
       "      <th></th>\n",
       "      <th>id</th>\n",
       "      <th>f0</th>\n",
       "      <th>f1</th>\n",
       "      <th>f2</th>\n",
       "      <th>product</th>\n",
       "      <th>region</th>\n",
       "    </tr>\n",
       "  </thead>\n",
       "  <tbody>\n",
       "    <tr>\n",
       "      <td>0</td>\n",
       "      <td>txEyH</td>\n",
       "      <td>0.705745</td>\n",
       "      <td>-0.497823</td>\n",
       "      <td>1.221170</td>\n",
       "      <td>105.280062</td>\n",
       "      <td>1</td>\n",
       "    </tr>\n",
       "    <tr>\n",
       "      <td>1</td>\n",
       "      <td>2acmU</td>\n",
       "      <td>1.334711</td>\n",
       "      <td>-0.340164</td>\n",
       "      <td>4.365080</td>\n",
       "      <td>73.037750</td>\n",
       "      <td>1</td>\n",
       "    </tr>\n",
       "    <tr>\n",
       "      <td>2</td>\n",
       "      <td>409Wp</td>\n",
       "      <td>1.022732</td>\n",
       "      <td>0.151990</td>\n",
       "      <td>1.419926</td>\n",
       "      <td>85.265647</td>\n",
       "      <td>1</td>\n",
       "    </tr>\n",
       "    <tr>\n",
       "      <td>3</td>\n",
       "      <td>iJLyR</td>\n",
       "      <td>-0.032172</td>\n",
       "      <td>0.139033</td>\n",
       "      <td>2.978566</td>\n",
       "      <td>168.620776</td>\n",
       "      <td>1</td>\n",
       "    </tr>\n",
       "    <tr>\n",
       "      <td>4</td>\n",
       "      <td>Xdl7t</td>\n",
       "      <td>1.988431</td>\n",
       "      <td>0.155413</td>\n",
       "      <td>4.751769</td>\n",
       "      <td>154.036647</td>\n",
       "      <td>1</td>\n",
       "    </tr>\n",
       "    <tr>\n",
       "      <td>...</td>\n",
       "      <td>...</td>\n",
       "      <td>...</td>\n",
       "      <td>...</td>\n",
       "      <td>...</td>\n",
       "      <td>...</td>\n",
       "      <td>...</td>\n",
       "    </tr>\n",
       "    <tr>\n",
       "      <td>99995</td>\n",
       "      <td>4GxBu</td>\n",
       "      <td>-1.777037</td>\n",
       "      <td>1.125220</td>\n",
       "      <td>6.263374</td>\n",
       "      <td>172.327046</td>\n",
       "      <td>3</td>\n",
       "    </tr>\n",
       "    <tr>\n",
       "      <td>99996</td>\n",
       "      <td>YKFjq</td>\n",
       "      <td>-1.261523</td>\n",
       "      <td>-0.894828</td>\n",
       "      <td>2.524545</td>\n",
       "      <td>138.748846</td>\n",
       "      <td>3</td>\n",
       "    </tr>\n",
       "    <tr>\n",
       "      <td>99997</td>\n",
       "      <td>tKPY3</td>\n",
       "      <td>-1.199934</td>\n",
       "      <td>-2.957637</td>\n",
       "      <td>5.219411</td>\n",
       "      <td>157.080080</td>\n",
       "      <td>3</td>\n",
       "    </tr>\n",
       "    <tr>\n",
       "      <td>99998</td>\n",
       "      <td>nmxp2</td>\n",
       "      <td>-2.419896</td>\n",
       "      <td>2.417221</td>\n",
       "      <td>-5.548444</td>\n",
       "      <td>51.795253</td>\n",
       "      <td>3</td>\n",
       "    </tr>\n",
       "    <tr>\n",
       "      <td>99999</td>\n",
       "      <td>V9kWn</td>\n",
       "      <td>-2.551421</td>\n",
       "      <td>-2.025625</td>\n",
       "      <td>6.090891</td>\n",
       "      <td>102.775767</td>\n",
       "      <td>3</td>\n",
       "    </tr>\n",
       "  </tbody>\n",
       "</table>\n",
       "<p>300000 rows × 6 columns</p>\n",
       "</div>"
      ],
      "text/plain": [
       "          id        f0        f1        f2     product  region\n",
       "0      txEyH  0.705745 -0.497823  1.221170  105.280062       1\n",
       "1      2acmU  1.334711 -0.340164  4.365080   73.037750       1\n",
       "2      409Wp  1.022732  0.151990  1.419926   85.265647       1\n",
       "3      iJLyR -0.032172  0.139033  2.978566  168.620776       1\n",
       "4      Xdl7t  1.988431  0.155413  4.751769  154.036647       1\n",
       "...      ...       ...       ...       ...         ...     ...\n",
       "99995  4GxBu -1.777037  1.125220  6.263374  172.327046       3\n",
       "99996  YKFjq -1.261523 -0.894828  2.524545  138.748846       3\n",
       "99997  tKPY3 -1.199934 -2.957637  5.219411  157.080080       3\n",
       "99998  nmxp2 -2.419896  2.417221 -5.548444   51.795253       3\n",
       "99999  V9kWn -2.551421 -2.025625  6.090891  102.775767       3\n",
       "\n",
       "[300000 rows x 6 columns]"
      ]
     },
     "metadata": {},
     "output_type": "display_data"
    }
   ],
   "source": [
    "geo_data_1['region']=1\n",
    "geo_data_2['region']=2\n",
    "geo_data_3['region']=3\n",
    "\n",
    "#print(geo_data_1.shape)\n",
    "#print(geo_data_2.shape)\n",
    "#print(geo_data_3.shape)\n",
    "\n",
    "geo_data = geo_data_1.append(geo_data_2)\n",
    "geo_data = geo_data.append(geo_data_3).copy()\n",
    "\n",
    "display(geo_data)"
   ]
  },
  {
   "cell_type": "markdown",
   "metadata": {},
   "source": [
    "Данные загрузили и собрали, теперь можно заняться подготовкой. Посмотрим на имена столбцов и если нужно, то переименуем. Затем посмотрим на тип переменных и исправим если нужно. После это проверим на наличие явных дублей и почистим если необходимо. И наконец посмотрим на пропуски значений и обработаем если будет такая необходимость."
   ]
  },
  {
   "cell_type": "code",
   "execution_count": 46,
   "metadata": {},
   "outputs": [
    {
     "name": "stdout",
     "output_type": "stream",
     "text": [
      "названия столбцов: Index(['id', 'f0', 'f1', 'f2', 'product', 'region'], dtype='object')\n",
      "типы данных:\n",
      " id          object\n",
      "f0         float64\n",
      "f1         float64\n",
      "f2         float64\n",
      "product    float64\n",
      "region       int64\n",
      "dtype: object\n",
      "всего явных дублей: 0\n",
      "всего пропусков данных:\n",
      " id         0\n",
      "f0         0\n",
      "f1         0\n",
      "f2         0\n",
      "product    0\n",
      "region     0\n",
      "dtype: int64\n"
     ]
    }
   ],
   "source": [
    "print('названия столбцов:',geo_data.columns)\n",
    "print('типы данных:\\n',geo_data.dtypes)\n",
    "print('всего явных дублей:',geo_data.duplicated().sum())\n",
    "print('всего пропусков данных:\\n',geo_data.isna().sum())"
   ]
  },
  {
   "cell_type": "markdown",
   "metadata": {},
   "source": [
    "Отлично. Нам дали кашерные исходные данны. Можно переходить к обучению и проверке модели."
   ]
  },
  {
   "cell_type": "markdown",
   "metadata": {},
   "source": [
    "# 2. Обучение и проверка модели"
   ]
  },
  {
   "cell_type": "markdown",
   "metadata": {},
   "source": [
    "По условию задачи \"для обучения модели подходит только линейная регрессия (остальные — недостаточно предсказуемые)\", поэтому будем использовать ее. Однако, перед тем как использовать линейную регрессию нам нужно сначала разбить данные на обучающию и валидационную выборку. Делать это будем в соотношении 75:25. При этом следует помнить, что работаем мы все же с 3 датафреймами для каждого региона, поэтому обучение и проверку моделей необходимо будет сделать 3 раза, а значит имеет смысл писать функции, а не плодить однотипный код."
   ]
  },
  {
   "cell_type": "code",
   "execution_count": 47,
   "metadata": {},
   "outputs": [],
   "source": [
    "# напишем функию для разбиения выборки на тренировочную и валидационную. Стандартизируем независимые переменные\n",
    "\n",
    "def split_data(data):\n",
    "    # определим зависимые и независимые переменные\n",
    "    target = data['product']\n",
    "    \n",
    "    # не забываем удалить регион, который мы довабляли, чтоб склеить данные, а так же идентификатор скважины\n",
    "    features = data.drop(['product','region','id'], axis=1)\n",
    "\n",
    "    # сначала выделим тестовую выборку и тренировочкую\n",
    "    features_train, features_valid, target_train, target_valid = train_test_split(\n",
    "        features, target, test_size=0.25, random_state=12345)\n",
    "\n",
    "\n",
    "    # определим все числовие независимые переменные\n",
    "    numeric = ['f0', 'f1', 'f2']\n",
    "\n",
    "\n",
    "    # обучим стандартизации на тренировочных данных\n",
    "    scaler = StandardScaler()\n",
    "    scaler.fit(features_train[numeric])\n",
    "\n",
    "\n",
    "\n",
    "\n",
    "    # стандартизируем выборки\n",
    "    features_train_scaler = features_train.copy() \n",
    "    features_valid_scaler = features_valid.copy()\n",
    "\n",
    "    features_train_scaler[numeric] = scaler.transform(features_train[numeric])\n",
    "    features_valid_scaler[numeric] = scaler.transform(features_valid[numeric])\n",
    "\n",
    "    \n",
    "    return features_train_scaler, features_valid_scaler, target_train, target_valid\n",
    "\n",
    "\n",
    "# разделим выборку для 1 региона\n",
    "features_train_1, features_valid_1, target_train_1, target_valid_1 = split_data(geo_data_1)\n",
    "\n",
    "# разделим выборку для 2 региона\n",
    "features_train_2, features_valid_2, target_train_2, target_valid_2 = split_data(geo_data_2)\n",
    "\n",
    "# разделим выборку для 3 региона\n",
    "features_train_3, features_valid_3, target_train_3, target_valid_3 = split_data(geo_data_3)\n",
    "\n",
    "\n",
    "#display(features_train_1.head())\n",
    "#display(features_train_1.shape)"
   ]
  },
  {
   "cell_type": "markdown",
   "metadata": {},
   "source": [
    "Отлично, данные разбили. Теперь сделаем аналогичную функцию для обучения модели линейной регрессии на обучающих данных. Функцию будет возвращать обученную модель и предсказания сделанные на валидационных данных"
   ]
  },
  {
   "cell_type": "code",
   "execution_count": 48,
   "metadata": {},
   "outputs": [
    {
     "name": "stdout",
     "output_type": "stream",
     "text": [
      "Регион  1\n",
      "средний предсказанный запас сырья: 92.593\n",
      "средний реальный запас сырья: 92.079\n",
      "rmse запаса сырья: 37.579\n",
      "\n",
      "Регион  2\n",
      "средний предсказанный запас сырья: 68.729\n",
      "средний реальный запас сырья: 68.723\n",
      "rmse запаса сырья: 0.893\n",
      "\n",
      "Регион  3\n",
      "средний предсказанный запас сырья: 94.965\n",
      "средний реальный запас сырья: 94.884\n",
      "rmse запаса сырья: 40.030\n",
      "\n"
     ]
    }
   ],
   "source": [
    "def learn_model(num, features_train, features_valid, target_train, target_valid):\n",
    "    model=LinearRegression()\n",
    "    model.fit(features_train, target_train)\n",
    "    predictions_valid = model.predict(features_valid)\n",
    "    mse = mean_squared_error(target_valid, predictions_valid)\n",
    "    \n",
    "    print(\"Регион \", num)\n",
    "    print('средний предсказанный запас сырья: {:.3f}'.format(predictions_valid.mean()))\n",
    "    print('средний реальный запас сырья: {:.3f}'.format(target_valid.mean()))\n",
    "    print('rmse запаса сырья: {:.3f}'.format( mse**0.5))\n",
    "    print()\n",
    "    \n",
    "    return mse, predictions_valid\n",
    "\n",
    "mse_1, predictions_1 = learn_model(1, features_train_1, features_valid_1, target_train_1, target_valid_1)\n",
    "\n",
    "mse_2, predictions_2 = learn_model(2, features_train_2, features_valid_2, target_train_2, target_valid_2)\n",
    "\n",
    "mse_3, predictions_3 = learn_model(3, features_train_3, features_valid_3, target_train_3, target_valid_3)\n",
    "\n",
    "\n"
   ]
  },
  {
   "cell_type": "markdown",
   "metadata": {},
   "source": [
    "Как видим, по предсказанным данным в 3 регионе самые большие средние запасы сырья на 1 скважину. При этом там же и самая большая возможная ошибка, то есть средний разброс между очень \"наполненными\" и очень \"пустыми\" скважинами там больше. В регионе 2 самый маленький средний запас сырья на 1 скажину, при этом очень маленький rmse, что может говорить о том, что в регионе все скважины примерно одинаково \"наполнены\". \n",
    "\n",
    "Посмотрим на гистограммы \"наполненности\" скважин по регионам."
   ]
  },
  {
   "cell_type": "code",
   "execution_count": 49,
   "metadata": {},
   "outputs": [
    {
     "data": {
      "image/png": "[encoded data removed]",
      "text/plain": [
       "<Figure size 432x288 with 1 Axes>"
      ]
     },
     "metadata": {
      "needs_background": "light"
     },
     "output_type": "display_data"
    }
   ],
   "source": [
    "import matplotlib.pyplot as plt\n",
    "x_1 = geo_data_1['product']\n",
    "x_2 = geo_data_2['product']\n",
    "x_3 = geo_data_3['product']\n",
    "\n",
    "plt.hist(x_1, alpha=0.5, bins=10, label='region 1')\n",
    "plt.hist(x_2, alpha=0.5, bins=10, label='region 2')\n",
    "plt.hist(x_3, alpha=0.5, bins=10, label='region 3')\n",
    "plt.legend(loc='upper right')\n",
    "plt.title('гистограммы \"наполненности\" скважин по регионам')\n",
    "plt.show()"
   ]
  },
  {
   "cell_type": "markdown",
   "metadata": {},
   "source": [
    "Как и предполагалось, во втором регионе все скважины примерно равны, но есть выбросы c большой (для региона) и малой (для всех рассматриваемых регионов) наполняемостью скважин.\n",
    "\n",
    "Касательно 1 и 3 региона - они достаточно пожожи, однако гистограма \"наполненности\" скважин в 3 регионе смещена вправо, а значит и медианное значение \"заполненности\" там выше. Однако предсказанный средний запас сырья в 1 и 3 регионе различается на 2тыс. баррелей, а rmse на 3 тыс. баррелей. Все это может говорить о том, что третий регион может и выглядит на гистограмме, как более привлекательный для инвестиций, на деле же, первый и третий регионы примерно одинаковы.\n",
    "\n",
    "Проверим выводы относительно первого и третьего региона на данных."
   ]
  },
  {
   "cell_type": "code",
   "execution_count": 50,
   "metadata": {},
   "outputs": [
    {
     "name": "stdout",
     "output_type": "stream",
     "text": [
      "92.50000000000001\n",
      "95.00000000000004\n",
      "91.84997204396296\n",
      "94.92561258990246\n"
     ]
    }
   ],
   "source": [
    "print(x_1.mean())\n",
    "print(x_3.mean())\n",
    "print(x_1.median())\n",
    "print(x_3.median())"
   ]
  },
  {
   "cell_type": "markdown",
   "metadata": {},
   "source": [
    "Как видим, наши выводы верны."
   ]
  },
  {
   "cell_type": "markdown",
   "metadata": {},
   "source": [
    "# 3. Подготовка к расчёту прибыли"
   ]
  },
  {
   "cell_type": "markdown",
   "metadata": {},
   "source": [
    "Для расчета прибыли нам необходимо написать функцию. По условиям задания:\n",
    "\n",
    "- При разведке региона исследуют 500 точек, из которых выбирают 200 лучших для расчёта прибыли.\n",
    "- Бюджет на разработку скважин в регионе — 10 млрд рублей.\n",
    "- Один баррель сырья приносит 450 рублей дохода. Доход с каждой единицы продукта составляет 450 тыс. рублей, поскольку объём указан в тысячах баррелей.\n",
    "\n",
    "Используем эти данные чтоб посчитать прибыль по 200 лучшим скважинам. 500 случайных скважин мы будем отбирать позже, когда будем делать функцию для бутстрапа."
   ]
  },
  {
   "cell_type": "code",
   "execution_count": 51,
   "metadata": {},
   "outputs": [
    {
     "name": "stdout",
     "output_type": "stream",
     "text": [
      "прибыль 1 региона до бутстрапа:3320826043.1399\n",
      "прибыль 2 региона до бутстрапа:2415086696.6815\n",
      "прибыль 3 региона до бутстрапа:2710349963.5998\n"
     ]
    }
   ],
   "source": [
    "# объявим глобальные переменные\n",
    "profit_per_burrel = 450\n",
    "total_budget = 10**10\n",
    "total_points_for_bootstrap = 500\n",
    "quantity_of_best_points = 200\n",
    "\n",
    "# напишем функцию, которая считает прибыль как прибыль со всего добытого из 200 лучших, \n",
    "# согласно прогнозу, скважин  минус бюджет на регион\n",
    "\n",
    "def profit(target, predictions):\n",
    "    # преобразуем предсказанную \"наполняемость\" из массива numpy в pandas series\n",
    "    predictions = pd.Series(predictions)\n",
    "    target = target.reset_index(drop=True)\n",
    "    predictions = predictions.reset_index(drop=True)\n",
    "    \n",
    "    # отсортируем по убванию предсказанной \"наполняемости\" скважины\n",
    "    predictions_sorted = predictions.sort_values(ascending=False)\n",
    "   \n",
    "\n",
    "    # возмем 200 лучших скважин, они же 200 первых в отсортированном списке\n",
    "    sort = predictions_sorted[:quantity_of_best_points]\n",
    "\n",
    "    # для этих 200 скважин возьмем реальные, а не предсказанные значения их \"наполняемости\"\n",
    "    selected = target[sort.index][:quantity_of_best_points]\n",
    "   \n",
    "    # посчитаем профит как профит с добытого минус бюджет на запуск\n",
    "    profit = profit_per_burrel*selected.sum()*1000-total_budget\n",
    "    \n",
    "    return (profit, selected)\n",
    "\n",
    "# посчитаем прибыль в каждом регионе\n",
    "profit_1, top200_1 = profit(target_valid_1, predictions_1)\n",
    "profit_2, top200_2= profit(target_valid_2, predictions_2)\n",
    "profit_3, top200_3 = profit(target_valid_3, predictions_3)\n",
    "\n",
    "print(\"прибыль 1 региона до бутстрапа:{:.4f}\".format(profit_1))\n",
    "print(\"прибыль 2 региона до бутстрапа:{:.4f}\".format(profit_2))\n",
    "print(\"прибыль 3 региона до бутстрапа:{:.4f}\".format(profit_3))\n"
   ]
  },
  {
   "cell_type": "markdown",
   "metadata": {},
   "source": [
    "<font color='blue'>\n",
    "Посчитаем необходимую \"наполняемость\" скважины для безубыточной разработки и сравним со средней \"наполняемостью\" 200 лучших скважин в регионе.\n",
    "</font>"
   ]
  },
  {
   "cell_type": "code",
   "execution_count": 52,
   "metadata": {},
   "outputs": [
    {
     "name": "stdout",
     "output_type": "stream",
     "text": [
      "Для безубыточной разработки скважина должа содержать 111.11тыс. баррелей\n",
      "Средние запасы сырья в скважинах 1 региона 148.01тыс. баррелей\n",
      "Средние запасы сырья в скважинах 2 региона 137.95тыс. баррелей\n",
      "Средние запасы сырья в скважинах 3 региона 141.23тыс. баррелей\n"
     ]
    }
   ],
   "source": [
    "print('Для безубыточной разработки скважина должа содержать {:.2f}тыс. баррелей'.format(total_budget/200/(profit_per_burrel*1000)))\n",
    "print('Средние запасы сырья в скважинах 1 региона {:.2f}тыс. баррелей'.format(top200_1.mean()))\n",
    "print('Средние запасы сырья в скважинах 2 региона {:.2f}тыс. баррелей'.format(top200_2.mean()))\n",
    "print('Средние запасы сырья в скважинах 3 региона {:.2f}тыс. баррелей'.format(top200_3.mean()))"
   ]
  },
  {
   "cell_type": "markdown",
   "metadata": {},
   "source": [
    "Отлично, функцию подсчета прибыли по 200 лучшим скважинам мы написали, <font color='blue'>а заодно посчитали необходимый запас сырья в скважине, для безубыточной разработки</font>. Пока все выглядит так, как-будто имеет смысл вкладываться в 1 регион в первую очередь, <font color='blue'>там больше средние запасы сырья на 1 скважину и как следствие прибыль (при этом во всех регионах 200 лучших скважин имеют средние запасы выше порогового значения для безубыточной разработки)</font>. Так ли это? <font color='blue'>Поскольку в нашей модели прибыль линейно зависима от \"наполняемости\" скважин, то будем работать напрямую с прибылью, но при сдаче результатов заказчику, все же лучше явно указать минимальный объем сырья в скважине для безубыточной разработки. </font> Напишем функцию бутстрапа, которая 1000 раз будет случайным образом отбирать с возвращением 500 случайных точек и передавать их в функцию подсчета прибыли и посмотрим, какова средняя прибыль из этих 1000 итераций для каждого региона."
   ]
  },
  {
   "cell_type": "code",
   "execution_count": 53,
   "metadata": {},
   "outputs": [
    {
     "name": "stdout",
     "output_type": "stream",
     "text": [
      "Средняя прибыль 1 региона по бутстрапу:396164985\n",
      "Средняя прибыль 2 региона по бутстрапу:456045106\n",
      "Средняя прибыль 3 региона по бутстрапу:404403867\n"
     ]
    }
   ],
   "source": [
    "import numpy as np\n",
    "def bootstrap (target, predictions):\n",
    "    state = np.random.RandomState(12345)\n",
    "    \n",
    "    predictions = pd.Series(predictions)\n",
    "    target = target.reset_index(drop=True)\n",
    "    predictions = predictions.reset_index(drop=True)\n",
    "    \n",
    "    profits = []\n",
    "    for i in range(1000):\n",
    "        # выбираем из нашего фрейма случайным образом 500 скважин с возвращением\n",
    "        target_subsample = target.sample(n=total_points_for_bootstrap, replace=True, random_state= state)\n",
    "        \n",
    "        # для этих 500 скважин берем те значения \"наполняемости\", что нам предсказала модель\n",
    "        predictions_subsample = predictions[target_subsample.index]\n",
    "        \n",
    "        # считаем реальную, а не модельную прибыль для 200 лучших скважин из этих 500\n",
    "        prof, top = profit(target_subsample,  predictions_subsample)\n",
    "\n",
    "        profits.append(prof)\n",
    "        \n",
    "    return pd.Series(profits)\n",
    "\n",
    "# посчитаем бутстрапом, на 1000 выборках среднюю прибыль с 200 лучших скважин из 500 отобранных с возвращением\n",
    "bootstrap_profit_1 = bootstrap(target_valid_1, predictions_1)\n",
    "bootstrap_profit_2 = bootstrap(target_valid_2, predictions_2)\n",
    "bootstrap_profit_3 = bootstrap(target_valid_3, predictions_3)\n",
    "\n",
    "print (\"Средняя прибыль 1 региона по бутстрапу:{:.0f}\".format(bootstrap_profit_1.mean()))\n",
    "print (\"Средняя прибыль 2 региона по бутстрапу:{:.0f}\".format(bootstrap_profit_2.mean()))\n",
    "print (\"Средняя прибыль 3 региона по бутстрапу:{:.0f}\".format(bootstrap_profit_3.mean()))"
   ]
  },
  {
   "cell_type": "markdown",
   "metadata": {},
   "source": [
    "Явный аутсайдер по прибыли \"в лоб\", второй регион, неожиданно стал лидером и теперь уже не выглядит таким уж мало перспективным по сравнению с другими регионами."
   ]
  },
  {
   "cell_type": "markdown",
   "metadata": {},
   "source": [
    "# 4. Расчёт прибыли и рисков "
   ]
  },
  {
   "cell_type": "markdown",
   "metadata": {},
   "source": [
    "Поскольку прибыль мы расчитали на предыдущем шаге, расчитаем риски. По условию задания, риски прибыли и убытков считаются на 95% доверительном интервале. Для расчета рисков напишем отдельную функцию."
   ]
  },
  {
   "cell_type": "code",
   "execution_count": 54,
   "metadata": {},
   "outputs": [
    {
     "name": "stdout",
     "output_type": "stream",
     "text": [
      "статистика 1 региона\n",
      "среднее значение прибыли: 396164984.8024\n",
      "2.5%-квантиль: -111215545.89049526\n",
      "95% доверительный интервал (-111215545.89049526,909766941.5534225)\n",
      "риск убытков 0.069\n",
      "\n",
      "статистика 2 региона\n",
      "среднее значение прибыли: 456045105.7867\n",
      "2.5%-квантиль: 33820509.39898549\n",
      "95% доверительный интервал (33820509.39898549,852289453.8660344)\n",
      "риск убытков 0.015\n",
      "\n",
      "статистика 3 региона\n",
      "среднее значение прибыли: 404403866.5684\n",
      "2.5%-квантиль: -163350413.3955992\n",
      "95% доверительный интервал (-163350413.3955992,950359574.9238014)\n",
      "риск убытков 0.076\n",
      "\n"
     ]
    }
   ],
   "source": [
    "from scipy import stats as st\n",
    "\n",
    "# напишем функцию расчета доверительного интервала и рисков\n",
    "def confidence_interval(sample):\n",
    "    sample=pd.Series(sample)\n",
    "    \n",
    "    # расчитаем 95% доверительный интервал (интервал, в котором с вероятностью 95% будет лежать истенное значение прибыли)\n",
    "    #interval = st.t.interval(alpha=0.95, df=len(sample)-1, loc=sample.mean(), scale=sample.sem())\n",
    "    \n",
    "    interval='('+str(sample.quantile(0.025))+','+str(sample.quantile(0.975))+')'\n",
    "    \n",
    "    # расчитаем среднее значение прибыли\n",
    "    sample_mean = sample.mean()\n",
    "    \n",
    "    # расчитаем значение прибыли при уровне риска в 2.5%\n",
    "    # проведя аналогию можно сказать, что мы сортируем по убыванию, берем блок из 2.5% худших результатов\n",
    "    # и смотрим на лучшее значение из них\n",
    "    lower = sample.quantile(0.025)\n",
    "    \n",
    "    # расчитаем с какой вероятностью мы вообще получим убыток\n",
    "    # другими словами мы смотрим долю отризательных прибылей в массиве.\n",
    "    risk = (sample<0).mean()\n",
    "    \n",
    "    return interval, sample_mean, lower, risk\n",
    "\n",
    "# расчитаем доверительный интервал для средней прибыли каждого региона после бутстрапа и выведем основные параметры регионов\n",
    "\n",
    "def region_info(region_number, df):\n",
    "    \n",
    "    interval, mean, lower, risk = confidence_interval(df)\n",
    "    print('статистика {} региона'.format(region_number))\n",
    "    print('среднее значение прибыли: {:.4f}'.format(mean))\n",
    "    print('2.5%-квантиль:', lower)\n",
    "    print('95% доверительный интервал', interval)\n",
    "    print('риск убытков', risk)\n",
    "    print()\n",
    "\n",
    "\n",
    "region_info(1,bootstrap_profit_1)\n",
    "region_info(2,bootstrap_profit_2)\n",
    "region_info(3,bootstrap_profit_3)\n"
   ]
  },
  {
   "cell_type": "markdown",
   "metadata": {},
   "source": [
    "Таким образом, единственным решионом, который мы можем рекомендовать для разработки, с риском убытков не более 2.5% является второй регион. В нем с вероятностью 95% можно заработать от <font color='blue'>33млн 820тыс 509 рублей до  852млн 289тыс 454рублей </font> , а ориентироваться следует на цифру в 456млн 045тыс 106рублей. При этом риск убытков в этом регионе составляет 1.5%. \n",
    "\n",
    "В первом и третем регионах риски убытков составляют 6.9% и 7.6% соответственно, а при заданном уровне риска в 2.5% и вовсе получаем чистый убыток в каждом из этих регионов. "
   ]
  },
  {
   "cell_type": "code",
   "execution_count": null,
   "metadata": {},
   "outputs": [],
   "source": []
  }
 ],
 "metadata": {
  "kernelspec": {
   "display_name": "Python 3",
   "language": "python",
   "name": "python3"
  },
  "language_info": {
   "codemirror_mode": {
    "name": "ipython",
    "version": 3
   },
   "file_extension": ".py",
   "mimetype": "text/x-python",
   "name": "python",
   "nbconvert_exporter": "python",
   "pygments_lexer": "ipython3",
   "version": "3.7.6"
  }
 },
 "nbformat": 4,
 "nbformat_minor": 2
}
