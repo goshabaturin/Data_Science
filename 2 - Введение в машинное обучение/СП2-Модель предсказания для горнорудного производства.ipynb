{
 "cells": [
  {
   "cell_type": "markdown",
   "metadata": {},
   "source": [
    "# Описание проекта\n",
    "\n",
    "Подготовьте прототип модели машинного обучения для «Цифры». Компания разрабатывает решения для эффективной работы промышленных предприятий.\n",
    "\n",
    "Модель должна предсказать коэффициент восстановления золота из золотосодержащей руды. В вашем распоряжении данные с параметрами добычи и очистки. \n",
    "\n",
    "Модель поможет оптимизировать производство, чтобы не запускать предприятие с убыточными характеристиками.\n",
    "\n",
    "Вам нужно:\n",
    "\n",
    "1. Подготовить данные;\n",
    "2. Провести исследовательский анализ данных;\n",
    "3. Построить и обучить модель.\n",
    "\n",
    "Чтобы выполнить проект, обращайтесь к библиотекам *pandas*, *matplotlib* и *sklearn.* Вам поможет их документация.\n",
    "\n",
    "***Описание этапов технологического процесса***\n",
    "\n",
    "Когда добытая руда проходит первичную обработку, получается дроблёная смесь. Её отправляют на флотацию (обогащение) и двухэтапную очистку.\n",
    "1. Флотация\n",
    "\n",
    "Во флотационную установку подаётся смесь золотосодержащей руды. После обогащения получается черновой концентрат и «отвальные хвосты», то есть остатки продукта с низкой концентрацией ценных металлов.\n",
    "На стабильность этого процесса влияет непостоянное и неоптимальное физико-химическое состояние флотационной пульпы (смеси твёрдых частиц и жидкости).\n",
    "2. Очистка\n",
    "\n",
    "Черновой концентрат проходит две очистки. На выходе получается финальный концентрат и новые отвальные хвосты.\n"
   ]
  },
  {
   "cell_type": "markdown",
   "metadata": {},
   "source": [
    "# 1. Подготовка данных"
   ]
  },
  {
   "cell_type": "markdown",
   "metadata": {},
   "source": [
    "Пока задача не очень понятна и не видели данных, непонятно что пригодится, а что нет, поэтому на всякий случай импортируем все что знаем"
   ]
  },
  {
   "cell_type": "code",
   "execution_count": 2,
   "metadata": {},
   "outputs": [],
   "source": [
    "# подгрузим pandas\n",
    "import pandas as pd\n",
    "\n",
    "# библиотеку для графиков\n",
    "import matplotlib.pyplot as plt\n",
    "\n",
    "# библиотека для работы с математикой\n",
    "import numpy as np\n",
    "\n",
    "# библиотека для работы со статистикой\n",
    "from scipy import stats as st\n",
    "\n",
    "# метод для разделения выборки на тренировочную и валидационную\n",
    "from sklearn.model_selection import train_test_split\n",
    "\n",
    "# метод для проведения кросс-валидации\n",
    "from sklearn.model_selection import cross_val_score\n",
    "\n",
    "# метод для создания собственных метрик и вызова их в качестве метрик sklearn\n",
    "from sklearn.metrics import make_scorer\n",
    "\n",
    "# для перебора параметров в моделях случайного леса\n",
    "from sklearn.model_selection import GridSearchCV\n",
    "\n",
    "#________________________________Классификации____________________________\n",
    "\n",
    "# модель классификации логистической регрессии\n",
    "from sklearn.linear_model import LogisticRegression  \n",
    "\n",
    "# модель классификации дерева решений\n",
    "from sklearn.tree import DecisionTreeClassifier\n",
    "\n",
    "# модель классификации случайного леса\n",
    "from sklearn.ensemble import RandomForestClassifier\n",
    "\n",
    "# метрики моделей классификации\n",
    "from sklearn.metrics import precision_score, recall_score\n",
    "from sklearn.metrics import confusion_matrix\n",
    "from sklearn.metrics import accuracy_score\n",
    "from sklearn.metrics import f1_score\n",
    "from sklearn.metrics import r2_score\n",
    "from sklearn.metrics import roc_auc_score\n",
    "\n",
    "\n",
    "#________________________________Регрессии________________________________\n",
    "\n",
    "# модель линейной регрессии\n",
    "from sklearn.linear_model import LinearRegression\n",
    "\n",
    "# модель регрессии дерева решений\n",
    "from sklearn.tree import DecisionTreeRegressor\n",
    "\n",
    "# модель регрессии случайного леса\n",
    "from sklearn.ensemble import RandomForestRegressor\n",
    "\n",
    "# метрики моделей регрессии\n",
    "from sklearn.metrics import mean_squared_error # mse\n",
    "from sklearn.metrics import mean_absolute_error # mae\n",
    "from sklearn.metrics import  r2_score #r^2\n",
    "\n",
    "#________________________________________________________________________\n",
    "\n",
    "\n",
    "# стандартизация независимых переменных\n",
    "from sklearn.preprocessing import StandardScaler\n",
    "\n",
    "# для перемешивания при up/down-сэмплинге\n",
    "from sklearn.utils import shuffle\n",
    "\n",
    "# для более удобного вывода датафреймов, вместо print()\n",
    "from IPython.display import display\n"
   ]
  },
  {
   "cell_type": "code",
   "execution_count": 3,
   "metadata": {},
   "outputs": [
    {
     "data": {
      "text/html": [
       "<div>\n",
       "<style scoped>\n",
       "    .dataframe tbody tr th:only-of-type {\n",
       "        vertical-align: middle;\n",
       "    }\n",
       "\n",
       "    .dataframe tbody tr th {\n",
       "        vertical-align: top;\n",
       "    }\n",
       "\n",
       "    .dataframe thead th {\n",
       "        text-align: right;\n",
       "    }\n",
       "</style>\n",
       "<table border=\"1\" class=\"dataframe\">\n",
       "  <thead>\n",
       "    <tr style=\"text-align: right;\">\n",
       "      <th></th>\n",
       "      <th>final.output.concentrate_ag</th>\n",
       "      <th>final.output.concentrate_pb</th>\n",
       "      <th>final.output.concentrate_sol</th>\n",
       "      <th>final.output.concentrate_au</th>\n",
       "      <th>final.output.recovery</th>\n",
       "      <th>final.output.tail_ag</th>\n",
       "      <th>final.output.tail_pb</th>\n",
       "      <th>final.output.tail_sol</th>\n",
       "      <th>final.output.tail_au</th>\n",
       "      <th>primary_cleaner.input.sulfate</th>\n",
       "      <th>...</th>\n",
       "      <th>secondary_cleaner.state.floatbank4_a_air</th>\n",
       "      <th>secondary_cleaner.state.floatbank4_a_level</th>\n",
       "      <th>secondary_cleaner.state.floatbank4_b_air</th>\n",
       "      <th>secondary_cleaner.state.floatbank4_b_level</th>\n",
       "      <th>secondary_cleaner.state.floatbank5_a_air</th>\n",
       "      <th>secondary_cleaner.state.floatbank5_a_level</th>\n",
       "      <th>secondary_cleaner.state.floatbank5_b_air</th>\n",
       "      <th>secondary_cleaner.state.floatbank5_b_level</th>\n",
       "      <th>secondary_cleaner.state.floatbank6_a_air</th>\n",
       "      <th>secondary_cleaner.state.floatbank6_a_level</th>\n",
       "    </tr>\n",
       "    <tr>\n",
       "      <th>date</th>\n",
       "      <th></th>\n",
       "      <th></th>\n",
       "      <th></th>\n",
       "      <th></th>\n",
       "      <th></th>\n",
       "      <th></th>\n",
       "      <th></th>\n",
       "      <th></th>\n",
       "      <th></th>\n",
       "      <th></th>\n",
       "      <th></th>\n",
       "      <th></th>\n",
       "      <th></th>\n",
       "      <th></th>\n",
       "      <th></th>\n",
       "      <th></th>\n",
       "      <th></th>\n",
       "      <th></th>\n",
       "      <th></th>\n",
       "      <th></th>\n",
       "      <th></th>\n",
       "    </tr>\n",
       "  </thead>\n",
       "  <tbody>\n",
       "    <tr>\n",
       "      <td>2016-01-15 00:00:00</td>\n",
       "      <td>6.055403</td>\n",
       "      <td>9.889648</td>\n",
       "      <td>5.507324</td>\n",
       "      <td>42.192020</td>\n",
       "      <td>70.541216</td>\n",
       "      <td>10.411962</td>\n",
       "      <td>0.895447</td>\n",
       "      <td>16.904297</td>\n",
       "      <td>2.143149</td>\n",
       "      <td>127.092003</td>\n",
       "      <td>...</td>\n",
       "      <td>14.016835</td>\n",
       "      <td>-502.488007</td>\n",
       "      <td>12.099931</td>\n",
       "      <td>-504.715942</td>\n",
       "      <td>9.925633</td>\n",
       "      <td>-498.310211</td>\n",
       "      <td>8.079666</td>\n",
       "      <td>-500.470978</td>\n",
       "      <td>14.151341</td>\n",
       "      <td>-605.841980</td>\n",
       "    </tr>\n",
       "    <tr>\n",
       "      <td>2016-01-15 01:00:00</td>\n",
       "      <td>6.029369</td>\n",
       "      <td>9.968944</td>\n",
       "      <td>5.257781</td>\n",
       "      <td>42.701629</td>\n",
       "      <td>69.266198</td>\n",
       "      <td>10.462676</td>\n",
       "      <td>0.927452</td>\n",
       "      <td>16.634514</td>\n",
       "      <td>2.224930</td>\n",
       "      <td>125.629232</td>\n",
       "      <td>...</td>\n",
       "      <td>13.992281</td>\n",
       "      <td>-505.503262</td>\n",
       "      <td>11.950531</td>\n",
       "      <td>-501.331529</td>\n",
       "      <td>10.039245</td>\n",
       "      <td>-500.169983</td>\n",
       "      <td>7.984757</td>\n",
       "      <td>-500.582168</td>\n",
       "      <td>13.998353</td>\n",
       "      <td>-599.787184</td>\n",
       "    </tr>\n",
       "    <tr>\n",
       "      <td>2016-01-15 02:00:00</td>\n",
       "      <td>6.055926</td>\n",
       "      <td>10.213995</td>\n",
       "      <td>5.383759</td>\n",
       "      <td>42.657501</td>\n",
       "      <td>68.116445</td>\n",
       "      <td>10.507046</td>\n",
       "      <td>0.953716</td>\n",
       "      <td>16.208849</td>\n",
       "      <td>2.257889</td>\n",
       "      <td>123.819808</td>\n",
       "      <td>...</td>\n",
       "      <td>14.015015</td>\n",
       "      <td>-502.520901</td>\n",
       "      <td>11.912783</td>\n",
       "      <td>-501.133383</td>\n",
       "      <td>10.070913</td>\n",
       "      <td>-500.129135</td>\n",
       "      <td>8.013877</td>\n",
       "      <td>-500.517572</td>\n",
       "      <td>14.028663</td>\n",
       "      <td>-601.427363</td>\n",
       "    </tr>\n",
       "    <tr>\n",
       "      <td>2016-01-15 03:00:00</td>\n",
       "      <td>6.047977</td>\n",
       "      <td>9.977019</td>\n",
       "      <td>4.858634</td>\n",
       "      <td>42.689819</td>\n",
       "      <td>68.347543</td>\n",
       "      <td>10.422762</td>\n",
       "      <td>0.883763</td>\n",
       "      <td>16.532835</td>\n",
       "      <td>2.146849</td>\n",
       "      <td>122.270188</td>\n",
       "      <td>...</td>\n",
       "      <td>14.036510</td>\n",
       "      <td>-500.857308</td>\n",
       "      <td>11.999550</td>\n",
       "      <td>-501.193686</td>\n",
       "      <td>9.970366</td>\n",
       "      <td>-499.201640</td>\n",
       "      <td>7.977324</td>\n",
       "      <td>-500.255908</td>\n",
       "      <td>14.005551</td>\n",
       "      <td>-599.996129</td>\n",
       "    </tr>\n",
       "    <tr>\n",
       "      <td>2016-01-15 04:00:00</td>\n",
       "      <td>6.148599</td>\n",
       "      <td>10.142511</td>\n",
       "      <td>4.939416</td>\n",
       "      <td>42.774141</td>\n",
       "      <td>66.927016</td>\n",
       "      <td>10.360302</td>\n",
       "      <td>0.792826</td>\n",
       "      <td>16.525686</td>\n",
       "      <td>2.055292</td>\n",
       "      <td>117.988169</td>\n",
       "      <td>...</td>\n",
       "      <td>14.027298</td>\n",
       "      <td>-499.838632</td>\n",
       "      <td>11.953070</td>\n",
       "      <td>-501.053894</td>\n",
       "      <td>9.925709</td>\n",
       "      <td>-501.686727</td>\n",
       "      <td>7.894242</td>\n",
       "      <td>-500.356035</td>\n",
       "      <td>13.996647</td>\n",
       "      <td>-601.496691</td>\n",
       "    </tr>\n",
       "  </tbody>\n",
       "</table>\n",
       "<p>5 rows × 86 columns</p>\n",
       "</div>"
      ],
      "text/plain": [
       "                     final.output.concentrate_ag  final.output.concentrate_pb  \\\n",
       "date                                                                            \n",
       "2016-01-15 00:00:00                     6.055403                     9.889648   \n",
       "2016-01-15 01:00:00                     6.029369                     9.968944   \n",
       "2016-01-15 02:00:00                     6.055926                    10.213995   \n",
       "2016-01-15 03:00:00                     6.047977                     9.977019   \n",
       "2016-01-15 04:00:00                     6.148599                    10.142511   \n",
       "\n",
       "                     final.output.concentrate_sol  \\\n",
       "date                                                \n",
       "2016-01-15 00:00:00                      5.507324   \n",
       "2016-01-15 01:00:00                      5.257781   \n",
       "2016-01-15 02:00:00                      5.383759   \n",
       "2016-01-15 03:00:00                      4.858634   \n",
       "2016-01-15 04:00:00                      4.939416   \n",
       "\n",
       "                     final.output.concentrate_au  final.output.recovery  \\\n",
       "date                                                                      \n",
       "2016-01-15 00:00:00                    42.192020              70.541216   \n",
       "2016-01-15 01:00:00                    42.701629              69.266198   \n",
       "2016-01-15 02:00:00                    42.657501              68.116445   \n",
       "2016-01-15 03:00:00                    42.689819              68.347543   \n",
       "2016-01-15 04:00:00                    42.774141              66.927016   \n",
       "\n",
       "                     final.output.tail_ag  final.output.tail_pb  \\\n",
       "date                                                              \n",
       "2016-01-15 00:00:00             10.411962              0.895447   \n",
       "2016-01-15 01:00:00             10.462676              0.927452   \n",
       "2016-01-15 02:00:00             10.507046              0.953716   \n",
       "2016-01-15 03:00:00             10.422762              0.883763   \n",
       "2016-01-15 04:00:00             10.360302              0.792826   \n",
       "\n",
       "                     final.output.tail_sol  final.output.tail_au  \\\n",
       "date                                                               \n",
       "2016-01-15 00:00:00              16.904297              2.143149   \n",
       "2016-01-15 01:00:00              16.634514              2.224930   \n",
       "2016-01-15 02:00:00              16.208849              2.257889   \n",
       "2016-01-15 03:00:00              16.532835              2.146849   \n",
       "2016-01-15 04:00:00              16.525686              2.055292   \n",
       "\n",
       "                     primary_cleaner.input.sulfate  ...  \\\n",
       "date                                                ...   \n",
       "2016-01-15 00:00:00                     127.092003  ...   \n",
       "2016-01-15 01:00:00                     125.629232  ...   \n",
       "2016-01-15 02:00:00                     123.819808  ...   \n",
       "2016-01-15 03:00:00                     122.270188  ...   \n",
       "2016-01-15 04:00:00                     117.988169  ...   \n",
       "\n",
       "                     secondary_cleaner.state.floatbank4_a_air  \\\n",
       "date                                                            \n",
       "2016-01-15 00:00:00                                 14.016835   \n",
       "2016-01-15 01:00:00                                 13.992281   \n",
       "2016-01-15 02:00:00                                 14.015015   \n",
       "2016-01-15 03:00:00                                 14.036510   \n",
       "2016-01-15 04:00:00                                 14.027298   \n",
       "\n",
       "                     secondary_cleaner.state.floatbank4_a_level  \\\n",
       "date                                                              \n",
       "2016-01-15 00:00:00                                 -502.488007   \n",
       "2016-01-15 01:00:00                                 -505.503262   \n",
       "2016-01-15 02:00:00                                 -502.520901   \n",
       "2016-01-15 03:00:00                                 -500.857308   \n",
       "2016-01-15 04:00:00                                 -499.838632   \n",
       "\n",
       "                     secondary_cleaner.state.floatbank4_b_air  \\\n",
       "date                                                            \n",
       "2016-01-15 00:00:00                                 12.099931   \n",
       "2016-01-15 01:00:00                                 11.950531   \n",
       "2016-01-15 02:00:00                                 11.912783   \n",
       "2016-01-15 03:00:00                                 11.999550   \n",
       "2016-01-15 04:00:00                                 11.953070   \n",
       "\n",
       "                     secondary_cleaner.state.floatbank4_b_level  \\\n",
       "date                                                              \n",
       "2016-01-15 00:00:00                                 -504.715942   \n",
       "2016-01-15 01:00:00                                 -501.331529   \n",
       "2016-01-15 02:00:00                                 -501.133383   \n",
       "2016-01-15 03:00:00                                 -501.193686   \n",
       "2016-01-15 04:00:00                                 -501.053894   \n",
       "\n",
       "                     secondary_cleaner.state.floatbank5_a_air  \\\n",
       "date                                                            \n",
       "2016-01-15 00:00:00                                  9.925633   \n",
       "2016-01-15 01:00:00                                 10.039245   \n",
       "2016-01-15 02:00:00                                 10.070913   \n",
       "2016-01-15 03:00:00                                  9.970366   \n",
       "2016-01-15 04:00:00                                  9.925709   \n",
       "\n",
       "                     secondary_cleaner.state.floatbank5_a_level  \\\n",
       "date                                                              \n",
       "2016-01-15 00:00:00                                 -498.310211   \n",
       "2016-01-15 01:00:00                                 -500.169983   \n",
       "2016-01-15 02:00:00                                 -500.129135   \n",
       "2016-01-15 03:00:00                                 -499.201640   \n",
       "2016-01-15 04:00:00                                 -501.686727   \n",
       "\n",
       "                     secondary_cleaner.state.floatbank5_b_air  \\\n",
       "date                                                            \n",
       "2016-01-15 00:00:00                                  8.079666   \n",
       "2016-01-15 01:00:00                                  7.984757   \n",
       "2016-01-15 02:00:00                                  8.013877   \n",
       "2016-01-15 03:00:00                                  7.977324   \n",
       "2016-01-15 04:00:00                                  7.894242   \n",
       "\n",
       "                     secondary_cleaner.state.floatbank5_b_level  \\\n",
       "date                                                              \n",
       "2016-01-15 00:00:00                                 -500.470978   \n",
       "2016-01-15 01:00:00                                 -500.582168   \n",
       "2016-01-15 02:00:00                                 -500.517572   \n",
       "2016-01-15 03:00:00                                 -500.255908   \n",
       "2016-01-15 04:00:00                                 -500.356035   \n",
       "\n",
       "                     secondary_cleaner.state.floatbank6_a_air  \\\n",
       "date                                                            \n",
       "2016-01-15 00:00:00                                 14.151341   \n",
       "2016-01-15 01:00:00                                 13.998353   \n",
       "2016-01-15 02:00:00                                 14.028663   \n",
       "2016-01-15 03:00:00                                 14.005551   \n",
       "2016-01-15 04:00:00                                 13.996647   \n",
       "\n",
       "                     secondary_cleaner.state.floatbank6_a_level  \n",
       "date                                                             \n",
       "2016-01-15 00:00:00                                 -605.841980  \n",
       "2016-01-15 01:00:00                                 -599.787184  \n",
       "2016-01-15 02:00:00                                 -601.427363  \n",
       "2016-01-15 03:00:00                                 -599.996129  \n",
       "2016-01-15 04:00:00                                 -601.496691  \n",
       "\n",
       "[5 rows x 86 columns]"
      ]
     },
     "metadata": {},
     "output_type": "display_data"
    },
    {
     "data": {
      "text/html": [
       "<div>\n",
       "<style scoped>\n",
       "    .dataframe tbody tr th:only-of-type {\n",
       "        vertical-align: middle;\n",
       "    }\n",
       "\n",
       "    .dataframe tbody tr th {\n",
       "        vertical-align: top;\n",
       "    }\n",
       "\n",
       "    .dataframe thead th {\n",
       "        text-align: right;\n",
       "    }\n",
       "</style>\n",
       "<table border=\"1\" class=\"dataframe\">\n",
       "  <thead>\n",
       "    <tr style=\"text-align: right;\">\n",
       "      <th></th>\n",
       "      <th>primary_cleaner.input.sulfate</th>\n",
       "      <th>primary_cleaner.input.depressant</th>\n",
       "      <th>primary_cleaner.input.feed_size</th>\n",
       "      <th>primary_cleaner.input.xanthate</th>\n",
       "      <th>primary_cleaner.state.floatbank8_a_air</th>\n",
       "      <th>primary_cleaner.state.floatbank8_a_level</th>\n",
       "      <th>primary_cleaner.state.floatbank8_b_air</th>\n",
       "      <th>primary_cleaner.state.floatbank8_b_level</th>\n",
       "      <th>primary_cleaner.state.floatbank8_c_air</th>\n",
       "      <th>primary_cleaner.state.floatbank8_c_level</th>\n",
       "      <th>...</th>\n",
       "      <th>secondary_cleaner.state.floatbank4_a_air</th>\n",
       "      <th>secondary_cleaner.state.floatbank4_a_level</th>\n",
       "      <th>secondary_cleaner.state.floatbank4_b_air</th>\n",
       "      <th>secondary_cleaner.state.floatbank4_b_level</th>\n",
       "      <th>secondary_cleaner.state.floatbank5_a_air</th>\n",
       "      <th>secondary_cleaner.state.floatbank5_a_level</th>\n",
       "      <th>secondary_cleaner.state.floatbank5_b_air</th>\n",
       "      <th>secondary_cleaner.state.floatbank5_b_level</th>\n",
       "      <th>secondary_cleaner.state.floatbank6_a_air</th>\n",
       "      <th>secondary_cleaner.state.floatbank6_a_level</th>\n",
       "    </tr>\n",
       "    <tr>\n",
       "      <th>date</th>\n",
       "      <th></th>\n",
       "      <th></th>\n",
       "      <th></th>\n",
       "      <th></th>\n",
       "      <th></th>\n",
       "      <th></th>\n",
       "      <th></th>\n",
       "      <th></th>\n",
       "      <th></th>\n",
       "      <th></th>\n",
       "      <th></th>\n",
       "      <th></th>\n",
       "      <th></th>\n",
       "      <th></th>\n",
       "      <th></th>\n",
       "      <th></th>\n",
       "      <th></th>\n",
       "      <th></th>\n",
       "      <th></th>\n",
       "      <th></th>\n",
       "      <th></th>\n",
       "    </tr>\n",
       "  </thead>\n",
       "  <tbody>\n",
       "    <tr>\n",
       "      <td>2016-09-01 00:59:59</td>\n",
       "      <td>210.800909</td>\n",
       "      <td>14.993118</td>\n",
       "      <td>8.080000</td>\n",
       "      <td>1.005021</td>\n",
       "      <td>1398.981301</td>\n",
       "      <td>-500.225577</td>\n",
       "      <td>1399.144926</td>\n",
       "      <td>-499.919735</td>\n",
       "      <td>1400.102998</td>\n",
       "      <td>-500.704369</td>\n",
       "      <td>...</td>\n",
       "      <td>12.023554</td>\n",
       "      <td>-497.795834</td>\n",
       "      <td>8.016656</td>\n",
       "      <td>-501.289139</td>\n",
       "      <td>7.946562</td>\n",
       "      <td>-432.317850</td>\n",
       "      <td>4.872511</td>\n",
       "      <td>-500.037437</td>\n",
       "      <td>26.705889</td>\n",
       "      <td>-499.709414</td>\n",
       "    </tr>\n",
       "    <tr>\n",
       "      <td>2016-09-01 01:59:59</td>\n",
       "      <td>215.392455</td>\n",
       "      <td>14.987471</td>\n",
       "      <td>8.080000</td>\n",
       "      <td>0.990469</td>\n",
       "      <td>1398.777912</td>\n",
       "      <td>-500.057435</td>\n",
       "      <td>1398.055362</td>\n",
       "      <td>-499.778182</td>\n",
       "      <td>1396.151033</td>\n",
       "      <td>-499.240168</td>\n",
       "      <td>...</td>\n",
       "      <td>12.058140</td>\n",
       "      <td>-498.695773</td>\n",
       "      <td>8.130979</td>\n",
       "      <td>-499.634209</td>\n",
       "      <td>7.958270</td>\n",
       "      <td>-525.839648</td>\n",
       "      <td>4.878850</td>\n",
       "      <td>-500.162375</td>\n",
       "      <td>25.019940</td>\n",
       "      <td>-499.819438</td>\n",
       "    </tr>\n",
       "    <tr>\n",
       "      <td>2016-09-01 02:59:59</td>\n",
       "      <td>215.259946</td>\n",
       "      <td>12.884934</td>\n",
       "      <td>7.786667</td>\n",
       "      <td>0.996043</td>\n",
       "      <td>1398.493666</td>\n",
       "      <td>-500.868360</td>\n",
       "      <td>1398.860436</td>\n",
       "      <td>-499.764529</td>\n",
       "      <td>1398.075709</td>\n",
       "      <td>-502.151509</td>\n",
       "      <td>...</td>\n",
       "      <td>11.962366</td>\n",
       "      <td>-498.767484</td>\n",
       "      <td>8.096893</td>\n",
       "      <td>-500.827423</td>\n",
       "      <td>8.071056</td>\n",
       "      <td>-500.801673</td>\n",
       "      <td>4.905125</td>\n",
       "      <td>-499.828510</td>\n",
       "      <td>24.994862</td>\n",
       "      <td>-500.622559</td>\n",
       "    </tr>\n",
       "    <tr>\n",
       "      <td>2016-09-01 03:59:59</td>\n",
       "      <td>215.336236</td>\n",
       "      <td>12.006805</td>\n",
       "      <td>7.640000</td>\n",
       "      <td>0.863514</td>\n",
       "      <td>1399.618111</td>\n",
       "      <td>-498.863574</td>\n",
       "      <td>1397.440120</td>\n",
       "      <td>-499.211024</td>\n",
       "      <td>1400.129303</td>\n",
       "      <td>-498.355873</td>\n",
       "      <td>...</td>\n",
       "      <td>12.033091</td>\n",
       "      <td>-498.350935</td>\n",
       "      <td>8.074946</td>\n",
       "      <td>-499.474407</td>\n",
       "      <td>7.897085</td>\n",
       "      <td>-500.868509</td>\n",
       "      <td>4.931400</td>\n",
       "      <td>-499.963623</td>\n",
       "      <td>24.948919</td>\n",
       "      <td>-498.709987</td>\n",
       "    </tr>\n",
       "    <tr>\n",
       "      <td>2016-09-01 04:59:59</td>\n",
       "      <td>199.099327</td>\n",
       "      <td>10.682530</td>\n",
       "      <td>7.530000</td>\n",
       "      <td>0.805575</td>\n",
       "      <td>1401.268123</td>\n",
       "      <td>-500.808305</td>\n",
       "      <td>1398.128818</td>\n",
       "      <td>-499.504543</td>\n",
       "      <td>1402.172226</td>\n",
       "      <td>-500.810606</td>\n",
       "      <td>...</td>\n",
       "      <td>12.025367</td>\n",
       "      <td>-500.786497</td>\n",
       "      <td>8.054678</td>\n",
       "      <td>-500.397500</td>\n",
       "      <td>8.107890</td>\n",
       "      <td>-509.526725</td>\n",
       "      <td>4.957674</td>\n",
       "      <td>-500.360026</td>\n",
       "      <td>25.003331</td>\n",
       "      <td>-500.856333</td>\n",
       "    </tr>\n",
       "  </tbody>\n",
       "</table>\n",
       "<p>5 rows × 52 columns</p>\n",
       "</div>"
      ],
      "text/plain": [
       "                     primary_cleaner.input.sulfate  \\\n",
       "date                                                 \n",
       "2016-09-01 00:59:59                     210.800909   \n",
       "2016-09-01 01:59:59                     215.392455   \n",
       "2016-09-01 02:59:59                     215.259946   \n",
       "2016-09-01 03:59:59                     215.336236   \n",
       "2016-09-01 04:59:59                     199.099327   \n",
       "\n",
       "                     primary_cleaner.input.depressant  \\\n",
       "date                                                    \n",
       "2016-09-01 00:59:59                         14.993118   \n",
       "2016-09-01 01:59:59                         14.987471   \n",
       "2016-09-01 02:59:59                         12.884934   \n",
       "2016-09-01 03:59:59                         12.006805   \n",
       "2016-09-01 04:59:59                         10.682530   \n",
       "\n",
       "                     primary_cleaner.input.feed_size  \\\n",
       "date                                                   \n",
       "2016-09-01 00:59:59                         8.080000   \n",
       "2016-09-01 01:59:59                         8.080000   \n",
       "2016-09-01 02:59:59                         7.786667   \n",
       "2016-09-01 03:59:59                         7.640000   \n",
       "2016-09-01 04:59:59                         7.530000   \n",
       "\n",
       "                     primary_cleaner.input.xanthate  \\\n",
       "date                                                  \n",
       "2016-09-01 00:59:59                        1.005021   \n",
       "2016-09-01 01:59:59                        0.990469   \n",
       "2016-09-01 02:59:59                        0.996043   \n",
       "2016-09-01 03:59:59                        0.863514   \n",
       "2016-09-01 04:59:59                        0.805575   \n",
       "\n",
       "                     primary_cleaner.state.floatbank8_a_air  \\\n",
       "date                                                          \n",
       "2016-09-01 00:59:59                             1398.981301   \n",
       "2016-09-01 01:59:59                             1398.777912   \n",
       "2016-09-01 02:59:59                             1398.493666   \n",
       "2016-09-01 03:59:59                             1399.618111   \n",
       "2016-09-01 04:59:59                             1401.268123   \n",
       "\n",
       "                     primary_cleaner.state.floatbank8_a_level  \\\n",
       "date                                                            \n",
       "2016-09-01 00:59:59                               -500.225577   \n",
       "2016-09-01 01:59:59                               -500.057435   \n",
       "2016-09-01 02:59:59                               -500.868360   \n",
       "2016-09-01 03:59:59                               -498.863574   \n",
       "2016-09-01 04:59:59                               -500.808305   \n",
       "\n",
       "                     primary_cleaner.state.floatbank8_b_air  \\\n",
       "date                                                          \n",
       "2016-09-01 00:59:59                             1399.144926   \n",
       "2016-09-01 01:59:59                             1398.055362   \n",
       "2016-09-01 02:59:59                             1398.860436   \n",
       "2016-09-01 03:59:59                             1397.440120   \n",
       "2016-09-01 04:59:59                             1398.128818   \n",
       "\n",
       "                     primary_cleaner.state.floatbank8_b_level  \\\n",
       "date                                                            \n",
       "2016-09-01 00:59:59                               -499.919735   \n",
       "2016-09-01 01:59:59                               -499.778182   \n",
       "2016-09-01 02:59:59                               -499.764529   \n",
       "2016-09-01 03:59:59                               -499.211024   \n",
       "2016-09-01 04:59:59                               -499.504543   \n",
       "\n",
       "                     primary_cleaner.state.floatbank8_c_air  \\\n",
       "date                                                          \n",
       "2016-09-01 00:59:59                             1400.102998   \n",
       "2016-09-01 01:59:59                             1396.151033   \n",
       "2016-09-01 02:59:59                             1398.075709   \n",
       "2016-09-01 03:59:59                             1400.129303   \n",
       "2016-09-01 04:59:59                             1402.172226   \n",
       "\n",
       "                     primary_cleaner.state.floatbank8_c_level  ...  \\\n",
       "date                                                           ...   \n",
       "2016-09-01 00:59:59                               -500.704369  ...   \n",
       "2016-09-01 01:59:59                               -499.240168  ...   \n",
       "2016-09-01 02:59:59                               -502.151509  ...   \n",
       "2016-09-01 03:59:59                               -498.355873  ...   \n",
       "2016-09-01 04:59:59                               -500.810606  ...   \n",
       "\n",
       "                     secondary_cleaner.state.floatbank4_a_air  \\\n",
       "date                                                            \n",
       "2016-09-01 00:59:59                                 12.023554   \n",
       "2016-09-01 01:59:59                                 12.058140   \n",
       "2016-09-01 02:59:59                                 11.962366   \n",
       "2016-09-01 03:59:59                                 12.033091   \n",
       "2016-09-01 04:59:59                                 12.025367   \n",
       "\n",
       "                     secondary_cleaner.state.floatbank4_a_level  \\\n",
       "date                                                              \n",
       "2016-09-01 00:59:59                                 -497.795834   \n",
       "2016-09-01 01:59:59                                 -498.695773   \n",
       "2016-09-01 02:59:59                                 -498.767484   \n",
       "2016-09-01 03:59:59                                 -498.350935   \n",
       "2016-09-01 04:59:59                                 -500.786497   \n",
       "\n",
       "                     secondary_cleaner.state.floatbank4_b_air  \\\n",
       "date                                                            \n",
       "2016-09-01 00:59:59                                  8.016656   \n",
       "2016-09-01 01:59:59                                  8.130979   \n",
       "2016-09-01 02:59:59                                  8.096893   \n",
       "2016-09-01 03:59:59                                  8.074946   \n",
       "2016-09-01 04:59:59                                  8.054678   \n",
       "\n",
       "                     secondary_cleaner.state.floatbank4_b_level  \\\n",
       "date                                                              \n",
       "2016-09-01 00:59:59                                 -501.289139   \n",
       "2016-09-01 01:59:59                                 -499.634209   \n",
       "2016-09-01 02:59:59                                 -500.827423   \n",
       "2016-09-01 03:59:59                                 -499.474407   \n",
       "2016-09-01 04:59:59                                 -500.397500   \n",
       "\n",
       "                     secondary_cleaner.state.floatbank5_a_air  \\\n",
       "date                                                            \n",
       "2016-09-01 00:59:59                                  7.946562   \n",
       "2016-09-01 01:59:59                                  7.958270   \n",
       "2016-09-01 02:59:59                                  8.071056   \n",
       "2016-09-01 03:59:59                                  7.897085   \n",
       "2016-09-01 04:59:59                                  8.107890   \n",
       "\n",
       "                     secondary_cleaner.state.floatbank5_a_level  \\\n",
       "date                                                              \n",
       "2016-09-01 00:59:59                                 -432.317850   \n",
       "2016-09-01 01:59:59                                 -525.839648   \n",
       "2016-09-01 02:59:59                                 -500.801673   \n",
       "2016-09-01 03:59:59                                 -500.868509   \n",
       "2016-09-01 04:59:59                                 -509.526725   \n",
       "\n",
       "                     secondary_cleaner.state.floatbank5_b_air  \\\n",
       "date                                                            \n",
       "2016-09-01 00:59:59                                  4.872511   \n",
       "2016-09-01 01:59:59                                  4.878850   \n",
       "2016-09-01 02:59:59                                  4.905125   \n",
       "2016-09-01 03:59:59                                  4.931400   \n",
       "2016-09-01 04:59:59                                  4.957674   \n",
       "\n",
       "                     secondary_cleaner.state.floatbank5_b_level  \\\n",
       "date                                                              \n",
       "2016-09-01 00:59:59                                 -500.037437   \n",
       "2016-09-01 01:59:59                                 -500.162375   \n",
       "2016-09-01 02:59:59                                 -499.828510   \n",
       "2016-09-01 03:59:59                                 -499.963623   \n",
       "2016-09-01 04:59:59                                 -500.360026   \n",
       "\n",
       "                     secondary_cleaner.state.floatbank6_a_air  \\\n",
       "date                                                            \n",
       "2016-09-01 00:59:59                                 26.705889   \n",
       "2016-09-01 01:59:59                                 25.019940   \n",
       "2016-09-01 02:59:59                                 24.994862   \n",
       "2016-09-01 03:59:59                                 24.948919   \n",
       "2016-09-01 04:59:59                                 25.003331   \n",
       "\n",
       "                     secondary_cleaner.state.floatbank6_a_level  \n",
       "date                                                             \n",
       "2016-09-01 00:59:59                                 -499.709414  \n",
       "2016-09-01 01:59:59                                 -499.819438  \n",
       "2016-09-01 02:59:59                                 -500.622559  \n",
       "2016-09-01 03:59:59                                 -498.709987  \n",
       "2016-09-01 04:59:59                                 -500.856333  \n",
       "\n",
       "[5 rows x 52 columns]"
      ]
     },
     "metadata": {},
     "output_type": "display_data"
    },
    {
     "data": {
      "text/html": [
       "<div>\n",
       "<style scoped>\n",
       "    .dataframe tbody tr th:only-of-type {\n",
       "        vertical-align: middle;\n",
       "    }\n",
       "\n",
       "    .dataframe tbody tr th {\n",
       "        vertical-align: top;\n",
       "    }\n",
       "\n",
       "    .dataframe thead th {\n",
       "        text-align: right;\n",
       "    }\n",
       "</style>\n",
       "<table border=\"1\" class=\"dataframe\">\n",
       "  <thead>\n",
       "    <tr style=\"text-align: right;\">\n",
       "      <th></th>\n",
       "      <th>final.output.concentrate_ag</th>\n",
       "      <th>final.output.concentrate_pb</th>\n",
       "      <th>final.output.concentrate_sol</th>\n",
       "      <th>final.output.concentrate_au</th>\n",
       "      <th>final.output.recovery</th>\n",
       "      <th>final.output.tail_ag</th>\n",
       "      <th>final.output.tail_pb</th>\n",
       "      <th>final.output.tail_sol</th>\n",
       "      <th>final.output.tail_au</th>\n",
       "      <th>primary_cleaner.input.sulfate</th>\n",
       "      <th>...</th>\n",
       "      <th>secondary_cleaner.state.floatbank4_a_air</th>\n",
       "      <th>secondary_cleaner.state.floatbank4_a_level</th>\n",
       "      <th>secondary_cleaner.state.floatbank4_b_air</th>\n",
       "      <th>secondary_cleaner.state.floatbank4_b_level</th>\n",
       "      <th>secondary_cleaner.state.floatbank5_a_air</th>\n",
       "      <th>secondary_cleaner.state.floatbank5_a_level</th>\n",
       "      <th>secondary_cleaner.state.floatbank5_b_air</th>\n",
       "      <th>secondary_cleaner.state.floatbank5_b_level</th>\n",
       "      <th>secondary_cleaner.state.floatbank6_a_air</th>\n",
       "      <th>secondary_cleaner.state.floatbank6_a_level</th>\n",
       "    </tr>\n",
       "    <tr>\n",
       "      <th>date</th>\n",
       "      <th></th>\n",
       "      <th></th>\n",
       "      <th></th>\n",
       "      <th></th>\n",
       "      <th></th>\n",
       "      <th></th>\n",
       "      <th></th>\n",
       "      <th></th>\n",
       "      <th></th>\n",
       "      <th></th>\n",
       "      <th></th>\n",
       "      <th></th>\n",
       "      <th></th>\n",
       "      <th></th>\n",
       "      <th></th>\n",
       "      <th></th>\n",
       "      <th></th>\n",
       "      <th></th>\n",
       "      <th></th>\n",
       "      <th></th>\n",
       "      <th></th>\n",
       "    </tr>\n",
       "  </thead>\n",
       "  <tbody>\n",
       "    <tr>\n",
       "      <td>2016-01-15 00:00:00</td>\n",
       "      <td>6.055403</td>\n",
       "      <td>9.889648</td>\n",
       "      <td>5.507324</td>\n",
       "      <td>42.192020</td>\n",
       "      <td>70.541216</td>\n",
       "      <td>10.411962</td>\n",
       "      <td>0.895447</td>\n",
       "      <td>16.904297</td>\n",
       "      <td>2.143149</td>\n",
       "      <td>127.092003</td>\n",
       "      <td>...</td>\n",
       "      <td>14.016835</td>\n",
       "      <td>-502.488007</td>\n",
       "      <td>12.099931</td>\n",
       "      <td>-504.715942</td>\n",
       "      <td>9.925633</td>\n",
       "      <td>-498.310211</td>\n",
       "      <td>8.079666</td>\n",
       "      <td>-500.470978</td>\n",
       "      <td>14.151341</td>\n",
       "      <td>-605.841980</td>\n",
       "    </tr>\n",
       "    <tr>\n",
       "      <td>2016-01-15 01:00:00</td>\n",
       "      <td>6.029369</td>\n",
       "      <td>9.968944</td>\n",
       "      <td>5.257781</td>\n",
       "      <td>42.701629</td>\n",
       "      <td>69.266198</td>\n",
       "      <td>10.462676</td>\n",
       "      <td>0.927452</td>\n",
       "      <td>16.634514</td>\n",
       "      <td>2.224930</td>\n",
       "      <td>125.629232</td>\n",
       "      <td>...</td>\n",
       "      <td>13.992281</td>\n",
       "      <td>-505.503262</td>\n",
       "      <td>11.950531</td>\n",
       "      <td>-501.331529</td>\n",
       "      <td>10.039245</td>\n",
       "      <td>-500.169983</td>\n",
       "      <td>7.984757</td>\n",
       "      <td>-500.582168</td>\n",
       "      <td>13.998353</td>\n",
       "      <td>-599.787184</td>\n",
       "    </tr>\n",
       "    <tr>\n",
       "      <td>2016-01-15 02:00:00</td>\n",
       "      <td>6.055926</td>\n",
       "      <td>10.213995</td>\n",
       "      <td>5.383759</td>\n",
       "      <td>42.657501</td>\n",
       "      <td>68.116445</td>\n",
       "      <td>10.507046</td>\n",
       "      <td>0.953716</td>\n",
       "      <td>16.208849</td>\n",
       "      <td>2.257889</td>\n",
       "      <td>123.819808</td>\n",
       "      <td>...</td>\n",
       "      <td>14.015015</td>\n",
       "      <td>-502.520901</td>\n",
       "      <td>11.912783</td>\n",
       "      <td>-501.133383</td>\n",
       "      <td>10.070913</td>\n",
       "      <td>-500.129135</td>\n",
       "      <td>8.013877</td>\n",
       "      <td>-500.517572</td>\n",
       "      <td>14.028663</td>\n",
       "      <td>-601.427363</td>\n",
       "    </tr>\n",
       "    <tr>\n",
       "      <td>2016-01-15 03:00:00</td>\n",
       "      <td>6.047977</td>\n",
       "      <td>9.977019</td>\n",
       "      <td>4.858634</td>\n",
       "      <td>42.689819</td>\n",
       "      <td>68.347543</td>\n",
       "      <td>10.422762</td>\n",
       "      <td>0.883763</td>\n",
       "      <td>16.532835</td>\n",
       "      <td>2.146849</td>\n",
       "      <td>122.270188</td>\n",
       "      <td>...</td>\n",
       "      <td>14.036510</td>\n",
       "      <td>-500.857308</td>\n",
       "      <td>11.999550</td>\n",
       "      <td>-501.193686</td>\n",
       "      <td>9.970366</td>\n",
       "      <td>-499.201640</td>\n",
       "      <td>7.977324</td>\n",
       "      <td>-500.255908</td>\n",
       "      <td>14.005551</td>\n",
       "      <td>-599.996129</td>\n",
       "    </tr>\n",
       "    <tr>\n",
       "      <td>2016-01-15 04:00:00</td>\n",
       "      <td>6.148599</td>\n",
       "      <td>10.142511</td>\n",
       "      <td>4.939416</td>\n",
       "      <td>42.774141</td>\n",
       "      <td>66.927016</td>\n",
       "      <td>10.360302</td>\n",
       "      <td>0.792826</td>\n",
       "      <td>16.525686</td>\n",
       "      <td>2.055292</td>\n",
       "      <td>117.988169</td>\n",
       "      <td>...</td>\n",
       "      <td>14.027298</td>\n",
       "      <td>-499.838632</td>\n",
       "      <td>11.953070</td>\n",
       "      <td>-501.053894</td>\n",
       "      <td>9.925709</td>\n",
       "      <td>-501.686727</td>\n",
       "      <td>7.894242</td>\n",
       "      <td>-500.356035</td>\n",
       "      <td>13.996647</td>\n",
       "      <td>-601.496691</td>\n",
       "    </tr>\n",
       "  </tbody>\n",
       "</table>\n",
       "<p>5 rows × 86 columns</p>\n",
       "</div>"
      ],
      "text/plain": [
       "                     final.output.concentrate_ag  final.output.concentrate_pb  \\\n",
       "date                                                                            \n",
       "2016-01-15 00:00:00                     6.055403                     9.889648   \n",
       "2016-01-15 01:00:00                     6.029369                     9.968944   \n",
       "2016-01-15 02:00:00                     6.055926                    10.213995   \n",
       "2016-01-15 03:00:00                     6.047977                     9.977019   \n",
       "2016-01-15 04:00:00                     6.148599                    10.142511   \n",
       "\n",
       "                     final.output.concentrate_sol  \\\n",
       "date                                                \n",
       "2016-01-15 00:00:00                      5.507324   \n",
       "2016-01-15 01:00:00                      5.257781   \n",
       "2016-01-15 02:00:00                      5.383759   \n",
       "2016-01-15 03:00:00                      4.858634   \n",
       "2016-01-15 04:00:00                      4.939416   \n",
       "\n",
       "                     final.output.concentrate_au  final.output.recovery  \\\n",
       "date                                                                      \n",
       "2016-01-15 00:00:00                    42.192020              70.541216   \n",
       "2016-01-15 01:00:00                    42.701629              69.266198   \n",
       "2016-01-15 02:00:00                    42.657501              68.116445   \n",
       "2016-01-15 03:00:00                    42.689819              68.347543   \n",
       "2016-01-15 04:00:00                    42.774141              66.927016   \n",
       "\n",
       "                     final.output.tail_ag  final.output.tail_pb  \\\n",
       "date                                                              \n",
       "2016-01-15 00:00:00             10.411962              0.895447   \n",
       "2016-01-15 01:00:00             10.462676              0.927452   \n",
       "2016-01-15 02:00:00             10.507046              0.953716   \n",
       "2016-01-15 03:00:00             10.422762              0.883763   \n",
       "2016-01-15 04:00:00             10.360302              0.792826   \n",
       "\n",
       "                     final.output.tail_sol  final.output.tail_au  \\\n",
       "date                                                               \n",
       "2016-01-15 00:00:00              16.904297              2.143149   \n",
       "2016-01-15 01:00:00              16.634514              2.224930   \n",
       "2016-01-15 02:00:00              16.208849              2.257889   \n",
       "2016-01-15 03:00:00              16.532835              2.146849   \n",
       "2016-01-15 04:00:00              16.525686              2.055292   \n",
       "\n",
       "                     primary_cleaner.input.sulfate  ...  \\\n",
       "date                                                ...   \n",
       "2016-01-15 00:00:00                     127.092003  ...   \n",
       "2016-01-15 01:00:00                     125.629232  ...   \n",
       "2016-01-15 02:00:00                     123.819808  ...   \n",
       "2016-01-15 03:00:00                     122.270188  ...   \n",
       "2016-01-15 04:00:00                     117.988169  ...   \n",
       "\n",
       "                     secondary_cleaner.state.floatbank4_a_air  \\\n",
       "date                                                            \n",
       "2016-01-15 00:00:00                                 14.016835   \n",
       "2016-01-15 01:00:00                                 13.992281   \n",
       "2016-01-15 02:00:00                                 14.015015   \n",
       "2016-01-15 03:00:00                                 14.036510   \n",
       "2016-01-15 04:00:00                                 14.027298   \n",
       "\n",
       "                     secondary_cleaner.state.floatbank4_a_level  \\\n",
       "date                                                              \n",
       "2016-01-15 00:00:00                                 -502.488007   \n",
       "2016-01-15 01:00:00                                 -505.503262   \n",
       "2016-01-15 02:00:00                                 -502.520901   \n",
       "2016-01-15 03:00:00                                 -500.857308   \n",
       "2016-01-15 04:00:00                                 -499.838632   \n",
       "\n",
       "                     secondary_cleaner.state.floatbank4_b_air  \\\n",
       "date                                                            \n",
       "2016-01-15 00:00:00                                 12.099931   \n",
       "2016-01-15 01:00:00                                 11.950531   \n",
       "2016-01-15 02:00:00                                 11.912783   \n",
       "2016-01-15 03:00:00                                 11.999550   \n",
       "2016-01-15 04:00:00                                 11.953070   \n",
       "\n",
       "                     secondary_cleaner.state.floatbank4_b_level  \\\n",
       "date                                                              \n",
       "2016-01-15 00:00:00                                 -504.715942   \n",
       "2016-01-15 01:00:00                                 -501.331529   \n",
       "2016-01-15 02:00:00                                 -501.133383   \n",
       "2016-01-15 03:00:00                                 -501.193686   \n",
       "2016-01-15 04:00:00                                 -501.053894   \n",
       "\n",
       "                     secondary_cleaner.state.floatbank5_a_air  \\\n",
       "date                                                            \n",
       "2016-01-15 00:00:00                                  9.925633   \n",
       "2016-01-15 01:00:00                                 10.039245   \n",
       "2016-01-15 02:00:00                                 10.070913   \n",
       "2016-01-15 03:00:00                                  9.970366   \n",
       "2016-01-15 04:00:00                                  9.925709   \n",
       "\n",
       "                     secondary_cleaner.state.floatbank5_a_level  \\\n",
       "date                                                              \n",
       "2016-01-15 00:00:00                                 -498.310211   \n",
       "2016-01-15 01:00:00                                 -500.169983   \n",
       "2016-01-15 02:00:00                                 -500.129135   \n",
       "2016-01-15 03:00:00                                 -499.201640   \n",
       "2016-01-15 04:00:00                                 -501.686727   \n",
       "\n",
       "                     secondary_cleaner.state.floatbank5_b_air  \\\n",
       "date                                                            \n",
       "2016-01-15 00:00:00                                  8.079666   \n",
       "2016-01-15 01:00:00                                  7.984757   \n",
       "2016-01-15 02:00:00                                  8.013877   \n",
       "2016-01-15 03:00:00                                  7.977324   \n",
       "2016-01-15 04:00:00                                  7.894242   \n",
       "\n",
       "                     secondary_cleaner.state.floatbank5_b_level  \\\n",
       "date                                                              \n",
       "2016-01-15 00:00:00                                 -500.470978   \n",
       "2016-01-15 01:00:00                                 -500.582168   \n",
       "2016-01-15 02:00:00                                 -500.517572   \n",
       "2016-01-15 03:00:00                                 -500.255908   \n",
       "2016-01-15 04:00:00                                 -500.356035   \n",
       "\n",
       "                     secondary_cleaner.state.floatbank6_a_air  \\\n",
       "date                                                            \n",
       "2016-01-15 00:00:00                                 14.151341   \n",
       "2016-01-15 01:00:00                                 13.998353   \n",
       "2016-01-15 02:00:00                                 14.028663   \n",
       "2016-01-15 03:00:00                                 14.005551   \n",
       "2016-01-15 04:00:00                                 13.996647   \n",
       "\n",
       "                     secondary_cleaner.state.floatbank6_a_level  \n",
       "date                                                             \n",
       "2016-01-15 00:00:00                                 -605.841980  \n",
       "2016-01-15 01:00:00                                 -599.787184  \n",
       "2016-01-15 02:00:00                                 -601.427363  \n",
       "2016-01-15 03:00:00                                 -599.996129  \n",
       "2016-01-15 04:00:00                                 -601.496691  \n",
       "\n",
       "[5 rows x 86 columns]"
      ]
     },
     "metadata": {},
     "output_type": "display_data"
    }
   ],
   "source": [
    "gold_recovery_train = pd.read_csv('/datasets/gold_recovery_train.csv', parse_dates=True, index_col='date')\n",
    "gold_recovery_test = pd.read_csv('/datasets/gold_recovery_test.csv', parse_dates=True, index_col='date')\n",
    "gold_recovery_full = pd.read_csv('/datasets/gold_recovery_full.csv', parse_dates=True, index_col='date')\n",
    "\n",
    "display(gold_recovery_train.head())\n",
    "display(gold_recovery_test.head())\n",
    "display(gold_recovery_full.head())"
   ]
  },
  {
   "cell_type": "markdown",
   "metadata": {},
   "source": [
    "Отлично, данные импортировались нормально. В тестовом датасете в отличае от тренировочного и полного нехватает колонок. \n",
    "\n",
    "Но прежде чем перейди дальше проверим, правильно ли расчитана эффективность обогащения, вычислим её на обучающей выборке для признака rougher.output.recovery и найдите MAE между расчётами и значением признака.\n",
    "\n",
    "Эффективность обогощения расчитаем по формуле:\n",
    "\n",
    "rougher.output.recovery = rougher.output.concentrate_ag*(rougher.input.concentrate_ag - rougher.output.tail_ag)/(\n",
    "                          rougher.input.concentrate_ag*(rougher.output.concentrate_ag - rougher.output.tail_ag)\n",
    "                         \n",
    "Поскольку в данных могут быть пропуски, а наша задача сейчас это проверить, правильно ли расчитаны rougher.output.recovery, то сделаем саб-датафрейм c необходимыми для расчета recovery данными, удалим все проблемные строки, чтоб не обрабатывать их и проверим MAE между расчетными и выданными нам значениями recovery. Глядя в формулу для расчета recovery, можно сразу предположить, что мы можем получить бесконечность, если F=0, поэтому строки где значение  rougher.input.feed_au = 0 мы тоже удалям, тем более, что по логике, если ничего не было дано на вход процесса флотации, то и на выходи ничего быть не должно."
   ]
  },
  {
   "cell_type": "code",
   "execution_count": 4,
   "metadata": {},
   "outputs": [
    {
     "data": {
      "text/plain": [
       "9.444891926100695e-15"
      ]
     },
     "execution_count": 4,
     "metadata": {},
     "output_type": "execute_result"
    }
   ],
   "source": [
    "# скопируем интересующие нас данные\n",
    "temp = gold_recovery_train[['rougher.output.concentrate_au','rougher.input.feed_au','rougher.output.tail_au','rougher.output.recovery']].copy()\n",
    "\n",
    "# удалим строки с пропусками данных\n",
    "temp = temp[~temp['rougher.output.concentrate_au'].isna()]\n",
    "temp = temp[~temp['rougher.input.feed_au'].isna()]\n",
    "temp = temp[~temp['rougher.output.tail_au'].isna()]\n",
    "temp = temp[~temp['rougher.output.recovery'].isna()]\n",
    "\n",
    "# возьмем только те строки, в которых на вход процесса флотации есть что-то\n",
    "temp = temp[temp['rougher.input.feed_au']>0]\n",
    "\n",
    "\n",
    "\n",
    "# обозначим переменные\n",
    "c = temp['rougher.output.concentrate_au']\n",
    "f = temp['rougher.input.feed_au']\n",
    "t = temp['rougher.output.tail_au']\n",
    "\n",
    "\n",
    "# посчитаем recovery\n",
    "temp['calc_recovery']=c*(f-t)/(f*(c-t))*100\n",
    "\n",
    "# данные мы только получили, а все ли с ними хорошо?\n",
    "#display(temp.isna().sum())\n",
    "\n",
    "# расчитаем MAE между recovery которые пришли с датасетом и recovery который посчитан по формуле\n",
    "mean_absolute_error(temp['rougher.output.recovery'], temp['calc_recovery'])\n",
    "   \n"
   ]
  },
  {
   "cell_type": "markdown",
   "metadata": {},
   "source": [
    "***Вывод по поводу предоставленных в исходных данных коэффицентов recovery***\n",
    "\n",
    "MAE между предоставленным и расчитанным коэффицентом ничтожно мал, а это значит что пердосавленный в исходных данных коэффицент recovery расчитан верно. "
   ]
  },
  {
   "cell_type": "markdown",
   "metadata": {},
   "source": [
    "Перейдес к подготовке данных для анализа. Посмотрим сначала, все ли колонки тренировочного датасета есть в полном датасете."
   ]
  },
  {
   "cell_type": "code",
   "execution_count": 5,
   "metadata": {},
   "outputs": [
    {
     "name": "stdout",
     "output_type": "stream",
     "text": [
      "все колонки первого фрейма присутствуют во втором фрейме\n"
     ]
    }
   ],
   "source": [
    "def not_exist_in_full_dataset(smaller_dataset, bigger_dataset):\n",
    "    not_exist_in_full=[]\n",
    "    for element in smaller_dataset.columns:\n",
    "        if element not in bigger_dataset.columns:\n",
    "            not_exist_in_full.append(element)\n",
    "\n",
    "    if len(not_exist_in_full) > 0:\n",
    "        print('во втором фрейме нет следующих колонок, которые есть в первом')\n",
    "        for element in not_exist_in_full:\n",
    "            print (element)\n",
    "    else:\n",
    "        print('все колонки первого фрейма присутствуют во втором фрейме')\n",
    "\n",
    "not_exist_in_full_dataset(gold_recovery_train, gold_recovery_full)"
   ]
  },
  {
   "cell_type": "markdown",
   "metadata": {},
   "source": [
    "Тут проблем нет. Посмотрим какие колонки присутствуют в тестовой выборке и отсутствуют в полной, есть ли вообще такие, а так же посмотрим каких именно колонок не хватает в тестовой выборке"
   ]
  },
  {
   "cell_type": "code",
   "execution_count": 6,
   "metadata": {},
   "outputs": [
    {
     "name": "stdout",
     "output_type": "stream",
     "text": [
      "все колонки первого фрейма присутствуют во втором фрейме\n",
      "во втором фрейме нет следующих колонок, которые есть в первом\n",
      "final.output.concentrate_ag\n",
      "final.output.concentrate_pb\n",
      "final.output.concentrate_sol\n",
      "final.output.concentrate_au\n",
      "final.output.recovery\n",
      "final.output.tail_ag\n",
      "final.output.tail_pb\n",
      "final.output.tail_sol\n",
      "final.output.tail_au\n",
      "primary_cleaner.output.concentrate_ag\n",
      "primary_cleaner.output.concentrate_pb\n",
      "primary_cleaner.output.concentrate_sol\n",
      "primary_cleaner.output.concentrate_au\n",
      "primary_cleaner.output.tail_ag\n",
      "primary_cleaner.output.tail_pb\n",
      "primary_cleaner.output.tail_sol\n",
      "primary_cleaner.output.tail_au\n",
      "rougher.calculation.sulfate_to_au_concentrate\n",
      "rougher.calculation.floatbank10_sulfate_to_au_feed\n",
      "rougher.calculation.floatbank11_sulfate_to_au_feed\n",
      "rougher.calculation.au_pb_ratio\n",
      "rougher.output.concentrate_ag\n",
      "rougher.output.concentrate_pb\n",
      "rougher.output.concentrate_sol\n",
      "rougher.output.concentrate_au\n",
      "rougher.output.recovery\n",
      "rougher.output.tail_ag\n",
      "rougher.output.tail_pb\n",
      "rougher.output.tail_sol\n",
      "rougher.output.tail_au\n",
      "secondary_cleaner.output.tail_ag\n",
      "secondary_cleaner.output.tail_pb\n",
      "secondary_cleaner.output.tail_sol\n",
      "secondary_cleaner.output.tail_au\n"
     ]
    }
   ],
   "source": [
    "# все ли колонки тестового фрейма есть в общем \n",
    "not_exist_in_full_dataset(gold_recovery_test, gold_recovery_full)\n",
    "\n",
    "# каких колонок большего фрейма не хватает в меньшем\n",
    "not_exist_in_full_dataset(gold_recovery_full, gold_recovery_test)"
   ]
  },
  {
   "cell_type": "markdown",
   "metadata": {},
   "source": [
    "Понятно, в тестовых данных не хватает столбцов с результатами после каждого этапа, а так же не хватает столбцов тех параметров, которые и необходимо найти (final.output.recovery и rougher.output.recovery). Поскольку все остальные параметры не попали в тестовую выборку потому что расчитываются значительно позже и на момент формирования выборки еще не были расчитаны, то, дабы не путать модели, удалим все недостающие столбцы, кроме целевых, из тренировочной выборки."
   ]
  },
  {
   "cell_type": "code",
   "execution_count": 7,
   "metadata": {},
   "outputs": [
    {
     "name": "stdout",
     "output_type": "stream",
     "text": [
      "во втором фрейме нет следующих колонок, которые есть в первом\n",
      "final.output.recovery\n",
      "rougher.output.recovery\n",
      "все колонки первого фрейма присутствуют во втором фрейме\n"
     ]
    }
   ],
   "source": [
    "cols_to_drop = [\n",
    "                'final.output.concentrate_ag',\n",
    "                'final.output.concentrate_pb',\n",
    "                'final.output.concentrate_sol',\n",
    "                'final.output.concentrate_au',\n",
    "                'final.output.tail_ag',\n",
    "                'final.output.tail_pb',\n",
    "                'final.output.tail_sol',\n",
    "                'final.output.tail_au',\n",
    "                'primary_cleaner.output.concentrate_ag',\n",
    "                'primary_cleaner.output.concentrate_pb',\n",
    "                'primary_cleaner.output.concentrate_sol',\n",
    "                'primary_cleaner.output.concentrate_au',\n",
    "                'primary_cleaner.output.tail_ag',\n",
    "                'primary_cleaner.output.tail_pb',\n",
    "                'primary_cleaner.output.tail_sol',\n",
    "                'primary_cleaner.output.tail_au',\n",
    "                'rougher.calculation.sulfate_to_au_concentrate',\n",
    "                'rougher.calculation.floatbank10_sulfate_to_au_feed',\n",
    "                'rougher.calculation.floatbank11_sulfate_to_au_feed',\n",
    "                'rougher.calculation.au_pb_ratio',\n",
    "                'rougher.output.concentrate_ag',\n",
    "                'rougher.output.concentrate_pb',\n",
    "                'rougher.output.concentrate_sol',\n",
    "                'rougher.output.concentrate_au',\n",
    "                'rougher.output.tail_ag',\n",
    "                'rougher.output.tail_pb',\n",
    "                'rougher.output.tail_sol',\n",
    "                'rougher.output.tail_au',\n",
    "                'secondary_cleaner.output.tail_ag',\n",
    "                'secondary_cleaner.output.tail_pb',\n",
    "                'secondary_cleaner.output.tail_sol',\n",
    "                'secondary_cleaner.output.tail_au',\n",
    "               ]\n",
    "\n",
    "gold_recovery_train = gold_recovery_train.drop(cols_to_drop, axis=1)\n",
    "\n",
    "# проверим все ли колонки тренировочной выборки есть в тестовой (спойлер: не должно быть двух целевых).\n",
    "# Т.е все ли мы удалили из тренировочной чего нет в тестовой\n",
    "not_exist_in_full_dataset(gold_recovery_train, gold_recovery_test)\n",
    "\n",
    "# и наоборот, проверим все ли колонки тестовой выборки есть в тренировочной (спойлер: все колонки тестовой должны быть в тренировочной)\n",
    "# т.е. не удалили ли мы чего лишнего из тренировчной выборки, так что в тестовой это есть, а там нет.\n",
    "not_exist_in_full_dataset(gold_recovery_test, gold_recovery_train)"
   ]
  },
  {
   "cell_type": "code",
   "execution_count": 8,
   "metadata": {},
   "outputs": [
    {
     "data": {
      "text/plain": [
       "(16860, 54)"
      ]
     },
     "execution_count": 8,
     "metadata": {},
     "output_type": "execute_result"
    }
   ],
   "source": [
    "gold_recovery_train.shape"
   ]
  },
  {
   "cell_type": "markdown",
   "metadata": {},
   "source": [
    "Отлично, теперь в тренировочном и тестовом фреймах одинаковое количество независымых переменных."
   ]
  },
  {
   "cell_type": "markdown",
   "metadata": {},
   "source": [
    "Посмотрим, все ли данные попали либо в тренировочную, либо в тестовую выборку."
   ]
  },
  {
   "cell_type": "code",
   "execution_count": 9,
   "metadata": {},
   "outputs": [
    {
     "data": {
      "text/plain": [
       "22716"
      ]
     },
     "metadata": {},
     "output_type": "display_data"
    },
    {
     "data": {
      "text/plain": [
       "5856"
      ]
     },
     "metadata": {},
     "output_type": "display_data"
    },
    {
     "data": {
      "text/plain": [
       "16860"
      ]
     },
     "metadata": {},
     "output_type": "display_data"
    },
    {
     "data": {
      "text/plain": [
       "True"
      ]
     },
     "metadata": {},
     "output_type": "display_data"
    }
   ],
   "source": [
    "display(gold_recovery_full.shape[0])\n",
    "display(gold_recovery_test.shape[0])\n",
    "display(gold_recovery_train.shape[0])\n",
    "display(gold_recovery_full.shape[0] == (gold_recovery_test.shape[0]+gold_recovery_train.shape[0]))"
   ]
  },
  {
   "cell_type": "markdown",
   "metadata": {},
   "source": [
    "Все строки из общего файла попали либо в тест, либо в трейн. Посмотрим на форматы колонок и их названия, если надо изменим. \n",
    "\n",
    "Напомним, колонки должны называться согласно схеме [этап].[тип_параметра].[название_параметра] \n",
    "\n",
    "Поскольку мы уже проверили, что все колонки тренировочной выборки есть в большой и все колонки тестовой выборки есть в большом датафрейме, значит колонки везде как минимум называются так же как и в последнем, поэтому названия будем смотреть именно по общему датафрейму.\n"
   ]
  },
  {
   "cell_type": "code",
   "execution_count": 10,
   "metadata": {},
   "outputs": [
    {
     "data": {
      "text/plain": [
       "'final.output.concentrate_ag'"
      ]
     },
     "metadata": {},
     "output_type": "display_data"
    },
    {
     "data": {
      "text/plain": [
       "'final.output.concentrate_pb'"
      ]
     },
     "metadata": {},
     "output_type": "display_data"
    },
    {
     "data": {
      "text/plain": [
       "'final.output.concentrate_sol'"
      ]
     },
     "metadata": {},
     "output_type": "display_data"
    },
    {
     "data": {
      "text/plain": [
       "'final.output.concentrate_au'"
      ]
     },
     "metadata": {},
     "output_type": "display_data"
    },
    {
     "data": {
      "text/plain": [
       "'final.output.recovery'"
      ]
     },
     "metadata": {},
     "output_type": "display_data"
    },
    {
     "data": {
      "text/plain": [
       "'final.output.tail_ag'"
      ]
     },
     "metadata": {},
     "output_type": "display_data"
    },
    {
     "data": {
      "text/plain": [
       "'final.output.tail_pb'"
      ]
     },
     "metadata": {},
     "output_type": "display_data"
    },
    {
     "data": {
      "text/plain": [
       "'final.output.tail_sol'"
      ]
     },
     "metadata": {},
     "output_type": "display_data"
    },
    {
     "data": {
      "text/plain": [
       "'final.output.tail_au'"
      ]
     },
     "metadata": {},
     "output_type": "display_data"
    },
    {
     "data": {
      "text/plain": [
       "'primary_cleaner.input.sulfate'"
      ]
     },
     "metadata": {},
     "output_type": "display_data"
    },
    {
     "data": {
      "text/plain": [
       "'primary_cleaner.input.depressant'"
      ]
     },
     "metadata": {},
     "output_type": "display_data"
    },
    {
     "data": {
      "text/plain": [
       "'primary_cleaner.input.feed_size'"
      ]
     },
     "metadata": {},
     "output_type": "display_data"
    },
    {
     "data": {
      "text/plain": [
       "'primary_cleaner.input.xanthate'"
      ]
     },
     "metadata": {},
     "output_type": "display_data"
    },
    {
     "data": {
      "text/plain": [
       "'primary_cleaner.output.concentrate_ag'"
      ]
     },
     "metadata": {},
     "output_type": "display_data"
    },
    {
     "data": {
      "text/plain": [
       "'primary_cleaner.output.concentrate_pb'"
      ]
     },
     "metadata": {},
     "output_type": "display_data"
    },
    {
     "data": {
      "text/plain": [
       "'primary_cleaner.output.concentrate_sol'"
      ]
     },
     "metadata": {},
     "output_type": "display_data"
    },
    {
     "data": {
      "text/plain": [
       "'primary_cleaner.output.concentrate_au'"
      ]
     },
     "metadata": {},
     "output_type": "display_data"
    },
    {
     "data": {
      "text/plain": [
       "'primary_cleaner.output.tail_ag'"
      ]
     },
     "metadata": {},
     "output_type": "display_data"
    },
    {
     "data": {
      "text/plain": [
       "'primary_cleaner.output.tail_pb'"
      ]
     },
     "metadata": {},
     "output_type": "display_data"
    },
    {
     "data": {
      "text/plain": [
       "'primary_cleaner.output.tail_sol'"
      ]
     },
     "metadata": {},
     "output_type": "display_data"
    },
    {
     "data": {
      "text/plain": [
       "'primary_cleaner.output.tail_au'"
      ]
     },
     "metadata": {},
     "output_type": "display_data"
    },
    {
     "data": {
      "text/plain": [
       "'primary_cleaner.state.floatbank8_a_air'"
      ]
     },
     "metadata": {},
     "output_type": "display_data"
    },
    {
     "data": {
      "text/plain": [
       "'primary_cleaner.state.floatbank8_a_level'"
      ]
     },
     "metadata": {},
     "output_type": "display_data"
    },
    {
     "data": {
      "text/plain": [
       "'primary_cleaner.state.floatbank8_b_air'"
      ]
     },
     "metadata": {},
     "output_type": "display_data"
    },
    {
     "data": {
      "text/plain": [
       "'primary_cleaner.state.floatbank8_b_level'"
      ]
     },
     "metadata": {},
     "output_type": "display_data"
    },
    {
     "data": {
      "text/plain": [
       "'primary_cleaner.state.floatbank8_c_air'"
      ]
     },
     "metadata": {},
     "output_type": "display_data"
    },
    {
     "data": {
      "text/plain": [
       "'primary_cleaner.state.floatbank8_c_level'"
      ]
     },
     "metadata": {},
     "output_type": "display_data"
    },
    {
     "data": {
      "text/plain": [
       "'primary_cleaner.state.floatbank8_d_air'"
      ]
     },
     "metadata": {},
     "output_type": "display_data"
    },
    {
     "data": {
      "text/plain": [
       "'primary_cleaner.state.floatbank8_d_level'"
      ]
     },
     "metadata": {},
     "output_type": "display_data"
    },
    {
     "data": {
      "text/plain": [
       "'rougher.calculation.sulfate_to_au_concentrate'"
      ]
     },
     "metadata": {},
     "output_type": "display_data"
    },
    {
     "data": {
      "text/plain": [
       "'rougher.calculation.floatbank10_sulfate_to_au_feed'"
      ]
     },
     "metadata": {},
     "output_type": "display_data"
    },
    {
     "data": {
      "text/plain": [
       "'rougher.calculation.floatbank11_sulfate_to_au_feed'"
      ]
     },
     "metadata": {},
     "output_type": "display_data"
    },
    {
     "data": {
      "text/plain": [
       "'rougher.calculation.au_pb_ratio'"
      ]
     },
     "metadata": {},
     "output_type": "display_data"
    },
    {
     "data": {
      "text/plain": [
       "'rougher.input.feed_ag'"
      ]
     },
     "metadata": {},
     "output_type": "display_data"
    },
    {
     "data": {
      "text/plain": [
       "'rougher.input.feed_pb'"
      ]
     },
     "metadata": {},
     "output_type": "display_data"
    },
    {
     "data": {
      "text/plain": [
       "'rougher.input.feed_rate'"
      ]
     },
     "metadata": {},
     "output_type": "display_data"
    },
    {
     "data": {
      "text/plain": [
       "'rougher.input.feed_size'"
      ]
     },
     "metadata": {},
     "output_type": "display_data"
    },
    {
     "data": {
      "text/plain": [
       "'rougher.input.feed_sol'"
      ]
     },
     "metadata": {},
     "output_type": "display_data"
    },
    {
     "data": {
      "text/plain": [
       "'rougher.input.feed_au'"
      ]
     },
     "metadata": {},
     "output_type": "display_data"
    },
    {
     "data": {
      "text/plain": [
       "'rougher.input.floatbank10_sulfate'"
      ]
     },
     "metadata": {},
     "output_type": "display_data"
    },
    {
     "data": {
      "text/plain": [
       "'rougher.input.floatbank10_xanthate'"
      ]
     },
     "metadata": {},
     "output_type": "display_data"
    },
    {
     "data": {
      "text/plain": [
       "'rougher.input.floatbank11_sulfate'"
      ]
     },
     "metadata": {},
     "output_type": "display_data"
    },
    {
     "data": {
      "text/plain": [
       "'rougher.input.floatbank11_xanthate'"
      ]
     },
     "metadata": {},
     "output_type": "display_data"
    },
    {
     "data": {
      "text/plain": [
       "'rougher.output.concentrate_ag'"
      ]
     },
     "metadata": {},
     "output_type": "display_data"
    },
    {
     "data": {
      "text/plain": [
       "'rougher.output.concentrate_pb'"
      ]
     },
     "metadata": {},
     "output_type": "display_data"
    },
    {
     "data": {
      "text/plain": [
       "'rougher.output.concentrate_sol'"
      ]
     },
     "metadata": {},
     "output_type": "display_data"
    },
    {
     "data": {
      "text/plain": [
       "'rougher.output.concentrate_au'"
      ]
     },
     "metadata": {},
     "output_type": "display_data"
    },
    {
     "data": {
      "text/plain": [
       "'rougher.output.recovery'"
      ]
     },
     "metadata": {},
     "output_type": "display_data"
    },
    {
     "data": {
      "text/plain": [
       "'rougher.output.tail_ag'"
      ]
     },
     "metadata": {},
     "output_type": "display_data"
    },
    {
     "data": {
      "text/plain": [
       "'rougher.output.tail_pb'"
      ]
     },
     "metadata": {},
     "output_type": "display_data"
    },
    {
     "data": {
      "text/plain": [
       "'rougher.output.tail_sol'"
      ]
     },
     "metadata": {},
     "output_type": "display_data"
    },
    {
     "data": {
      "text/plain": [
       "'rougher.output.tail_au'"
      ]
     },
     "metadata": {},
     "output_type": "display_data"
    },
    {
     "data": {
      "text/plain": [
       "'rougher.state.floatbank10_a_air'"
      ]
     },
     "metadata": {},
     "output_type": "display_data"
    },
    {
     "data": {
      "text/plain": [
       "'rougher.state.floatbank10_a_level'"
      ]
     },
     "metadata": {},
     "output_type": "display_data"
    },
    {
     "data": {
      "text/plain": [
       "'rougher.state.floatbank10_b_air'"
      ]
     },
     "metadata": {},
     "output_type": "display_data"
    },
    {
     "data": {
      "text/plain": [
       "'rougher.state.floatbank10_b_level'"
      ]
     },
     "metadata": {},
     "output_type": "display_data"
    },
    {
     "data": {
      "text/plain": [
       "'rougher.state.floatbank10_c_air'"
      ]
     },
     "metadata": {},
     "output_type": "display_data"
    },
    {
     "data": {
      "text/plain": [
       "'rougher.state.floatbank10_c_level'"
      ]
     },
     "metadata": {},
     "output_type": "display_data"
    },
    {
     "data": {
      "text/plain": [
       "'rougher.state.floatbank10_d_air'"
      ]
     },
     "metadata": {},
     "output_type": "display_data"
    },
    {
     "data": {
      "text/plain": [
       "'rougher.state.floatbank10_d_level'"
      ]
     },
     "metadata": {},
     "output_type": "display_data"
    },
    {
     "data": {
      "text/plain": [
       "'rougher.state.floatbank10_e_air'"
      ]
     },
     "metadata": {},
     "output_type": "display_data"
    },
    {
     "data": {
      "text/plain": [
       "'rougher.state.floatbank10_e_level'"
      ]
     },
     "metadata": {},
     "output_type": "display_data"
    },
    {
     "data": {
      "text/plain": [
       "'rougher.state.floatbank10_f_air'"
      ]
     },
     "metadata": {},
     "output_type": "display_data"
    },
    {
     "data": {
      "text/plain": [
       "'rougher.state.floatbank10_f_level'"
      ]
     },
     "metadata": {},
     "output_type": "display_data"
    },
    {
     "data": {
      "text/plain": [
       "'secondary_cleaner.output.tail_ag'"
      ]
     },
     "metadata": {},
     "output_type": "display_data"
    },
    {
     "data": {
      "text/plain": [
       "'secondary_cleaner.output.tail_pb'"
      ]
     },
     "metadata": {},
     "output_type": "display_data"
    },
    {
     "data": {
      "text/plain": [
       "'secondary_cleaner.output.tail_sol'"
      ]
     },
     "metadata": {},
     "output_type": "display_data"
    },
    {
     "data": {
      "text/plain": [
       "'secondary_cleaner.output.tail_au'"
      ]
     },
     "metadata": {},
     "output_type": "display_data"
    },
    {
     "data": {
      "text/plain": [
       "'secondary_cleaner.state.floatbank2_a_air'"
      ]
     },
     "metadata": {},
     "output_type": "display_data"
    },
    {
     "data": {
      "text/plain": [
       "'secondary_cleaner.state.floatbank2_a_level'"
      ]
     },
     "metadata": {},
     "output_type": "display_data"
    },
    {
     "data": {
      "text/plain": [
       "'secondary_cleaner.state.floatbank2_b_air'"
      ]
     },
     "metadata": {},
     "output_type": "display_data"
    },
    {
     "data": {
      "text/plain": [
       "'secondary_cleaner.state.floatbank2_b_level'"
      ]
     },
     "metadata": {},
     "output_type": "display_data"
    },
    {
     "data": {
      "text/plain": [
       "'secondary_cleaner.state.floatbank3_a_air'"
      ]
     },
     "metadata": {},
     "output_type": "display_data"
    },
    {
     "data": {
      "text/plain": [
       "'secondary_cleaner.state.floatbank3_a_level'"
      ]
     },
     "metadata": {},
     "output_type": "display_data"
    },
    {
     "data": {
      "text/plain": [
       "'secondary_cleaner.state.floatbank3_b_air'"
      ]
     },
     "metadata": {},
     "output_type": "display_data"
    },
    {
     "data": {
      "text/plain": [
       "'secondary_cleaner.state.floatbank3_b_level'"
      ]
     },
     "metadata": {},
     "output_type": "display_data"
    },
    {
     "data": {
      "text/plain": [
       "'secondary_cleaner.state.floatbank4_a_air'"
      ]
     },
     "metadata": {},
     "output_type": "display_data"
    },
    {
     "data": {
      "text/plain": [
       "'secondary_cleaner.state.floatbank4_a_level'"
      ]
     },
     "metadata": {},
     "output_type": "display_data"
    },
    {
     "data": {
      "text/plain": [
       "'secondary_cleaner.state.floatbank4_b_air'"
      ]
     },
     "metadata": {},
     "output_type": "display_data"
    },
    {
     "data": {
      "text/plain": [
       "'secondary_cleaner.state.floatbank4_b_level'"
      ]
     },
     "metadata": {},
     "output_type": "display_data"
    },
    {
     "data": {
      "text/plain": [
       "'secondary_cleaner.state.floatbank5_a_air'"
      ]
     },
     "metadata": {},
     "output_type": "display_data"
    },
    {
     "data": {
      "text/plain": [
       "'secondary_cleaner.state.floatbank5_a_level'"
      ]
     },
     "metadata": {},
     "output_type": "display_data"
    },
    {
     "data": {
      "text/plain": [
       "'secondary_cleaner.state.floatbank5_b_air'"
      ]
     },
     "metadata": {},
     "output_type": "display_data"
    },
    {
     "data": {
      "text/plain": [
       "'secondary_cleaner.state.floatbank5_b_level'"
      ]
     },
     "metadata": {},
     "output_type": "display_data"
    },
    {
     "data": {
      "text/plain": [
       "'secondary_cleaner.state.floatbank6_a_air'"
      ]
     },
     "metadata": {},
     "output_type": "display_data"
    },
    {
     "data": {
      "text/plain": [
       "'secondary_cleaner.state.floatbank6_a_level'"
      ]
     },
     "metadata": {},
     "output_type": "display_data"
    }
   ],
   "source": [
    "for element in gold_recovery_full.columns:\n",
    "    display(element)"
   ]
  },
  {
   "cell_type": "markdown",
   "metadata": {},
   "source": [
    "Отлично, все колонки названы правильно. "
   ]
  },
  {
   "cell_type": "markdown",
   "metadata": {},
   "source": [
    "Поскольку у нас все строки из полного датафрейма попали в выборки либо в тестовую, либо в тренировочную, а количество колонок в этих выборкам мы уже сократили, то можно посмотреть на типы колонок в каждой из этих выборок. Но вы поступим еще хитрее, сначала сравним совпадают ли типы одинаковых колонок в тестовой и тренировочной выборках (не забыв убрать зависимые столбцы из тренировочной), а затем, если совпадают, то посмотрим типы только в одной из выборок."
   ]
  },
  {
   "cell_type": "code",
   "execution_count": 11,
   "metadata": {},
   "outputs": [
    {
     "data": {
      "text/plain": [
       "primary_cleaner.input.sulfate                 True\n",
       "primary_cleaner.input.depressant              True\n",
       "primary_cleaner.input.feed_size               True\n",
       "primary_cleaner.input.xanthate                True\n",
       "primary_cleaner.state.floatbank8_a_air        True\n",
       "primary_cleaner.state.floatbank8_a_level      True\n",
       "primary_cleaner.state.floatbank8_b_air        True\n",
       "primary_cleaner.state.floatbank8_b_level      True\n",
       "primary_cleaner.state.floatbank8_c_air        True\n",
       "primary_cleaner.state.floatbank8_c_level      True\n",
       "primary_cleaner.state.floatbank8_d_air        True\n",
       "primary_cleaner.state.floatbank8_d_level      True\n",
       "rougher.input.feed_ag                         True\n",
       "rougher.input.feed_pb                         True\n",
       "rougher.input.feed_rate                       True\n",
       "rougher.input.feed_size                       True\n",
       "rougher.input.feed_sol                        True\n",
       "rougher.input.feed_au                         True\n",
       "rougher.input.floatbank10_sulfate             True\n",
       "rougher.input.floatbank10_xanthate            True\n",
       "rougher.input.floatbank11_sulfate             True\n",
       "rougher.input.floatbank11_xanthate            True\n",
       "rougher.state.floatbank10_a_air               True\n",
       "rougher.state.floatbank10_a_level             True\n",
       "rougher.state.floatbank10_b_air               True\n",
       "rougher.state.floatbank10_b_level             True\n",
       "rougher.state.floatbank10_c_air               True\n",
       "rougher.state.floatbank10_c_level             True\n",
       "rougher.state.floatbank10_d_air               True\n",
       "rougher.state.floatbank10_d_level             True\n",
       "rougher.state.floatbank10_e_air               True\n",
       "rougher.state.floatbank10_e_level             True\n",
       "rougher.state.floatbank10_f_air               True\n",
       "rougher.state.floatbank10_f_level             True\n",
       "secondary_cleaner.state.floatbank2_a_air      True\n",
       "secondary_cleaner.state.floatbank2_a_level    True\n",
       "secondary_cleaner.state.floatbank2_b_air      True\n",
       "secondary_cleaner.state.floatbank2_b_level    True\n",
       "secondary_cleaner.state.floatbank3_a_air      True\n",
       "secondary_cleaner.state.floatbank3_a_level    True\n",
       "secondary_cleaner.state.floatbank3_b_air      True\n",
       "secondary_cleaner.state.floatbank3_b_level    True\n",
       "secondary_cleaner.state.floatbank4_a_air      True\n",
       "secondary_cleaner.state.floatbank4_a_level    True\n",
       "secondary_cleaner.state.floatbank4_b_air      True\n",
       "secondary_cleaner.state.floatbank4_b_level    True\n",
       "secondary_cleaner.state.floatbank5_a_air      True\n",
       "secondary_cleaner.state.floatbank5_a_level    True\n",
       "secondary_cleaner.state.floatbank5_b_air      True\n",
       "secondary_cleaner.state.floatbank5_b_level    True\n",
       "secondary_cleaner.state.floatbank6_a_air      True\n",
       "secondary_cleaner.state.floatbank6_a_level    True\n",
       "dtype: bool"
      ]
     },
     "execution_count": 11,
     "metadata": {},
     "output_type": "execute_result"
    }
   ],
   "source": [
    "gold_recovery_train.drop(['final.output.recovery','rougher.output.recovery'], axis=1).dtypes ==gold_recovery_test.dtypes"
   ]
  },
  {
   "cell_type": "markdown",
   "metadata": {},
   "source": [
    "Отилично, типы совпадают. Посмотрим теперь на типы данных в тренировочной выборке (потому что там на 2 колонки больше)."
   ]
  },
  {
   "cell_type": "code",
   "execution_count": 12,
   "metadata": {},
   "outputs": [
    {
     "data": {
      "text/plain": [
       "final.output.recovery                         float64\n",
       "primary_cleaner.input.sulfate                 float64\n",
       "primary_cleaner.input.depressant              float64\n",
       "primary_cleaner.input.feed_size               float64\n",
       "primary_cleaner.input.xanthate                float64\n",
       "primary_cleaner.state.floatbank8_a_air        float64\n",
       "primary_cleaner.state.floatbank8_a_level      float64\n",
       "primary_cleaner.state.floatbank8_b_air        float64\n",
       "primary_cleaner.state.floatbank8_b_level      float64\n",
       "primary_cleaner.state.floatbank8_c_air        float64\n",
       "primary_cleaner.state.floatbank8_c_level      float64\n",
       "primary_cleaner.state.floatbank8_d_air        float64\n",
       "primary_cleaner.state.floatbank8_d_level      float64\n",
       "rougher.input.feed_ag                         float64\n",
       "rougher.input.feed_pb                         float64\n",
       "rougher.input.feed_rate                       float64\n",
       "rougher.input.feed_size                       float64\n",
       "rougher.input.feed_sol                        float64\n",
       "rougher.input.feed_au                         float64\n",
       "rougher.input.floatbank10_sulfate             float64\n",
       "rougher.input.floatbank10_xanthate            float64\n",
       "rougher.input.floatbank11_sulfate             float64\n",
       "rougher.input.floatbank11_xanthate            float64\n",
       "rougher.output.recovery                       float64\n",
       "rougher.state.floatbank10_a_air               float64\n",
       "rougher.state.floatbank10_a_level             float64\n",
       "rougher.state.floatbank10_b_air               float64\n",
       "rougher.state.floatbank10_b_level             float64\n",
       "rougher.state.floatbank10_c_air               float64\n",
       "rougher.state.floatbank10_c_level             float64\n",
       "rougher.state.floatbank10_d_air               float64\n",
       "rougher.state.floatbank10_d_level             float64\n",
       "rougher.state.floatbank10_e_air               float64\n",
       "rougher.state.floatbank10_e_level             float64\n",
       "rougher.state.floatbank10_f_air               float64\n",
       "rougher.state.floatbank10_f_level             float64\n",
       "secondary_cleaner.state.floatbank2_a_air      float64\n",
       "secondary_cleaner.state.floatbank2_a_level    float64\n",
       "secondary_cleaner.state.floatbank2_b_air      float64\n",
       "secondary_cleaner.state.floatbank2_b_level    float64\n",
       "secondary_cleaner.state.floatbank3_a_air      float64\n",
       "secondary_cleaner.state.floatbank3_a_level    float64\n",
       "secondary_cleaner.state.floatbank3_b_air      float64\n",
       "secondary_cleaner.state.floatbank3_b_level    float64\n",
       "secondary_cleaner.state.floatbank4_a_air      float64\n",
       "secondary_cleaner.state.floatbank4_a_level    float64\n",
       "secondary_cleaner.state.floatbank4_b_air      float64\n",
       "secondary_cleaner.state.floatbank4_b_level    float64\n",
       "secondary_cleaner.state.floatbank5_a_air      float64\n",
       "secondary_cleaner.state.floatbank5_a_level    float64\n",
       "secondary_cleaner.state.floatbank5_b_air      float64\n",
       "secondary_cleaner.state.floatbank5_b_level    float64\n",
       "secondary_cleaner.state.floatbank6_a_air      float64\n",
       "secondary_cleaner.state.floatbank6_a_level    float64\n",
       "dtype: object"
      ]
     },
     "execution_count": 12,
     "metadata": {},
     "output_type": "execute_result"
    }
   ],
   "source": [
    "gold_recovery_train.dtypes"
   ]
  },
  {
   "cell_type": "markdown",
   "metadata": {},
   "source": [
    "все хорошо, все данные числовые, оставляем все как есть."
   ]
  },
  {
   "cell_type": "markdown",
   "metadata": {},
   "source": [
    "Теперь посмотрим на пропуски данных. Для начала посмотрим на пропуски в тренировочных данных."
   ]
  },
  {
   "cell_type": "code",
   "execution_count": 13,
   "metadata": {},
   "outputs": [
    {
     "data": {
      "text/plain": [
       "final.output.recovery                         1521\n",
       "primary_cleaner.input.sulfate                 1307\n",
       "primary_cleaner.input.depressant              1262\n",
       "primary_cleaner.input.feed_size                  0\n",
       "primary_cleaner.input.xanthate                 985\n",
       "primary_cleaner.state.floatbank8_a_air          40\n",
       "primary_cleaner.state.floatbank8_a_level        33\n",
       "primary_cleaner.state.floatbank8_b_air          40\n",
       "primary_cleaner.state.floatbank8_b_level        27\n",
       "primary_cleaner.state.floatbank8_c_air          38\n",
       "primary_cleaner.state.floatbank8_c_level        27\n",
       "primary_cleaner.state.floatbank8_d_air          39\n",
       "primary_cleaner.state.floatbank8_d_level        27\n",
       "rougher.input.feed_ag                           82\n",
       "rougher.input.feed_pb                          228\n",
       "rougher.input.feed_rate                        513\n",
       "rougher.input.feed_size                        417\n",
       "rougher.input.feed_sol                         292\n",
       "rougher.input.feed_au                           83\n",
       "rougher.input.floatbank10_sulfate             1044\n",
       "rougher.input.floatbank10_xanthate             346\n",
       "rougher.input.floatbank11_sulfate              623\n",
       "rougher.input.floatbank11_xanthate            1904\n",
       "rougher.output.recovery                       2573\n",
       "rougher.state.floatbank10_a_air                 53\n",
       "rougher.state.floatbank10_a_level               53\n",
       "rougher.state.floatbank10_b_air                 53\n",
       "rougher.state.floatbank10_b_level               53\n",
       "rougher.state.floatbank10_c_air                 53\n",
       "rougher.state.floatbank10_c_level               46\n",
       "rougher.state.floatbank10_d_air                 58\n",
       "rougher.state.floatbank10_d_level               51\n",
       "rougher.state.floatbank10_e_air                603\n",
       "rougher.state.floatbank10_e_level               51\n",
       "rougher.state.floatbank10_f_air                 58\n",
       "rougher.state.floatbank10_f_level               58\n",
       "secondary_cleaner.state.floatbank2_a_air       363\n",
       "secondary_cleaner.state.floatbank2_a_level     109\n",
       "secondary_cleaner.state.floatbank2_b_air       155\n",
       "secondary_cleaner.state.floatbank2_b_level     112\n",
       "secondary_cleaner.state.floatbank3_a_air        97\n",
       "secondary_cleaner.state.floatbank3_a_level     113\n",
       "secondary_cleaner.state.floatbank3_b_air       108\n",
       "secondary_cleaner.state.floatbank3_b_level     110\n",
       "secondary_cleaner.state.floatbank4_a_air       129\n",
       "secondary_cleaner.state.floatbank4_a_level     113\n",
       "secondary_cleaner.state.floatbank4_b_air        92\n",
       "secondary_cleaner.state.floatbank4_b_level      93\n",
       "secondary_cleaner.state.floatbank5_a_air        85\n",
       "secondary_cleaner.state.floatbank5_a_level      85\n",
       "secondary_cleaner.state.floatbank5_b_air        85\n",
       "secondary_cleaner.state.floatbank5_b_level      84\n",
       "secondary_cleaner.state.floatbank6_a_air       103\n",
       "secondary_cleaner.state.floatbank6_a_level      85\n",
       "dtype: int64"
      ]
     },
     "execution_count": 13,
     "metadata": {},
     "output_type": "execute_result"
    }
   ],
   "source": [
    "gold_recovery_train.isna().sum()"
   ]
  },
  {
   "cell_type": "markdown",
   "metadata": {},
   "source": [
    "первая же проблема которая появилася, у нас есть строки с пропусками в зависимых переменных. Посчитаем сколько вообще таких строк, в процентах от всего фрейма, если таких данных очень много, то отправить файлы на доработку представителю заказчика."
   ]
  },
  {
   "cell_type": "code",
   "execution_count": 14,
   "metadata": {},
   "outputs": [
    {
     "name": "stdout",
     "output_type": "stream",
     "text": [
      "строк к нет обоих зависимых переменных 1383\n",
      "строк где нет одной из зависымых переменных  1328\n",
      "всего строк под удаление 2711\n",
      "что в процентном соотношении составляет 0.16079478054567023\n"
     ]
    }
   ],
   "source": [
    "without_both = gold_recovery_train[gold_recovery_train['final.output.recovery'].isna() & \n",
    "                                    gold_recovery_train['rougher.output.recovery'].isna()].shape[0]\n",
    "\n",
    "\n",
    "without_only_rougher = gold_recovery_train['rougher.output.recovery'].isna().sum() - without_both\n",
    "without_only_final = gold_recovery_train['final.output.recovery'].isna().sum() - without_both\n",
    "\n",
    "\n",
    "print('строк к нет обоих зависимых переменных', without_both)\n",
    "\n",
    "print('строк где нет одной из зависымых переменных ', without_only_rougher+without_only_final)\n",
    "\n",
    "print('всего строк под удаление',without_only_rougher+without_only_final+without_both)\n",
    "\n",
    "print('что в процентном соотношении составляет', (without_only_rougher+without_only_final+without_both)/gold_recovery_train.shape[0] )\n"
   ]
  },
  {
   "cell_type": "markdown",
   "metadata": {},
   "source": [
    "Да, не мало. 16% это не шутки, но работать можно. У нас еще осталось 84% ! Удалим эти строки и посмотрим как изменилась ситуация с пропусками данных."
   ]
  },
  {
   "cell_type": "code",
   "execution_count": 15,
   "metadata": {},
   "outputs": [
    {
     "data": {
      "text/plain": [
       "final.output.recovery                           0\n",
       "primary_cleaner.input.sulfate                  20\n",
       "primary_cleaner.input.depressant               32\n",
       "primary_cleaner.input.feed_size                 0\n",
       "primary_cleaner.input.xanthate                100\n",
       "primary_cleaner.state.floatbank8_a_air          4\n",
       "primary_cleaner.state.floatbank8_a_level        1\n",
       "primary_cleaner.state.floatbank8_b_air          4\n",
       "primary_cleaner.state.floatbank8_b_level        1\n",
       "primary_cleaner.state.floatbank8_c_air          2\n",
       "primary_cleaner.state.floatbank8_c_level        1\n",
       "primary_cleaner.state.floatbank8_d_air          3\n",
       "primary_cleaner.state.floatbank8_d_level        1\n",
       "rougher.input.feed_ag                           0\n",
       "rougher.input.feed_pb                         100\n",
       "rougher.input.feed_rate                         8\n",
       "rougher.input.feed_size                       144\n",
       "rougher.input.feed_sol                         78\n",
       "rougher.input.feed_au                           0\n",
       "rougher.input.floatbank10_sulfate              29\n",
       "rougher.input.floatbank10_xanthate              8\n",
       "rougher.input.floatbank11_sulfate              36\n",
       "rougher.input.floatbank11_xanthate            428\n",
       "rougher.output.recovery                         0\n",
       "rougher.state.floatbank10_a_air                 1\n",
       "rougher.state.floatbank10_a_level               1\n",
       "rougher.state.floatbank10_b_air                 1\n",
       "rougher.state.floatbank10_b_level               1\n",
       "rougher.state.floatbank10_c_air                 1\n",
       "rougher.state.floatbank10_c_level               1\n",
       "rougher.state.floatbank10_d_air                 0\n",
       "rougher.state.floatbank10_d_level               0\n",
       "rougher.state.floatbank10_e_air               436\n",
       "rougher.state.floatbank10_e_level               0\n",
       "rougher.state.floatbank10_f_air                 0\n",
       "rougher.state.floatbank10_f_level               0\n",
       "secondary_cleaner.state.floatbank2_a_air      217\n",
       "secondary_cleaner.state.floatbank2_a_level      1\n",
       "secondary_cleaner.state.floatbank2_b_air       21\n",
       "secondary_cleaner.state.floatbank2_b_level      1\n",
       "secondary_cleaner.state.floatbank3_a_air        4\n",
       "secondary_cleaner.state.floatbank3_a_level      1\n",
       "secondary_cleaner.state.floatbank3_b_air        1\n",
       "secondary_cleaner.state.floatbank3_b_level      1\n",
       "secondary_cleaner.state.floatbank4_a_air        6\n",
       "secondary_cleaner.state.floatbank4_a_level      1\n",
       "secondary_cleaner.state.floatbank4_b_air        1\n",
       "secondary_cleaner.state.floatbank4_b_level      1\n",
       "secondary_cleaner.state.floatbank5_a_air        1\n",
       "secondary_cleaner.state.floatbank5_a_level      1\n",
       "secondary_cleaner.state.floatbank5_b_air        1\n",
       "secondary_cleaner.state.floatbank5_b_level      1\n",
       "secondary_cleaner.state.floatbank6_a_air        2\n",
       "secondary_cleaner.state.floatbank6_a_level      1\n",
       "dtype: int64"
      ]
     },
     "execution_count": 15,
     "metadata": {},
     "output_type": "execute_result"
    }
   ],
   "source": [
    "gold_recovery_train = gold_recovery_train[~gold_recovery_train['rougher.output.recovery'].isna()]\n",
    "gold_recovery_train = gold_recovery_train[~gold_recovery_train['final.output.recovery'].isna()]\n",
    "gold_recovery_train.isna().sum()"
   ]
  },
  {
   "cell_type": "markdown",
   "metadata": {},
   "source": [
    "отлично пустых данных стало значительно меньше. Поскольку нам известно, что \"Соседние по времени параметры часто похожи.\", то остальные пропуски заполним соседними методом ffill, но для этого отсортируем данные по времени"
   ]
  },
  {
   "cell_type": "code",
   "execution_count": 16,
   "metadata": {},
   "outputs": [
    {
     "data": {
      "text/plain": [
       "final.output.recovery                         0\n",
       "primary_cleaner.input.sulfate                 0\n",
       "primary_cleaner.input.depressant              0\n",
       "primary_cleaner.input.feed_size               0\n",
       "primary_cleaner.input.xanthate                0\n",
       "primary_cleaner.state.floatbank8_a_air        0\n",
       "primary_cleaner.state.floatbank8_a_level      0\n",
       "primary_cleaner.state.floatbank8_b_air        0\n",
       "primary_cleaner.state.floatbank8_b_level      0\n",
       "primary_cleaner.state.floatbank8_c_air        0\n",
       "primary_cleaner.state.floatbank8_c_level      0\n",
       "primary_cleaner.state.floatbank8_d_air        0\n",
       "primary_cleaner.state.floatbank8_d_level      0\n",
       "rougher.input.feed_ag                         0\n",
       "rougher.input.feed_pb                         0\n",
       "rougher.input.feed_rate                       0\n",
       "rougher.input.feed_size                       0\n",
       "rougher.input.feed_sol                        0\n",
       "rougher.input.feed_au                         0\n",
       "rougher.input.floatbank10_sulfate             0\n",
       "rougher.input.floatbank10_xanthate            0\n",
       "rougher.input.floatbank11_sulfate             0\n",
       "rougher.input.floatbank11_xanthate            0\n",
       "rougher.output.recovery                       0\n",
       "rougher.state.floatbank10_a_air               0\n",
       "rougher.state.floatbank10_a_level             0\n",
       "rougher.state.floatbank10_b_air               0\n",
       "rougher.state.floatbank10_b_level             0\n",
       "rougher.state.floatbank10_c_air               0\n",
       "rougher.state.floatbank10_c_level             0\n",
       "rougher.state.floatbank10_d_air               0\n",
       "rougher.state.floatbank10_d_level             0\n",
       "rougher.state.floatbank10_e_air               0\n",
       "rougher.state.floatbank10_e_level             0\n",
       "rougher.state.floatbank10_f_air               0\n",
       "rougher.state.floatbank10_f_level             0\n",
       "secondary_cleaner.state.floatbank2_a_air      0\n",
       "secondary_cleaner.state.floatbank2_a_level    0\n",
       "secondary_cleaner.state.floatbank2_b_air      0\n",
       "secondary_cleaner.state.floatbank2_b_level    0\n",
       "secondary_cleaner.state.floatbank3_a_air      0\n",
       "secondary_cleaner.state.floatbank3_a_level    0\n",
       "secondary_cleaner.state.floatbank3_b_air      0\n",
       "secondary_cleaner.state.floatbank3_b_level    0\n",
       "secondary_cleaner.state.floatbank4_a_air      0\n",
       "secondary_cleaner.state.floatbank4_a_level    0\n",
       "secondary_cleaner.state.floatbank4_b_air      0\n",
       "secondary_cleaner.state.floatbank4_b_level    0\n",
       "secondary_cleaner.state.floatbank5_a_air      0\n",
       "secondary_cleaner.state.floatbank5_a_level    0\n",
       "secondary_cleaner.state.floatbank5_b_air      0\n",
       "secondary_cleaner.state.floatbank5_b_level    0\n",
       "secondary_cleaner.state.floatbank6_a_air      0\n",
       "secondary_cleaner.state.floatbank6_a_level    0\n",
       "dtype: int64"
      ]
     },
     "execution_count": 16,
     "metadata": {},
     "output_type": "execute_result"
    }
   ],
   "source": [
    "gold_recovery_train = gold_recovery_train.sort_values(by='date',ascending=True)\n",
    "\n",
    "gold_recovery_train = gold_recovery_train.fillna(method='ffill')\n",
    "gold_recovery_train.isna().sum()"
   ]
  },
  {
   "cell_type": "markdown",
   "metadata": {},
   "source": [
    "Тут пропуски убрали. Посмотрим на фрейм тестовых данных и заполним пропуски аналогичным методом"
   ]
  },
  {
   "cell_type": "code",
   "execution_count": 17,
   "metadata": {},
   "outputs": [
    {
     "data": {
      "text/plain": [
       "primary_cleaner.input.sulfate                 302\n",
       "primary_cleaner.input.depressant              284\n",
       "primary_cleaner.input.feed_size                 0\n",
       "primary_cleaner.input.xanthate                166\n",
       "primary_cleaner.state.floatbank8_a_air         16\n",
       "primary_cleaner.state.floatbank8_a_level       16\n",
       "primary_cleaner.state.floatbank8_b_air         16\n",
       "primary_cleaner.state.floatbank8_b_level       16\n",
       "primary_cleaner.state.floatbank8_c_air         16\n",
       "primary_cleaner.state.floatbank8_c_level       16\n",
       "primary_cleaner.state.floatbank8_d_air         16\n",
       "primary_cleaner.state.floatbank8_d_level       16\n",
       "rougher.input.feed_ag                          16\n",
       "rougher.input.feed_pb                          16\n",
       "rougher.input.feed_rate                        40\n",
       "rougher.input.feed_size                        22\n",
       "rougher.input.feed_sol                         67\n",
       "rougher.input.feed_au                          16\n",
       "rougher.input.floatbank10_sulfate             257\n",
       "rougher.input.floatbank10_xanthate            123\n",
       "rougher.input.floatbank11_sulfate              55\n",
       "rougher.input.floatbank11_xanthate            353\n",
       "rougher.state.floatbank10_a_air                17\n",
       "rougher.state.floatbank10_a_level              16\n",
       "rougher.state.floatbank10_b_air                17\n",
       "rougher.state.floatbank10_b_level              16\n",
       "rougher.state.floatbank10_c_air                17\n",
       "rougher.state.floatbank10_c_level              16\n",
       "rougher.state.floatbank10_d_air                17\n",
       "rougher.state.floatbank10_d_level              16\n",
       "rougher.state.floatbank10_e_air                17\n",
       "rougher.state.floatbank10_e_level              16\n",
       "rougher.state.floatbank10_f_air                17\n",
       "rougher.state.floatbank10_f_level              16\n",
       "secondary_cleaner.state.floatbank2_a_air       20\n",
       "secondary_cleaner.state.floatbank2_a_level     16\n",
       "secondary_cleaner.state.floatbank2_b_air       23\n",
       "secondary_cleaner.state.floatbank2_b_level     16\n",
       "secondary_cleaner.state.floatbank3_a_air       34\n",
       "secondary_cleaner.state.floatbank3_a_level     16\n",
       "secondary_cleaner.state.floatbank3_b_air       16\n",
       "secondary_cleaner.state.floatbank3_b_level     16\n",
       "secondary_cleaner.state.floatbank4_a_air       16\n",
       "secondary_cleaner.state.floatbank4_a_level     16\n",
       "secondary_cleaner.state.floatbank4_b_air       16\n",
       "secondary_cleaner.state.floatbank4_b_level     16\n",
       "secondary_cleaner.state.floatbank5_a_air       16\n",
       "secondary_cleaner.state.floatbank5_a_level     16\n",
       "secondary_cleaner.state.floatbank5_b_air       16\n",
       "secondary_cleaner.state.floatbank5_b_level     16\n",
       "secondary_cleaner.state.floatbank6_a_air       16\n",
       "secondary_cleaner.state.floatbank6_a_level     16\n",
       "dtype: int64"
      ]
     },
     "metadata": {},
     "output_type": "display_data"
    },
    {
     "data": {
      "text/plain": [
       "final.output.recovery                         0\n",
       "primary_cleaner.input.sulfate                 0\n",
       "primary_cleaner.input.depressant              0\n",
       "primary_cleaner.input.feed_size               0\n",
       "primary_cleaner.input.xanthate                0\n",
       "primary_cleaner.state.floatbank8_a_air        0\n",
       "primary_cleaner.state.floatbank8_a_level      0\n",
       "primary_cleaner.state.floatbank8_b_air        0\n",
       "primary_cleaner.state.floatbank8_b_level      0\n",
       "primary_cleaner.state.floatbank8_c_air        0\n",
       "primary_cleaner.state.floatbank8_c_level      0\n",
       "primary_cleaner.state.floatbank8_d_air        0\n",
       "primary_cleaner.state.floatbank8_d_level      0\n",
       "rougher.input.feed_ag                         0\n",
       "rougher.input.feed_pb                         0\n",
       "rougher.input.feed_rate                       0\n",
       "rougher.input.feed_size                       0\n",
       "rougher.input.feed_sol                        0\n",
       "rougher.input.feed_au                         0\n",
       "rougher.input.floatbank10_sulfate             0\n",
       "rougher.input.floatbank10_xanthate            0\n",
       "rougher.input.floatbank11_sulfate             0\n",
       "rougher.input.floatbank11_xanthate            0\n",
       "rougher.output.recovery                       0\n",
       "rougher.state.floatbank10_a_air               0\n",
       "rougher.state.floatbank10_a_level             0\n",
       "rougher.state.floatbank10_b_air               0\n",
       "rougher.state.floatbank10_b_level             0\n",
       "rougher.state.floatbank10_c_air               0\n",
       "rougher.state.floatbank10_c_level             0\n",
       "rougher.state.floatbank10_d_air               0\n",
       "rougher.state.floatbank10_d_level             0\n",
       "rougher.state.floatbank10_e_air               0\n",
       "rougher.state.floatbank10_e_level             0\n",
       "rougher.state.floatbank10_f_air               0\n",
       "rougher.state.floatbank10_f_level             0\n",
       "secondary_cleaner.state.floatbank2_a_air      0\n",
       "secondary_cleaner.state.floatbank2_a_level    0\n",
       "secondary_cleaner.state.floatbank2_b_air      0\n",
       "secondary_cleaner.state.floatbank2_b_level    0\n",
       "secondary_cleaner.state.floatbank3_a_air      0\n",
       "secondary_cleaner.state.floatbank3_a_level    0\n",
       "secondary_cleaner.state.floatbank3_b_air      0\n",
       "secondary_cleaner.state.floatbank3_b_level    0\n",
       "secondary_cleaner.state.floatbank4_a_air      0\n",
       "secondary_cleaner.state.floatbank4_a_level    0\n",
       "secondary_cleaner.state.floatbank4_b_air      0\n",
       "secondary_cleaner.state.floatbank4_b_level    0\n",
       "secondary_cleaner.state.floatbank5_a_air      0\n",
       "secondary_cleaner.state.floatbank5_a_level    0\n",
       "secondary_cleaner.state.floatbank5_b_air      0\n",
       "secondary_cleaner.state.floatbank5_b_level    0\n",
       "secondary_cleaner.state.floatbank6_a_air      0\n",
       "secondary_cleaner.state.floatbank6_a_level    0\n",
       "dtype: int64"
      ]
     },
     "metadata": {},
     "output_type": "display_data"
    }
   ],
   "source": [
    "display (gold_recovery_test.isna().sum())\n",
    "gold_recovery_test = gold_recovery_test.sort_values(by='date',ascending=True)\n",
    "gold_recovery_test = gold_recovery_test.fillna(method='ffill')\n",
    "display (gold_recovery_train.isna().sum())"
   ]
  },
  {
   "cell_type": "markdown",
   "metadata": {},
   "source": [
    "На этом этап предобработки данных можно было бы закончить, если не одно \"НО\". У нас в тестовом фрейме до сих пор нет зависимых переменных. Подгрузим их из полного фрейма."
   ]
  },
  {
   "cell_type": "code",
   "execution_count": 18,
   "metadata": {},
   "outputs": [
    {
     "data": {
      "text/plain": [
       "rougher.output.recovery    546\n",
       "final.output.recovery      442\n",
       "rougher.input.feed_pb        0\n",
       "dtype: int64"
      ]
     },
     "metadata": {},
     "output_type": "display_data"
    }
   ],
   "source": [
    "# создадим новый фрейм, в который добавим все столбцы из общего, но только те строки что есть в тестовом\n",
    "test_table=gold_recovery_full.loc[gold_recovery_test.index]\n",
    "\n",
    "# добавим в тестовый фрейм зависимые переменные\n",
    "gold_recovery_test['rougher.output.recovery'] = test_table['rougher.output.recovery'].copy()\n",
    "gold_recovery_test['final.output.recovery'] = test_table['final.output.recovery'].copy()\n",
    "\n",
    "# посмотрим, есть ли пропуски в зависимых переменных\n",
    "display(gold_recovery_test.isna().sum().sort_values(ascending=False)[:3])\n"
   ]
  },
  {
   "cell_type": "markdown",
   "metadata": {},
   "source": [
    "Как это не печально, но строки с пропусками в зависимых переменных придется удалить, потому что зависимые переменные были подтянуты из общего файла, который собирается позже, когда расчитаны и измерены все параметры, а если и там нет этих данных, то, возможно, в этот тайм-стемп не было либо флотации, либо финальной чистки, либо и того и другого. "
   ]
  },
  {
   "cell_type": "code",
   "execution_count": 19,
   "metadata": {},
   "outputs": [
    {
     "data": {
      "text/plain": [
       "final.output.recovery              0\n",
       "rougher.input.feed_pb              0\n",
       "rougher.state.floatbank10_b_air    0\n",
       "dtype: int64"
      ]
     },
     "metadata": {},
     "output_type": "display_data"
    }
   ],
   "source": [
    "gold_recovery_test = gold_recovery_test[~gold_recovery_test['rougher.output.recovery'].isna()]\n",
    "gold_recovery_test = gold_recovery_test[~gold_recovery_test['final.output.recovery'].isna()]\n",
    "display(gold_recovery_test.isna().sum().sort_values(ascending=False)[:3])"
   ]
  },
  {
   "cell_type": "markdown",
   "metadata": {},
   "source": [
    "Посмотрим сколько в итоге чистых данных у нас осталось"
   ]
  },
  {
   "cell_type": "code",
   "execution_count": 20,
   "metadata": {},
   "outputs": [
    {
     "data": {
      "text/plain": [
       "0.8557404472618418"
      ]
     },
     "metadata": {},
     "output_type": "display_data"
    }
   ],
   "source": [
    "display((gold_recovery_test.shape[0]+ gold_recovery_train.shape[0])/ gold_recovery_full.shape[0])"
   ]
  },
  {
   "cell_type": "markdown",
   "metadata": {},
   "source": [
    "85% это не так чтобы супер результат, но не так уж и ужастно. Зато наши данные чистые и готовы для модели. \n",
    "\n",
    "Последнее что нам необходимо сделать на этапе подготовки данных, это в общем датафрейме удалить строки с пропусками в зависимых переменных, а в независимых заполнить методом ffill"
   ]
  },
  {
   "cell_type": "code",
   "execution_count": 21,
   "metadata": {},
   "outputs": [
    {
     "data": {
      "text/plain": [
       "True"
      ]
     },
     "metadata": {},
     "output_type": "display_data"
    }
   ],
   "source": [
    "# удалим строки с пропусками в зависимых переменных\n",
    "gold_recovery_full = gold_recovery_full[~gold_recovery_full['rougher.output.recovery'].isna()]\n",
    "gold_recovery_full = gold_recovery_full[~gold_recovery_full['final.output.recovery'].isna()]\n",
    "\n",
    "# заполним пропуски независимых переменных методом ffill, но сначала отсортируем данные по дате\n",
    "gold_recovery_full = gold_recovery_full.sort_values(by='date',ascending=True)\n",
    "gold_recovery_full = gold_recovery_full.fillna(method='ffill')\n",
    "\n",
    "# проверим, что кол-во строк в общем датасете и сумма строк тренировочного и тестового одинаковы\n",
    "display(gold_recovery_full.shape[0]==(gold_recovery_test.shape[0]+gold_recovery_train.shape[0]))"
   ]
  },
  {
   "cell_type": "markdown",
   "metadata": {},
   "source": [
    "Вот теперь наши данные готовы к анализу."
   ]
  },
  {
   "cell_type": "markdown",
   "metadata": {},
   "source": [
    "# 2. Анализ данных"
   ]
  },
  {
   "cell_type": "markdown",
   "metadata": {},
   "source": [
    "Посмотрим как менялась концентрация металлов на разных этапах очистки. Металлы которые нас интересуют Au, Ag, Pb. \n",
    "Чтобы не повторять все действия в ручную, создадим функцию, которая будет отрисовывать графики и отрисовывавть ящик с усами. Мы не удаляли выбросы данных, так что имеет смысл посмотреть на них и, возможно, удалить"
   ]
  },
  {
   "cell_type": "code",
   "execution_count": 22,
   "metadata": {},
   "outputs": [
    {
     "name": "stderr",
     "output_type": "stream",
     "text": [
      "/opt/conda/lib/python3.7/site-packages/pandas/plotting/_matplotlib/converter.py:103: FutureWarning: Using an implicitly registered datetime converter for a matplotlib plotting method. The converter was registered by pandas on import. Future versions of pandas will require you to explicitly register matplotlib converters.\n",
      "\n",
      "To register the converters:\n",
      "\t>>> from pandas.plotting import register_matplotlib_converters\n",
      "\t>>> register_matplotlib_converters()\n",
      "  warnings.warn(msg, FutureWarning)\n"
     ]
    },
    {
     "data": {
      "image/png": "[encoded data removed]",
      "text/plain": [
       "<Figure size 1080x216 with 2 Axes>"
      ]
     },
     "metadata": {
      "needs_background": "light"
     },
     "output_type": "display_data"
    },
    {
     "name": "stdout",
     "output_type": "stream",
     "text": [
      "Интервал от 1.0233170659310185 до 15.600983598385097\n",
      "count    19439.000000\n",
      "mean         8.266097\n",
      "std          1.955092\n",
      "min          0.010000\n",
      "25%          6.854384\n",
      "50%          8.125839\n",
      "75%          9.769917\n",
      "max         13.731330\n",
      "Name: rougher.input.feed_au, dtype: float64\n"
     ]
    },
    {
     "data": {
      "image/png": "[encoded data removed]",
      "text/plain": [
       "<Figure size 1080x216 with 2 Axes>"
      ]
     },
     "metadata": {
      "needs_background": "light"
     },
     "output_type": "display_data"
    },
    {
     "name": "stdout",
     "output_type": "stream",
     "text": [
      "Интервал от 12.971882255518778 до 27.548482942608672\n",
      "count    19439.000000\n",
      "mean        19.772000\n",
      "std          3.753600\n",
      "min          0.000000\n",
      "25%         18.802523\n",
      "50%         20.280214\n",
      "75%         21.717843\n",
      "max         28.824507\n",
      "Name: rougher.output.concentrate_au, dtype: float64\n"
     ]
    },
    {
     "data": {
      "image/png": "[encoded data removed]",
      "text/plain": [
       "<Figure size 1080x216 with 2 Axes>"
      ]
     },
     "metadata": {
      "needs_background": "light"
     },
     "output_type": "display_data"
    },
    {
     "name": "stdout",
     "output_type": "stream",
     "text": [
      "Интервал от 21.2934078048675 до 44.21773750455664\n",
      "count    19439.000000\n",
      "mean        32.119400\n",
      "std          5.627611\n",
      "min          0.000000\n",
      "25%         30.463140\n",
      "50%         32.841295\n",
      "75%         35.048006\n",
      "max         45.933934\n",
      "Name: primary_cleaner.output.concentrate_au, dtype: float64\n"
     ]
    },
    {
     "data": {
      "image/png": "[encoded data removed]",
      "text/plain": [
       "<Figure size 1080x216 with 2 Axes>"
      ]
     },
     "metadata": {
      "needs_background": "light"
     },
     "output_type": "display_data"
    },
    {
     "name": "stdout",
     "output_type": "stream",
     "text": [
      "Интервал от 37.656018727477615 до 52.02150879660681\n",
      "count    19439.000000\n",
      "mean        44.076513\n",
      "std          5.129784\n",
      "min          0.000000\n",
      "25%         43.402215\n",
      "50%         45.011244\n",
      "75%         46.275313\n",
      "max         52.756638\n",
      "Name: final.output.concentrate_au, dtype: float64\n"
     ]
    }
   ],
   "source": [
    "\n",
    "# сделаем функцию отрисовки пары графиков: recovery и ящик с усами\n",
    "def ploting(df,name,high,low):\n",
    "    fig, ax = plt.subplots(nrows=1, ncols=2, constrained_layout=False)\n",
    "    fig.set_figheight(3)\n",
    "    fig.set_figwidth(15)\n",
    "    ax[0].plot(df[name], label=name)\n",
    "    ax[0].set_title(name, fontsize=14)\n",
    "    ax[0].set_xlabel ('date')\n",
    "    ax[0].set_ylabel ('recovery')\n",
    "    ax[0].set_ylim(low,high)\n",
    "    ax[1].boxplot(df[name])\n",
    "    plt.show()\n",
    "\n",
    "# Расчитаем интервал графиков от Q1-3*IQR до Q3+3*IQR, чтоб избавить от выбросов\n",
    "def plotting_intervals(df, column):\n",
    "    \n",
    "    first_quantile = df[column].quantile(0.25)\n",
    "    third_quantile = df[column].quantile(0.75)\n",
    "    iqr = third_quantile - first_quantile\n",
    "    \n",
    "    interval_low = first_quantile - 2 * iqr\n",
    "    interval_high = third_quantile + 2 * iqr\n",
    "        \n",
    "    return(interval_low, interval_high)\n",
    "    \n",
    "# Посмотрим графики recovery и ящик с усами без выбросов для Au и описательную статистику с учетом выбросов\n",
    "names = [\n",
    "        'rougher.input.feed_au',\n",
    "        'rougher.output.concentrate_au',\n",
    "        'primary_cleaner.output.concentrate_au',\n",
    "        'final.output.concentrate_au'\n",
    "        ] \n",
    "\n",
    "for name in names:\n",
    "    low, high = plotting_intervals(gold_recovery_full, name)\n",
    "    ploting(gold_recovery_full, name, high,low)\n",
    "    print(\"Интервал от\",low,\"до\", high)\n",
    "    print(gold_recovery_full[name].describe())\n",
    "\n",
    "\n"
   ]
  },
  {
   "cell_type": "markdown",
   "metadata": {},
   "source": [
    "Да, картинка не очень, мало того, что у нас много выбросов, так еще и нулевых значений хватает. Вполне возможно, что измерение не состоялись по тем или иным причинам. Поэтому уберем нулевые значения и выбросы, а затем опять посмотрим на графики."
   ]
  },
  {
   "cell_type": "code",
   "execution_count": 23,
   "metadata": {},
   "outputs": [
    {
     "data": {
      "image/png": "[encoded data removed]",
      "text/plain": [
       "<Figure size 1080x216 with 2 Axes>"
      ]
     },
     "metadata": {
      "needs_background": "light"
     },
     "output_type": "display_data"
    },
    {
     "name": "stdout",
     "output_type": "stream",
     "text": [
      "Интервал от 1.0233170659310185 до 15.600983598385097\n",
      "count    19418.000000\n",
      "mean         8.274368\n",
      "std          1.939861\n",
      "min          1.025235\n",
      "25%          6.857058\n",
      "50%          8.129623\n",
      "75%          9.770475\n",
      "max         13.731330\n",
      "Name: rougher.input.feed_au, dtype: float64\n"
     ]
    },
    {
     "data": {
      "image/png": "[encoded data removed]",
      "text/plain": [
       "<Figure size 1080x216 with 2 Axes>"
      ]
     },
     "metadata": {
      "needs_background": "light"
     },
     "output_type": "display_data"
    },
    {
     "name": "stdout",
     "output_type": "stream",
     "text": [
      "Интервал от 12.971882255518778 до 27.548482942608672\n",
      "count    18785.000000\n",
      "mean        20.308302\n",
      "std          2.168090\n",
      "min         12.972888\n",
      "25%         18.996100\n",
      "50%         20.355406\n",
      "75%         21.776347\n",
      "max         27.425796\n",
      "Name: rougher.output.concentrate_au, dtype: float64\n"
     ]
    },
    {
     "data": {
      "image/png": "[encoded data removed]",
      "text/plain": [
       "<Figure size 1080x216 with 2 Axes>"
      ]
     },
     "metadata": {
      "needs_background": "light"
     },
     "output_type": "display_data"
    },
    {
     "name": "stdout",
     "output_type": "stream",
     "text": [
      "Интервал от 21.2934078048675 до 44.21773750455664\n",
      "count    18776.000000\n",
      "mean        32.915524\n",
      "std          3.393412\n",
      "min         21.307425\n",
      "25%         30.736444\n",
      "50%         32.980172\n",
      "75%         35.123520\n",
      "max         44.201701\n",
      "Name: primary_cleaner.output.concentrate_au, dtype: float64\n"
     ]
    },
    {
     "data": {
      "image/png": "[encoded data removed]",
      "text/plain": [
       "<Figure size 1080x216 with 2 Axes>"
      ]
     },
     "metadata": {
      "needs_background": "light"
     },
     "output_type": "display_data"
    },
    {
     "name": "stdout",
     "output_type": "stream",
     "text": [
      "Интервал от 37.656018727477615 до 52.02150879660681\n",
      "count    18533.000000\n",
      "mean        44.926671\n",
      "std          2.197705\n",
      "min         37.661198\n",
      "25%         43.687465\n",
      "50%         45.128119\n",
      "75%         46.347784\n",
      "max         51.571885\n",
      "Name: final.output.concentrate_au, dtype: float64\n"
     ]
    }
   ],
   "source": [
    "\n",
    "for name in names:\n",
    "    low, high = plotting_intervals(gold_recovery_full, name)\n",
    "    \n",
    "    zeroless_full = gold_recovery_full[(\n",
    "                                        gold_recovery_full[name]>=low\n",
    "                                        )&(\n",
    "                                        gold_recovery_full[name]<=high\n",
    "                                        )].copy()\n",
    "    \n",
    "\n",
    "    \n",
    "    ploting(zeroless_full, name, high,low)\n",
    "    print(\"Интервал от\",low,\"до\", high)\n",
    "    print(zeroless_full[name].describe())"
   ]
  },
  {
   "cell_type": "markdown",
   "metadata": {},
   "source": [
    "Все равно мало информативно. Пока что можем лишь сказать, что с каждым последующим этапом доля содержания золота возрастает, что уже достаточно хорошо, само по себе, потому что означает, что предприятие на верном пути. Теперь нам следует посмотреть гистограммы восстановления на одном поле, но так, чтоб все графики были без выбросов."
   ]
  },
  {
   "cell_type": "code",
   "execution_count": 24,
   "metadata": {},
   "outputs": [
    {
     "data": {
      "image/png": "[encoded data removed]",
      "text/plain": [
       "<Figure size 720x360 with 1 Axes>"
      ]
     },
     "metadata": {
      "needs_background": "light"
     },
     "output_type": "display_data"
    }
   ],
   "source": [
    "\n",
    "\n",
    "low, high = plotting_intervals(gold_recovery_full, 'rougher.input.feed_au')\n",
    "\n",
    "zeroless_full = gold_recovery_full[(\n",
    "                                        gold_recovery_full['rougher.input.feed_au']>=low\n",
    "                                        )&(\n",
    "                                        gold_recovery_full['rougher.input.feed_au']<=high\n",
    "                                        )].copy()\n",
    "\n",
    "\n",
    "low, high = plotting_intervals(gold_recovery_full, 'rougher.output.concentrate_au')\n",
    "zeroless_full = zeroless_full[(\n",
    "                                        zeroless_full['rougher.output.concentrate_au']>=low\n",
    "                                        )&(\n",
    "                                        zeroless_full['rougher.output.concentrate_au']<=high\n",
    "                                        )]\n",
    "\n",
    "\n",
    "low, high = plotting_intervals(gold_recovery_full, 'primary_cleaner.output.concentrate_au')\n",
    "zeroless_full = zeroless_full[(\n",
    "                                        zeroless_full['primary_cleaner.output.concentrate_au']>=low\n",
    "                                        )&(\n",
    "                                        zeroless_full['primary_cleaner.output.concentrate_au']<=high\n",
    "\n",
    "\n",
    ")]\n",
    "low, high = plotting_intervals(gold_recovery_full, 'final.output.concentrate_au')\n",
    "zeroless_full = zeroless_full[(\n",
    "                                        zeroless_full['final.output.concentrate_au']>=low\n",
    "                                        )&(\n",
    "                                        zeroless_full['final.output.concentrate_au']<=high\n",
    "                                        )]\n",
    "\n",
    "#построим график\n",
    "fig, ax = plt.subplots()\n",
    "fig.set_figheight(5)\n",
    "fig.set_figwidth(10)\n",
    "for name in names:    \n",
    "    ax.hist(zeroless_full[name], bins=100, label=name, alpha=0.5)\n",
    "    ax.set_title(name, fontsize=14)\n",
    "    ax.set_xlabel ('recovery')\n",
    "    ax.set_ylabel ('frequency')\n",
    "plt.legend()    \n",
    "plt.show()\n",
    "\n"
   ]
  },
  {
   "cell_type": "markdown",
   "metadata": {},
   "source": [
    "Таким образом, избавившись от выбросов можем точно сказать, что с каждой последующей стадией очиски количество коэффицент содержания золота возрастает, при этом глядя на гистограмму процесса повторной очист можно сказать, что этот процесс наименее предсказуем относительно выходного результата, потому как диапазон концентрации золота может быть как чуть больше 20%, так и больше 40%.\n",
    "\n",
    "Посмотрим на ситуацию с серебром. Сразу будем действовать аналогичным образом и уберем выбросы."
   ]
  },
  {
   "cell_type": "code",
   "execution_count": null,
   "metadata": {},
   "outputs": [],
   "source": []
  },
  {
   "cell_type": "code",
   "execution_count": 25,
   "metadata": {},
   "outputs": [
    {
     "data": {
      "image/png": "[encoded data removed]",
      "text/plain": [
       "<Figure size 720x360 with 1 Axes>"
      ]
     },
     "metadata": {
      "needs_background": "light"
     },
     "output_type": "display_data"
    }
   ],
   "source": [
    "low, high = plotting_intervals(gold_recovery_full, 'rougher.input.feed_ag')\n",
    "\n",
    "zeroless_full = gold_recovery_full[(\n",
    "                                        gold_recovery_full['rougher.input.feed_ag']>=low\n",
    "                                        )&(\n",
    "                                        gold_recovery_full['rougher.input.feed_ag']<=high\n",
    "                                        )].copy()\n",
    "\n",
    "\n",
    "low, high = plotting_intervals(gold_recovery_full, 'rougher.output.concentrate_ag')\n",
    "zeroless_full = zeroless_full[(\n",
    "                                        zeroless_full['rougher.output.concentrate_ag']>=low\n",
    "                                        )&(\n",
    "                                        zeroless_full['rougher.output.concentrate_ag']<=high\n",
    "                                        )]\n",
    "\n",
    "\n",
    "low, high = plotting_intervals(gold_recovery_full, 'primary_cleaner.output.concentrate_ag')\n",
    "zeroless_full = zeroless_full[(\n",
    "                                        zeroless_full['primary_cleaner.output.concentrate_ag']>=low\n",
    "                                        )&(\n",
    "                                        zeroless_full['primary_cleaner.output.concentrate_ag']<=high\n",
    "\n",
    "\n",
    ")]\n",
    "low, high = plotting_intervals(gold_recovery_full, 'final.output.concentrate_ag')\n",
    "zeroless_full = zeroless_full[(\n",
    "                                        zeroless_full['final.output.concentrate_ag']>=low\n",
    "                                        )&(\n",
    "                                        zeroless_full['final.output.concentrate_ag']<=high\n",
    "                                        )]\n",
    "\n",
    "names = [\n",
    "        'rougher.input.feed_ag',\n",
    "        'rougher.output.concentrate_ag',\n",
    "        'primary_cleaner.output.concentrate_ag',\n",
    "        'final.output.concentrate_ag'\n",
    "        ] \n",
    "\n",
    "#построим график\n",
    "fig, ax = plt.subplots()\n",
    "fig.set_figheight(5)\n",
    "fig.set_figwidth(10)\n",
    "for name in names:    \n",
    "    ax.hist(zeroless_full[name], bins=100, label=name, alpha=0.3)\n",
    "    ax.set_title(name, fontsize=14)\n",
    "    ax.set_xlabel ('recovery')\n",
    "    ax.set_ylabel ('frequency')\n",
    "plt.legend()    \n",
    "plt.show()"
   ]
  },
  {
   "cell_type": "markdown",
   "metadata": {},
   "source": [
    "В случае с серебром картинка интереснее, так в среднем серебра в смеси золотоносной руды меньше нежели серебра в сырье после флотации, однако после процесса первичной очистки его количество ожидаемо падает и достигает минимума после повторной очиски. Вполне возможно, что при флотации, в качестве какого-то реагента используется именно серебро, либо, вполне возможно, что на предприятии используется метод селиктивной флотации, который одинаково хорошо подходит и для золота и для серебра. Если эта гипотеза верна, то и количество свинца после флотации тоже должно возрастать, по сравнению с количеством свинца в смеси золотоносной руды. Посмотрим на Pb.\n"
   ]
  },
  {
   "cell_type": "code",
   "execution_count": 26,
   "metadata": {},
   "outputs": [
    {
     "data": {
      "image/png": "[encoded data removed]",
      "text/plain": [
       "<Figure size 720x360 with 1 Axes>"
      ]
     },
     "metadata": {
      "needs_background": "light"
     },
     "output_type": "display_data"
    }
   ],
   "source": [
    "low, high = plotting_intervals(gold_recovery_full, 'rougher.input.feed_pb')\n",
    "\n",
    "zeroless_full = gold_recovery_full[(\n",
    "                                        gold_recovery_full['rougher.input.feed_pb']>=low\n",
    "                                        )&(\n",
    "                                        gold_recovery_full['rougher.input.feed_pb']<=high\n",
    "                                        )].copy()\n",
    "\n",
    "\n",
    "low, high = plotting_intervals(gold_recovery_full, 'rougher.output.concentrate_pb')\n",
    "zeroless_full = zeroless_full[(\n",
    "                                        zeroless_full['rougher.output.concentrate_pb']>=low\n",
    "                                        )&(\n",
    "                                        zeroless_full['rougher.output.concentrate_pb']<=high\n",
    "                                        )]\n",
    "\n",
    "\n",
    "low, high = plotting_intervals(gold_recovery_full, 'primary_cleaner.output.concentrate_pb')\n",
    "zeroless_full = zeroless_full[(\n",
    "                                        zeroless_full['primary_cleaner.output.concentrate_pb']>=low\n",
    "                                        )&(\n",
    "                                        zeroless_full['primary_cleaner.output.concentrate_pb']<=high\n",
    "\n",
    "\n",
    ")]\n",
    "low, high = plotting_intervals(gold_recovery_full, 'final.output.concentrate_ag')\n",
    "zeroless_full = zeroless_full[(\n",
    "                                        zeroless_full['final.output.concentrate_ag']>=low\n",
    "                                        )&(\n",
    "                                        zeroless_full['final.output.concentrate_ag']<=high\n",
    "                                        )]\n",
    "\n",
    "names = [\n",
    "        'rougher.input.feed_pb',\n",
    "        'rougher.output.concentrate_pb',\n",
    "        'primary_cleaner.output.concentrate_pb',\n",
    "        'final.output.concentrate_pb'\n",
    "        ] \n",
    "\n",
    "#построим график\n",
    "fig, ax = plt.subplots()\n",
    "fig.set_figheight(5)\n",
    "fig.set_figwidth(10)\n",
    "for name in names:    \n",
    "    ax.hist(zeroless_full[name], bins=100, label=name, alpha=0.3)\n",
    "    ax.set_title(name, fontsize=14)\n",
    "    ax.set_xlabel ('recovery')\n",
    "    ax.set_ylabel ('frequency')\n",
    "plt.legend()    \n",
    "plt.show()"
   ]
  },
  {
   "cell_type": "markdown",
   "metadata": {},
   "source": [
    "Все выглядит так, что гипотеза о использовании метода селективной флотации верна. Количество свинца растет после флотации и даже после первичной и вторичной очисток, при этом после первичной очистки, в некоторы случаях количество свинца может быть даже выше чем после вторичной очистки. Возможно это означает, что сырье с содержанием свинца после первичной очистки свыше определенной нормы может быть передано на другой участок горно-обоготительного комбината, например для извлечения свинца, а не золота. А может быть, при процессе повторной очистки свинец не используется и поэтому его доля в финальном концентрате ниже."
   ]
  },
  {
   "cell_type": "markdown",
   "metadata": {},
   "source": [
    "Теперь сравним распределение размера гранул сырья в обучающей и тестовой выборке, для этого посмотрим на графики плотности распределения. Если размер будет сильно отличаться, то качество модели может от этого страдать. "
   ]
  },
  {
   "cell_type": "code",
   "execution_count": 27,
   "metadata": {},
   "outputs": [
    {
     "data": {
      "image/png": "[encoded data removed]",
      "text/plain": [
       "<Figure size 504x360 with 1 Axes>"
      ]
     },
     "metadata": {
      "needs_background": "light"
     },
     "output_type": "display_data"
    }
   ],
   "source": [
    "import seaborn as sns\n",
    "plt.figure(figsize=(7,5))\n",
    "sns.kdeplot(gold_recovery_train['rougher.input.feed_size'], label='Размер гранул сырья в обучающей выборке')\n",
    "sns.kdeplot(gold_recovery_test['rougher.input.feed_size'], label='Размер гранул сырья в тестовой выборке')\n",
    "plt.show()"
   ]
  },
  {
   "cell_type": "markdown",
   "metadata": {},
   "source": [
    "Похоже, что распределения не сильно отличаются, а значит качество модели страдать не должно."
   ]
  },
  {
   "cell_type": "markdown",
   "metadata": {},
   "source": [
    "Теперь исследуем суммарную концентрацию всех веществ на разных стадиях: в сырье, в черновом и финальном концентратах."
   ]
  },
  {
   "cell_type": "code",
   "execution_count": 28,
   "metadata": {},
   "outputs": [
    {
     "data": {
      "image/png": "[encoded data removed]",
      "text/plain": [
       "<Figure size 1080x720 with 1 Axes>"
      ]
     },
     "metadata": {
      "needs_background": "light"
     },
     "output_type": "display_data"
    }
   ],
   "source": [
    "# соберем данные в 3 группы: содержание веществ в сырье, в черновом концентрате (после флотации) и в финальном концентрате\n",
    "\n",
    "gold_recovery_full['total_metals_rougher_input_feed']=(\n",
    "                                                gold_recovery_full['rougher.input.feed_ag']+\n",
    "                                                gold_recovery_full['rougher.input.feed_au']+\n",
    "                                                gold_recovery_full['rougher.input.feed_pb']+\n",
    "                                                gold_recovery_full['rougher.input.feed_sol']\n",
    "                                                )\n",
    "\n",
    "gold_recovery_full['total_metals_rougher_output_feed']=(\n",
    "                                                gold_recovery_full['rougher.output.concentrate_ag']+\n",
    "                                                gold_recovery_full['rougher.output.concentrate_au']+\n",
    "                                                gold_recovery_full['rougher.output.concentrate_pb']+\n",
    "                                                gold_recovery_full['rougher.output.concentrate_sol']\n",
    "                                                )\n",
    "\n",
    "gold_recovery_full['total_metals_final_output_feed']=(\n",
    "                                                gold_recovery_full['final.output.concentrate_ag']+\n",
    "                                                gold_recovery_full['final.output.concentrate_au']+\n",
    "                                                gold_recovery_full['final.output.concentrate_pb']+\n",
    "                                                gold_recovery_full['final.output.concentrate_sol']\n",
    "                                                )\n",
    "# построим графики \n",
    "names=[\n",
    "    'total_metals_rougher_input_feed',\n",
    "    'total_metals_rougher_output_feed',\n",
    "    'total_metals_final_output_feed'\n",
    "]\n",
    "fig, ax = plt.subplots()\n",
    "fig.set_figheight(10)\n",
    "fig.set_figwidth(15)\n",
    "for name in names:    \n",
    "    ax.plot(gold_recovery_full[name], label=name, alpha=0.7)\n",
    "    ax.set_title(name, fontsize=14)\n",
    "    ax.set_xlabel (name)\n",
    "    plt.legend() \n",
    "    ax.set_ylabel ('%')\n",
    "    plt.legend()\n",
    "plt.show()\n",
    "   \n",
    "\n"
   ]
  },
  {
   "cell_type": "markdown",
   "metadata": {},
   "source": [
    "Интересно, у нас есть некоторое количество данных у которых на разных стадиях сумарная концентрация всех веществ равна нулю. Возможно нули связаны со сбоями измирительного оборудования и мы удалим такие данные. Углубляться дальше и удалять нули в концентрациях отдельных веществ на отдельной стадии мы не будем, потому как это уже может быть не аномалия, а свойство руды, что в ней нет искомых элементов. \n",
    "\n",
    "Так же мы **не будем** удалять выбросы и брать только те данные которые попадают в интервал от Q1-2*IQR до Q3+2*IQR, потому что это тоже будет вызывать противоречие с самой сущностью руды."
   ]
  },
  {
   "cell_type": "code",
   "execution_count": 29,
   "metadata": {},
   "outputs": [
    {
     "data": {
      "image/png": "[encoded data removed]",
      "text/plain": [
       "<Figure size 1080x720 with 1 Axes>"
      ]
     },
     "metadata": {
      "needs_background": "light"
     },
     "output_type": "display_data"
    }
   ],
   "source": [
    "fig, ax = plt.subplots()\n",
    "fig.set_figheight(10)\n",
    "fig.set_figwidth(15)\n",
    "for name in names:\n",
    "    #low,high=  plotting_intervals(gold_recovery_full, name)\n",
    "    ax.plot(gold_recovery_full[gold_recovery_full[name] > 0][name], label=name, alpha=0.5)\n",
    "    ax.set_title(name, fontsize=14)\n",
    "    ax.set_xlabel (name)\n",
    "    plt.legend() \n",
    "    ax.set_ylabel ('%')\n",
    "    plt.legend()\n",
    "plt.show()"
   ]
  },
  {
   "cell_type": "markdown",
   "metadata": {},
   "source": [
    "Отлично, мы определились, какие именно строки нам следует удалять, а какие нет. Пора удалить эти строки из тренировочной и тестовой выборок\n"
   ]
  },
  {
   "cell_type": "code",
   "execution_count": 30,
   "metadata": {},
   "outputs": [],
   "source": [
    "# напишим функцию, которая будет удалять строки\n",
    "def dell_zeros (df):\n",
    "    #start= df.shape\n",
    "    #display(start)\n",
    "\n",
    "    # создадим временный фрейм, в который положим новые столбцы из общего, но только те строки,\n",
    "    # которые есть во фрейме, который передали в функцию\n",
    "    test = gold_recovery_full.loc[df.index][[\n",
    "                                            'total_metals_rougher_input_feed',\n",
    "                                            'total_metals_rougher_output_feed',\n",
    "                                            'total_metals_final_output_feed' \n",
    "                                            ]]\n",
    "    \n",
    "    \n",
    "    \n",
    "    # добавим созданный фрейм к тому, что получила на вход функция\n",
    "    df=df.merge(test, on='date', how='left')\n",
    "   \n",
    "    \n",
    "    # скопируем в новы фрейм  из того, который поступил в функцию только те строки, для которых \"присоседженые\" больше нуля\n",
    "    temp=df[df['total_metals_rougher_input_feed']>0].copy()\n",
    "    temp=temp[temp['total_metals_rougher_output_feed']>0]\n",
    "    temp=temp[temp['total_metals_final_output_feed']>0]  \n",
    "    df=temp.copy()\n",
    "    \n",
    "    # и удалим \"присоседженые\" \n",
    "    df=df.drop('total_metals_rougher_input_feed',axis=1)\n",
    "    df=df.drop('total_metals_rougher_output_feed',axis=1)\n",
    "    df=df.drop('total_metals_final_output_feed',axis=1)\n",
    "    \n",
    "    #finish=df.shape\n",
    "    #display(finish)\n",
    "    #print('было строк',start[0])\n",
    "    #print('стало строк',finish[0])\n",
    "    #print('удалили строк',start[0]-finish[0])\n",
    "    \n",
    "    return df\n",
    "    \n",
    "gold_recovery_train = dell_zeros(gold_recovery_train)  \n",
    "gold_recovery_test = dell_zeros(gold_recovery_test) "
   ]
  },
  {
   "cell_type": "markdown",
   "metadata": {},
   "source": [
    "Отлично, удалили \"мусорные\" данные из тренировочной и тестовой выборки. Но что на счет общей, в ней так и остались три новых столбца. Удалим и их."
   ]
  },
  {
   "cell_type": "code",
   "execution_count": 31,
   "metadata": {},
   "outputs": [],
   "source": [
    "gold_recovery_full=gold_recovery_full.drop('total_metals_rougher_input_feed',axis=1)\n",
    "gold_recovery_full=gold_recovery_full.drop('total_metals_rougher_output_feed',axis=1)\n",
    "gold_recovery_full=gold_recovery_full.drop('total_metals_final_output_feed',axis=1)"
   ]
  },
  {
   "cell_type": "markdown",
   "metadata": {},
   "source": [
    "***Выводы***\n",
    "\n",
    "1) С каждым последующим этапом доля содержания золота возрастает, а это значит, что с технологической точки зрения наше предприятие работает правильно. При этом, на предприятии скорее всего используется метод селиктивной флотации, на что косвенно указывают следующие факты:\n",
    "    - доля серебра в сырье после процесса флотации возрастает, а затем постепенно падает достигая своих минимальных значений на этапе финального концентрата\n",
    "    - количество свинца растет после флотации и даже после первичной и вторичной очисток, при этом после первичной очистки, в некоторы случаях количество свинца может быть даже выше чем после вторичной очистки\n",
    "\n",
    "2) Распределение размера гранул сырья в обучающей и тестовой выборке не сильно отличается, а значит этот показатель не будет искажать модель\n",
    "\n",
    "3) В исходных данных было достаточное количество данных, при которых суммарная концентрацая всех веществ (au, ag, pb, sol) на разных стадия (rougher.input, rougher.output, final.output) была равна нулю. Возможно в этом виновата природа самой руды, что мало вероятно, но скорее всего это вызвано сбоями измирительного оборудования и такие данные мы удалили из тренировочной и тестовой выборок. Мы не углублялись и не удаляли данные, в которых концентрация какого-либо вещества, на какой-либо стадии, равна нулю, потому что это уже очень вероятно и может являться сущностью руды."
   ]
  },
  {
   "cell_type": "markdown",
   "metadata": {},
   "source": [
    "# 3. Модель"
   ]
  },
  {
   "cell_type": "markdown",
   "metadata": {},
   "source": [
    "Поскольку метрикой нашей модели является sMAPE, то напишим функцию для вычисления этой метрики, а так же для вычисления итогового sMAPE."
   ]
  },
  {
   "cell_type": "code",
   "execution_count": 32,
   "metadata": {},
   "outputs": [],
   "source": [
    "def smape(y_true, y_pred):\n",
    "    \n",
    "    smape= np.mean(2*np.abs(y_true-y_pred)/(np.abs(y_true)+np.abs(y_pred)))*100\n",
    "    \n",
    "    return smape\n",
    "\n",
    "def final_smape (smape_rougher, smape_final):\n",
    "    return 0.25*smape_rougher+0.75*smape_final"
   ]
  },
  {
   "cell_type": "markdown",
   "metadata": {},
   "source": [
    "Поскольку данные уже разбиты на тренировочную и тестовую выборки, то будем обучать модели на тренировочной и валидировать кросвалидаций, а проверять результат лучшей модели будем на тестовой выборке. Поскольку у нас 2 зависимых переменные, то для одного набора независимых переменных будем делать 2 набора таргетных значений. Для rougher.output.recovery и final.output.recovery. Кроме того, не плохо было бы стандартизовать все независимые переменные, для повышение точности модели.\n",
    "\n",
    "Первой попробуем обучить и валидировать модель линейной регрессии, но сначала подготовить тренировочные данные"
   ]
  },
  {
   "cell_type": "code",
   "execution_count": 33,
   "metadata": {},
   "outputs": [],
   "source": [
    "# опеределим зависимые и независимые переменные для обучающей выборки\n",
    "features_train = gold_recovery_train.drop(['rougher.output.recovery','final.output.recovery'], axis=1)\n",
    "target_train_rougher = gold_recovery_train['rougher.output.recovery']\n",
    "target_train_final = gold_recovery_train['final.output.recovery']\n",
    "\n",
    "# определим список независимых переменных\n",
    "numeric = features_train.columns.to_list()\n",
    "\n",
    "# обучим стандартизации на тренировочных данных\n",
    "scaler = StandardScaler()\n",
    "scaler.fit(features_train[numeric])\n",
    "\n",
    "# чтобы не портить исходную выборку сделаем ее копию\n",
    "features_train_scaler = features_train.copy() \n",
    "\n",
    "# и стандартизируем эту копию, чтоб дальше работать уже с ней\n",
    "features_train_scaler[numeric] = scaler.transform(features_train[numeric])"
   ]
  },
  {
   "cell_type": "markdown",
   "metadata": {},
   "source": [
    "А теперь все же перейдем к модели линейной регрессии. Будем обучать ее на тренировочном датасете и проверять кросс-валидацией. Для этого напишем функцию."
   ]
  },
  {
   "cell_type": "code",
   "execution_count": 34,
   "metadata": {},
   "outputs": [
    {
     "name": "stdout",
     "output_type": "stream",
     "text": [
      "sMAPE линейной модели для rougher:-7.26781\n",
      "sMAPE линейной модели для final:-10.99020\n",
      "Итоговое sMAPE линейной модели:-10.05960\n"
     ]
    }
   ],
   "source": [
    "def smape(y_true, y_pred):\n",
    "    \n",
    "    smape= np.mean(2*np.abs(y_true-y_pred)/(np.abs(y_true)+np.abs(y_pred)))*100\n",
    "    \n",
    "    return smape\n",
    "\n",
    "def cross_validation(model, features_train_scaler, target_train):\n",
    "    # создадим из функции расчета smape метрику\n",
    "    smape_score = make_scorer(smape, greater_is_better=False)\n",
    "\n",
    "\n",
    "    # вызовем функцию кросс-валидации с нашей новой метрикой и узнаем насколько хороша модель\n",
    "    smape_score = cross_val_score(model, features_train_scaler, target_train, cv=5, scoring=smape_score)\n",
    "    \n",
    "    return smape_score\n",
    "\n",
    "\n",
    "\n",
    "# создадим модель\n",
    "model=LinearRegression()\n",
    "\n",
    "# обучим модель для rougher\n",
    "model.fit(features_train_scaler, target_train_rougher)\n",
    "\n",
    "# расчитаем smape для rougher\n",
    "smape_score_linear_rougher= cross_validation(model, features_train_scaler, target_train_rougher)\n",
    "\n",
    "\n",
    "# обучим модель final\n",
    "model.fit(features_train_scaler, target_train_final)\n",
    "\n",
    "# расчитаем smape для final\n",
    "smape_score_linear_final = cross_validation(model, features_train_scaler, target_train_final)\n",
    "\n",
    "print(\"sMAPE линейной модели для rougher:{: .5f}\".format(smape_score_linear_rougher.mean()))\n",
    "print(\"sMAPE линейной модели для final:{: .5f}\".format(smape_score_linear_final.mean()))\n",
    "print(\"Итоговое sMAPE линейной модели:{: .5f}\".format(\n",
    "                                                    final_smape(\n",
    "                                                                smape_score_linear_rougher.mean(),\n",
    "                                                                smape_score_linear_final.mean()\n",
    "                                                                )\n",
    "                                                    ))\n",
    "\n"
   ]
  },
  {
   "cell_type": "markdown",
   "metadata": {},
   "source": [
    "\n",
    "\n",
    " Симметричное среднее абсолютное процентное отклонение для концентрата после процесса флотации чуть больше 7%, а для финального концентрата почти 11%. Общее симметричное отклонение составляет чуть больше 10%. Посмотрим другие модели, например дерева решений"
   ]
  },
  {
   "cell_type": "code",
   "execution_count": 35,
   "metadata": {},
   "outputs": [
    {
     "name": "stdout",
     "output_type": "stream",
     "text": [
      "sMAPE модели дерева для rougher:-9.32262\n",
      "sMAPE модели дерева для final:-16.30055\n",
      "Итоговое sMAPE модели дерева:-14.55607\n"
     ]
    }
   ],
   "source": [
    "model=DecisionTreeRegressor(random_state=12345)\n",
    "\n",
    "# обучим модель для rougher\n",
    "model.fit(features_train_scaler, target_train_rougher)\n",
    "\n",
    "# расчитаем smape для rougher\n",
    "smape_score_tree_rougher= cross_validation(model, features_train_scaler, target_train_rougher)\n",
    "\n",
    "# обучим модель для final\n",
    "model.fit(features_train_scaler, target_train_final)\n",
    "\n",
    "# расчитаем smape для final\n",
    "smape_score_tree_final = cross_validation(model, features_train_scaler, target_train_final)\n",
    "\n",
    "print(\"sMAPE модели дерева для rougher:{: .5f}\".format(smape_score_tree_rougher.mean()))\n",
    "print(\"sMAPE модели дерева для final:{: .5f}\".format(smape_score_tree_final.mean()))\n",
    "print(\"Итоговое sMAPE модели дерева:{: .5f}\".format(\n",
    "                                                    final_smape(\n",
    "                                                                smape_score_tree_rougher.mean(),\n",
    "                                                                smape_score_tree_final.mean()\n",
    "                                                                )\n",
    "                                                    ))\n",
    "\n"
   ]
  },
  {
   "cell_type": "markdown",
   "metadata": {},
   "source": [
    "Мда, модели дерева решений показатели хуже, пока линейная регрессия побеждает. Посмотрим модель случайного леса с различными параметрами."
   ]
  },
  {
   "cell_type": "code",
   "execution_count": 36,
   "metadata": {},
   "outputs": [
    {
     "name": "stdout",
     "output_type": "stream",
     "text": [
      "Лучшие параметры случайного леса для rougher:  RandomForestRegressor(bootstrap=True, criterion='mse', max_depth=6,\n",
      "                      max_features='auto', max_leaf_nodes=None,\n",
      "                      min_impurity_decrease=0.0, min_impurity_split=None,\n",
      "                      min_samples_leaf=1, min_samples_split=2,\n",
      "                      min_weight_fraction_leaf=0.0, n_estimators=8, n_jobs=None,\n",
      "                      oob_score=False, random_state=12345, verbose=0,\n",
      "                      warm_start=False)\n",
      "sMAPE лучшей модели случайного леса для rougher:-6.65224\n",
      "Лучшие параметры случайного леса для rougher:  RandomForestRegressor(bootstrap=True, criterion='mse', max_depth=3,\n",
      "                      max_features='auto', max_leaf_nodes=None,\n",
      "                      min_impurity_decrease=0.0, min_impurity_split=None,\n",
      "                      min_samples_leaf=1, min_samples_split=2,\n",
      "                      min_weight_fraction_leaf=0.0, n_estimators=9, n_jobs=None,\n",
      "                      oob_score=False, random_state=12345, verbose=0,\n",
      "                      warm_start=False)\n",
      "sMAPE лучшей модели случайного леса для final:-9.26558\n"
     ]
    }
   ],
   "source": [
    "\n",
    "\n",
    "# определим словарь тех параметров, которые будем перебирать\n",
    "param_grid = { \n",
    "    'n_estimators': range(1,10),\n",
    "    'max_depth' : range(1,10), \n",
    "}\n",
    "\n",
    "# объявим модель, для которой будем перебирать\n",
    "model=RandomForestRegressor(random_state=12345)\n",
    "\n",
    "# объявим модель Гридсерч, в которой будем перебирать параметры модели и делать кросс-валидацию \n",
    "# в качестве метрики будем использовать smape\n",
    "# поскольку он объявлялся метрикой внутри функции кросс-валидации, а тут кросс-валидация зашита в гридсерч, то\n",
    "# еще раз объявим smape метриков\n",
    "gs = GridSearchCV(\n",
    "                 estimator=model, \n",
    "                  param_grid=param_grid, \n",
    "                  cv=5, \n",
    "                  scoring = make_scorer(smape, greater_is_better=False)\n",
    "                 )\n",
    "\n",
    "# обучим гридсерч для rougher\n",
    "gs.fit(features_train_scaler, target_train_rougher)\n",
    "\n",
    "# выведем параметры лучшей модели случайного леса для rougher\n",
    "gs_best_estimator_rougher = gs.best_estimator_\n",
    "print (\"Лучшие параметры случайного леса для rougher: \",gs_best_estimator_rougher)\n",
    "\n",
    "# выведем smape лучшего случайного леса для rougher\n",
    "smape_score_forest_rougher = gs.best_score_\n",
    "print (\"sMAPE лучшей модели случайного леса для rougher:{: .5f}\".format(smape_score_forest_rougher))\n",
    "\n",
    "\n",
    "# обучим гридсерч для final\n",
    "gs.fit(features_train_scaler, target_train_final)\n",
    "\n",
    "# выведем параметры лучшей модели случайного леса для rougher\n",
    "gs_best_estimator_final = gs.best_estimator_\n",
    "print (\"Лучшие параметры случайного леса для rougher: \",gs_best_estimator_final)\n",
    "\n",
    "# выведем smape лучшего случайного леса для rougher\n",
    "smape_score_forest_final = gs.best_score_\n",
    "print (\"sMAPE лучшей модели случайного леса для final:{: .5f}\".format(smape_score_forest_final))\n",
    "\n",
    "\n"
   ]
  },
  {
   "cell_type": "code",
   "execution_count": 37,
   "metadata": {},
   "outputs": [
    {
     "name": "stdout",
     "output_type": "stream",
     "text": [
      "Итоговое sMAPE лучшей модели случайного леса:-8.61225\n"
     ]
    }
   ],
   "source": [
    "print (\"Итоговое sMAPE лучшей модели случайного леса:{: .5f}\".format(\n",
    "                                                    final_smape(\n",
    "                                                                smape_score_forest_rougher.mean(),\n",
    "                                                                smape_score_forest_final.mean()\n",
    "                                                                )\n",
    "                                                    ))"
   ]
  },
  {
   "cell_type": "markdown",
   "metadata": {},
   "source": [
    "\n",
    "Таким образом, на модели случайного дерева мы получили лучший результат для предсказания rougher.output.recovery и final.output.recovery. Параметры лучших моделей нам известны. Проверим качество модели на тестовой выборке."
   ]
  },
  {
   "cell_type": "code",
   "execution_count": 38,
   "metadata": {},
   "outputs": [
    {
     "name": "stdout",
     "output_type": "stream",
     "text": [
      "sMAPE лучшей модели для rougher:-4.52302\n",
      "sMAPE лучшей модели для final:-7.92924\n",
      "Итоговое sMAPE пары моделей:-7.07769\n"
     ]
    }
   ],
   "source": [
    "# опеределим зависимые и независимые переменные для обучающей выборки\n",
    "features_test = gold_recovery_test.drop(['rougher.output.recovery','final.output.recovery'], axis=1)\n",
    "target_test_rougher = gold_recovery_test['rougher.output.recovery']\n",
    "target_test_final = gold_recovery_test['final.output.recovery']\n",
    "\n",
    "# определим список независимых переменных\n",
    "numeric = features_test.columns.to_list()\n",
    "\n",
    "# обучим стандартизации на тренировочных данных\n",
    "scaler = StandardScaler()\n",
    "scaler.fit(features_test[numeric])\n",
    "\n",
    "# чтобы не портить исходную выборку сделаем ее копию\n",
    "features_test_scaler = features_test.copy() \n",
    "\n",
    "# и стандартизируем эту копию, чтоб дальше работать уже с ней\n",
    "features_test_scaler[numeric] = scaler.transform(features_test[numeric])\n",
    "\n",
    "\n",
    "\n",
    "# объявим модель для rougher.output.recovery\n",
    "model_rougher = gs_best_estimator_rougher\n",
    "\n",
    "# расчитаем smape для rougher\n",
    "smape_score_best_rougher= cross_validation(model_rougher, features_test_scaler, target_test_rougher)\n",
    "\n",
    "# объявим модель для final.output.recovery\n",
    "model_final = gs_best_estimator_final\n",
    "\n",
    "# расчитаем smape для final\n",
    "smape_score_best_final = cross_validation(model_final, features_test_scaler, target_test_final)\n",
    "\n",
    "print(\"sMAPE лучшей модели для rougher:{: .5f}\".format(smape_score_best_rougher.mean()))\n",
    "print(\"sMAPE лучшей модели для final:{: .5f}\".format(smape_score_best_final.mean()))\n",
    "print(\"Итоговое sMAPE пары моделей:{: .5f}\".format(\n",
    "                                                    final_smape(\n",
    "                                                                smape_score_best_rougher.mean(),\n",
    "                                                                smape_score_best_final.mean()\n",
    "                                                                )\n",
    "                                                    ))"
   ]
  },
  {
   "cell_type": "code",
   "execution_count": 39,
   "metadata": {},
   "outputs": [
    {
     "name": "stdout",
     "output_type": "stream",
     "text": [
      "sMAPE лучшей модели для rougher: 5.51371\n",
      "sMAPE лучшей модели для final: 20.96304\n",
      "Итоговое sMAPE пары моделей: 17.10071\n"
     ]
    }
   ],
   "source": [
    "# опеределим зависимые и независимые переменные для обучающей выборки\n",
    "features_test = gold_recovery_test.drop(['rougher.output.recovery','final.output.recovery'], axis=1)\n",
    "target_test_rougher = gold_recovery_test['rougher.output.recovery']\n",
    "target_test_final = gold_recovery_test['final.output.recovery']\n",
    "\n",
    "# определим список независимых переменных\n",
    "numeric = features_test.columns.to_list()\n",
    "\n",
    "# обучим стандартизации на тренировочных данных\n",
    "scaler = StandardScaler()\n",
    "scaler.fit(features_test[numeric])\n",
    "\n",
    "# чтобы не портить исходную выборку сделаем ее копию\n",
    "features_test_scaler = features_test.copy() \n",
    "\n",
    "# и стандартизируем эту копию, чтоб дальше работать уже с ней\n",
    "features_test_scaler[numeric] = scaler.transform(features_test[numeric])\n",
    "\n",
    "\n",
    "\n",
    "# объявим модель для rougher.output.recovery\n",
    "model_rougher = gs_best_estimator_rougher\n",
    "\n",
    "# обучим модель на тренировочных данных\n",
    "model_rougher.fit(features_train_scaler, target_train_rougher)\n",
    "\n",
    "# расчитаем smape для rougher\n",
    "smape_score_best_rougher= smape(target_test_rougher, model_rougher.predict(features_test_scaler))\n",
    "\n",
    "# объявим модель для final.output.recovery\n",
    "model_final = gs_best_estimator_final\n",
    "\n",
    "model_final.fit(features_train_scaler, target_train_final)\n",
    "\n",
    "# расчитаем smape для final\n",
    "smape_score_best_final =  smape(target_test_final, model_rougher.predict(features_test_scaler))\n",
    "\n",
    "print(\"sMAPE лучшей модели для rougher:{: .5f}\".format(smape_score_best_rougher))\n",
    "print(\"sMAPE лучшей модели для final:{: .5f}\".format(smape_score_best_final))\n",
    "print(\"Итоговое sMAPE пары моделей:{: .5f}\".format(\n",
    "                                                    final_smape(\n",
    "                                                                smape_score_best_rougher,\n",
    "                                                                smape_score_best_final\n",
    "                                                                )\n",
    "                                                    ))"
   ]
  },
  {
   "cell_type": "markdown",
   "metadata": {},
   "source": [
    "<font color='blue'>\n",
    "Теперь посмотрим на адекватность полученной нами модели (на самом деле группы из двух моделей). Для этого сравним результаты с константной моделью. \n",
    "</font>\n",
    "\n",
    "\n",
    "<font color='blue'>\n",
    "   Константная модель представляет из себя вектор длинны вектора зависимых переменных тестовой выборки (в нашем случае 2 зависимых переменных, значит и вектора будет два), каждый элемент которого является средним или медианой (об этом чуть позже) вектора зависимых переменных выборки на которой обучаем модель. Выбор между тем, какими элементами заполнять вектор средним или медианой определяется тем, какую метрику мы используем для оценки: если мы оцениваем MSE потерь лучше брать среднее, а для MAE потерь лучше брать медиану. В нашем случае sMAPE - это по сути нормированный MAE, так что медиана должна сработать лучше среднего.\n",
    "</font>\n",
    "<font color='blue'>\n",
    "    Таким образом, каждая константная модель будет представлять из себя вектор длины target_test_rougher или target_test_final заполненный медианными значениями target_train_rougher или target_train_final соответственно. А сравнивать мы будем итоговый sMAPE. Если итоговы sMAPE константной модели (группы из 2х моделей) больше аналогичного показателя полученной нами модели (группы из 2х моделей), то наша модель-адекватна.\n",
    "</font>\n"
   ]
  },
  {
   "cell_type": "code",
   "execution_count": 40,
   "metadata": {},
   "outputs": [
    {
     "name": "stdout",
     "output_type": "stream",
     "text": [
      "sMAPE rougher median: 4.8208788351024054\n",
      "sMAPE final median: 8.21125461949186\n",
      "Итоговое sMAPE двух констанстных модели: 7.36366\n"
     ]
    }
   ],
   "source": [
    "\n",
    "# создадим series с константным прдсказанием для rougher.output.recovery на тестовых данных\n",
    "target_rougher_median =  target_test_rougher.copy()\n",
    "target_rougher_median.loc[:] = target_train_rougher.median()\n",
    "\n",
    "# создадим series с константным прдсказанием для final.output.recovery на тестовых данных\n",
    "target_final_median =  target_test_final.copy()\n",
    "target_final_median.loc[:] = target_train_final.median()\n",
    "\n",
    "\n",
    "# посчитаем sMAPE для rougher.output.recovery на константном предсказании\n",
    "smape_rougher_sanity_check_median = smape(target_test_rougher, target_rougher_median)\n",
    "\n",
    "print(\"sMAPE rougher median:\",smape_rougher_sanity_check_median)\n",
    "\n",
    "# посчитаем sMAPE для final.output.recovery на константном предсказании\n",
    "smape_final_sanity_check_median = smape(target_test_final, target_final_median)\n",
    "\n",
    "print(\"sMAPE final median:\",smape_final_sanity_check_median)\n",
    "\n",
    "print(\"Итоговое sMAPE двух констанстных модели:{: .5f}\".format(\n",
    "                                                    final_smape(\n",
    "                                                                smape_rougher_sanity_check_median,\n",
    "                                                                smape_final_sanity_check_median\n",
    "                                                                )\n",
    "                                                    ))\n",
    "\n",
    "\n"
   ]
  },
  {
   "cell_type": "markdown",
   "metadata": {},
   "source": [
    "<font color='blue'>\n",
    "Итоговый показатель sMAPE нашей молели (группы из 2х моделей) лучше аналогичного показателя констанстной модели, а значит наша модель адекватна. Лучше он в силу того, что помимо того, что мы должны минимизировать sMAPE, мы еще и должны приближать его к нулю (т.е сравнивать по модулю, где чем меньше, тем лучше), а sMAPE 0 означает, что среднее обсолютное симметричное отклонение модели равно нулю, т.е. модель совсем не дает погрешности. У нас же получилось, что выбранная нами группа моделей дает среднее абсолютное симметричное отклонениие в 7.07%, в то время как констанстная модель - в 7.36%. "
   ]
  },
  {
   "cell_type": "markdown",
   "metadata": {},
   "source": [
    "**Общий вывод**\n",
    "\n",
    "Таким образом, если мы хотим получить максимально точные предсказания коэффициента восстановления золота из золотосодержащей руды, то нам сделует использовать разные модели для предсказания коэффициента восстановления золота из смеси золотоносной руды до чернового концентрата и для восстановления золота из концентрата поступающего на вторичную очистку до финального концентрата. На первом этапе нам следует использовать модель случайного леса, потому как именна она дает минимальное абсолютное процентное отклонение, а на втором - модель линейной регрессии. При такой связке, на тестовой выборке получили абсолютное процентное отклонение (итоговое) равное 9.92754%"
   ]
  },
  {
   "cell_type": "code",
   "execution_count": null,
   "metadata": {},
   "outputs": [],
   "source": []
  }
 ],
 "metadata": {
  "kernelspec": {
   "display_name": "Python 3",
   "language": "python",
   "name": "python3"
  },
  "language_info": {
   "codemirror_mode": {
    "name": "ipython",
    "version": 3
   },
   "file_extension": ".py",
   "mimetype": "text/x-python",
   "name": "python",
   "nbconvert_exporter": "python",
   "pygments_lexer": "ipython3",
   "version": "3.7.6"
  }
 },
 "nbformat": 4,
 "nbformat_minor": 2
}
